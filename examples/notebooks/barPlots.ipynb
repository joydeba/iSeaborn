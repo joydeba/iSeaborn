{
 "cells": [
  {
   "cell_type": "markdown",
   "metadata": {},
   "source": [
    "### 1.0 Import bokehBorn"
   ]
  },
  {
   "cell_type": "code",
   "execution_count": 1,
   "metadata": {},
   "outputs": [],
   "source": [
    "import bokehBorn as bb\n",
    "from bokeh.io import output_notebook"
   ]
  },
  {
   "cell_type": "code",
   "execution_count": 2,
   "metadata": {},
   "outputs": [
    {
     "data": {
      "text/html": [
       "\n",
       "    <div class=\"bk-root\">\n",
       "        <a href=\"https://bokeh.org\" target=\"_blank\" class=\"bk-logo bk-logo-small bk-logo-notebook\"></a>\n",
       "        <span id=\"1001\">Loading BokehJS ...</span>\n",
       "    </div>"
      ]
     },
     "metadata": {},
     "output_type": "display_data"
    },
    {
     "data": {
      "application/javascript": [
       "\n",
       "(function(root) {\n",
       "  function now() {\n",
       "    return new Date();\n",
       "  }\n",
       "\n",
       "  var force = true;\n",
       "\n",
       "  if (typeof root._bokeh_onload_callbacks === \"undefined\" || force === true) {\n",
       "    root._bokeh_onload_callbacks = [];\n",
       "    root._bokeh_is_loading = undefined;\n",
       "  }\n",
       "\n",
       "  var JS_MIME_TYPE = 'application/javascript';\n",
       "  var HTML_MIME_TYPE = 'text/html';\n",
       "  var EXEC_MIME_TYPE = 'application/vnd.bokehjs_exec.v0+json';\n",
       "  var CLASS_NAME = 'output_bokeh rendered_html';\n",
       "\n",
       "  /**\n",
       "   * Render data to the DOM node\n",
       "   */\n",
       "  function render(props, node) {\n",
       "    var script = document.createElement(\"script\");\n",
       "    node.appendChild(script);\n",
       "  }\n",
       "\n",
       "  /**\n",
       "   * Handle when an output is cleared or removed\n",
       "   */\n",
       "  function handleClearOutput(event, handle) {\n",
       "    var cell = handle.cell;\n",
       "\n",
       "    var id = cell.output_area._bokeh_element_id;\n",
       "    var server_id = cell.output_area._bokeh_server_id;\n",
       "    // Clean up Bokeh references\n",
       "    if (id != null && id in Bokeh.index) {\n",
       "      Bokeh.index[id].model.document.clear();\n",
       "      delete Bokeh.index[id];\n",
       "    }\n",
       "\n",
       "    if (server_id !== undefined) {\n",
       "      // Clean up Bokeh references\n",
       "      var cmd = \"from bokeh.io.state import curstate; print(curstate().uuid_to_server['\" + server_id + \"'].get_sessions()[0].document.roots[0]._id)\";\n",
       "      cell.notebook.kernel.execute(cmd, {\n",
       "        iopub: {\n",
       "          output: function(msg) {\n",
       "            var id = msg.content.text.trim();\n",
       "            if (id in Bokeh.index) {\n",
       "              Bokeh.index[id].model.document.clear();\n",
       "              delete Bokeh.index[id];\n",
       "            }\n",
       "          }\n",
       "        }\n",
       "      });\n",
       "      // Destroy server and session\n",
       "      var cmd = \"import bokeh.io.notebook as ion; ion.destroy_server('\" + server_id + \"')\";\n",
       "      cell.notebook.kernel.execute(cmd);\n",
       "    }\n",
       "  }\n",
       "\n",
       "  /**\n",
       "   * Handle when a new output is added\n",
       "   */\n",
       "  function handleAddOutput(event, handle) {\n",
       "    var output_area = handle.output_area;\n",
       "    var output = handle.output;\n",
       "\n",
       "    // limit handleAddOutput to display_data with EXEC_MIME_TYPE content only\n",
       "    if ((output.output_type != \"display_data\") || (!output.data.hasOwnProperty(EXEC_MIME_TYPE))) {\n",
       "      return\n",
       "    }\n",
       "\n",
       "    var toinsert = output_area.element.find(\".\" + CLASS_NAME.split(' ')[0]);\n",
       "\n",
       "    if (output.metadata[EXEC_MIME_TYPE][\"id\"] !== undefined) {\n",
       "      toinsert[toinsert.length - 1].firstChild.textContent = output.data[JS_MIME_TYPE];\n",
       "      // store reference to embed id on output_area\n",
       "      output_area._bokeh_element_id = output.metadata[EXEC_MIME_TYPE][\"id\"];\n",
       "    }\n",
       "    if (output.metadata[EXEC_MIME_TYPE][\"server_id\"] !== undefined) {\n",
       "      var bk_div = document.createElement(\"div\");\n",
       "      bk_div.innerHTML = output.data[HTML_MIME_TYPE];\n",
       "      var script_attrs = bk_div.children[0].attributes;\n",
       "      for (var i = 0; i < script_attrs.length; i++) {\n",
       "        toinsert[toinsert.length - 1].firstChild.setAttribute(script_attrs[i].name, script_attrs[i].value);\n",
       "      }\n",
       "      // store reference to server id on output_area\n",
       "      output_area._bokeh_server_id = output.metadata[EXEC_MIME_TYPE][\"server_id\"];\n",
       "    }\n",
       "  }\n",
       "\n",
       "  function register_renderer(events, OutputArea) {\n",
       "\n",
       "    function append_mime(data, metadata, element) {\n",
       "      // create a DOM node to render to\n",
       "      var toinsert = this.create_output_subarea(\n",
       "        metadata,\n",
       "        CLASS_NAME,\n",
       "        EXEC_MIME_TYPE\n",
       "      );\n",
       "      this.keyboard_manager.register_events(toinsert);\n",
       "      // Render to node\n",
       "      var props = {data: data, metadata: metadata[EXEC_MIME_TYPE]};\n",
       "      render(props, toinsert[toinsert.length - 1]);\n",
       "      element.append(toinsert);\n",
       "      return toinsert\n",
       "    }\n",
       "\n",
       "    /* Handle when an output is cleared or removed */\n",
       "    events.on('clear_output.CodeCell', handleClearOutput);\n",
       "    events.on('delete.Cell', handleClearOutput);\n",
       "\n",
       "    /* Handle when a new output is added */\n",
       "    events.on('output_added.OutputArea', handleAddOutput);\n",
       "\n",
       "    /**\n",
       "     * Register the mime type and append_mime function with output_area\n",
       "     */\n",
       "    OutputArea.prototype.register_mime_type(EXEC_MIME_TYPE, append_mime, {\n",
       "      /* Is output safe? */\n",
       "      safe: true,\n",
       "      /* Index of renderer in `output_area.display_order` */\n",
       "      index: 0\n",
       "    });\n",
       "  }\n",
       "\n",
       "  // register the mime type if in Jupyter Notebook environment and previously unregistered\n",
       "  if (root.Jupyter !== undefined) {\n",
       "    var events = require('base/js/events');\n",
       "    var OutputArea = require('notebook/js/outputarea').OutputArea;\n",
       "\n",
       "    if (OutputArea.prototype.mime_types().indexOf(EXEC_MIME_TYPE) == -1) {\n",
       "      register_renderer(events, OutputArea);\n",
       "    }\n",
       "  }\n",
       "\n",
       "  \n",
       "  if (typeof (root._bokeh_timeout) === \"undefined\" || force === true) {\n",
       "    root._bokeh_timeout = Date.now() + 5000;\n",
       "    root._bokeh_failed_load = false;\n",
       "  }\n",
       "\n",
       "  var NB_LOAD_WARNING = {'data': {'text/html':\n",
       "     \"<div style='background-color: #fdd'>\\n\"+\n",
       "     \"<p>\\n\"+\n",
       "     \"BokehJS does not appear to have successfully loaded. If loading BokehJS from CDN, this \\n\"+\n",
       "     \"may be due to a slow or bad network connection. Possible fixes:\\n\"+\n",
       "     \"</p>\\n\"+\n",
       "     \"<ul>\\n\"+\n",
       "     \"<li>re-rerun `output_notebook()` to attempt to load from CDN again, or</li>\\n\"+\n",
       "     \"<li>use INLINE resources instead, as so:</li>\\n\"+\n",
       "     \"</ul>\\n\"+\n",
       "     \"<code>\\n\"+\n",
       "     \"from bokeh.resources import INLINE\\n\"+\n",
       "     \"output_notebook(resources=INLINE)\\n\"+\n",
       "     \"</code>\\n\"+\n",
       "     \"</div>\"}};\n",
       "\n",
       "  function display_loaded() {\n",
       "    var el = document.getElementById(\"1001\");\n",
       "    if (el != null) {\n",
       "      el.textContent = \"BokehJS is loading...\";\n",
       "    }\n",
       "    if (root.Bokeh !== undefined) {\n",
       "      if (el != null) {\n",
       "        el.textContent = \"BokehJS \" + root.Bokeh.version + \" successfully loaded.\";\n",
       "      }\n",
       "    } else if (Date.now() < root._bokeh_timeout) {\n",
       "      setTimeout(display_loaded, 100)\n",
       "    }\n",
       "  }\n",
       "\n",
       "\n",
       "  function run_callbacks() {\n",
       "    try {\n",
       "      root._bokeh_onload_callbacks.forEach(function(callback) {\n",
       "        if (callback != null)\n",
       "          callback();\n",
       "      });\n",
       "    } finally {\n",
       "      delete root._bokeh_onload_callbacks\n",
       "    }\n",
       "    console.debug(\"Bokeh: all callbacks have finished\");\n",
       "  }\n",
       "\n",
       "  function load_libs(css_urls, js_urls, callback) {\n",
       "    if (css_urls == null) css_urls = [];\n",
       "    if (js_urls == null) js_urls = [];\n",
       "\n",
       "    root._bokeh_onload_callbacks.push(callback);\n",
       "    if (root._bokeh_is_loading > 0) {\n",
       "      console.debug(\"Bokeh: BokehJS is being loaded, scheduling callback at\", now());\n",
       "      return null;\n",
       "    }\n",
       "    if (js_urls == null || js_urls.length === 0) {\n",
       "      run_callbacks();\n",
       "      return null;\n",
       "    }\n",
       "    console.debug(\"Bokeh: BokehJS not loaded, scheduling load and callback at\", now());\n",
       "    root._bokeh_is_loading = css_urls.length + js_urls.length;\n",
       "\n",
       "    function on_load() {\n",
       "      root._bokeh_is_loading--;\n",
       "      if (root._bokeh_is_loading === 0) {\n",
       "        console.debug(\"Bokeh: all BokehJS libraries/stylesheets loaded\");\n",
       "        run_callbacks()\n",
       "      }\n",
       "    }\n",
       "\n",
       "    function on_error() {\n",
       "      console.error(\"failed to load \" + url);\n",
       "    }\n",
       "\n",
       "    for (var i = 0; i < css_urls.length; i++) {\n",
       "      var url = css_urls[i];\n",
       "      const element = document.createElement(\"link\");\n",
       "      element.onload = on_load;\n",
       "      element.onerror = on_error;\n",
       "      element.rel = \"stylesheet\";\n",
       "      element.type = \"text/css\";\n",
       "      element.href = url;\n",
       "      console.debug(\"Bokeh: injecting link tag for BokehJS stylesheet: \", url);\n",
       "      document.body.appendChild(element);\n",
       "    }\n",
       "\n",
       "    for (var i = 0; i < js_urls.length; i++) {\n",
       "      var url = js_urls[i];\n",
       "      var element = document.createElement('script');\n",
       "      element.onload = on_load;\n",
       "      element.onerror = on_error;\n",
       "      element.async = false;\n",
       "      element.src = url;\n",
       "      console.debug(\"Bokeh: injecting script tag for BokehJS library: \", url);\n",
       "      document.head.appendChild(element);\n",
       "    }\n",
       "  };var element = document.getElementById(\"1001\");\n",
       "  if (element == null) {\n",
       "    console.error(\"Bokeh: ERROR: autoload.js configured with elementid '1001' but no matching script tag was found. \")\n",
       "    return false;\n",
       "  }\n",
       "\n",
       "  function inject_raw_css(css) {\n",
       "    const element = document.createElement(\"style\");\n",
       "    element.appendChild(document.createTextNode(css));\n",
       "    document.body.appendChild(element);\n",
       "  }\n",
       "\n",
       "  \n",
       "  var js_urls = [\"https://cdn.pydata.org/bokeh/release/bokeh-1.4.0.min.js\", \"https://cdn.pydata.org/bokeh/release/bokeh-widgets-1.4.0.min.js\", \"https://cdn.pydata.org/bokeh/release/bokeh-tables-1.4.0.min.js\", \"https://cdn.pydata.org/bokeh/release/bokeh-gl-1.4.0.min.js\"];\n",
       "  var css_urls = [];\n",
       "  \n",
       "\n",
       "  var inline_js = [\n",
       "    function(Bokeh) {\n",
       "      Bokeh.set_log_level(\"info\");\n",
       "    },\n",
       "    function(Bokeh) {\n",
       "    \n",
       "    \n",
       "    }\n",
       "  ];\n",
       "\n",
       "  function run_inline_js() {\n",
       "    \n",
       "    if (root.Bokeh !== undefined || force === true) {\n",
       "      \n",
       "    for (var i = 0; i < inline_js.length; i++) {\n",
       "      inline_js[i].call(root, root.Bokeh);\n",
       "    }\n",
       "    if (force === true) {\n",
       "        display_loaded();\n",
       "      }} else if (Date.now() < root._bokeh_timeout) {\n",
       "      setTimeout(run_inline_js, 100);\n",
       "    } else if (!root._bokeh_failed_load) {\n",
       "      console.log(\"Bokeh: BokehJS failed to load within specified timeout.\");\n",
       "      root._bokeh_failed_load = true;\n",
       "    } else if (force !== true) {\n",
       "      var cell = $(document.getElementById(\"1001\")).parents('.cell').data().cell;\n",
       "      cell.output_area.append_execute_result(NB_LOAD_WARNING)\n",
       "    }\n",
       "\n",
       "  }\n",
       "\n",
       "  if (root._bokeh_is_loading === 0) {\n",
       "    console.debug(\"Bokeh: BokehJS loaded, going straight to plotting\");\n",
       "    run_inline_js();\n",
       "  } else {\n",
       "    load_libs(css_urls, js_urls, function() {\n",
       "      console.debug(\"Bokeh: BokehJS plotting callback run at\", now());\n",
       "      run_inline_js();\n",
       "    });\n",
       "  }\n",
       "}(window));"
      ],
      "application/vnd.bokehjs_load.v0+json": "\n(function(root) {\n  function now() {\n    return new Date();\n  }\n\n  var force = true;\n\n  if (typeof root._bokeh_onload_callbacks === \"undefined\" || force === true) {\n    root._bokeh_onload_callbacks = [];\n    root._bokeh_is_loading = undefined;\n  }\n\n  \n\n  \n  if (typeof (root._bokeh_timeout) === \"undefined\" || force === true) {\n    root._bokeh_timeout = Date.now() + 5000;\n    root._bokeh_failed_load = false;\n  }\n\n  var NB_LOAD_WARNING = {'data': {'text/html':\n     \"<div style='background-color: #fdd'>\\n\"+\n     \"<p>\\n\"+\n     \"BokehJS does not appear to have successfully loaded. If loading BokehJS from CDN, this \\n\"+\n     \"may be due to a slow or bad network connection. Possible fixes:\\n\"+\n     \"</p>\\n\"+\n     \"<ul>\\n\"+\n     \"<li>re-rerun `output_notebook()` to attempt to load from CDN again, or</li>\\n\"+\n     \"<li>use INLINE resources instead, as so:</li>\\n\"+\n     \"</ul>\\n\"+\n     \"<code>\\n\"+\n     \"from bokeh.resources import INLINE\\n\"+\n     \"output_notebook(resources=INLINE)\\n\"+\n     \"</code>\\n\"+\n     \"</div>\"}};\n\n  function display_loaded() {\n    var el = document.getElementById(\"1001\");\n    if (el != null) {\n      el.textContent = \"BokehJS is loading...\";\n    }\n    if (root.Bokeh !== undefined) {\n      if (el != null) {\n        el.textContent = \"BokehJS \" + root.Bokeh.version + \" successfully loaded.\";\n      }\n    } else if (Date.now() < root._bokeh_timeout) {\n      setTimeout(display_loaded, 100)\n    }\n  }\n\n\n  function run_callbacks() {\n    try {\n      root._bokeh_onload_callbacks.forEach(function(callback) {\n        if (callback != null)\n          callback();\n      });\n    } finally {\n      delete root._bokeh_onload_callbacks\n    }\n    console.debug(\"Bokeh: all callbacks have finished\");\n  }\n\n  function load_libs(css_urls, js_urls, callback) {\n    if (css_urls == null) css_urls = [];\n    if (js_urls == null) js_urls = [];\n\n    root._bokeh_onload_callbacks.push(callback);\n    if (root._bokeh_is_loading > 0) {\n      console.debug(\"Bokeh: BokehJS is being loaded, scheduling callback at\", now());\n      return null;\n    }\n    if (js_urls == null || js_urls.length === 0) {\n      run_callbacks();\n      return null;\n    }\n    console.debug(\"Bokeh: BokehJS not loaded, scheduling load and callback at\", now());\n    root._bokeh_is_loading = css_urls.length + js_urls.length;\n\n    function on_load() {\n      root._bokeh_is_loading--;\n      if (root._bokeh_is_loading === 0) {\n        console.debug(\"Bokeh: all BokehJS libraries/stylesheets loaded\");\n        run_callbacks()\n      }\n    }\n\n    function on_error() {\n      console.error(\"failed to load \" + url);\n    }\n\n    for (var i = 0; i < css_urls.length; i++) {\n      var url = css_urls[i];\n      const element = document.createElement(\"link\");\n      element.onload = on_load;\n      element.onerror = on_error;\n      element.rel = \"stylesheet\";\n      element.type = \"text/css\";\n      element.href = url;\n      console.debug(\"Bokeh: injecting link tag for BokehJS stylesheet: \", url);\n      document.body.appendChild(element);\n    }\n\n    for (var i = 0; i < js_urls.length; i++) {\n      var url = js_urls[i];\n      var element = document.createElement('script');\n      element.onload = on_load;\n      element.onerror = on_error;\n      element.async = false;\n      element.src = url;\n      console.debug(\"Bokeh: injecting script tag for BokehJS library: \", url);\n      document.head.appendChild(element);\n    }\n  };var element = document.getElementById(\"1001\");\n  if (element == null) {\n    console.error(\"Bokeh: ERROR: autoload.js configured with elementid '1001' but no matching script tag was found. \")\n    return false;\n  }\n\n  function inject_raw_css(css) {\n    const element = document.createElement(\"style\");\n    element.appendChild(document.createTextNode(css));\n    document.body.appendChild(element);\n  }\n\n  \n  var js_urls = [\"https://cdn.pydata.org/bokeh/release/bokeh-1.4.0.min.js\", \"https://cdn.pydata.org/bokeh/release/bokeh-widgets-1.4.0.min.js\", \"https://cdn.pydata.org/bokeh/release/bokeh-tables-1.4.0.min.js\", \"https://cdn.pydata.org/bokeh/release/bokeh-gl-1.4.0.min.js\"];\n  var css_urls = [];\n  \n\n  var inline_js = [\n    function(Bokeh) {\n      Bokeh.set_log_level(\"info\");\n    },\n    function(Bokeh) {\n    \n    \n    }\n  ];\n\n  function run_inline_js() {\n    \n    if (root.Bokeh !== undefined || force === true) {\n      \n    for (var i = 0; i < inline_js.length; i++) {\n      inline_js[i].call(root, root.Bokeh);\n    }\n    if (force === true) {\n        display_loaded();\n      }} else if (Date.now() < root._bokeh_timeout) {\n      setTimeout(run_inline_js, 100);\n    } else if (!root._bokeh_failed_load) {\n      console.log(\"Bokeh: BokehJS failed to load within specified timeout.\");\n      root._bokeh_failed_load = true;\n    } else if (force !== true) {\n      var cell = $(document.getElementById(\"1001\")).parents('.cell').data().cell;\n      cell.output_area.append_execute_result(NB_LOAD_WARNING)\n    }\n\n  }\n\n  if (root._bokeh_is_loading === 0) {\n    console.debug(\"Bokeh: BokehJS loaded, going straight to plotting\");\n    run_inline_js();\n  } else {\n    load_libs(css_urls, js_urls, function() {\n      console.debug(\"Bokeh: BokehJS plotting callback run at\", now());\n      run_inline_js();\n    });\n  }\n}(window));"
     },
     "metadata": {},
     "output_type": "display_data"
    }
   ],
   "source": [
    "output_notebook()"
   ]
  },
  {
   "cell_type": "markdown",
   "metadata": {},
   "source": [
    "### 2.0 Load Dataset"
   ]
  },
  {
   "cell_type": "code",
   "execution_count": 3,
   "metadata": {},
   "outputs": [
    {
     "data": {
      "text/html": [
       "<div>\n",
       "<style scoped>\n",
       "    .dataframe tbody tr th:only-of-type {\n",
       "        vertical-align: middle;\n",
       "    }\n",
       "\n",
       "    .dataframe tbody tr th {\n",
       "        vertical-align: top;\n",
       "    }\n",
       "\n",
       "    .dataframe thead th {\n",
       "        text-align: right;\n",
       "    }\n",
       "</style>\n",
       "<table border=\"1\" class=\"dataframe\">\n",
       "  <thead>\n",
       "    <tr style=\"text-align: right;\">\n",
       "      <th></th>\n",
       "      <th>total_bill</th>\n",
       "      <th>tip</th>\n",
       "      <th>sex</th>\n",
       "      <th>smoker</th>\n",
       "      <th>day</th>\n",
       "      <th>time</th>\n",
       "      <th>size</th>\n",
       "    </tr>\n",
       "  </thead>\n",
       "  <tbody>\n",
       "    <tr>\n",
       "      <th>0</th>\n",
       "      <td>16.99</td>\n",
       "      <td>1.01</td>\n",
       "      <td>Female</td>\n",
       "      <td>No</td>\n",
       "      <td>Sun</td>\n",
       "      <td>Dinner</td>\n",
       "      <td>2</td>\n",
       "    </tr>\n",
       "    <tr>\n",
       "      <th>1</th>\n",
       "      <td>10.34</td>\n",
       "      <td>1.66</td>\n",
       "      <td>Male</td>\n",
       "      <td>No</td>\n",
       "      <td>Sun</td>\n",
       "      <td>Dinner</td>\n",
       "      <td>3</td>\n",
       "    </tr>\n",
       "    <tr>\n",
       "      <th>2</th>\n",
       "      <td>21.01</td>\n",
       "      <td>3.50</td>\n",
       "      <td>Male</td>\n",
       "      <td>No</td>\n",
       "      <td>Sun</td>\n",
       "      <td>Dinner</td>\n",
       "      <td>3</td>\n",
       "    </tr>\n",
       "    <tr>\n",
       "      <th>3</th>\n",
       "      <td>23.68</td>\n",
       "      <td>3.31</td>\n",
       "      <td>Male</td>\n",
       "      <td>No</td>\n",
       "      <td>Sun</td>\n",
       "      <td>Dinner</td>\n",
       "      <td>2</td>\n",
       "    </tr>\n",
       "    <tr>\n",
       "      <th>4</th>\n",
       "      <td>24.59</td>\n",
       "      <td>3.61</td>\n",
       "      <td>Female</td>\n",
       "      <td>No</td>\n",
       "      <td>Sun</td>\n",
       "      <td>Dinner</td>\n",
       "      <td>4</td>\n",
       "    </tr>\n",
       "  </tbody>\n",
       "</table>\n",
       "</div>"
      ],
      "text/plain": [
       "   total_bill   tip     sex smoker  day    time  size\n",
       "0       16.99  1.01  Female     No  Sun  Dinner     2\n",
       "1       10.34  1.66    Male     No  Sun  Dinner     3\n",
       "2       21.01  3.50    Male     No  Sun  Dinner     3\n",
       "3       23.68  3.31    Male     No  Sun  Dinner     2\n",
       "4       24.59  3.61  Female     No  Sun  Dinner     4"
      ]
     },
     "execution_count": 3,
     "metadata": {},
     "output_type": "execute_result"
    }
   ],
   "source": [
    "tips = bb.load_dataset(\"tips\")\n",
    "tips.head()"
   ]
  },
  {
   "cell_type": "markdown",
   "metadata": {},
   "source": [
    "### 3.0 bokeBorn Bar Plot Examples"
   ]
  },
  {
   "cell_type": "markdown",
   "metadata": {},
   "source": [
    "#### Draw Vertical Bar\n",
    "Draw a set of vertical bar plots grouped by a categorical variable:"
   ]
  },
  {
   "cell_type": "code",
   "execution_count": 18,
   "metadata": {
    "scrolled": false
   },
   "outputs": [
    {
     "data": {
      "text/html": [
       "\n",
       "\n",
       "\n",
       "\n",
       "\n",
       "\n",
       "  <div class=\"bk-root\" id=\"e09601b9-719e-4380-9729-3aca337bb4a9\" data-root-id=\"3260\"></div>\n"
      ]
     },
     "metadata": {},
     "output_type": "display_data"
    },
    {
     "data": {
      "application/javascript": [
       "(function(root) {\n",
       "  function embed_document(root) {\n",
       "    \n",
       "  var docs_json = {\"bf9d7e6d-4b78-4a15-9c92-f04f0b3e3c77\":{\"roots\":{\"references\":[{\"attributes\":{\"below\":[{\"id\":\"3271\",\"type\":\"CategoricalAxis\"}],\"center\":[{\"id\":\"3274\",\"type\":\"Grid\"},{\"id\":\"3279\",\"type\":\"Grid\"}],\"left\":[{\"id\":\"3275\",\"type\":\"LinearAxis\"}],\"plot_height\":350,\"renderers\":[{\"id\":\"3296\",\"type\":\"GlyphRenderer\"}],\"title\":{\"id\":\"3261\",\"type\":\"Title\"},\"toolbar\":{\"id\":\"3286\",\"type\":\"Toolbar\"},\"x_range\":{\"id\":\"3263\",\"type\":\"FactorRange\"},\"x_scale\":{\"id\":\"3267\",\"type\":\"CategoricalScale\"},\"y_range\":{\"id\":\"3265\",\"type\":\"DataRange1d\"},\"y_scale\":{\"id\":\"3269\",\"type\":\"LinearScale\"}},\"id\":\"3260\",\"subtype\":\"Figure\",\"type\":\"Plot\"},{\"attributes\":{},\"id\":\"3272\",\"type\":\"CategoricalTicker\"},{\"attributes\":{},\"id\":\"3431\",\"type\":\"Selection\"},{\"attributes\":{\"callback\":null},\"id\":\"3265\",\"type\":\"DataRange1d\"},{\"attributes\":{\"callback\":null,\"data\":{\"day\":[\"Thur\",\"Fri\",\"Sat\",\"Sun\"],\"fill_color\":[\"rgb(49, 115, 161)\",\"rgb(224, 128, 44)\",\"rgb(58, 145, 58)\",\"rgb(192, 60, 61)\"],\"index\":[0,1,2,3],\"line_color\":[\"rgb(49, 115, 161)\",\"rgb(224, 128, 44)\",\"rgb(58, 145, 58)\",\"rgb(192, 60, 61)\"],\"total_bill\":{\"__ndarray__\":\"zoLsLMiuMUCgtb3gzSYxQOMPBzz+cDRAKVyPwvVoNUA=\",\"dtype\":\"float64\",\"shape\":[4]}},\"selected\":{\"id\":\"3431\",\"type\":\"Selection\"},\"selection_policy\":{\"id\":\"3432\",\"type\":\"UnionRenderers\"}},\"id\":\"3259\",\"type\":\"ColumnDataSource\"},{\"attributes\":{},\"id\":\"3282\",\"type\":\"WheelZoomTool\"},{\"attributes\":{\"axis_label\":\"day\",\"formatter\":{\"id\":\"3429\",\"type\":\"CategoricalTickFormatter\"},\"ticker\":{\"id\":\"3272\",\"type\":\"CategoricalTicker\"}},\"id\":\"3271\",\"type\":\"CategoricalAxis\"},{\"attributes\":{},\"id\":\"3427\",\"type\":\"BasicTickFormatter\"},{\"attributes\":{\"axis_label\":\"total_bill\",\"formatter\":{\"id\":\"3427\",\"type\":\"BasicTickFormatter\"},\"ticker\":{\"id\":\"3276\",\"type\":\"BasicTicker\"}},\"id\":\"3275\",\"type\":\"LinearAxis\"},{\"attributes\":{\"overlay\":{\"id\":\"3434\",\"type\":\"BoxAnnotation\"}},\"id\":\"3283\",\"type\":\"BoxZoomTool\"},{\"attributes\":{\"callback\":null,\"overlay\":{\"id\":\"3433\",\"type\":\"BoxAnnotation\"}},\"id\":\"3281\",\"type\":\"BoxSelectTool\"},{\"attributes\":{\"ticker\":{\"id\":\"3272\",\"type\":\"CategoricalTicker\"}},\"id\":\"3274\",\"type\":\"Grid\"},{\"attributes\":{},\"id\":\"3269\",\"type\":\"LinearScale\"},{\"attributes\":{},\"id\":\"3280\",\"type\":\"PanTool\"},{\"attributes\":{\"active_drag\":\"auto\",\"active_inspect\":\"auto\",\"active_multi\":null,\"active_scroll\":\"auto\",\"active_tap\":\"auto\",\"tools\":[{\"id\":\"3280\",\"type\":\"PanTool\"},{\"id\":\"3281\",\"type\":\"BoxSelectTool\"},{\"id\":\"3282\",\"type\":\"WheelZoomTool\"},{\"id\":\"3283\",\"type\":\"BoxZoomTool\"},{\"id\":\"3284\",\"type\":\"ResetTool\"},{\"id\":\"3285\",\"type\":\"SaveTool\"},{\"id\":\"3298\",\"type\":\"HoverTool\"}]},\"id\":\"3286\",\"type\":\"Toolbar\"},{\"attributes\":{\"source\":{\"id\":\"3259\",\"type\":\"ColumnDataSource\"}},\"id\":\"3297\",\"type\":\"CDSView\"},{\"attributes\":{\"callback\":null,\"tooltips\":[[\"day\",\"@day\"],[\"total_bill\",\"@total_bill\"]]},\"id\":\"3298\",\"type\":\"HoverTool\"},{\"attributes\":{\"data_source\":{\"id\":\"3259\",\"type\":\"ColumnDataSource\"},\"glyph\":{\"id\":\"3294\",\"type\":\"VBar\"},\"hover_glyph\":null,\"muted_glyph\":null,\"nonselection_glyph\":{\"id\":\"3295\",\"type\":\"VBar\"},\"selection_glyph\":null,\"view\":{\"id\":\"3297\",\"type\":\"CDSView\"}},\"id\":\"3296\",\"type\":\"GlyphRenderer\"},{\"attributes\":{},\"id\":\"3276\",\"type\":\"BasicTicker\"},{\"attributes\":{},\"id\":\"3432\",\"type\":\"UnionRenderers\"},{\"attributes\":{\"fill_alpha\":{\"value\":0.1},\"fill_color\":{\"value\":\"#1f77b4\"},\"line_alpha\":{\"value\":0.1},\"line_color\":{\"value\":\"#1f77b4\"},\"top\":{\"field\":\"total_bill\"},\"width\":{\"value\":0.7},\"x\":{\"field\":\"day\"}},\"id\":\"3295\",\"type\":\"VBar\"},{\"attributes\":{},\"id\":\"3429\",\"type\":\"CategoricalTickFormatter\"},{\"attributes\":{\"callback\":null,\"factors\":[\"Thur\",\"Fri\",\"Sat\",\"Sun\"]},\"id\":\"3263\",\"type\":\"FactorRange\"},{\"attributes\":{\"fill_alpha\":{\"value\":0.5},\"fill_color\":{\"field\":\"fill_color\"},\"line_color\":{\"field\":\"line_color\"},\"top\":{\"field\":\"total_bill\"},\"width\":{\"value\":0.7},\"x\":{\"field\":\"day\"}},\"id\":\"3294\",\"type\":\"VBar\"},{\"attributes\":{\"bottom_units\":\"screen\",\"fill_alpha\":{\"value\":0.5},\"fill_color\":{\"value\":\"lightgrey\"},\"left_units\":\"screen\",\"level\":\"overlay\",\"line_alpha\":{\"value\":1.0},\"line_color\":{\"value\":\"black\"},\"line_dash\":[4,4],\"line_width\":{\"value\":2},\"render_mode\":\"css\",\"right_units\":\"screen\",\"top_units\":\"screen\"},\"id\":\"3433\",\"type\":\"BoxAnnotation\"},{\"attributes\":{},\"id\":\"3267\",\"type\":\"CategoricalScale\"},{\"attributes\":{},\"id\":\"3285\",\"type\":\"SaveTool\"},{\"attributes\":{\"dimension\":1,\"ticker\":{\"id\":\"3276\",\"type\":\"BasicTicker\"}},\"id\":\"3279\",\"type\":\"Grid\"},{\"attributes\":{},\"id\":\"3284\",\"type\":\"ResetTool\"},{\"attributes\":{\"bottom_units\":\"screen\",\"fill_alpha\":{\"value\":0.5},\"fill_color\":{\"value\":\"lightgrey\"},\"left_units\":\"screen\",\"level\":\"overlay\",\"line_alpha\":{\"value\":1.0},\"line_color\":{\"value\":\"black\"},\"line_dash\":[4,4],\"line_width\":{\"value\":2},\"render_mode\":\"css\",\"right_units\":\"screen\",\"top_units\":\"screen\"},\"id\":\"3434\",\"type\":\"BoxAnnotation\"},{\"attributes\":{\"text\":\"\"},\"id\":\"3261\",\"type\":\"Title\"}],\"root_ids\":[\"3260\"]},\"title\":\"Bokeh Application\",\"version\":\"1.4.0\"}};\n",
       "  var render_items = [{\"docid\":\"bf9d7e6d-4b78-4a15-9c92-f04f0b3e3c77\",\"roots\":{\"3260\":\"e09601b9-719e-4380-9729-3aca337bb4a9\"}}];\n",
       "  root.Bokeh.embed.embed_items_notebook(docs_json, render_items);\n",
       "\n",
       "  }\n",
       "  if (root.Bokeh !== undefined) {\n",
       "    embed_document(root);\n",
       "  } else {\n",
       "    var attempts = 0;\n",
       "    var timer = setInterval(function(root) {\n",
       "      if (root.Bokeh !== undefined) {\n",
       "        clearInterval(timer);\n",
       "        embed_document(root);\n",
       "      } else {\n",
       "        attempts++;\n",
       "        if (attempts > 100) {\n",
       "          clearInterval(timer);\n",
       "          console.log(\"Bokeh: ERROR: Unable to run BokehJS code because BokehJS library is missing\");\n",
       "        }\n",
       "      }\n",
       "    }, 10, root)\n",
       "  }\n",
       "})(window);"
      ],
      "application/vnd.bokehjs_exec.v0+json": ""
     },
     "metadata": {
      "application/vnd.bokehjs_exec.v0+json": {
       "id": "3260"
      }
     },
     "output_type": "display_data"
    }
   ],
   "source": [
    "bb.barplot(x=\"day\", y=\"total_bill\", data=tips)"
   ]
  },
  {
   "cell_type": "markdown",
   "metadata": {},
   "source": [
    "### Choose from Interactive Tools\n",
    "Choose the required interactive tools for visualization by passing value to `tools` options. Default tools are `\"pan,box_select,wheel_zoom,box_zoom,reset,save\"` . Example:"
   ]
  },
  {
   "cell_type": "code",
   "execution_count": 19,
   "metadata": {},
   "outputs": [
    {
     "data": {
      "text/html": [
       "\n",
       "\n",
       "\n",
       "\n",
       "\n",
       "\n",
       "  <div class=\"bk-root\" id=\"83c55e8b-1c93-44e2-b916-2a1e1b46b647\" data-root-id=\"3490\"></div>\n"
      ]
     },
     "metadata": {},
     "output_type": "display_data"
    },
    {
     "data": {
      "application/javascript": [
       "(function(root) {\n",
       "  function embed_document(root) {\n",
       "    \n",
       "  var docs_json = {\"1764186e-7a9a-4756-8f02-c6bc7018d233\":{\"roots\":{\"references\":[{\"attributes\":{\"below\":[{\"id\":\"3501\",\"type\":\"CategoricalAxis\"}],\"center\":[{\"id\":\"3504\",\"type\":\"Grid\"},{\"id\":\"3509\",\"type\":\"Grid\"}],\"left\":[{\"id\":\"3505\",\"type\":\"LinearAxis\"}],\"plot_height\":350,\"renderers\":[{\"id\":\"3518\",\"type\":\"GlyphRenderer\"}],\"title\":{\"id\":\"3491\",\"type\":\"Title\"},\"toolbar\":{\"id\":\"3512\",\"type\":\"Toolbar\"},\"x_range\":{\"id\":\"3493\",\"type\":\"FactorRange\"},\"x_scale\":{\"id\":\"3497\",\"type\":\"CategoricalScale\"},\"y_range\":{\"id\":\"3495\",\"type\":\"DataRange1d\"},\"y_scale\":{\"id\":\"3499\",\"type\":\"LinearScale\"}},\"id\":\"3490\",\"subtype\":\"Figure\",\"type\":\"Plot\"},{\"attributes\":{},\"id\":\"3510\",\"type\":\"PanTool\"},{\"attributes\":{},\"id\":\"3511\",\"type\":\"SaveTool\"},{\"attributes\":{},\"id\":\"3663\",\"type\":\"UnionRenderers\"},{\"attributes\":{\"callback\":null,\"data\":{\"day\":[\"Thur\",\"Fri\",\"Sat\",\"Sun\"],\"fill_color\":[\"rgb(49, 115, 161)\",\"rgb(224, 128, 44)\",\"rgb(58, 145, 58)\",\"rgb(192, 60, 61)\"],\"index\":[0,1,2,3],\"line_color\":[\"rgb(49, 115, 161)\",\"rgb(224, 128, 44)\",\"rgb(58, 145, 58)\",\"rgb(192, 60, 61)\"],\"total_bill\":{\"__ndarray__\":\"zoLsLMiuMUCgtb3gzSYxQOMPBzz+cDRAKVyPwvVoNUA=\",\"dtype\":\"float64\",\"shape\":[4]}},\"selected\":{\"id\":\"3662\",\"type\":\"Selection\"},\"selection_policy\":{\"id\":\"3663\",\"type\":\"UnionRenderers\"}},\"id\":\"3489\",\"type\":\"ColumnDataSource\"},{\"attributes\":{},\"id\":\"3658\",\"type\":\"BasicTickFormatter\"},{\"attributes\":{\"fill_alpha\":{\"value\":0.1},\"fill_color\":{\"value\":\"#1f77b4\"},\"line_alpha\":{\"value\":0.1},\"line_color\":{\"value\":\"#1f77b4\"},\"top\":{\"field\":\"total_bill\"},\"width\":{\"value\":0.7},\"x\":{\"field\":\"day\"}},\"id\":\"3517\",\"type\":\"VBar\"},{\"attributes\":{},\"id\":\"3662\",\"type\":\"Selection\"},{\"attributes\":{\"data_source\":{\"id\":\"3489\",\"type\":\"ColumnDataSource\"},\"glyph\":{\"id\":\"3516\",\"type\":\"VBar\"},\"hover_glyph\":null,\"muted_glyph\":null,\"nonselection_glyph\":{\"id\":\"3517\",\"type\":\"VBar\"},\"selection_glyph\":null,\"view\":{\"id\":\"3519\",\"type\":\"CDSView\"}},\"id\":\"3518\",\"type\":\"GlyphRenderer\"},{\"attributes\":{\"callback\":null,\"factors\":[\"Thur\",\"Fri\",\"Sat\",\"Sun\"]},\"id\":\"3493\",\"type\":\"FactorRange\"},{\"attributes\":{\"source\":{\"id\":\"3489\",\"type\":\"ColumnDataSource\"}},\"id\":\"3519\",\"type\":\"CDSView\"},{\"attributes\":{\"fill_alpha\":{\"value\":0.5},\"fill_color\":{\"field\":\"fill_color\"},\"line_color\":{\"field\":\"line_color\"},\"top\":{\"field\":\"total_bill\"},\"width\":{\"value\":0.7},\"x\":{\"field\":\"day\"}},\"id\":\"3516\",\"type\":\"VBar\"},{\"attributes\":{\"callback\":null},\"id\":\"3495\",\"type\":\"DataRange1d\"},{\"attributes\":{\"callback\":null,\"tooltips\":[[\"day\",\"@day\"],[\"total_bill\",\"@total_bill\"]]},\"id\":\"3520\",\"type\":\"HoverTool\"},{\"attributes\":{\"text\":\"\"},\"id\":\"3491\",\"type\":\"Title\"},{\"attributes\":{},\"id\":\"3660\",\"type\":\"CategoricalTickFormatter\"},{\"attributes\":{},\"id\":\"3497\",\"type\":\"CategoricalScale\"},{\"attributes\":{},\"id\":\"3499\",\"type\":\"LinearScale\"},{\"attributes\":{\"axis_label\":\"day\",\"formatter\":{\"id\":\"3660\",\"type\":\"CategoricalTickFormatter\"},\"ticker\":{\"id\":\"3502\",\"type\":\"CategoricalTicker\"}},\"id\":\"3501\",\"type\":\"CategoricalAxis\"},{\"attributes\":{},\"id\":\"3502\",\"type\":\"CategoricalTicker\"},{\"attributes\":{\"ticker\":{\"id\":\"3502\",\"type\":\"CategoricalTicker\"}},\"id\":\"3504\",\"type\":\"Grid\"},{\"attributes\":{\"axis_label\":\"total_bill\",\"formatter\":{\"id\":\"3658\",\"type\":\"BasicTickFormatter\"},\"ticker\":{\"id\":\"3506\",\"type\":\"BasicTicker\"}},\"id\":\"3505\",\"type\":\"LinearAxis\"},{\"attributes\":{},\"id\":\"3506\",\"type\":\"BasicTicker\"},{\"attributes\":{\"dimension\":1,\"ticker\":{\"id\":\"3506\",\"type\":\"BasicTicker\"}},\"id\":\"3509\",\"type\":\"Grid\"},{\"attributes\":{\"active_drag\":\"auto\",\"active_inspect\":\"auto\",\"active_multi\":null,\"active_scroll\":\"auto\",\"active_tap\":\"auto\",\"tools\":[{\"id\":\"3510\",\"type\":\"PanTool\"},{\"id\":\"3511\",\"type\":\"SaveTool\"},{\"id\":\"3520\",\"type\":\"HoverTool\"}]},\"id\":\"3512\",\"type\":\"Toolbar\"}],\"root_ids\":[\"3490\"]},\"title\":\"Bokeh Application\",\"version\":\"1.4.0\"}};\n",
       "  var render_items = [{\"docid\":\"1764186e-7a9a-4756-8f02-c6bc7018d233\",\"roots\":{\"3490\":\"83c55e8b-1c93-44e2-b916-2a1e1b46b647\"}}];\n",
       "  root.Bokeh.embed.embed_items_notebook(docs_json, render_items);\n",
       "\n",
       "  }\n",
       "  if (root.Bokeh !== undefined) {\n",
       "    embed_document(root);\n",
       "  } else {\n",
       "    var attempts = 0;\n",
       "    var timer = setInterval(function(root) {\n",
       "      if (root.Bokeh !== undefined) {\n",
       "        clearInterval(timer);\n",
       "        embed_document(root);\n",
       "      } else {\n",
       "        attempts++;\n",
       "        if (attempts > 100) {\n",
       "          clearInterval(timer);\n",
       "          console.log(\"Bokeh: ERROR: Unable to run BokehJS code because BokehJS library is missing\");\n",
       "        }\n",
       "      }\n",
       "    }, 10, root)\n",
       "  }\n",
       "})(window);"
      ],
      "application/vnd.bokehjs_exec.v0+json": ""
     },
     "metadata": {
      "application/vnd.bokehjs_exec.v0+json": {
       "id": "3490"
      }
     },
     "output_type": "display_data"
    }
   ],
   "source": [
    "bb.barplot(x=\"day\", y=\"total_bill\", data=tips, tools=\"pan, save\")"
   ]
  },
  {
   "cell_type": "markdown",
   "metadata": {},
   "source": [
    "#### Draw Horizontal Bar\n",
    "Draw a set of horizontal bars automatically with change of axis"
   ]
  },
  {
   "cell_type": "code",
   "execution_count": 5,
   "metadata": {
    "scrolled": false
   },
   "outputs": [
    {
     "data": {
      "text/html": [
       "\n",
       "\n",
       "\n",
       "\n",
       "\n",
       "\n",
       "  <div class=\"bk-root\" id=\"59267daa-59fa-4c1c-bd5b-a1b9509af83b\" data-root-id=\"1083\"></div>\n"
      ]
     },
     "metadata": {},
     "output_type": "display_data"
    },
    {
     "data": {
      "application/javascript": [
       "(function(root) {\n",
       "  function embed_document(root) {\n",
       "    \n",
       "  var docs_json = {\"62c4cb33-9d0c-40b7-ae89-165c84b727c1\":{\"roots\":{\"references\":[{\"attributes\":{\"below\":[{\"id\":\"1094\",\"type\":\"LinearAxis\"}],\"center\":[{\"id\":\"1098\",\"type\":\"Grid\"},{\"id\":\"1102\",\"type\":\"Grid\"}],\"left\":[{\"id\":\"1099\",\"type\":\"CategoricalAxis\"}],\"plot_height\":350,\"renderers\":[{\"id\":\"1119\",\"type\":\"GlyphRenderer\"}],\"title\":{\"id\":\"1084\",\"type\":\"Title\"},\"toolbar\":{\"id\":\"1109\",\"type\":\"Toolbar\"},\"x_range\":{\"id\":\"1086\",\"type\":\"DataRange1d\"},\"x_scale\":{\"id\":\"1090\",\"type\":\"LinearScale\"},\"y_range\":{\"id\":\"1088\",\"type\":\"FactorRange\"},\"y_scale\":{\"id\":\"1092\",\"type\":\"CategoricalScale\"}},\"id\":\"1083\",\"subtype\":\"Figure\",\"type\":\"Plot\"},{\"attributes\":{\"axis_label\":\"tip\",\"formatter\":{\"id\":\"1133\",\"type\":\"BasicTickFormatter\"},\"ticker\":{\"id\":\"1095\",\"type\":\"BasicTicker\"}},\"id\":\"1094\",\"type\":\"LinearAxis\"},{\"attributes\":{},\"id\":\"1135\",\"type\":\"Selection\"},{\"attributes\":{},\"id\":\"1105\",\"type\":\"WheelZoomTool\"},{\"attributes\":{\"callback\":null,\"factors\":[\"Thur\",\"Fri\",\"Sat\",\"Sun\"]},\"id\":\"1088\",\"type\":\"FactorRange\"},{\"attributes\":{\"overlay\":{\"id\":\"1138\",\"type\":\"BoxAnnotation\"}},\"id\":\"1106\",\"type\":\"BoxZoomTool\"},{\"attributes\":{},\"id\":\"1133\",\"type\":\"BasicTickFormatter\"},{\"attributes\":{\"fill_color\":{\"field\":\"fill_color\"},\"height\":{\"value\":0.7},\"line_color\":{\"field\":\"line_color\"},\"right\":{\"field\":\"day\"},\"y\":{\"field\":\"tip\"}},\"id\":\"1117\",\"type\":\"HBar\"},{\"attributes\":{\"callback\":null,\"tooltips\":[[\"tip\",\"@day\"],[\"day\",\"@tip\"]]},\"id\":\"1121\",\"type\":\"HoverTool\"},{\"attributes\":{\"data_source\":{\"id\":\"1082\",\"type\":\"ColumnDataSource\"},\"glyph\":{\"id\":\"1117\",\"type\":\"HBar\"},\"hover_glyph\":null,\"muted_glyph\":null,\"nonselection_glyph\":{\"id\":\"1118\",\"type\":\"HBar\"},\"selection_glyph\":null,\"view\":{\"id\":\"1120\",\"type\":\"CDSView\"}},\"id\":\"1119\",\"type\":\"GlyphRenderer\"},{\"attributes\":{\"active_drag\":\"auto\",\"active_inspect\":\"auto\",\"active_multi\":null,\"active_scroll\":\"auto\",\"active_tap\":\"auto\",\"tools\":[{\"id\":\"1103\",\"type\":\"PanTool\"},{\"id\":\"1104\",\"type\":\"BoxSelectTool\"},{\"id\":\"1105\",\"type\":\"WheelZoomTool\"},{\"id\":\"1106\",\"type\":\"BoxZoomTool\"},{\"id\":\"1107\",\"type\":\"ResetTool\"},{\"id\":\"1108\",\"type\":\"SaveTool\"},{\"id\":\"1121\",\"type\":\"HoverTool\"}]},\"id\":\"1109\",\"type\":\"Toolbar\"},{\"attributes\":{\"dimension\":1,\"ticker\":{\"id\":\"1100\",\"type\":\"CategoricalTicker\"}},\"id\":\"1102\",\"type\":\"Grid\"},{\"attributes\":{\"source\":{\"id\":\"1082\",\"type\":\"ColumnDataSource\"}},\"id\":\"1120\",\"type\":\"CDSView\"},{\"attributes\":{},\"id\":\"1100\",\"type\":\"CategoricalTicker\"},{\"attributes\":{},\"id\":\"1136\",\"type\":\"UnionRenderers\"},{\"attributes\":{},\"id\":\"1092\",\"type\":\"CategoricalScale\"},{\"attributes\":{},\"id\":\"1107\",\"type\":\"ResetTool\"},{\"attributes\":{\"bottom_units\":\"screen\",\"fill_alpha\":{\"value\":0.5},\"fill_color\":{\"value\":\"lightgrey\"},\"left_units\":\"screen\",\"level\":\"overlay\",\"line_alpha\":{\"value\":1.0},\"line_color\":{\"value\":\"black\"},\"line_dash\":[4,4],\"line_width\":{\"value\":2},\"render_mode\":\"css\",\"right_units\":\"screen\",\"top_units\":\"screen\"},\"id\":\"1137\",\"type\":\"BoxAnnotation\"},{\"attributes\":{},\"id\":\"1095\",\"type\":\"BasicTicker\"},{\"attributes\":{\"callback\":null,\"data\":{\"day\":{\"__ndarray__\":\"Ku2+0u4rBkA+EaC1veAFQAMefzjg8QdA3AvebIIKCkA=\",\"dtype\":\"float64\",\"shape\":[4]},\"fill_color\":[\"rgb(49, 115, 161)\",\"rgb(224, 128, 44)\",\"rgb(58, 145, 58)\",\"rgb(192, 60, 61)\"],\"index\":[0,1,2,3],\"line_color\":[\"rgb(49, 115, 161)\",\"rgb(224, 128, 44)\",\"rgb(58, 145, 58)\",\"rgb(192, 60, 61)\"],\"tip\":[\"Thur\",\"Fri\",\"Sat\",\"Sun\"]},\"selected\":{\"id\":\"1135\",\"type\":\"Selection\"},\"selection_policy\":{\"id\":\"1136\",\"type\":\"UnionRenderers\"}},\"id\":\"1082\",\"type\":\"ColumnDataSource\"},{\"attributes\":{},\"id\":\"1090\",\"type\":\"LinearScale\"},{\"attributes\":{\"bottom_units\":\"screen\",\"fill_alpha\":{\"value\":0.5},\"fill_color\":{\"value\":\"lightgrey\"},\"left_units\":\"screen\",\"level\":\"overlay\",\"line_alpha\":{\"value\":1.0},\"line_color\":{\"value\":\"black\"},\"line_dash\":[4,4],\"line_width\":{\"value\":2},\"render_mode\":\"css\",\"right_units\":\"screen\",\"top_units\":\"screen\"},\"id\":\"1138\",\"type\":\"BoxAnnotation\"},{\"attributes\":{\"axis_label\":\"day\",\"formatter\":{\"id\":\"1131\",\"type\":\"CategoricalTickFormatter\"},\"ticker\":{\"id\":\"1100\",\"type\":\"CategoricalTicker\"}},\"id\":\"1099\",\"type\":\"CategoricalAxis\"},{\"attributes\":{},\"id\":\"1103\",\"type\":\"PanTool\"},{\"attributes\":{\"callback\":null},\"id\":\"1086\",\"type\":\"DataRange1d\"},{\"attributes\":{},\"id\":\"1131\",\"type\":\"CategoricalTickFormatter\"},{\"attributes\":{\"fill_alpha\":{\"value\":0.1},\"fill_color\":{\"value\":\"#1f77b4\"},\"height\":{\"value\":0.7},\"line_alpha\":{\"value\":0.1},\"line_color\":{\"value\":\"#1f77b4\"},\"right\":{\"field\":\"day\"},\"y\":{\"field\":\"tip\"}},\"id\":\"1118\",\"type\":\"HBar\"},{\"attributes\":{\"text\":\"\"},\"id\":\"1084\",\"type\":\"Title\"},{\"attributes\":{\"ticker\":{\"id\":\"1095\",\"type\":\"BasicTicker\"}},\"id\":\"1098\",\"type\":\"Grid\"},{\"attributes\":{},\"id\":\"1108\",\"type\":\"SaveTool\"},{\"attributes\":{\"callback\":null,\"overlay\":{\"id\":\"1137\",\"type\":\"BoxAnnotation\"}},\"id\":\"1104\",\"type\":\"BoxSelectTool\"}],\"root_ids\":[\"1083\"]},\"title\":\"Bokeh Application\",\"version\":\"1.4.0\"}};\n",
       "  var render_items = [{\"docid\":\"62c4cb33-9d0c-40b7-ae89-165c84b727c1\",\"roots\":{\"1083\":\"59267daa-59fa-4c1c-bd5b-a1b9509af83b\"}}];\n",
       "  root.Bokeh.embed.embed_items_notebook(docs_json, render_items);\n",
       "\n",
       "  }\n",
       "  if (root.Bokeh !== undefined) {\n",
       "    embed_document(root);\n",
       "  } else {\n",
       "    var attempts = 0;\n",
       "    var timer = setInterval(function(root) {\n",
       "      if (root.Bokeh !== undefined) {\n",
       "        clearInterval(timer);\n",
       "        embed_document(root);\n",
       "      } else {\n",
       "        attempts++;\n",
       "        if (attempts > 100) {\n",
       "          clearInterval(timer);\n",
       "          console.log(\"Bokeh: ERROR: Unable to run BokehJS code because BokehJS library is missing\");\n",
       "        }\n",
       "      }\n",
       "    }, 10, root)\n",
       "  }\n",
       "})(window);"
      ],
      "application/vnd.bokehjs_exec.v0+json": ""
     },
     "metadata": {
      "application/vnd.bokehjs_exec.v0+json": {
       "id": "1083"
      }
     },
     "output_type": "display_data"
    }
   ],
   "source": [
    "bb.barplot(x=\"tip\", y=\"day\", data=tips)"
   ]
  },
  {
   "cell_type": "markdown",
   "metadata": {},
   "source": [
    "#### Control Orders\n",
    "Control bar order by passing an explicit order:"
   ]
  },
  {
   "cell_type": "code",
   "execution_count": 6,
   "metadata": {},
   "outputs": [
    {
     "data": {
      "text/html": [
       "\n",
       "\n",
       "\n",
       "\n",
       "\n",
       "\n",
       "  <div class=\"bk-root\" id=\"2d60b689-a72e-4784-93cc-f5ccfe73e305\" data-root-id=\"1194\"></div>\n"
      ]
     },
     "metadata": {},
     "output_type": "display_data"
    },
    {
     "data": {
      "application/javascript": [
       "(function(root) {\n",
       "  function embed_document(root) {\n",
       "    \n",
       "  var docs_json = {\"f72efd1d-243f-454c-8654-b4a119d7bb2d\":{\"roots\":{\"references\":[{\"attributes\":{\"below\":[{\"id\":\"1205\",\"type\":\"CategoricalAxis\"}],\"center\":[{\"id\":\"1208\",\"type\":\"Grid\"},{\"id\":\"1213\",\"type\":\"Grid\"}],\"left\":[{\"id\":\"1209\",\"type\":\"LinearAxis\"}],\"plot_height\":350,\"renderers\":[{\"id\":\"1230\",\"type\":\"GlyphRenderer\"}],\"title\":{\"id\":\"1195\",\"type\":\"Title\"},\"toolbar\":{\"id\":\"1220\",\"type\":\"Toolbar\"},\"x_range\":{\"id\":\"1197\",\"type\":\"FactorRange\"},\"x_scale\":{\"id\":\"1201\",\"type\":\"CategoricalScale\"},\"y_range\":{\"id\":\"1199\",\"type\":\"DataRange1d\"},\"y_scale\":{\"id\":\"1203\",\"type\":\"LinearScale\"}},\"id\":\"1194\",\"subtype\":\"Figure\",\"type\":\"Plot\"},{\"attributes\":{},\"id\":\"1206\",\"type\":\"CategoricalTicker\"},{\"attributes\":{\"bottom_units\":\"screen\",\"fill_alpha\":{\"value\":0.5},\"fill_color\":{\"value\":\"lightgrey\"},\"left_units\":\"screen\",\"level\":\"overlay\",\"line_alpha\":{\"value\":1.0},\"line_color\":{\"value\":\"black\"},\"line_dash\":[4,4],\"line_width\":{\"value\":2},\"render_mode\":\"css\",\"right_units\":\"screen\",\"top_units\":\"screen\"},\"id\":\"1257\",\"type\":\"BoxAnnotation\"},{\"attributes\":{\"callback\":null,\"data\":{\"fill_color\":[\"rgb(49, 115, 161)\",\"rgb(224, 128, 44)\"],\"index\":[0,1],\"line_color\":[\"rgb(49, 115, 161)\",\"rgb(224, 128, 44)\"],\"time\":[\"Lunch\",\"Dinner\"],\"tip\":{\"__ndarray__\":\"VIa57B/TBUAxTiTjRNIIQA==\",\"dtype\":\"float64\",\"shape\":[2]}},\"selected\":{\"id\":\"1255\",\"type\":\"Selection\"},\"selection_policy\":{\"id\":\"1256\",\"type\":\"UnionRenderers\"}},\"id\":\"1193\",\"type\":\"ColumnDataSource\"},{\"attributes\":{\"ticker\":{\"id\":\"1206\",\"type\":\"CategoricalTicker\"}},\"id\":\"1208\",\"type\":\"Grid\"},{\"attributes\":{\"bottom_units\":\"screen\",\"fill_alpha\":{\"value\":0.5},\"fill_color\":{\"value\":\"lightgrey\"},\"left_units\":\"screen\",\"level\":\"overlay\",\"line_alpha\":{\"value\":1.0},\"line_color\":{\"value\":\"black\"},\"line_dash\":[4,4],\"line_width\":{\"value\":2},\"render_mode\":\"css\",\"right_units\":\"screen\",\"top_units\":\"screen\"},\"id\":\"1258\",\"type\":\"BoxAnnotation\"},{\"attributes\":{\"axis_label\":\"tip\",\"formatter\":{\"id\":\"1251\",\"type\":\"BasicTickFormatter\"},\"ticker\":{\"id\":\"1210\",\"type\":\"BasicTicker\"}},\"id\":\"1209\",\"type\":\"LinearAxis\"},{\"attributes\":{},\"id\":\"1210\",\"type\":\"BasicTicker\"},{\"attributes\":{\"dimension\":1,\"ticker\":{\"id\":\"1210\",\"type\":\"BasicTicker\"}},\"id\":\"1213\",\"type\":\"Grid\"},{\"attributes\":{\"fill_alpha\":{\"value\":0.5},\"fill_color\":{\"field\":\"fill_color\"},\"line_color\":{\"field\":\"line_color\"},\"top\":{\"field\":\"tip\"},\"width\":{\"value\":0.7},\"x\":{\"field\":\"time\"}},\"id\":\"1228\",\"type\":\"VBar\"},{\"attributes\":{},\"id\":\"1251\",\"type\":\"BasicTickFormatter\"},{\"attributes\":{\"active_drag\":\"auto\",\"active_inspect\":\"auto\",\"active_multi\":null,\"active_scroll\":\"auto\",\"active_tap\":\"auto\",\"tools\":[{\"id\":\"1214\",\"type\":\"PanTool\"},{\"id\":\"1215\",\"type\":\"BoxSelectTool\"},{\"id\":\"1216\",\"type\":\"WheelZoomTool\"},{\"id\":\"1217\",\"type\":\"BoxZoomTool\"},{\"id\":\"1218\",\"type\":\"ResetTool\"},{\"id\":\"1219\",\"type\":\"SaveTool\"},{\"id\":\"1232\",\"type\":\"HoverTool\"}]},\"id\":\"1220\",\"type\":\"Toolbar\"},{\"attributes\":{\"callback\":null},\"id\":\"1199\",\"type\":\"DataRange1d\"},{\"attributes\":{},\"id\":\"1214\",\"type\":\"PanTool\"},{\"attributes\":{},\"id\":\"1203\",\"type\":\"LinearScale\"},{\"attributes\":{},\"id\":\"1256\",\"type\":\"UnionRenderers\"},{\"attributes\":{\"callback\":null,\"overlay\":{\"id\":\"1257\",\"type\":\"BoxAnnotation\"}},\"id\":\"1215\",\"type\":\"BoxSelectTool\"},{\"attributes\":{},\"id\":\"1255\",\"type\":\"Selection\"},{\"attributes\":{},\"id\":\"1216\",\"type\":\"WheelZoomTool\"},{\"attributes\":{\"overlay\":{\"id\":\"1258\",\"type\":\"BoxAnnotation\"}},\"id\":\"1217\",\"type\":\"BoxZoomTool\"},{\"attributes\":{},\"id\":\"1218\",\"type\":\"ResetTool\"},{\"attributes\":{},\"id\":\"1253\",\"type\":\"CategoricalTickFormatter\"},{\"attributes\":{\"axis_label\":\"time\",\"formatter\":{\"id\":\"1253\",\"type\":\"CategoricalTickFormatter\"},\"ticker\":{\"id\":\"1206\",\"type\":\"CategoricalTicker\"}},\"id\":\"1205\",\"type\":\"CategoricalAxis\"},{\"attributes\":{},\"id\":\"1219\",\"type\":\"SaveTool\"},{\"attributes\":{\"fill_alpha\":{\"value\":0.1},\"fill_color\":{\"value\":\"#1f77b4\"},\"line_alpha\":{\"value\":0.1},\"line_color\":{\"value\":\"#1f77b4\"},\"top\":{\"field\":\"tip\"},\"width\":{\"value\":0.7},\"x\":{\"field\":\"time\"}},\"id\":\"1229\",\"type\":\"VBar\"},{\"attributes\":{\"data_source\":{\"id\":\"1193\",\"type\":\"ColumnDataSource\"},\"glyph\":{\"id\":\"1228\",\"type\":\"VBar\"},\"hover_glyph\":null,\"muted_glyph\":null,\"nonselection_glyph\":{\"id\":\"1229\",\"type\":\"VBar\"},\"selection_glyph\":null,\"view\":{\"id\":\"1231\",\"type\":\"CDSView\"}},\"id\":\"1230\",\"type\":\"GlyphRenderer\"},{\"attributes\":{\"text\":\"\"},\"id\":\"1195\",\"type\":\"Title\"},{\"attributes\":{\"source\":{\"id\":\"1193\",\"type\":\"ColumnDataSource\"}},\"id\":\"1231\",\"type\":\"CDSView\"},{\"attributes\":{\"callback\":null,\"tooltips\":[[\"time\",\"@time\"],[\"tip\",\"@tip\"]]},\"id\":\"1232\",\"type\":\"HoverTool\"},{\"attributes\":{},\"id\":\"1201\",\"type\":\"CategoricalScale\"},{\"attributes\":{\"callback\":null,\"factors\":[\"Lunch\",\"Dinner\"]},\"id\":\"1197\",\"type\":\"FactorRange\"}],\"root_ids\":[\"1194\"]},\"title\":\"Bokeh Application\",\"version\":\"1.4.0\"}};\n",
       "  var render_items = [{\"docid\":\"f72efd1d-243f-454c-8654-b4a119d7bb2d\",\"roots\":{\"1194\":\"2d60b689-a72e-4784-93cc-f5ccfe73e305\"}}];\n",
       "  root.Bokeh.embed.embed_items_notebook(docs_json, render_items);\n",
       "\n",
       "  }\n",
       "  if (root.Bokeh !== undefined) {\n",
       "    embed_document(root);\n",
       "  } else {\n",
       "    var attempts = 0;\n",
       "    var timer = setInterval(function(root) {\n",
       "      if (root.Bokeh !== undefined) {\n",
       "        clearInterval(timer);\n",
       "        embed_document(root);\n",
       "      } else {\n",
       "        attempts++;\n",
       "        if (attempts > 100) {\n",
       "          clearInterval(timer);\n",
       "          console.log(\"Bokeh: ERROR: Unable to run BokehJS code because BokehJS library is missing\");\n",
       "        }\n",
       "      }\n",
       "    }, 10, root)\n",
       "  }\n",
       "})(window);"
      ],
      "application/vnd.bokehjs_exec.v0+json": ""
     },
     "metadata": {
      "application/vnd.bokehjs_exec.v0+json": {
       "id": "1194"
      }
     },
     "output_type": "display_data"
    }
   ],
   "source": [
    "bb.barplot(x=\"time\", y=\"tip\", data=tips,order=[\"Lunch\", \"Dinner\"])"
   ]
  },
  {
   "cell_type": "markdown",
   "metadata": {},
   "source": [
    "#### Set Desired Estimator\n",
    "For example, use median as the estimate of central tendency:"
   ]
  },
  {
   "cell_type": "code",
   "execution_count": 7,
   "metadata": {},
   "outputs": [
    {
     "data": {
      "text/html": [
       "\n",
       "\n",
       "\n",
       "\n",
       "\n",
       "\n",
       "  <div class=\"bk-root\" id=\"e5b91df1-383c-4bcf-87f2-8565958d7fed\" data-root-id=\"1314\"></div>\n"
      ]
     },
     "metadata": {},
     "output_type": "display_data"
    },
    {
     "data": {
      "application/javascript": [
       "(function(root) {\n",
       "  function embed_document(root) {\n",
       "    \n",
       "  var docs_json = {\"afd3e0c7-6eea-4dc3-89e2-64735b407e0d\":{\"roots\":{\"references\":[{\"attributes\":{\"below\":[{\"id\":\"1325\",\"type\":\"CategoricalAxis\"}],\"center\":[{\"id\":\"1328\",\"type\":\"Grid\"},{\"id\":\"1333\",\"type\":\"Grid\"}],\"left\":[{\"id\":\"1329\",\"type\":\"LinearAxis\"}],\"plot_height\":350,\"renderers\":[{\"id\":\"1350\",\"type\":\"GlyphRenderer\"}],\"title\":{\"id\":\"1315\",\"type\":\"Title\"},\"toolbar\":{\"id\":\"1340\",\"type\":\"Toolbar\"},\"x_range\":{\"id\":\"1317\",\"type\":\"FactorRange\"},\"x_scale\":{\"id\":\"1321\",\"type\":\"CategoricalScale\"},\"y_range\":{\"id\":\"1319\",\"type\":\"DataRange1d\"},\"y_scale\":{\"id\":\"1323\",\"type\":\"LinearScale\"}},\"id\":\"1314\",\"subtype\":\"Figure\",\"type\":\"Plot\"},{\"attributes\":{\"callback\":null,\"factors\":[\"Thur\",\"Fri\",\"Sat\",\"Sun\"]},\"id\":\"1317\",\"type\":\"FactorRange\"},{\"attributes\":{},\"id\":\"1338\",\"type\":\"ResetTool\"},{\"attributes\":{\"text\":\"\"},\"id\":\"1315\",\"type\":\"Title\"},{\"attributes\":{},\"id\":\"1339\",\"type\":\"SaveTool\"},{\"attributes\":{},\"id\":\"1330\",\"type\":\"BasicTicker\"},{\"attributes\":{\"fill_alpha\":{\"value\":0.1},\"fill_color\":{\"value\":\"#1f77b4\"},\"line_alpha\":{\"value\":0.1},\"line_color\":{\"value\":\"#1f77b4\"},\"top\":{\"field\":\"tip\"},\"width\":{\"value\":0.7},\"x\":{\"field\":\"day\"}},\"id\":\"1349\",\"type\":\"VBar\"},{\"attributes\":{\"dimension\":1,\"ticker\":{\"id\":\"1330\",\"type\":\"BasicTicker\"}},\"id\":\"1333\",\"type\":\"Grid\"},{\"attributes\":{\"data_source\":{\"id\":\"1313\",\"type\":\"ColumnDataSource\"},\"glyph\":{\"id\":\"1348\",\"type\":\"VBar\"},\"hover_glyph\":null,\"muted_glyph\":null,\"nonselection_glyph\":{\"id\":\"1349\",\"type\":\"VBar\"},\"selection_glyph\":null,\"view\":{\"id\":\"1351\",\"type\":\"CDSView\"}},\"id\":\"1350\",\"type\":\"GlyphRenderer\"},{\"attributes\":{},\"id\":\"1380\",\"type\":\"BasicTickFormatter\"},{\"attributes\":{\"source\":{\"id\":\"1313\",\"type\":\"ColumnDataSource\"}},\"id\":\"1351\",\"type\":\"CDSView\"},{\"attributes\":{\"ticker\":{\"id\":\"1326\",\"type\":\"CategoricalTicker\"}},\"id\":\"1328\",\"type\":\"Grid\"},{\"attributes\":{\"axis_label\":\"tip\",\"formatter\":{\"id\":\"1380\",\"type\":\"BasicTickFormatter\"},\"ticker\":{\"id\":\"1330\",\"type\":\"BasicTicker\"}},\"id\":\"1329\",\"type\":\"LinearAxis\"},{\"attributes\":{\"callback\":null,\"tooltips\":[[\"day\",\"@day\"],[\"tip\",\"@tip\"]]},\"id\":\"1352\",\"type\":\"HoverTool\"},{\"attributes\":{\"axis_label\":\"day\",\"formatter\":{\"id\":\"1382\",\"type\":\"CategoricalTickFormatter\"},\"ticker\":{\"id\":\"1326\",\"type\":\"CategoricalTicker\"}},\"id\":\"1325\",\"type\":\"CategoricalAxis\"},{\"attributes\":{},\"id\":\"1326\",\"type\":\"CategoricalTicker\"},{\"attributes\":{\"fill_alpha\":{\"value\":0.5},\"fill_color\":{\"field\":\"fill_color\"},\"line_color\":{\"field\":\"line_color\"},\"top\":{\"field\":\"tip\"},\"width\":{\"value\":0.7},\"x\":{\"field\":\"day\"}},\"id\":\"1348\",\"type\":\"VBar\"},{\"attributes\":{\"callback\":null,\"data\":{\"day\":[\"Thur\",\"Fri\",\"Sat\",\"Sun\"],\"fill_color\":[\"rgb(49, 115, 161)\",\"rgb(224, 128, 44)\",\"rgb(58, 145, 58)\",\"rgb(192, 60, 61)\"],\"index\":[0,1,2,3],\"line_color\":[\"rgb(49, 115, 161)\",\"rgb(224, 128, 44)\",\"rgb(58, 145, 58)\",\"rgb(192, 60, 61)\"],\"tip\":{\"__ndarray__\":\"cD0K16NwAkAAAAAAAAAIQAAAAAAAAAZANDMzMzMzCUA=\",\"dtype\":\"float64\",\"shape\":[4]}},\"selected\":{\"id\":\"1384\",\"type\":\"Selection\"},\"selection_policy\":{\"id\":\"1385\",\"type\":\"UnionRenderers\"}},\"id\":\"1313\",\"type\":\"ColumnDataSource\"},{\"attributes\":{},\"id\":\"1382\",\"type\":\"CategoricalTickFormatter\"},{\"attributes\":{},\"id\":\"1384\",\"type\":\"Selection\"},{\"attributes\":{\"callback\":null},\"id\":\"1319\",\"type\":\"DataRange1d\"},{\"attributes\":{},\"id\":\"1385\",\"type\":\"UnionRenderers\"},{\"attributes\":{\"bottom_units\":\"screen\",\"fill_alpha\":{\"value\":0.5},\"fill_color\":{\"value\":\"lightgrey\"},\"left_units\":\"screen\",\"level\":\"overlay\",\"line_alpha\":{\"value\":1.0},\"line_color\":{\"value\":\"black\"},\"line_dash\":[4,4],\"line_width\":{\"value\":2},\"render_mode\":\"css\",\"right_units\":\"screen\",\"top_units\":\"screen\"},\"id\":\"1386\",\"type\":\"BoxAnnotation\"},{\"attributes\":{},\"id\":\"1321\",\"type\":\"CategoricalScale\"},{\"attributes\":{\"bottom_units\":\"screen\",\"fill_alpha\":{\"value\":0.5},\"fill_color\":{\"value\":\"lightgrey\"},\"left_units\":\"screen\",\"level\":\"overlay\",\"line_alpha\":{\"value\":1.0},\"line_color\":{\"value\":\"black\"},\"line_dash\":[4,4],\"line_width\":{\"value\":2},\"render_mode\":\"css\",\"right_units\":\"screen\",\"top_units\":\"screen\"},\"id\":\"1387\",\"type\":\"BoxAnnotation\"},{\"attributes\":{},\"id\":\"1323\",\"type\":\"LinearScale\"},{\"attributes\":{\"active_drag\":\"auto\",\"active_inspect\":\"auto\",\"active_multi\":null,\"active_scroll\":\"auto\",\"active_tap\":\"auto\",\"tools\":[{\"id\":\"1334\",\"type\":\"PanTool\"},{\"id\":\"1335\",\"type\":\"BoxSelectTool\"},{\"id\":\"1336\",\"type\":\"WheelZoomTool\"},{\"id\":\"1337\",\"type\":\"BoxZoomTool\"},{\"id\":\"1338\",\"type\":\"ResetTool\"},{\"id\":\"1339\",\"type\":\"SaveTool\"},{\"id\":\"1352\",\"type\":\"HoverTool\"}]},\"id\":\"1340\",\"type\":\"Toolbar\"},{\"attributes\":{},\"id\":\"1334\",\"type\":\"PanTool\"},{\"attributes\":{\"callback\":null,\"overlay\":{\"id\":\"1386\",\"type\":\"BoxAnnotation\"}},\"id\":\"1335\",\"type\":\"BoxSelectTool\"},{\"attributes\":{},\"id\":\"1336\",\"type\":\"WheelZoomTool\"},{\"attributes\":{\"overlay\":{\"id\":\"1387\",\"type\":\"BoxAnnotation\"}},\"id\":\"1337\",\"type\":\"BoxZoomTool\"}],\"root_ids\":[\"1314\"]},\"title\":\"Bokeh Application\",\"version\":\"1.4.0\"}};\n",
       "  var render_items = [{\"docid\":\"afd3e0c7-6eea-4dc3-89e2-64735b407e0d\",\"roots\":{\"1314\":\"e5b91df1-383c-4bcf-87f2-8565958d7fed\"}}];\n",
       "  root.Bokeh.embed.embed_items_notebook(docs_json, render_items);\n",
       "\n",
       "  }\n",
       "  if (root.Bokeh !== undefined) {\n",
       "    embed_document(root);\n",
       "  } else {\n",
       "    var attempts = 0;\n",
       "    var timer = setInterval(function(root) {\n",
       "      if (root.Bokeh !== undefined) {\n",
       "        clearInterval(timer);\n",
       "        embed_document(root);\n",
       "      } else {\n",
       "        attempts++;\n",
       "        if (attempts > 100) {\n",
       "          clearInterval(timer);\n",
       "          console.log(\"Bokeh: ERROR: Unable to run BokehJS code because BokehJS library is missing\");\n",
       "        }\n",
       "      }\n",
       "    }, 10, root)\n",
       "  }\n",
       "})(window);"
      ],
      "application/vnd.bokehjs_exec.v0+json": ""
     },
     "metadata": {
      "application/vnd.bokehjs_exec.v0+json": {
       "id": "1314"
      }
     },
     "output_type": "display_data"
    }
   ],
   "source": [
    "from numpy import median\n",
    "bb.barplot(x=\"day\", y=\"tip\", data=tips, estimator=median)"
   ]
  },
  {
   "cell_type": "markdown",
   "metadata": {},
   "source": [
    "#### Choose Palettes\n",
    "Use a different color palette for the bars:"
   ]
  },
  {
   "cell_type": "code",
   "execution_count": 8,
   "metadata": {},
   "outputs": [
    {
     "data": {
      "text/html": [
       "\n",
       "\n",
       "\n",
       "\n",
       "\n",
       "\n",
       "  <div class=\"bk-root\" id=\"803aaf3b-64b0-46bb-bc08-679361ec6e3b\" data-root-id=\"1443\"></div>\n"
      ]
     },
     "metadata": {},
     "output_type": "display_data"
    },
    {
     "data": {
      "application/javascript": [
       "(function(root) {\n",
       "  function embed_document(root) {\n",
       "    \n",
       "  var docs_json = {\"4a4b3a8f-d671-4ebf-92a6-d24dfad6e300\":{\"roots\":{\"references\":[{\"attributes\":{\"below\":[{\"id\":\"1454\",\"type\":\"CategoricalAxis\"}],\"center\":[{\"id\":\"1457\",\"type\":\"Grid\"},{\"id\":\"1462\",\"type\":\"Grid\"}],\"left\":[{\"id\":\"1458\",\"type\":\"LinearAxis\"}],\"plot_height\":350,\"renderers\":[{\"id\":\"1479\",\"type\":\"GlyphRenderer\"}],\"title\":{\"id\":\"1444\",\"type\":\"Title\"},\"toolbar\":{\"id\":\"1469\",\"type\":\"Toolbar\"},\"x_range\":{\"id\":\"1446\",\"type\":\"FactorRange\"},\"x_scale\":{\"id\":\"1450\",\"type\":\"CategoricalScale\"},\"y_range\":{\"id\":\"1448\",\"type\":\"DataRange1d\"},\"y_scale\":{\"id\":\"1452\",\"type\":\"LinearScale\"}},\"id\":\"1443\",\"subtype\":\"Figure\",\"type\":\"Plot\"},{\"attributes\":{},\"id\":\"1450\",\"type\":\"CategoricalScale\"},{\"attributes\":{\"source\":{\"id\":\"1442\",\"type\":\"ColumnDataSource\"}},\"id\":\"1480\",\"type\":\"CDSView\"},{\"attributes\":{},\"id\":\"1452\",\"type\":\"LinearScale\"},{\"attributes\":{\"callback\":null,\"tooltips\":[[\"day\",\"@day\"],[\"total_bill\",\"@total_bill\"]]},\"id\":\"1481\",\"type\":\"HoverTool\"},{\"attributes\":{\"axis_label\":\"day\",\"formatter\":{\"id\":\"1520\",\"type\":\"CategoricalTickFormatter\"},\"ticker\":{\"id\":\"1455\",\"type\":\"CategoricalTicker\"}},\"id\":\"1454\",\"type\":\"CategoricalAxis\"},{\"attributes\":{\"text\":\"\"},\"id\":\"1444\",\"type\":\"Title\"},{\"attributes\":{},\"id\":\"1520\",\"type\":\"CategoricalTickFormatter\"},{\"attributes\":{},\"id\":\"1455\",\"type\":\"CategoricalTicker\"},{\"attributes\":{},\"id\":\"1522\",\"type\":\"Selection\"},{\"attributes\":{\"ticker\":{\"id\":\"1455\",\"type\":\"CategoricalTicker\"}},\"id\":\"1457\",\"type\":\"Grid\"},{\"attributes\":{\"callback\":null,\"factors\":[\"Thur\",\"Fri\",\"Sat\",\"Sun\"]},\"id\":\"1446\",\"type\":\"FactorRange\"},{\"attributes\":{},\"id\":\"1523\",\"type\":\"UnionRenderers\"},{\"attributes\":{\"axis_label\":\"total_bill\",\"formatter\":{\"id\":\"1518\",\"type\":\"BasicTickFormatter\"},\"ticker\":{\"id\":\"1459\",\"type\":\"BasicTicker\"}},\"id\":\"1458\",\"type\":\"LinearAxis\"},{\"attributes\":{\"callback\":null},\"id\":\"1448\",\"type\":\"DataRange1d\"},{\"attributes\":{\"bottom_units\":\"screen\",\"fill_alpha\":{\"value\":0.5},\"fill_color\":{\"value\":\"lightgrey\"},\"left_units\":\"screen\",\"level\":\"overlay\",\"line_alpha\":{\"value\":1.0},\"line_color\":{\"value\":\"black\"},\"line_dash\":[4,4],\"line_width\":{\"value\":2},\"render_mode\":\"css\",\"right_units\":\"screen\",\"top_units\":\"screen\"},\"id\":\"1524\",\"type\":\"BoxAnnotation\"},{\"attributes\":{},\"id\":\"1459\",\"type\":\"BasicTicker\"},{\"attributes\":{\"bottom_units\":\"screen\",\"fill_alpha\":{\"value\":0.5},\"fill_color\":{\"value\":\"lightgrey\"},\"left_units\":\"screen\",\"level\":\"overlay\",\"line_alpha\":{\"value\":1.0},\"line_color\":{\"value\":\"black\"},\"line_dash\":[4,4],\"line_width\":{\"value\":2},\"render_mode\":\"css\",\"right_units\":\"screen\",\"top_units\":\"screen\"},\"id\":\"1525\",\"type\":\"BoxAnnotation\"},{\"attributes\":{\"dimension\":1,\"ticker\":{\"id\":\"1459\",\"type\":\"BasicTicker\"}},\"id\":\"1462\",\"type\":\"Grid\"},{\"attributes\":{\"fill_alpha\":{\"value\":0.5},\"fill_color\":{\"field\":\"fill_color\"},\"line_color\":{\"field\":\"line_color\"},\"top\":{\"field\":\"total_bill\"},\"width\":{\"value\":0.7},\"x\":{\"field\":\"day\"}},\"id\":\"1477\",\"type\":\"VBar\"},{\"attributes\":{},\"id\":\"1518\",\"type\":\"BasicTickFormatter\"},{\"attributes\":{\"active_drag\":\"auto\",\"active_inspect\":\"auto\",\"active_multi\":null,\"active_scroll\":\"auto\",\"active_tap\":\"auto\",\"tools\":[{\"id\":\"1463\",\"type\":\"PanTool\"},{\"id\":\"1464\",\"type\":\"BoxSelectTool\"},{\"id\":\"1465\",\"type\":\"WheelZoomTool\"},{\"id\":\"1466\",\"type\":\"BoxZoomTool\"},{\"id\":\"1467\",\"type\":\"ResetTool\"},{\"id\":\"1468\",\"type\":\"SaveTool\"},{\"id\":\"1481\",\"type\":\"HoverTool\"}]},\"id\":\"1469\",\"type\":\"Toolbar\"},{\"attributes\":{},\"id\":\"1463\",\"type\":\"PanTool\"},{\"attributes\":{\"callback\":null,\"overlay\":{\"id\":\"1524\",\"type\":\"BoxAnnotation\"}},\"id\":\"1464\",\"type\":\"BoxSelectTool\"},{\"attributes\":{},\"id\":\"1465\",\"type\":\"WheelZoomTool\"},{\"attributes\":{\"overlay\":{\"id\":\"1525\",\"type\":\"BoxAnnotation\"}},\"id\":\"1466\",\"type\":\"BoxZoomTool\"},{\"attributes\":{\"callback\":null,\"data\":{\"day\":[\"Thur\",\"Fri\",\"Sat\",\"Sun\"],\"fill_color\":[\"rgb(59, 83, 100)\",\"rgb(67, 115, 150)\",\"rgb(93, 146, 184)\",\"rgb(136, 176, 203)\"],\"index\":[0,1,2,3],\"line_color\":[\"rgb(59, 83, 100)\",\"rgb(67, 115, 150)\",\"rgb(93, 146, 184)\",\"rgb(136, 176, 203)\"],\"total_bill\":{\"__ndarray__\":\"zoLsLMiuMUCgtb3gzSYxQOMPBzz+cDRAKVyPwvVoNUA=\",\"dtype\":\"float64\",\"shape\":[4]}},\"selected\":{\"id\":\"1522\",\"type\":\"Selection\"},\"selection_policy\":{\"id\":\"1523\",\"type\":\"UnionRenderers\"}},\"id\":\"1442\",\"type\":\"ColumnDataSource\"},{\"attributes\":{},\"id\":\"1467\",\"type\":\"ResetTool\"},{\"attributes\":{},\"id\":\"1468\",\"type\":\"SaveTool\"},{\"attributes\":{\"fill_alpha\":{\"value\":0.1},\"fill_color\":{\"value\":\"#1f77b4\"},\"line_alpha\":{\"value\":0.1},\"line_color\":{\"value\":\"#1f77b4\"},\"top\":{\"field\":\"total_bill\"},\"width\":{\"value\":0.7},\"x\":{\"field\":\"day\"}},\"id\":\"1478\",\"type\":\"VBar\"},{\"attributes\":{\"data_source\":{\"id\":\"1442\",\"type\":\"ColumnDataSource\"},\"glyph\":{\"id\":\"1477\",\"type\":\"VBar\"},\"hover_glyph\":null,\"muted_glyph\":null,\"nonselection_glyph\":{\"id\":\"1478\",\"type\":\"VBar\"},\"selection_glyph\":null,\"view\":{\"id\":\"1480\",\"type\":\"CDSView\"}},\"id\":\"1479\",\"type\":\"GlyphRenderer\"}],\"root_ids\":[\"1443\"]},\"title\":\"Bokeh Application\",\"version\":\"1.4.0\"}};\n",
       "  var render_items = [{\"docid\":\"4a4b3a8f-d671-4ebf-92a6-d24dfad6e300\",\"roots\":{\"1443\":\"803aaf3b-64b0-46bb-bc08-679361ec6e3b\"}}];\n",
       "  root.Bokeh.embed.embed_items_notebook(docs_json, render_items);\n",
       "\n",
       "  }\n",
       "  if (root.Bokeh !== undefined) {\n",
       "    embed_document(root);\n",
       "  } else {\n",
       "    var attempts = 0;\n",
       "    var timer = setInterval(function(root) {\n",
       "      if (root.Bokeh !== undefined) {\n",
       "        clearInterval(timer);\n",
       "        embed_document(root);\n",
       "      } else {\n",
       "        attempts++;\n",
       "        if (attempts > 100) {\n",
       "          clearInterval(timer);\n",
       "          console.log(\"Bokeh: ERROR: Unable to run BokehJS code because BokehJS library is missing\");\n",
       "        }\n",
       "      }\n",
       "    }, 10, root)\n",
       "  }\n",
       "})(window);"
      ],
      "application/vnd.bokehjs_exec.v0+json": ""
     },
     "metadata": {
      "application/vnd.bokehjs_exec.v0+json": {
       "id": "1443"
      }
     },
     "output_type": "display_data"
    }
   ],
   "source": [
    "bb.barplot(x= \"day\", y=\"total_bill\", data=tips, palette=\"Blues_d\")"
   ]
  },
  {
   "cell_type": "markdown",
   "metadata": {},
   "source": [
    "#### Set Specific Color\n",
    "Plot all bars in a single color:"
   ]
  },
  {
   "cell_type": "code",
   "execution_count": 9,
   "metadata": {},
   "outputs": [
    {
     "data": {
      "text/html": [
       "\n",
       "\n",
       "\n",
       "\n",
       "\n",
       "\n",
       "  <div class=\"bk-root\" id=\"c9236523-36d1-4618-948f-582d5a24a920\" data-root-id=\"1581\"></div>\n"
      ]
     },
     "metadata": {},
     "output_type": "display_data"
    },
    {
     "data": {
      "application/javascript": [
       "(function(root) {\n",
       "  function embed_document(root) {\n",
       "    \n",
       "  var docs_json = {\"85669631-dc53-42d1-98be-4f3c3e59b541\":{\"roots\":{\"references\":[{\"attributes\":{\"below\":[{\"id\":\"1592\",\"type\":\"CategoricalAxis\"}],\"center\":[{\"id\":\"1595\",\"type\":\"Grid\"},{\"id\":\"1600\",\"type\":\"Grid\"}],\"left\":[{\"id\":\"1596\",\"type\":\"LinearAxis\"}],\"plot_height\":350,\"renderers\":[{\"id\":\"1617\",\"type\":\"GlyphRenderer\"}],\"title\":{\"id\":\"1582\",\"type\":\"Title\"},\"toolbar\":{\"id\":\"1607\",\"type\":\"Toolbar\"},\"x_range\":{\"id\":\"1584\",\"type\":\"FactorRange\"},\"x_scale\":{\"id\":\"1588\",\"type\":\"CategoricalScale\"},\"y_range\":{\"id\":\"1586\",\"type\":\"DataRange1d\"},\"y_scale\":{\"id\":\"1590\",\"type\":\"LinearScale\"}},\"id\":\"1581\",\"subtype\":\"Figure\",\"type\":\"Plot\"},{\"attributes\":{},\"id\":\"1588\",\"type\":\"CategoricalScale\"},{\"attributes\":{\"source\":{\"id\":\"1580\",\"type\":\"ColumnDataSource\"}},\"id\":\"1618\",\"type\":\"CDSView\"},{\"attributes\":{},\"id\":\"1590\",\"type\":\"LinearScale\"},{\"attributes\":{\"callback\":null,\"tooltips\":[[\"day\",\"@day\"],[\"total_bill\",\"@total_bill\"]]},\"id\":\"1619\",\"type\":\"HoverTool\"},{\"attributes\":{\"axis_label\":\"day\",\"formatter\":{\"id\":\"1667\",\"type\":\"CategoricalTickFormatter\"},\"ticker\":{\"id\":\"1593\",\"type\":\"CategoricalTicker\"}},\"id\":\"1592\",\"type\":\"CategoricalAxis\"},{\"attributes\":{},\"id\":\"1667\",\"type\":\"CategoricalTickFormatter\"},{\"attributes\":{},\"id\":\"1593\",\"type\":\"CategoricalTicker\"},{\"attributes\":{},\"id\":\"1669\",\"type\":\"Selection\"},{\"attributes\":{\"ticker\":{\"id\":\"1593\",\"type\":\"CategoricalTicker\"}},\"id\":\"1595\",\"type\":\"Grid\"},{\"attributes\":{},\"id\":\"1670\",\"type\":\"UnionRenderers\"},{\"attributes\":{\"axis_label\":\"total_bill\",\"formatter\":{\"id\":\"1665\",\"type\":\"BasicTickFormatter\"},\"ticker\":{\"id\":\"1597\",\"type\":\"BasicTicker\"}},\"id\":\"1596\",\"type\":\"LinearAxis\"},{\"attributes\":{\"bottom_units\":\"screen\",\"fill_alpha\":{\"value\":0.5},\"fill_color\":{\"value\":\"lightgrey\"},\"left_units\":\"screen\",\"level\":\"overlay\",\"line_alpha\":{\"value\":1.0},\"line_color\":{\"value\":\"black\"},\"line_dash\":[4,4],\"line_width\":{\"value\":2},\"render_mode\":\"css\",\"right_units\":\"screen\",\"top_units\":\"screen\"},\"id\":\"1671\",\"type\":\"BoxAnnotation\"},{\"attributes\":{},\"id\":\"1597\",\"type\":\"BasicTicker\"},{\"attributes\":{\"bottom_units\":\"screen\",\"fill_alpha\":{\"value\":0.5},\"fill_color\":{\"value\":\"lightgrey\"},\"left_units\":\"screen\",\"level\":\"overlay\",\"line_alpha\":{\"value\":1.0},\"line_color\":{\"value\":\"black\"},\"line_dash\":[4,4],\"line_width\":{\"value\":2},\"render_mode\":\"css\",\"right_units\":\"screen\",\"top_units\":\"screen\"},\"id\":\"1672\",\"type\":\"BoxAnnotation\"},{\"attributes\":{\"dimension\":1,\"ticker\":{\"id\":\"1597\",\"type\":\"BasicTicker\"}},\"id\":\"1600\",\"type\":\"Grid\"},{\"attributes\":{\"text\":\"\"},\"id\":\"1582\",\"type\":\"Title\"},{\"attributes\":{\"fill_alpha\":{\"value\":0.5},\"fill_color\":{\"field\":\"fill_color\"},\"line_color\":{\"field\":\"line_color\"},\"top\":{\"field\":\"total_bill\"},\"width\":{\"value\":0.7},\"x\":{\"field\":\"day\"}},\"id\":\"1615\",\"type\":\"VBar\"},{\"attributes\":{\"active_drag\":\"auto\",\"active_inspect\":\"auto\",\"active_multi\":null,\"active_scroll\":\"auto\",\"active_tap\":\"auto\",\"tools\":[{\"id\":\"1601\",\"type\":\"PanTool\"},{\"id\":\"1602\",\"type\":\"BoxSelectTool\"},{\"id\":\"1603\",\"type\":\"WheelZoomTool\"},{\"id\":\"1604\",\"type\":\"BoxZoomTool\"},{\"id\":\"1605\",\"type\":\"ResetTool\"},{\"id\":\"1606\",\"type\":\"SaveTool\"},{\"id\":\"1619\",\"type\":\"HoverTool\"}]},\"id\":\"1607\",\"type\":\"Toolbar\"},{\"attributes\":{},\"id\":\"1601\",\"type\":\"PanTool\"},{\"attributes\":{\"callback\":null,\"overlay\":{\"id\":\"1671\",\"type\":\"BoxAnnotation\"}},\"id\":\"1602\",\"type\":\"BoxSelectTool\"},{\"attributes\":{\"callback\":null,\"factors\":[\"Thur\",\"Fri\",\"Sat\",\"Sun\"]},\"id\":\"1584\",\"type\":\"FactorRange\"},{\"attributes\":{},\"id\":\"1603\",\"type\":\"WheelZoomTool\"},{\"attributes\":{\"overlay\":{\"id\":\"1672\",\"type\":\"BoxAnnotation\"}},\"id\":\"1604\",\"type\":\"BoxZoomTool\"},{\"attributes\":{\"callback\":null,\"data\":{\"day\":[\"Thur\",\"Fri\",\"Sat\",\"Sun\"],\"fill_color\":[\"rgb(232, 141, 131)\",\"rgb(232, 141, 131)\",\"rgb(232, 141, 131)\",\"rgb(232, 141, 131)\"],\"index\":[0,1,2,3],\"line_color\":[\"rgb(232, 141, 131)\",\"rgb(232, 141, 131)\",\"rgb(232, 141, 131)\",\"rgb(232, 141, 131)\"],\"total_bill\":{\"__ndarray__\":\"zoLsLMiuMUCgtb3gzSYxQOMPBzz+cDRAKVyPwvVoNUA=\",\"dtype\":\"float64\",\"shape\":[4]}},\"selected\":{\"id\":\"1669\",\"type\":\"Selection\"},\"selection_policy\":{\"id\":\"1670\",\"type\":\"UnionRenderers\"}},\"id\":\"1580\",\"type\":\"ColumnDataSource\"},{\"attributes\":{},\"id\":\"1665\",\"type\":\"BasicTickFormatter\"},{\"attributes\":{},\"id\":\"1605\",\"type\":\"ResetTool\"},{\"attributes\":{\"callback\":null},\"id\":\"1586\",\"type\":\"DataRange1d\"},{\"attributes\":{},\"id\":\"1606\",\"type\":\"SaveTool\"},{\"attributes\":{\"fill_alpha\":{\"value\":0.1},\"fill_color\":{\"value\":\"#1f77b4\"},\"line_alpha\":{\"value\":0.1},\"line_color\":{\"value\":\"#1f77b4\"},\"top\":{\"field\":\"total_bill\"},\"width\":{\"value\":0.7},\"x\":{\"field\":\"day\"}},\"id\":\"1616\",\"type\":\"VBar\"},{\"attributes\":{\"data_source\":{\"id\":\"1580\",\"type\":\"ColumnDataSource\"},\"glyph\":{\"id\":\"1615\",\"type\":\"VBar\"},\"hover_glyph\":null,\"muted_glyph\":null,\"nonselection_glyph\":{\"id\":\"1616\",\"type\":\"VBar\"},\"selection_glyph\":null,\"view\":{\"id\":\"1618\",\"type\":\"CDSView\"}},\"id\":\"1617\",\"type\":\"GlyphRenderer\"}],\"root_ids\":[\"1581\"]},\"title\":\"Bokeh Application\",\"version\":\"1.4.0\"}};\n",
       "  var render_items = [{\"docid\":\"85669631-dc53-42d1-98be-4f3c3e59b541\",\"roots\":{\"1581\":\"c9236523-36d1-4618-948f-582d5a24a920\"}}];\n",
       "  root.Bokeh.embed.embed_items_notebook(docs_json, render_items);\n",
       "\n",
       "  }\n",
       "  if (root.Bokeh !== undefined) {\n",
       "    embed_document(root);\n",
       "  } else {\n",
       "    var attempts = 0;\n",
       "    var timer = setInterval(function(root) {\n",
       "      if (root.Bokeh !== undefined) {\n",
       "        clearInterval(timer);\n",
       "        embed_document(root);\n",
       "      } else {\n",
       "        attempts++;\n",
       "        if (attempts > 100) {\n",
       "          clearInterval(timer);\n",
       "          console.log(\"Bokeh: ERROR: Unable to run BokehJS code because BokehJS library is missing\");\n",
       "        }\n",
       "      }\n",
       "    }, 10, root)\n",
       "  }\n",
       "})(window);"
      ],
      "application/vnd.bokehjs_exec.v0+json": ""
     },
     "metadata": {
      "application/vnd.bokehjs_exec.v0+json": {
       "id": "1581"
      }
     },
     "output_type": "display_data"
    }
   ],
   "source": [
    "bb.barplot(x= \"day\", y=\"total_bill\", data=tips, color=\"salmon\")"
   ]
  },
  {
   "cell_type": "markdown",
   "metadata": {},
   "source": [
    "#### Use Hue for Visualization\n",
    "Draw a set of vertical bars with nested grouping by a two variables:"
   ]
  },
  {
   "cell_type": "code",
   "execution_count": 10,
   "metadata": {},
   "outputs": [
    {
     "data": {
      "text/html": [
       "\n",
       "\n",
       "\n",
       "\n",
       "\n",
       "\n",
       "  <div class=\"bk-root\" id=\"566f3e2d-2323-4f61-8980-fb4892237ae5\" data-root-id=\"1727\"></div>\n"
      ]
     },
     "metadata": {},
     "output_type": "display_data"
    },
    {
     "data": {
      "application/javascript": [
       "(function(root) {\n",
       "  function embed_document(root) {\n",
       "    \n",
       "  var docs_json = {\"a2fcc921-118b-423f-bc58-6a03aee75cef\":{\"roots\":{\"references\":[{\"attributes\":{\"below\":[{\"id\":\"1738\",\"type\":\"CategoricalAxis\"}],\"center\":[{\"id\":\"1741\",\"type\":\"Grid\"},{\"id\":\"1746\",\"type\":\"Grid\"}],\"left\":[{\"id\":\"1742\",\"type\":\"LinearAxis\"}],\"plot_height\":350,\"renderers\":[{\"id\":\"1763\",\"type\":\"GlyphRenderer\"},{\"id\":\"1768\",\"type\":\"GlyphRenderer\"}],\"title\":{\"id\":\"1728\",\"type\":\"Title\"},\"toolbar\":{\"id\":\"1753\",\"type\":\"Toolbar\"},\"x_range\":{\"id\":\"1730\",\"type\":\"FactorRange\"},\"x_scale\":{\"id\":\"1734\",\"type\":\"CategoricalScale\"},\"y_range\":{\"id\":\"1732\",\"type\":\"DataRange1d\"},\"y_scale\":{\"id\":\"1736\",\"type\":\"LinearScale\"}},\"id\":\"1727\",\"subtype\":\"Figure\",\"type\":\"Plot\"},{\"attributes\":{\"ticker\":{\"id\":\"1739\",\"type\":\"CategoricalTicker\"}},\"id\":\"1741\",\"type\":\"Grid\"},{\"attributes\":{\"fill_color\":\"rgb(224, 128, 44)\",\"line_color\":\"rgb(224, 128, 44)\",\"top\":{\"field\":\"top\"},\"width\":{\"value\":0.4},\"x\":{\"field\":\"x\"}},\"id\":\"1766\",\"type\":\"VBar\"},{\"attributes\":{\"axis_label\":\"total_bill\",\"formatter\":{\"id\":\"1823\",\"type\":\"BasicTickFormatter\"},\"ticker\":{\"id\":\"1743\",\"type\":\"BasicTicker\"}},\"id\":\"1742\",\"type\":\"LinearAxis\"},{\"attributes\":{\"fill_alpha\":{\"value\":0.1},\"fill_color\":{\"value\":\"#1f77b4\"},\"line_alpha\":{\"value\":0.1},\"line_color\":{\"value\":\"#1f77b4\"},\"top\":{\"field\":\"top\"},\"width\":{\"value\":0.4},\"x\":{\"field\":\"x\"}},\"id\":\"1767\",\"type\":\"VBar\"},{\"attributes\":{},\"id\":\"1743\",\"type\":\"BasicTicker\"},{\"attributes\":{\"data_source\":{\"id\":\"1765\",\"type\":\"ColumnDataSource\"},\"glyph\":{\"id\":\"1766\",\"type\":\"VBar\"},\"hover_glyph\":null,\"muted_glyph\":null,\"nonselection_glyph\":{\"id\":\"1767\",\"type\":\"VBar\"},\"selection_glyph\":null,\"view\":{\"id\":\"1769\",\"type\":\"CDSView\"}},\"id\":\"1768\",\"type\":\"GlyphRenderer\"},{\"attributes\":{\"dimension\":1,\"ticker\":{\"id\":\"1743\",\"type\":\"BasicTicker\"}},\"id\":\"1746\",\"type\":\"Grid\"},{\"attributes\":{\"source\":{\"id\":\"1765\",\"type\":\"ColumnDataSource\"}},\"id\":\"1769\",\"type\":\"CDSView\"},{\"attributes\":{},\"id\":\"1823\",\"type\":\"BasicTickFormatter\"},{\"attributes\":{},\"id\":\"1825\",\"type\":\"CategoricalTickFormatter\"},{\"attributes\":{\"active_drag\":\"auto\",\"active_inspect\":\"auto\",\"active_multi\":null,\"active_scroll\":\"auto\",\"active_tap\":\"auto\",\"tools\":[{\"id\":\"1747\",\"type\":\"PanTool\"},{\"id\":\"1748\",\"type\":\"BoxSelectTool\"},{\"id\":\"1749\",\"type\":\"WheelZoomTool\"},{\"id\":\"1750\",\"type\":\"BoxZoomTool\"},{\"id\":\"1751\",\"type\":\"ResetTool\"},{\"id\":\"1752\",\"type\":\"SaveTool\"}]},\"id\":\"1753\",\"type\":\"Toolbar\"},{\"attributes\":{},\"id\":\"1747\",\"type\":\"PanTool\"},{\"attributes\":{},\"id\":\"1827\",\"type\":\"Selection\"},{\"attributes\":{\"callback\":null,\"overlay\":{\"id\":\"1831\",\"type\":\"BoxAnnotation\"}},\"id\":\"1748\",\"type\":\"BoxSelectTool\"},{\"attributes\":{},\"id\":\"1828\",\"type\":\"UnionRenderers\"},{\"attributes\":{},\"id\":\"1749\",\"type\":\"WheelZoomTool\"},{\"attributes\":{},\"id\":\"1829\",\"type\":\"Selection\"},{\"attributes\":{\"fill_color\":\"rgb(49, 115, 161)\",\"line_color\":\"rgb(49, 115, 161)\",\"top\":{\"field\":\"top\"},\"width\":{\"value\":0.4},\"x\":{\"field\":\"x\"}},\"id\":\"1761\",\"type\":\"VBar\"},{\"attributes\":{},\"id\":\"1739\",\"type\":\"CategoricalTicker\"},{\"attributes\":{\"overlay\":{\"id\":\"1832\",\"type\":\"BoxAnnotation\"}},\"id\":\"1750\",\"type\":\"BoxZoomTool\"},{\"attributes\":{},\"id\":\"1734\",\"type\":\"CategoricalScale\"},{\"attributes\":{},\"id\":\"1830\",\"type\":\"UnionRenderers\"},{\"attributes\":{},\"id\":\"1751\",\"type\":\"ResetTool\"},{\"attributes\":{\"bottom_units\":\"screen\",\"fill_alpha\":{\"value\":0.5},\"fill_color\":{\"value\":\"lightgrey\"},\"left_units\":\"screen\",\"level\":\"overlay\",\"line_alpha\":{\"value\":1.0},\"line_color\":{\"value\":\"black\"},\"line_dash\":[4,4],\"line_width\":{\"value\":2},\"render_mode\":\"css\",\"right_units\":\"screen\",\"top_units\":\"screen\"},\"id\":\"1831\",\"type\":\"BoxAnnotation\"},{\"attributes\":{},\"id\":\"1752\",\"type\":\"SaveTool\"},{\"attributes\":{\"bottom_units\":\"screen\",\"fill_alpha\":{\"value\":0.5},\"fill_color\":{\"value\":\"lightgrey\"},\"left_units\":\"screen\",\"level\":\"overlay\",\"line_alpha\":{\"value\":1.0},\"line_color\":{\"value\":\"black\"},\"line_dash\":[4,4],\"line_width\":{\"value\":2},\"render_mode\":\"css\",\"right_units\":\"screen\",\"top_units\":\"screen\"},\"id\":\"1832\",\"type\":\"BoxAnnotation\"},{\"attributes\":{\"callback\":null,\"data\":{\"top\":{\"__ndarray__\":\"698IZfS2MkAIrBxaZNszQP4tvWpzzTRAvstDQCLjNUA=\",\"dtype\":\"float64\",\"shape\":[4]},\"x\":{\"__ndarray__\":\"MzMzMzMz0z/NzMzMzMz0P2ZmZmZmZgJAZmZmZmZmCkA=\",\"dtype\":\"float64\",\"shape\":[4]}},\"selected\":{\"id\":\"1827\",\"type\":\"Selection\"},\"selection_policy\":{\"id\":\"1828\",\"type\":\"UnionRenderers\"}},\"id\":\"1760\",\"type\":\"ColumnDataSource\"},{\"attributes\":{\"fill_alpha\":{\"value\":0.1},\"fill_color\":{\"value\":\"#1f77b4\"},\"line_alpha\":{\"value\":0.1},\"line_color\":{\"value\":\"#1f77b4\"},\"top\":{\"field\":\"top\"},\"width\":{\"value\":0.4},\"x\":{\"field\":\"x\"}},\"id\":\"1762\",\"type\":\"VBar\"},{\"attributes\":{\"callback\":null},\"id\":\"1732\",\"type\":\"DataRange1d\"},{\"attributes\":{\"axis_label\":\"day\",\"formatter\":{\"id\":\"1825\",\"type\":\"CategoricalTickFormatter\"},\"ticker\":{\"id\":\"1739\",\"type\":\"CategoricalTicker\"}},\"id\":\"1738\",\"type\":\"CategoricalAxis\"},{\"attributes\":{},\"id\":\"1736\",\"type\":\"LinearScale\"},{\"attributes\":{\"data_source\":{\"id\":\"1760\",\"type\":\"ColumnDataSource\"},\"glyph\":{\"id\":\"1761\",\"type\":\"VBar\"},\"hover_glyph\":null,\"muted_glyph\":null,\"nonselection_glyph\":{\"id\":\"1762\",\"type\":\"VBar\"},\"selection_glyph\":null,\"view\":{\"id\":\"1764\",\"type\":\"CDSView\"}},\"id\":\"1763\",\"type\":\"GlyphRenderer\"},{\"attributes\":{\"text\":\"\"},\"id\":\"1728\",\"type\":\"Title\"},{\"attributes\":{\"source\":{\"id\":\"1760\",\"type\":\"ColumnDataSource\"}},\"id\":\"1764\",\"type\":\"CDSView\"},{\"attributes\":{\"callback\":null,\"factors\":[\"Thur\",\"Fri\",\"Sat\",\"Sun\"]},\"id\":\"1730\",\"type\":\"FactorRange\"},{\"attributes\":{\"callback\":null,\"data\":{\"top\":{\"__ndarray__\":\"hetRuB63MEB1uf1BhkosQOIrvuIrrjNA9Emf9EnfM0A=\",\"dtype\":\"float64\",\"shape\":[4]},\"x\":{\"__ndarray__\":\"ZmZmZmZm5j8zMzMzMzP7P5qZmZmZmQVAmpmZmZmZDUA=\",\"dtype\":\"float64\",\"shape\":[4]}},\"selected\":{\"id\":\"1829\",\"type\":\"Selection\"},\"selection_policy\":{\"id\":\"1830\",\"type\":\"UnionRenderers\"}},\"id\":\"1765\",\"type\":\"ColumnDataSource\"}],\"root_ids\":[\"1727\"]},\"title\":\"Bokeh Application\",\"version\":\"1.4.0\"}};\n",
       "  var render_items = [{\"docid\":\"a2fcc921-118b-423f-bc58-6a03aee75cef\",\"roots\":{\"1727\":\"566f3e2d-2323-4f61-8980-fb4892237ae5\"}}];\n",
       "  root.Bokeh.embed.embed_items_notebook(docs_json, render_items);\n",
       "\n",
       "  }\n",
       "  if (root.Bokeh !== undefined) {\n",
       "    embed_document(root);\n",
       "  } else {\n",
       "    var attempts = 0;\n",
       "    var timer = setInterval(function(root) {\n",
       "      if (root.Bokeh !== undefined) {\n",
       "        clearInterval(timer);\n",
       "        embed_document(root);\n",
       "      } else {\n",
       "        attempts++;\n",
       "        if (attempts > 100) {\n",
       "          clearInterval(timer);\n",
       "          console.log(\"Bokeh: ERROR: Unable to run BokehJS code because BokehJS library is missing\");\n",
       "        }\n",
       "      }\n",
       "    }, 10, root)\n",
       "  }\n",
       "})(window);"
      ],
      "application/vnd.bokehjs_exec.v0+json": ""
     },
     "metadata": {
      "application/vnd.bokehjs_exec.v0+json": {
       "id": "1727"
      }
     },
     "output_type": "display_data"
    }
   ],
   "source": [
    "bb.barplot(x=\"day\", y=\"total_bill\", hue=\"sex\", data=tips)"
   ]
  },
  {
   "cell_type": "code",
   "execution_count": 11,
   "metadata": {},
   "outputs": [
    {
     "data": {
      "text/html": [
       "\n",
       "\n",
       "\n",
       "\n",
       "\n",
       "\n",
       "  <div class=\"bk-root\" id=\"fdb698a2-ef7f-41ea-9867-76dc9dd8c1d5\" data-root-id=\"1899\"></div>\n"
      ]
     },
     "metadata": {},
     "output_type": "display_data"
    },
    {
     "data": {
      "application/javascript": [
       "(function(root) {\n",
       "  function embed_document(root) {\n",
       "    \n",
       "  var docs_json = {\"3d7c3d2b-4e8f-4bb7-8978-ddf04983e0c8\":{\"roots\":{\"references\":[{\"attributes\":{\"below\":[{\"id\":\"1910\",\"type\":\"CategoricalAxis\"}],\"center\":[{\"id\":\"1913\",\"type\":\"Grid\"},{\"id\":\"1918\",\"type\":\"Grid\"}],\"left\":[{\"id\":\"1914\",\"type\":\"LinearAxis\"}],\"plot_height\":350,\"renderers\":[{\"id\":\"1935\",\"type\":\"GlyphRenderer\"},{\"id\":\"1940\",\"type\":\"GlyphRenderer\"}],\"title\":{\"id\":\"1900\",\"type\":\"Title\"},\"toolbar\":{\"id\":\"1925\",\"type\":\"Toolbar\"},\"x_range\":{\"id\":\"1902\",\"type\":\"FactorRange\"},\"x_scale\":{\"id\":\"1906\",\"type\":\"CategoricalScale\"},\"y_range\":{\"id\":\"1904\",\"type\":\"DataRange1d\"},\"y_scale\":{\"id\":\"1908\",\"type\":\"LinearScale\"}},\"id\":\"1899\",\"subtype\":\"Figure\",\"type\":\"Plot\"},{\"attributes\":{},\"id\":\"1923\",\"type\":\"ResetTool\"},{\"attributes\":{},\"id\":\"2013\",\"type\":\"UnionRenderers\"},{\"attributes\":{\"callback\":null,\"factors\":[\"Thur\",\"Fri\",\"Sat\",\"Sun\"]},\"id\":\"1902\",\"type\":\"FactorRange\"},{\"attributes\":{\"bottom_units\":\"screen\",\"fill_alpha\":{\"value\":0.5},\"fill_color\":{\"value\":\"lightgrey\"},\"left_units\":\"screen\",\"level\":\"overlay\",\"line_alpha\":{\"value\":1.0},\"line_color\":{\"value\":\"black\"},\"line_dash\":[4,4],\"line_width\":{\"value\":2},\"render_mode\":\"css\",\"right_units\":\"screen\",\"top_units\":\"screen\"},\"id\":\"2014\",\"type\":\"BoxAnnotation\"},{\"attributes\":{\"callback\":null},\"id\":\"1904\",\"type\":\"DataRange1d\"},{\"attributes\":{},\"id\":\"1919\",\"type\":\"PanTool\"},{\"attributes\":{},\"id\":\"1906\",\"type\":\"CategoricalScale\"},{\"attributes\":{\"bottom_units\":\"screen\",\"fill_alpha\":{\"value\":0.5},\"fill_color\":{\"value\":\"lightgrey\"},\"left_units\":\"screen\",\"level\":\"overlay\",\"line_alpha\":{\"value\":1.0},\"line_color\":{\"value\":\"black\"},\"line_dash\":[4,4],\"line_width\":{\"value\":2},\"render_mode\":\"css\",\"right_units\":\"screen\",\"top_units\":\"screen\"},\"id\":\"2015\",\"type\":\"BoxAnnotation\"},{\"attributes\":{},\"id\":\"1911\",\"type\":\"CategoricalTicker\"},{\"attributes\":{},\"id\":\"1921\",\"type\":\"WheelZoomTool\"},{\"attributes\":{\"fill_color\":\"rgb(49, 115, 161)\",\"line_color\":\"rgb(49, 115, 161)\",\"top\":{\"field\":\"top\"},\"width\":{\"value\":0.4},\"x\":{\"field\":\"x\"}},\"id\":\"1933\",\"type\":\"VBar\"},{\"attributes\":{\"fill_alpha\":{\"value\":0.1},\"fill_color\":{\"value\":\"#1f77b4\"},\"line_alpha\":{\"value\":0.1},\"line_color\":{\"value\":\"#1f77b4\"},\"top\":{\"field\":\"top\"},\"width\":{\"value\":0.4},\"x\":{\"field\":\"x\"}},\"id\":\"1934\",\"type\":\"VBar\"},{\"attributes\":{\"overlay\":{\"id\":\"2015\",\"type\":\"BoxAnnotation\"}},\"id\":\"1922\",\"type\":\"BoxZoomTool\"},{\"attributes\":{\"callback\":null,\"data\":{\"top\":{\"__ndarray__\":\"MZf9Y8owM0DQaQOdNtAwQAY6baDTRjVAHoXrUbgeOEA=\",\"dtype\":\"float64\",\"shape\":[4]},\"x\":{\"__ndarray__\":\"MzMzMzMz0z/NzMzMzMz0P2ZmZmZmZgJAZmZmZmZmCkA=\",\"dtype\":\"float64\",\"shape\":[4]}},\"selected\":{\"id\":\"2010\",\"type\":\"Selection\"},\"selection_policy\":{\"id\":\"2011\",\"type\":\"UnionRenderers\"}},\"id\":\"1932\",\"type\":\"ColumnDataSource\"},{\"attributes\":{\"data_source\":{\"id\":\"1932\",\"type\":\"ColumnDataSource\"},\"glyph\":{\"id\":\"1933\",\"type\":\"VBar\"},\"hover_glyph\":null,\"muted_glyph\":null,\"nonselection_glyph\":{\"id\":\"1934\",\"type\":\"VBar\"},\"selection_glyph\":null,\"view\":{\"id\":\"1936\",\"type\":\"CDSView\"}},\"id\":\"1935\",\"type\":\"GlyphRenderer\"},{\"attributes\":{\"source\":{\"id\":\"1932\",\"type\":\"ColumnDataSource\"}},\"id\":\"1936\",\"type\":\"CDSView\"},{\"attributes\":{\"callback\":null,\"data\":{\"top\":{\"__ndarray__\":\"VAmL2fQcMUDrUbgehWsyQG7GuERqqTNAgk4b6LSBNEA=\",\"dtype\":\"float64\",\"shape\":[4]},\"x\":{\"__ndarray__\":\"ZmZmZmZm5j8zMzMzMzP7P5qZmZmZmQVAmpmZmZmZDUA=\",\"dtype\":\"float64\",\"shape\":[4]}},\"selected\":{\"id\":\"2012\",\"type\":\"Selection\"},\"selection_policy\":{\"id\":\"2013\",\"type\":\"UnionRenderers\"}},\"id\":\"1937\",\"type\":\"ColumnDataSource\"},{\"attributes\":{\"text\":\"\"},\"id\":\"1900\",\"type\":\"Title\"},{\"attributes\":{\"callback\":null,\"overlay\":{\"id\":\"2014\",\"type\":\"BoxAnnotation\"}},\"id\":\"1920\",\"type\":\"BoxSelectTool\"},{\"attributes\":{\"axis_label\":\"day\",\"formatter\":{\"id\":\"2008\",\"type\":\"CategoricalTickFormatter\"},\"ticker\":{\"id\":\"1911\",\"type\":\"CategoricalTicker\"}},\"id\":\"1910\",\"type\":\"CategoricalAxis\"},{\"attributes\":{\"fill_color\":\"rgb(224, 128, 44)\",\"line_color\":\"rgb(224, 128, 44)\",\"top\":{\"field\":\"top\"},\"width\":{\"value\":0.4},\"x\":{\"field\":\"x\"}},\"id\":\"1938\",\"type\":\"VBar\"},{\"attributes\":{},\"id\":\"1908\",\"type\":\"LinearScale\"},{\"attributes\":{\"fill_alpha\":{\"value\":0.1},\"fill_color\":{\"value\":\"#1f77b4\"},\"line_alpha\":{\"value\":0.1},\"line_color\":{\"value\":\"#1f77b4\"},\"top\":{\"field\":\"top\"},\"width\":{\"value\":0.4},\"x\":{\"field\":\"x\"}},\"id\":\"1939\",\"type\":\"VBar\"},{\"attributes\":{\"data_source\":{\"id\":\"1937\",\"type\":\"ColumnDataSource\"},\"glyph\":{\"id\":\"1938\",\"type\":\"VBar\"},\"hover_glyph\":null,\"muted_glyph\":null,\"nonselection_glyph\":{\"id\":\"1939\",\"type\":\"VBar\"},\"selection_glyph\":null,\"view\":{\"id\":\"1941\",\"type\":\"CDSView\"}},\"id\":\"1940\",\"type\":\"GlyphRenderer\"},{\"attributes\":{\"source\":{\"id\":\"1937\",\"type\":\"ColumnDataSource\"}},\"id\":\"1941\",\"type\":\"CDSView\"},{\"attributes\":{\"axis_label\":\"total_bill\",\"formatter\":{\"id\":\"2006\",\"type\":\"BasicTickFormatter\"},\"ticker\":{\"id\":\"1915\",\"type\":\"BasicTicker\"}},\"id\":\"1914\",\"type\":\"LinearAxis\"},{\"attributes\":{},\"id\":\"2006\",\"type\":\"BasicTickFormatter\"},{\"attributes\":{\"active_drag\":\"auto\",\"active_inspect\":\"auto\",\"active_multi\":null,\"active_scroll\":\"auto\",\"active_tap\":\"auto\",\"tools\":[{\"id\":\"1919\",\"type\":\"PanTool\"},{\"id\":\"1920\",\"type\":\"BoxSelectTool\"},{\"id\":\"1921\",\"type\":\"WheelZoomTool\"},{\"id\":\"1922\",\"type\":\"BoxZoomTool\"},{\"id\":\"1923\",\"type\":\"ResetTool\"},{\"id\":\"1924\",\"type\":\"SaveTool\"}]},\"id\":\"1925\",\"type\":\"Toolbar\"},{\"attributes\":{},\"id\":\"2008\",\"type\":\"CategoricalTickFormatter\"},{\"attributes\":{\"dimension\":1,\"ticker\":{\"id\":\"1915\",\"type\":\"BasicTicker\"}},\"id\":\"1918\",\"type\":\"Grid\"},{\"attributes\":{},\"id\":\"2010\",\"type\":\"Selection\"},{\"attributes\":{\"ticker\":{\"id\":\"1911\",\"type\":\"CategoricalTicker\"}},\"id\":\"1913\",\"type\":\"Grid\"},{\"attributes\":{},\"id\":\"1924\",\"type\":\"SaveTool\"},{\"attributes\":{},\"id\":\"2011\",\"type\":\"UnionRenderers\"},{\"attributes\":{},\"id\":\"1915\",\"type\":\"BasicTicker\"},{\"attributes\":{},\"id\":\"2012\",\"type\":\"Selection\"}],\"root_ids\":[\"1899\"]},\"title\":\"Bokeh Application\",\"version\":\"1.4.0\"}};\n",
       "  var render_items = [{\"docid\":\"3d7c3d2b-4e8f-4bb7-8978-ddf04983e0c8\",\"roots\":{\"1899\":\"fdb698a2-ef7f-41ea-9867-76dc9dd8c1d5\"}}];\n",
       "  root.Bokeh.embed.embed_items_notebook(docs_json, render_items);\n",
       "\n",
       "  }\n",
       "  if (root.Bokeh !== undefined) {\n",
       "    embed_document(root);\n",
       "  } else {\n",
       "    var attempts = 0;\n",
       "    var timer = setInterval(function(root) {\n",
       "      if (root.Bokeh !== undefined) {\n",
       "        clearInterval(timer);\n",
       "        embed_document(root);\n",
       "      } else {\n",
       "        attempts++;\n",
       "        if (attempts > 100) {\n",
       "          clearInterval(timer);\n",
       "          console.log(\"Bokeh: ERROR: Unable to run BokehJS code because BokehJS library is missing\");\n",
       "        }\n",
       "      }\n",
       "    }, 10, root)\n",
       "  }\n",
       "})(window);"
      ],
      "application/vnd.bokehjs_exec.v0+json": ""
     },
     "metadata": {
      "application/vnd.bokehjs_exec.v0+json": {
       "id": "1899"
      }
     },
     "output_type": "display_data"
    }
   ],
   "source": [
    "bb.barplot(x=\"day\", y=\"total_bill\", hue=\"smoker\", data=tips)"
   ]
  },
  {
   "cell_type": "markdown",
   "metadata": {},
   "source": [
    "#### Change Plot Properties\n",
    "Change different plot properties such as plot_width:"
   ]
  },
  {
   "cell_type": "code",
   "execution_count": 12,
   "metadata": {},
   "outputs": [
    {
     "data": {
      "text/html": [
       "\n",
       "\n",
       "\n",
       "\n",
       "\n",
       "\n",
       "  <div class=\"bk-root\" id=\"884950f1-6140-4877-bbbc-8d97cd0124e1\" data-root-id=\"2083\"></div>\n"
      ]
     },
     "metadata": {},
     "output_type": "display_data"
    },
    {
     "data": {
      "application/javascript": [
       "(function(root) {\n",
       "  function embed_document(root) {\n",
       "    \n",
       "  var docs_json = {\"d291f6b8-5dde-47b9-8e3f-b2f95b038486\":{\"roots\":{\"references\":[{\"attributes\":{\"below\":[{\"id\":\"2094\",\"type\":\"CategoricalAxis\"}],\"center\":[{\"id\":\"2097\",\"type\":\"Grid\"},{\"id\":\"2102\",\"type\":\"Grid\"}],\"left\":[{\"id\":\"2098\",\"type\":\"LinearAxis\"}],\"plot_height\":350,\"plot_width\":800,\"renderers\":[{\"id\":\"2119\",\"type\":\"GlyphRenderer\"}],\"title\":{\"id\":\"2084\",\"type\":\"Title\"},\"toolbar\":{\"id\":\"2109\",\"type\":\"Toolbar\"},\"x_range\":{\"id\":\"2086\",\"type\":\"FactorRange\"},\"x_scale\":{\"id\":\"2090\",\"type\":\"CategoricalScale\"},\"y_range\":{\"id\":\"2088\",\"type\":\"DataRange1d\"},\"y_scale\":{\"id\":\"2092\",\"type\":\"LinearScale\"}},\"id\":\"2083\",\"subtype\":\"Figure\",\"type\":\"Plot\"},{\"attributes\":{},\"id\":\"2090\",\"type\":\"CategoricalScale\"},{\"attributes\":{},\"id\":\"2200\",\"type\":\"CategoricalTickFormatter\"},{\"attributes\":{\"ticker\":{\"id\":\"2095\",\"type\":\"CategoricalTicker\"}},\"id\":\"2097\",\"type\":\"Grid\"},{\"attributes\":{},\"id\":\"2202\",\"type\":\"Selection\"},{\"attributes\":{},\"id\":\"2203\",\"type\":\"UnionRenderers\"},{\"attributes\":{},\"id\":\"2103\",\"type\":\"PanTool\"},{\"attributes\":{\"fill_alpha\":{\"value\":0.5},\"fill_color\":{\"field\":\"fill_color\"},\"line_color\":{\"field\":\"line_color\"},\"top\":{\"field\":\"total_bill\"},\"width\":{\"value\":0.7},\"x\":{\"field\":\"day\"}},\"id\":\"2117\",\"type\":\"VBar\"},{\"attributes\":{\"bottom_units\":\"screen\",\"fill_alpha\":{\"value\":0.5},\"fill_color\":{\"value\":\"lightgrey\"},\"left_units\":\"screen\",\"level\":\"overlay\",\"line_alpha\":{\"value\":1.0},\"line_color\":{\"value\":\"black\"},\"line_dash\":[4,4],\"line_width\":{\"value\":2},\"render_mode\":\"css\",\"right_units\":\"screen\",\"top_units\":\"screen\"},\"id\":\"2204\",\"type\":\"BoxAnnotation\"},{\"attributes\":{\"text\":\"\"},\"id\":\"2084\",\"type\":\"Title\"},{\"attributes\":{\"bottom_units\":\"screen\",\"fill_alpha\":{\"value\":0.5},\"fill_color\":{\"value\":\"lightgrey\"},\"left_units\":\"screen\",\"level\":\"overlay\",\"line_alpha\":{\"value\":1.0},\"line_color\":{\"value\":\"black\"},\"line_dash\":[4,4],\"line_width\":{\"value\":2},\"render_mode\":\"css\",\"right_units\":\"screen\",\"top_units\":\"screen\"},\"id\":\"2205\",\"type\":\"BoxAnnotation\"},{\"attributes\":{},\"id\":\"2095\",\"type\":\"CategoricalTicker\"},{\"attributes\":{\"data_source\":{\"id\":\"2082\",\"type\":\"ColumnDataSource\"},\"glyph\":{\"id\":\"2117\",\"type\":\"VBar\"},\"hover_glyph\":null,\"muted_glyph\":null,\"nonselection_glyph\":{\"id\":\"2118\",\"type\":\"VBar\"},\"selection_glyph\":null,\"view\":{\"id\":\"2120\",\"type\":\"CDSView\"}},\"id\":\"2119\",\"type\":\"GlyphRenderer\"},{\"attributes\":{\"axis_label\":\"total_bill\",\"formatter\":{\"id\":\"2198\",\"type\":\"BasicTickFormatter\"},\"ticker\":{\"id\":\"2099\",\"type\":\"BasicTicker\"}},\"id\":\"2098\",\"type\":\"LinearAxis\"},{\"attributes\":{\"fill_alpha\":{\"value\":0.1},\"fill_color\":{\"value\":\"#1f77b4\"},\"line_alpha\":{\"value\":0.1},\"line_color\":{\"value\":\"#1f77b4\"},\"top\":{\"field\":\"total_bill\"},\"width\":{\"value\":0.7},\"x\":{\"field\":\"day\"}},\"id\":\"2118\",\"type\":\"VBar\"},{\"attributes\":{\"active_drag\":\"auto\",\"active_inspect\":\"auto\",\"active_multi\":null,\"active_scroll\":\"auto\",\"active_tap\":\"auto\",\"tools\":[{\"id\":\"2103\",\"type\":\"PanTool\"},{\"id\":\"2104\",\"type\":\"BoxSelectTool\"},{\"id\":\"2105\",\"type\":\"WheelZoomTool\"},{\"id\":\"2106\",\"type\":\"BoxZoomTool\"},{\"id\":\"2107\",\"type\":\"ResetTool\"},{\"id\":\"2108\",\"type\":\"SaveTool\"},{\"id\":\"2121\",\"type\":\"HoverTool\"}]},\"id\":\"2109\",\"type\":\"Toolbar\"},{\"attributes\":{\"callback\":null},\"id\":\"2088\",\"type\":\"DataRange1d\"},{\"attributes\":{\"dimension\":1,\"ticker\":{\"id\":\"2099\",\"type\":\"BasicTicker\"}},\"id\":\"2102\",\"type\":\"Grid\"},{\"attributes\":{\"callback\":null,\"factors\":[\"Thur\",\"Fri\",\"Sat\",\"Sun\"]},\"id\":\"2086\",\"type\":\"FactorRange\"},{\"attributes\":{},\"id\":\"2198\",\"type\":\"BasicTickFormatter\"},{\"attributes\":{\"callback\":null,\"overlay\":{\"id\":\"2204\",\"type\":\"BoxAnnotation\"}},\"id\":\"2104\",\"type\":\"BoxSelectTool\"},{\"attributes\":{\"callback\":null,\"tooltips\":[[\"day\",\"@day\"],[\"total_bill\",\"@total_bill\"]]},\"id\":\"2121\",\"type\":\"HoverTool\"},{\"attributes\":{\"axis_label\":\"day\",\"formatter\":{\"id\":\"2200\",\"type\":\"CategoricalTickFormatter\"},\"ticker\":{\"id\":\"2095\",\"type\":\"CategoricalTicker\"}},\"id\":\"2094\",\"type\":\"CategoricalAxis\"},{\"attributes\":{},\"id\":\"2108\",\"type\":\"SaveTool\"},{\"attributes\":{},\"id\":\"2099\",\"type\":\"BasicTicker\"},{\"attributes\":{},\"id\":\"2107\",\"type\":\"ResetTool\"},{\"attributes\":{},\"id\":\"2092\",\"type\":\"LinearScale\"},{\"attributes\":{\"overlay\":{\"id\":\"2205\",\"type\":\"BoxAnnotation\"}},\"id\":\"2106\",\"type\":\"BoxZoomTool\"},{\"attributes\":{\"source\":{\"id\":\"2082\",\"type\":\"ColumnDataSource\"}},\"id\":\"2120\",\"type\":\"CDSView\"},{\"attributes\":{},\"id\":\"2105\",\"type\":\"WheelZoomTool\"},{\"attributes\":{\"callback\":null,\"data\":{\"day\":[\"Thur\",\"Fri\",\"Sat\",\"Sun\"],\"fill_color\":[\"rgb(49, 115, 161)\",\"rgb(224, 128, 44)\",\"rgb(58, 145, 58)\",\"rgb(192, 60, 61)\"],\"index\":[0,1,2,3],\"line_color\":[\"rgb(49, 115, 161)\",\"rgb(224, 128, 44)\",\"rgb(58, 145, 58)\",\"rgb(192, 60, 61)\"],\"total_bill\":{\"__ndarray__\":\"zoLsLMiuMUCgtb3gzSYxQOMPBzz+cDRAKVyPwvVoNUA=\",\"dtype\":\"float64\",\"shape\":[4]}},\"selected\":{\"id\":\"2202\",\"type\":\"Selection\"},\"selection_policy\":{\"id\":\"2203\",\"type\":\"UnionRenderers\"}},\"id\":\"2082\",\"type\":\"ColumnDataSource\"}],\"root_ids\":[\"2083\"]},\"title\":\"Bokeh Application\",\"version\":\"1.4.0\"}};\n",
       "  var render_items = [{\"docid\":\"d291f6b8-5dde-47b9-8e3f-b2f95b038486\",\"roots\":{\"2083\":\"884950f1-6140-4877-bbbc-8d97cd0124e1\"}}];\n",
       "  root.Bokeh.embed.embed_items_notebook(docs_json, render_items);\n",
       "\n",
       "  }\n",
       "  if (root.Bokeh !== undefined) {\n",
       "    embed_document(root);\n",
       "  } else {\n",
       "    var attempts = 0;\n",
       "    var timer = setInterval(function(root) {\n",
       "      if (root.Bokeh !== undefined) {\n",
       "        clearInterval(timer);\n",
       "        embed_document(root);\n",
       "      } else {\n",
       "        attempts++;\n",
       "        if (attempts > 100) {\n",
       "          clearInterval(timer);\n",
       "          console.log(\"Bokeh: ERROR: Unable to run BokehJS code because BokehJS library is missing\");\n",
       "        }\n",
       "      }\n",
       "    }, 10, root)\n",
       "  }\n",
       "})(window);"
      ],
      "application/vnd.bokehjs_exec.v0+json": ""
     },
     "metadata": {
      "application/vnd.bokehjs_exec.v0+json": {
       "id": "2083"
      }
     },
     "output_type": "display_data"
    }
   ],
   "source": [
    "bb.barplot(x=\"day\", y=\"total_bill\", data=tips, plot_width=800)"
   ]
  },
  {
   "cell_type": "code",
   "execution_count": 13,
   "metadata": {},
   "outputs": [
    {
     "data": {
      "text/html": [
       "\n",
       "\n",
       "\n",
       "\n",
       "\n",
       "\n",
       "  <div class=\"bk-root\" id=\"e7ebd8f8-2179-4d25-8574-412ae2ee1650\" data-root-id=\"2261\"></div>\n"
      ]
     },
     "metadata": {},
     "output_type": "display_data"
    },
    {
     "data": {
      "application/javascript": [
       "(function(root) {\n",
       "  function embed_document(root) {\n",
       "    \n",
       "  var docs_json = {\"864c58cc-0aa5-4c0b-86b0-3dd1dcf14b1e\":{\"roots\":{\"references\":[{\"attributes\":{\"below\":[{\"id\":\"2272\",\"type\":\"CategoricalAxis\"}],\"center\":[{\"id\":\"2275\",\"type\":\"Grid\"},{\"id\":\"2280\",\"type\":\"Grid\"}],\"left\":[{\"id\":\"2276\",\"type\":\"LinearAxis\"}],\"plot_height\":200,\"renderers\":[{\"id\":\"2297\",\"type\":\"GlyphRenderer\"}],\"title\":{\"id\":\"2262\",\"type\":\"Title\"},\"toolbar\":{\"id\":\"2287\",\"type\":\"Toolbar\"},\"x_range\":{\"id\":\"2264\",\"type\":\"FactorRange\"},\"x_scale\":{\"id\":\"2268\",\"type\":\"CategoricalScale\"},\"y_range\":{\"id\":\"2266\",\"type\":\"DataRange1d\"},\"y_scale\":{\"id\":\"2270\",\"type\":\"LinearScale\"}},\"id\":\"2261\",\"subtype\":\"Figure\",\"type\":\"Plot\"},{\"attributes\":{\"data_source\":{\"id\":\"2260\",\"type\":\"ColumnDataSource\"},\"glyph\":{\"id\":\"2295\",\"type\":\"VBar\"},\"hover_glyph\":null,\"muted_glyph\":null,\"nonselection_glyph\":{\"id\":\"2296\",\"type\":\"VBar\"},\"selection_glyph\":null,\"view\":{\"id\":\"2298\",\"type\":\"CDSView\"}},\"id\":\"2297\",\"type\":\"GlyphRenderer\"},{\"attributes\":{\"callback\":null,\"overlay\":{\"id\":\"2391\",\"type\":\"BoxAnnotation\"}},\"id\":\"2282\",\"type\":\"BoxSelectTool\"},{\"attributes\":{\"source\":{\"id\":\"2260\",\"type\":\"ColumnDataSource\"}},\"id\":\"2298\",\"type\":\"CDSView\"},{\"attributes\":{\"overlay\":{\"id\":\"2392\",\"type\":\"BoxAnnotation\"}},\"id\":\"2284\",\"type\":\"BoxZoomTool\"},{\"attributes\":{},\"id\":\"2286\",\"type\":\"SaveTool\"},{\"attributes\":{},\"id\":\"2285\",\"type\":\"ResetTool\"},{\"attributes\":{\"callback\":null,\"tooltips\":[[\"day\",\"@day\"],[\"total_bill\",\"@total_bill\"]]},\"id\":\"2299\",\"type\":\"HoverTool\"},{\"attributes\":{},\"id\":\"2387\",\"type\":\"CategoricalTickFormatter\"},{\"attributes\":{},\"id\":\"2389\",\"type\":\"Selection\"},{\"attributes\":{},\"id\":\"2277\",\"type\":\"BasicTicker\"},{\"attributes\":{},\"id\":\"2281\",\"type\":\"PanTool\"},{\"attributes\":{},\"id\":\"2390\",\"type\":\"UnionRenderers\"},{\"attributes\":{\"axis_label\":\"total_bill\",\"formatter\":{\"id\":\"2385\",\"type\":\"BasicTickFormatter\"},\"ticker\":{\"id\":\"2277\",\"type\":\"BasicTicker\"}},\"id\":\"2276\",\"type\":\"LinearAxis\"},{\"attributes\":{\"bottom_units\":\"screen\",\"fill_alpha\":{\"value\":0.5},\"fill_color\":{\"value\":\"lightgrey\"},\"left_units\":\"screen\",\"level\":\"overlay\",\"line_alpha\":{\"value\":1.0},\"line_color\":{\"value\":\"black\"},\"line_dash\":[4,4],\"line_width\":{\"value\":2},\"render_mode\":\"css\",\"right_units\":\"screen\",\"top_units\":\"screen\"},\"id\":\"2391\",\"type\":\"BoxAnnotation\"},{\"attributes\":{\"callback\":null},\"id\":\"2266\",\"type\":\"DataRange1d\"},{\"attributes\":{\"bottom_units\":\"screen\",\"fill_alpha\":{\"value\":0.5},\"fill_color\":{\"value\":\"lightgrey\"},\"left_units\":\"screen\",\"level\":\"overlay\",\"line_alpha\":{\"value\":1.0},\"line_color\":{\"value\":\"black\"},\"line_dash\":[4,4],\"line_width\":{\"value\":2},\"render_mode\":\"css\",\"right_units\":\"screen\",\"top_units\":\"screen\"},\"id\":\"2392\",\"type\":\"BoxAnnotation\"},{\"attributes\":{\"ticker\":{\"id\":\"2273\",\"type\":\"CategoricalTicker\"}},\"id\":\"2275\",\"type\":\"Grid\"},{\"attributes\":{\"axis_label\":\"day\",\"formatter\":{\"id\":\"2387\",\"type\":\"CategoricalTickFormatter\"},\"ticker\":{\"id\":\"2273\",\"type\":\"CategoricalTicker\"}},\"id\":\"2272\",\"type\":\"CategoricalAxis\"},{\"attributes\":{\"fill_alpha\":{\"value\":0.5},\"fill_color\":{\"field\":\"fill_color\"},\"line_color\":{\"field\":\"line_color\"},\"top\":{\"field\":\"total_bill\"},\"width\":{\"value\":0.7},\"x\":{\"field\":\"day\"}},\"id\":\"2295\",\"type\":\"VBar\"},{\"attributes\":{},\"id\":\"2268\",\"type\":\"CategoricalScale\"},{\"attributes\":{},\"id\":\"2270\",\"type\":\"LinearScale\"},{\"attributes\":{\"dimension\":1,\"ticker\":{\"id\":\"2277\",\"type\":\"BasicTicker\"}},\"id\":\"2280\",\"type\":\"Grid\"},{\"attributes\":{\"callback\":null,\"factors\":[\"Thur\",\"Fri\",\"Sat\",\"Sun\"]},\"id\":\"2264\",\"type\":\"FactorRange\"},{\"attributes\":{},\"id\":\"2283\",\"type\":\"WheelZoomTool\"},{\"attributes\":{\"active_drag\":\"auto\",\"active_inspect\":\"auto\",\"active_multi\":null,\"active_scroll\":\"auto\",\"active_tap\":\"auto\",\"tools\":[{\"id\":\"2281\",\"type\":\"PanTool\"},{\"id\":\"2282\",\"type\":\"BoxSelectTool\"},{\"id\":\"2283\",\"type\":\"WheelZoomTool\"},{\"id\":\"2284\",\"type\":\"BoxZoomTool\"},{\"id\":\"2285\",\"type\":\"ResetTool\"},{\"id\":\"2286\",\"type\":\"SaveTool\"},{\"id\":\"2299\",\"type\":\"HoverTool\"}]},\"id\":\"2287\",\"type\":\"Toolbar\"},{\"attributes\":{},\"id\":\"2385\",\"type\":\"BasicTickFormatter\"},{\"attributes\":{},\"id\":\"2273\",\"type\":\"CategoricalTicker\"},{\"attributes\":{\"fill_alpha\":{\"value\":0.1},\"fill_color\":{\"value\":\"#1f77b4\"},\"line_alpha\":{\"value\":0.1},\"line_color\":{\"value\":\"#1f77b4\"},\"top\":{\"field\":\"total_bill\"},\"width\":{\"value\":0.7},\"x\":{\"field\":\"day\"}},\"id\":\"2296\",\"type\":\"VBar\"},{\"attributes\":{\"text\":\"Awesome Plot Title\"},\"id\":\"2262\",\"type\":\"Title\"},{\"attributes\":{\"callback\":null,\"data\":{\"day\":[\"Thur\",\"Fri\",\"Sat\",\"Sun\"],\"fill_color\":[\"rgb(49, 115, 161)\",\"rgb(224, 128, 44)\",\"rgb(58, 145, 58)\",\"rgb(192, 60, 61)\"],\"index\":[0,1,2,3],\"line_color\":[\"rgb(49, 115, 161)\",\"rgb(224, 128, 44)\",\"rgb(58, 145, 58)\",\"rgb(192, 60, 61)\"],\"total_bill\":{\"__ndarray__\":\"zoLsLMiuMUCgtb3gzSYxQOMPBzz+cDRAKVyPwvVoNUA=\",\"dtype\":\"float64\",\"shape\":[4]}},\"selected\":{\"id\":\"2389\",\"type\":\"Selection\"},\"selection_policy\":{\"id\":\"2390\",\"type\":\"UnionRenderers\"}},\"id\":\"2260\",\"type\":\"ColumnDataSource\"}],\"root_ids\":[\"2261\"]},\"title\":\"Bokeh Application\",\"version\":\"1.4.0\"}};\n",
       "  var render_items = [{\"docid\":\"864c58cc-0aa5-4c0b-86b0-3dd1dcf14b1e\",\"roots\":{\"2261\":\"e7ebd8f8-2179-4d25-8574-412ae2ee1650\"}}];\n",
       "  root.Bokeh.embed.embed_items_notebook(docs_json, render_items);\n",
       "\n",
       "  }\n",
       "  if (root.Bokeh !== undefined) {\n",
       "    embed_document(root);\n",
       "  } else {\n",
       "    var attempts = 0;\n",
       "    var timer = setInterval(function(root) {\n",
       "      if (root.Bokeh !== undefined) {\n",
       "        clearInterval(timer);\n",
       "        embed_document(root);\n",
       "      } else {\n",
       "        attempts++;\n",
       "        if (attempts > 100) {\n",
       "          clearInterval(timer);\n",
       "          console.log(\"Bokeh: ERROR: Unable to run BokehJS code because BokehJS library is missing\");\n",
       "        }\n",
       "      }\n",
       "    }, 10, root)\n",
       "  }\n",
       "})(window);"
      ],
      "application/vnd.bokehjs_exec.v0+json": ""
     },
     "metadata": {
      "application/vnd.bokehjs_exec.v0+json": {
       "id": "2261"
      }
     },
     "output_type": "display_data"
    }
   ],
   "source": [
    "bb.barplot(x=\"day\", y=\"total_bill\", data=tips, plot_width=600, plot_height=200, plot_title=\"Awesome Plot Title\")"
   ]
  },
  {
   "cell_type": "markdown",
   "metadata": {},
   "source": [
    "#### And More\n",
    "Change the other aesthetics of the plot as key word arguments as available in `bokeh.plotting.figure.vbar`, such as changing `alpha` of the plot. List of all the aesthetics properties :: https://docs.bokeh.org/en/latest/docs/reference/plotting.html#bokeh.plotting.figure.Figure.vbar"
   ]
  },
  {
   "cell_type": "code",
   "execution_count": 14,
   "metadata": {},
   "outputs": [
    {
     "data": {
      "text/html": [
       "\n",
       "\n",
       "\n",
       "\n",
       "\n",
       "\n",
       "  <div class=\"bk-root\" id=\"6d2b5a2c-a54f-4d0c-ab38-5e4ff96799b5\" data-root-id=\"2448\"></div>\n"
      ]
     },
     "metadata": {},
     "output_type": "display_data"
    },
    {
     "data": {
      "application/javascript": [
       "(function(root) {\n",
       "  function embed_document(root) {\n",
       "    \n",
       "  var docs_json = {\"559436dd-84a1-43b1-ab75-f4ab2016bd16\":{\"roots\":{\"references\":[{\"attributes\":{\"below\":[{\"id\":\"2459\",\"type\":\"CategoricalAxis\"}],\"center\":[{\"id\":\"2462\",\"type\":\"Grid\"},{\"id\":\"2467\",\"type\":\"Grid\"}],\"left\":[{\"id\":\"2463\",\"type\":\"LinearAxis\"}],\"plot_height\":350,\"renderers\":[{\"id\":\"2484\",\"type\":\"GlyphRenderer\"}],\"title\":{\"id\":\"2449\",\"type\":\"Title\"},\"toolbar\":{\"id\":\"2474\",\"type\":\"Toolbar\"},\"x_range\":{\"id\":\"2451\",\"type\":\"FactorRange\"},\"x_scale\":{\"id\":\"2455\",\"type\":\"CategoricalScale\"},\"y_range\":{\"id\":\"2453\",\"type\":\"DataRange1d\"},\"y_scale\":{\"id\":\"2457\",\"type\":\"LinearScale\"}},\"id\":\"2448\",\"subtype\":\"Figure\",\"type\":\"Plot\"},{\"attributes\":{},\"id\":\"2470\",\"type\":\"WheelZoomTool\"},{\"attributes\":{\"active_drag\":\"auto\",\"active_inspect\":\"auto\",\"active_multi\":null,\"active_scroll\":\"auto\",\"active_tap\":\"auto\",\"tools\":[{\"id\":\"2468\",\"type\":\"PanTool\"},{\"id\":\"2469\",\"type\":\"BoxSelectTool\"},{\"id\":\"2470\",\"type\":\"WheelZoomTool\"},{\"id\":\"2471\",\"type\":\"BoxZoomTool\"},{\"id\":\"2472\",\"type\":\"ResetTool\"},{\"id\":\"2473\",\"type\":\"SaveTool\"},{\"id\":\"2486\",\"type\":\"HoverTool\"}]},\"id\":\"2474\",\"type\":\"Toolbar\"},{\"attributes\":{\"callback\":null,\"overlay\":{\"id\":\"2587\",\"type\":\"BoxAnnotation\"}},\"id\":\"2469\",\"type\":\"BoxSelectTool\"},{\"attributes\":{\"data_source\":{\"id\":\"2447\",\"type\":\"ColumnDataSource\"},\"glyph\":{\"id\":\"2482\",\"type\":\"VBar\"},\"hover_glyph\":null,\"muted_glyph\":null,\"nonselection_glyph\":{\"id\":\"2483\",\"type\":\"VBar\"},\"selection_glyph\":null,\"view\":{\"id\":\"2485\",\"type\":\"CDSView\"}},\"id\":\"2484\",\"type\":\"GlyphRenderer\"},{\"attributes\":{\"source\":{\"id\":\"2447\",\"type\":\"ColumnDataSource\"}},\"id\":\"2485\",\"type\":\"CDSView\"},{\"attributes\":{\"fill_alpha\":{\"value\":0.5},\"fill_color\":{\"field\":\"fill_color\"},\"line_alpha\":{\"value\":0.3},\"line_color\":{\"field\":\"line_color\"},\"top\":{\"field\":\"total_bill\"},\"width\":{\"value\":0.7},\"x\":{\"field\":\"day\"}},\"id\":\"2482\",\"type\":\"VBar\"},{\"attributes\":{\"fill_alpha\":{\"value\":0.1},\"fill_color\":{\"value\":\"#1f77b4\"},\"line_alpha\":{\"value\":0.1},\"line_color\":{\"value\":\"#1f77b4\"},\"top\":{\"field\":\"total_bill\"},\"width\":{\"value\":0.7},\"x\":{\"field\":\"day\"}},\"id\":\"2483\",\"type\":\"VBar\"},{\"attributes\":{\"callback\":null,\"tooltips\":[[\"day\",\"@day\"],[\"total_bill\",\"@total_bill\"]]},\"id\":\"2486\",\"type\":\"HoverTool\"},{\"attributes\":{\"axis_label\":\"total_bill\",\"formatter\":{\"id\":\"2581\",\"type\":\"BasicTickFormatter\"},\"ticker\":{\"id\":\"2464\",\"type\":\"BasicTicker\"}},\"id\":\"2463\",\"type\":\"LinearAxis\"},{\"attributes\":{},\"id\":\"2468\",\"type\":\"PanTool\"},{\"attributes\":{},\"id\":\"2583\",\"type\":\"CategoricalTickFormatter\"},{\"attributes\":{},\"id\":\"2585\",\"type\":\"Selection\"},{\"attributes\":{},\"id\":\"2586\",\"type\":\"UnionRenderers\"},{\"attributes\":{\"bottom_units\":\"screen\",\"fill_alpha\":{\"value\":0.5},\"fill_color\":{\"value\":\"lightgrey\"},\"left_units\":\"screen\",\"level\":\"overlay\",\"line_alpha\":{\"value\":1.0},\"line_color\":{\"value\":\"black\"},\"line_dash\":[4,4],\"line_width\":{\"value\":2},\"render_mode\":\"css\",\"right_units\":\"screen\",\"top_units\":\"screen\"},\"id\":\"2587\",\"type\":\"BoxAnnotation\"},{\"attributes\":{\"ticker\":{\"id\":\"2460\",\"type\":\"CategoricalTicker\"}},\"id\":\"2462\",\"type\":\"Grid\"},{\"attributes\":{\"bottom_units\":\"screen\",\"fill_alpha\":{\"value\":0.5},\"fill_color\":{\"value\":\"lightgrey\"},\"left_units\":\"screen\",\"level\":\"overlay\",\"line_alpha\":{\"value\":1.0},\"line_color\":{\"value\":\"black\"},\"line_dash\":[4,4],\"line_width\":{\"value\":2},\"render_mode\":\"css\",\"right_units\":\"screen\",\"top_units\":\"screen\"},\"id\":\"2588\",\"type\":\"BoxAnnotation\"},{\"attributes\":{},\"id\":\"2460\",\"type\":\"CategoricalTicker\"},{\"attributes\":{\"callback\":null},\"id\":\"2453\",\"type\":\"DataRange1d\"},{\"attributes\":{},\"id\":\"2581\",\"type\":\"BasicTickFormatter\"},{\"attributes\":{},\"id\":\"2457\",\"type\":\"LinearScale\"},{\"attributes\":{\"text\":\"\"},\"id\":\"2449\",\"type\":\"Title\"},{\"attributes\":{},\"id\":\"2464\",\"type\":\"BasicTicker\"},{\"attributes\":{},\"id\":\"2472\",\"type\":\"ResetTool\"},{\"attributes\":{\"dimension\":1,\"ticker\":{\"id\":\"2464\",\"type\":\"BasicTicker\"}},\"id\":\"2467\",\"type\":\"Grid\"},{\"attributes\":{},\"id\":\"2455\",\"type\":\"CategoricalScale\"},{\"attributes\":{\"callback\":null,\"factors\":[\"Thur\",\"Fri\",\"Sat\",\"Sun\"]},\"id\":\"2451\",\"type\":\"FactorRange\"},{\"attributes\":{\"callback\":null,\"data\":{\"day\":[\"Thur\",\"Fri\",\"Sat\",\"Sun\"],\"fill_color\":[\"rgb(49, 115, 161)\",\"rgb(224, 128, 44)\",\"rgb(58, 145, 58)\",\"rgb(192, 60, 61)\"],\"index\":[0,1,2,3],\"line_color\":[\"rgb(49, 115, 161)\",\"rgb(224, 128, 44)\",\"rgb(58, 145, 58)\",\"rgb(192, 60, 61)\"],\"total_bill\":{\"__ndarray__\":\"zoLsLMiuMUCgtb3gzSYxQOMPBzz+cDRAKVyPwvVoNUA=\",\"dtype\":\"float64\",\"shape\":[4]}},\"selected\":{\"id\":\"2585\",\"type\":\"Selection\"},\"selection_policy\":{\"id\":\"2586\",\"type\":\"UnionRenderers\"}},\"id\":\"2447\",\"type\":\"ColumnDataSource\"},{\"attributes\":{},\"id\":\"2473\",\"type\":\"SaveTool\"},{\"attributes\":{\"overlay\":{\"id\":\"2588\",\"type\":\"BoxAnnotation\"}},\"id\":\"2471\",\"type\":\"BoxZoomTool\"},{\"attributes\":{\"axis_label\":\"day\",\"formatter\":{\"id\":\"2583\",\"type\":\"CategoricalTickFormatter\"},\"ticker\":{\"id\":\"2460\",\"type\":\"CategoricalTicker\"}},\"id\":\"2459\",\"type\":\"CategoricalAxis\"}],\"root_ids\":[\"2448\"]},\"title\":\"Bokeh Application\",\"version\":\"1.4.0\"}};\n",
       "  var render_items = [{\"docid\":\"559436dd-84a1-43b1-ab75-f4ab2016bd16\",\"roots\":{\"2448\":\"6d2b5a2c-a54f-4d0c-ab38-5e4ff96799b5\"}}];\n",
       "  root.Bokeh.embed.embed_items_notebook(docs_json, render_items);\n",
       "\n",
       "  }\n",
       "  if (root.Bokeh !== undefined) {\n",
       "    embed_document(root);\n",
       "  } else {\n",
       "    var attempts = 0;\n",
       "    var timer = setInterval(function(root) {\n",
       "      if (root.Bokeh !== undefined) {\n",
       "        clearInterval(timer);\n",
       "        embed_document(root);\n",
       "      } else {\n",
       "        attempts++;\n",
       "        if (attempts > 100) {\n",
       "          clearInterval(timer);\n",
       "          console.log(\"Bokeh: ERROR: Unable to run BokehJS code because BokehJS library is missing\");\n",
       "        }\n",
       "      }\n",
       "    }, 10, root)\n",
       "  }\n",
       "})(window);"
      ],
      "application/vnd.bokehjs_exec.v0+json": ""
     },
     "metadata": {
      "application/vnd.bokehjs_exec.v0+json": {
       "id": "2448"
      }
     },
     "output_type": "display_data"
    }
   ],
   "source": [
    "bb.barplot(x=\"day\", y=\"total_bill\", data=tips, alpha=0.3)"
   ]
  },
  {
   "cell_type": "code",
   "execution_count": 15,
   "metadata": {},
   "outputs": [
    {
     "data": {
      "text/html": [
       "\n",
       "\n",
       "\n",
       "\n",
       "\n",
       "\n",
       "  <div class=\"bk-root\" id=\"17a80dff-0239-4f40-bf4e-ef6a1c5efc22\" data-root-id=\"2644\"></div>\n"
      ]
     },
     "metadata": {},
     "output_type": "display_data"
    },
    {
     "data": {
      "application/javascript": [
       "(function(root) {\n",
       "  function embed_document(root) {\n",
       "    \n",
       "  var docs_json = {\"367d1026-ee6b-4e43-ba16-044e0ca7765e\":{\"roots\":{\"references\":[{\"attributes\":{\"below\":[{\"id\":\"2655\",\"type\":\"CategoricalAxis\"}],\"center\":[{\"id\":\"2658\",\"type\":\"Grid\"},{\"id\":\"2663\",\"type\":\"Grid\"}],\"left\":[{\"id\":\"2659\",\"type\":\"LinearAxis\"}],\"plot_height\":350,\"renderers\":[{\"id\":\"2680\",\"type\":\"GlyphRenderer\"}],\"title\":{\"id\":\"2645\",\"type\":\"Title\"},\"toolbar\":{\"id\":\"2670\",\"type\":\"Toolbar\"},\"x_range\":{\"id\":\"2647\",\"type\":\"FactorRange\"},\"x_scale\":{\"id\":\"2651\",\"type\":\"CategoricalScale\"},\"y_range\":{\"id\":\"2649\",\"type\":\"DataRange1d\"},\"y_scale\":{\"id\":\"2653\",\"type\":\"LinearScale\"}},\"id\":\"2644\",\"subtype\":\"Figure\",\"type\":\"Plot\"},{\"attributes\":{},\"id\":\"2668\",\"type\":\"ResetTool\"},{\"attributes\":{\"ticker\":{\"id\":\"2656\",\"type\":\"CategoricalTicker\"}},\"id\":\"2658\",\"type\":\"Grid\"},{\"attributes\":{\"axis_label\":\"total_bill\",\"formatter\":{\"id\":\"2786\",\"type\":\"BasicTickFormatter\"},\"ticker\":{\"id\":\"2660\",\"type\":\"BasicTicker\"}},\"id\":\"2659\",\"type\":\"LinearAxis\"},{\"attributes\":{},\"id\":\"2669\",\"type\":\"SaveTool\"},{\"attributes\":{},\"id\":\"2664\",\"type\":\"PanTool\"},{\"attributes\":{\"active_drag\":\"auto\",\"active_inspect\":\"auto\",\"active_multi\":null,\"active_scroll\":\"auto\",\"active_tap\":\"auto\",\"tools\":[{\"id\":\"2664\",\"type\":\"PanTool\"},{\"id\":\"2665\",\"type\":\"BoxSelectTool\"},{\"id\":\"2666\",\"type\":\"WheelZoomTool\"},{\"id\":\"2667\",\"type\":\"BoxZoomTool\"},{\"id\":\"2668\",\"type\":\"ResetTool\"},{\"id\":\"2669\",\"type\":\"SaveTool\"},{\"id\":\"2682\",\"type\":\"HoverTool\"}]},\"id\":\"2670\",\"type\":\"Toolbar\"},{\"attributes\":{\"data_source\":{\"id\":\"2643\",\"type\":\"ColumnDataSource\"},\"glyph\":{\"id\":\"2678\",\"type\":\"VBar\"},\"hover_glyph\":null,\"muted_glyph\":null,\"nonselection_glyph\":{\"id\":\"2679\",\"type\":\"VBar\"},\"selection_glyph\":null,\"view\":{\"id\":\"2681\",\"type\":\"CDSView\"}},\"id\":\"2680\",\"type\":\"GlyphRenderer\"},{\"attributes\":{},\"id\":\"2656\",\"type\":\"CategoricalTicker\"},{\"attributes\":{\"callback\":null,\"overlay\":{\"id\":\"2792\",\"type\":\"BoxAnnotation\"}},\"id\":\"2665\",\"type\":\"BoxSelectTool\"},{\"attributes\":{\"source\":{\"id\":\"2643\",\"type\":\"ColumnDataSource\"}},\"id\":\"2681\",\"type\":\"CDSView\"},{\"attributes\":{\"callback\":null,\"factors\":[\"Yes\",\"No\"]},\"id\":\"2647\",\"type\":\"FactorRange\"},{\"attributes\":{},\"id\":\"2660\",\"type\":\"BasicTicker\"},{\"attributes\":{\"callback\":null,\"tooltips\":[[\"smoker\",\"@smoker\"],[\"total_bill\",\"@total_bill\"]]},\"id\":\"2682\",\"type\":\"HoverTool\"},{\"attributes\":{\"fill_alpha\":{\"value\":0.1},\"fill_color\":{\"value\":\"#1f77b4\"},\"line_alpha\":{\"value\":0.1},\"line_color\":{\"value\":\"#1f77b4\"},\"top\":{\"field\":\"total_bill\"},\"width\":{\"value\":0.7},\"x\":{\"field\":\"smoker\"}},\"id\":\"2679\",\"type\":\"VBar\"},{\"attributes\":{},\"id\":\"2788\",\"type\":\"CategoricalTickFormatter\"},{\"attributes\":{\"overlay\":{\"id\":\"2793\",\"type\":\"BoxAnnotation\"}},\"id\":\"2667\",\"type\":\"BoxZoomTool\"},{\"attributes\":{},\"id\":\"2790\",\"type\":\"Selection\"},{\"attributes\":{},\"id\":\"2791\",\"type\":\"UnionRenderers\"},{\"attributes\":{\"bottom_units\":\"screen\",\"fill_alpha\":{\"value\":0.5},\"fill_color\":{\"value\":\"lightgrey\"},\"left_units\":\"screen\",\"level\":\"overlay\",\"line_alpha\":{\"value\":1.0},\"line_color\":{\"value\":\"black\"},\"line_dash\":[4,4],\"line_width\":{\"value\":2},\"render_mode\":\"css\",\"right_units\":\"screen\",\"top_units\":\"screen\"},\"id\":\"2792\",\"type\":\"BoxAnnotation\"},{\"attributes\":{\"callback\":null,\"data\":{\"fill_color\":[\"rgb(49, 115, 161)\",\"rgb(224, 128, 44)\"],\"index\":[0,1],\"line_color\":[\"rgb(49, 115, 161)\",\"rgb(224, 128, 44)\"],\"smoker\":[\"Yes\",\"No\"],\"total_bill\":{\"__ndarray__\":\"QvwZxJ/BNEAnUB7/MjAzQA==\",\"dtype\":\"float64\",\"shape\":[2]}},\"selected\":{\"id\":\"2790\",\"type\":\"Selection\"},\"selection_policy\":{\"id\":\"2791\",\"type\":\"UnionRenderers\"}},\"id\":\"2643\",\"type\":\"ColumnDataSource\"},{\"attributes\":{\"bottom_units\":\"screen\",\"fill_alpha\":{\"value\":0.5},\"fill_color\":{\"value\":\"lightgrey\"},\"left_units\":\"screen\",\"level\":\"overlay\",\"line_alpha\":{\"value\":1.0},\"line_color\":{\"value\":\"black\"},\"line_dash\":[4,4],\"line_width\":{\"value\":2},\"render_mode\":\"css\",\"right_units\":\"screen\",\"top_units\":\"screen\"},\"id\":\"2793\",\"type\":\"BoxAnnotation\"},{\"attributes\":{},\"id\":\"2786\",\"type\":\"BasicTickFormatter\"},{\"attributes\":{},\"id\":\"2653\",\"type\":\"LinearScale\"},{\"attributes\":{\"callback\":null},\"id\":\"2649\",\"type\":\"DataRange1d\"},{\"attributes\":{\"dimension\":1,\"ticker\":{\"id\":\"2660\",\"type\":\"BasicTicker\"}},\"id\":\"2663\",\"type\":\"Grid\"},{\"attributes\":{\"axis_label\":\"smoker\",\"formatter\":{\"id\":\"2788\",\"type\":\"CategoricalTickFormatter\"},\"ticker\":{\"id\":\"2656\",\"type\":\"CategoricalTicker\"}},\"id\":\"2655\",\"type\":\"CategoricalAxis\"},{\"attributes\":{\"text\":\"\"},\"id\":\"2645\",\"type\":\"Title\"},{\"attributes\":{},\"id\":\"2651\",\"type\":\"CategoricalScale\"},{\"attributes\":{},\"id\":\"2666\",\"type\":\"WheelZoomTool\"},{\"attributes\":{\"fill_alpha\":{\"value\":0.5},\"fill_color\":{\"field\":\"fill_color\"},\"line_color\":{\"field\":\"line_color\"},\"top\":{\"field\":\"total_bill\"},\"width\":{\"value\":0.7},\"x\":{\"field\":\"smoker\"}},\"id\":\"2678\",\"type\":\"VBar\"}],\"root_ids\":[\"2644\"]},\"title\":\"Bokeh Application\",\"version\":\"1.4.0\"}};\n",
       "  var render_items = [{\"docid\":\"367d1026-ee6b-4e43-ba16-044e0ca7765e\",\"roots\":{\"2644\":\"17a80dff-0239-4f40-bf4e-ef6a1c5efc22\"}}];\n",
       "  root.Bokeh.embed.embed_items_notebook(docs_json, render_items);\n",
       "\n",
       "  }\n",
       "  if (root.Bokeh !== undefined) {\n",
       "    embed_document(root);\n",
       "  } else {\n",
       "    var attempts = 0;\n",
       "    var timer = setInterval(function(root) {\n",
       "      if (root.Bokeh !== undefined) {\n",
       "        clearInterval(timer);\n",
       "        embed_document(root);\n",
       "      } else {\n",
       "        attempts++;\n",
       "        if (attempts > 100) {\n",
       "          clearInterval(timer);\n",
       "          console.log(\"Bokeh: ERROR: Unable to run BokehJS code because BokehJS library is missing\");\n",
       "        }\n",
       "      }\n",
       "    }, 10, root)\n",
       "  }\n",
       "})(window);"
      ],
      "application/vnd.bokehjs_exec.v0+json": ""
     },
     "metadata": {
      "application/vnd.bokehjs_exec.v0+json": {
       "id": "2644"
      }
     },
     "output_type": "display_data"
    }
   ],
   "source": [
    "bb.barplot(x=\"smoker\", y=\"total_bill\", data=tips, alpha=1)"
   ]
  },
  {
   "cell_type": "code",
   "execution_count": null,
   "metadata": {},
   "outputs": [],
   "source": []
  }
 ],
 "metadata": {
  "kernelspec": {
   "display_name": "Python 3",
   "language": "python",
   "name": "python3"
  },
  "language_info": {
   "codemirror_mode": {
    "name": "ipython",
    "version": 3
   },
   "file_extension": ".py",
   "mimetype": "text/x-python",
   "name": "python",
   "nbconvert_exporter": "python",
   "pygments_lexer": "ipython3",
   "version": "3.6.9"
  }
 },
 "nbformat": 4,
 "nbformat_minor": 2
}
