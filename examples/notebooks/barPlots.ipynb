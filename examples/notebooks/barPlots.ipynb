{
 "cells": [
  {
   "cell_type": "markdown",
   "metadata": {},
   "source": [
    "### 1.0 Import bokehBorn"
   ]
  },
  {
   "cell_type": "code",
   "execution_count": 1,
   "metadata": {},
   "outputs": [],
   "source": [
    "import seaborn as sns\n",
    "from bokehBorn.categorical import barplot\n",
    "from bokeh.io import output_notebook\n",
    "\n",
    "tips = sns.load_dataset(\"tips\")"
   ]
  },
  {
   "cell_type": "code",
   "execution_count": 2,
   "metadata": {},
   "outputs": [
    {
     "data": {
      "text/html": [
       "\n",
       "    <div class=\"bk-root\">\n",
       "        <a href=\"https://bokeh.org\" target=\"_blank\" class=\"bk-logo bk-logo-small bk-logo-notebook\"></a>\n",
       "        <span id=\"1001\">Loading BokehJS ...</span>\n",
       "    </div>"
      ]
     },
     "metadata": {},
     "output_type": "display_data"
    },
    {
     "data": {
      "application/javascript": [
       "\n",
       "(function(root) {\n",
       "  function now() {\n",
       "    return new Date();\n",
       "  }\n",
       "\n",
       "  var force = true;\n",
       "\n",
       "  if (typeof root._bokeh_onload_callbacks === \"undefined\" || force === true) {\n",
       "    root._bokeh_onload_callbacks = [];\n",
       "    root._bokeh_is_loading = undefined;\n",
       "  }\n",
       "\n",
       "  var JS_MIME_TYPE = 'application/javascript';\n",
       "  var HTML_MIME_TYPE = 'text/html';\n",
       "  var EXEC_MIME_TYPE = 'application/vnd.bokehjs_exec.v0+json';\n",
       "  var CLASS_NAME = 'output_bokeh rendered_html';\n",
       "\n",
       "  /**\n",
       "   * Render data to the DOM node\n",
       "   */\n",
       "  function render(props, node) {\n",
       "    var script = document.createElement(\"script\");\n",
       "    node.appendChild(script);\n",
       "  }\n",
       "\n",
       "  /**\n",
       "   * Handle when an output is cleared or removed\n",
       "   */\n",
       "  function handleClearOutput(event, handle) {\n",
       "    var cell = handle.cell;\n",
       "\n",
       "    var id = cell.output_area._bokeh_element_id;\n",
       "    var server_id = cell.output_area._bokeh_server_id;\n",
       "    // Clean up Bokeh references\n",
       "    if (id != null && id in Bokeh.index) {\n",
       "      Bokeh.index[id].model.document.clear();\n",
       "      delete Bokeh.index[id];\n",
       "    }\n",
       "\n",
       "    if (server_id !== undefined) {\n",
       "      // Clean up Bokeh references\n",
       "      var cmd = \"from bokeh.io.state import curstate; print(curstate().uuid_to_server['\" + server_id + \"'].get_sessions()[0].document.roots[0]._id)\";\n",
       "      cell.notebook.kernel.execute(cmd, {\n",
       "        iopub: {\n",
       "          output: function(msg) {\n",
       "            var id = msg.content.text.trim();\n",
       "            if (id in Bokeh.index) {\n",
       "              Bokeh.index[id].model.document.clear();\n",
       "              delete Bokeh.index[id];\n",
       "            }\n",
       "          }\n",
       "        }\n",
       "      });\n",
       "      // Destroy server and session\n",
       "      var cmd = \"import bokeh.io.notebook as ion; ion.destroy_server('\" + server_id + \"')\";\n",
       "      cell.notebook.kernel.execute(cmd);\n",
       "    }\n",
       "  }\n",
       "\n",
       "  /**\n",
       "   * Handle when a new output is added\n",
       "   */\n",
       "  function handleAddOutput(event, handle) {\n",
       "    var output_area = handle.output_area;\n",
       "    var output = handle.output;\n",
       "\n",
       "    // limit handleAddOutput to display_data with EXEC_MIME_TYPE content only\n",
       "    if ((output.output_type != \"display_data\") || (!output.data.hasOwnProperty(EXEC_MIME_TYPE))) {\n",
       "      return\n",
       "    }\n",
       "\n",
       "    var toinsert = output_area.element.find(\".\" + CLASS_NAME.split(' ')[0]);\n",
       "\n",
       "    if (output.metadata[EXEC_MIME_TYPE][\"id\"] !== undefined) {\n",
       "      toinsert[toinsert.length - 1].firstChild.textContent = output.data[JS_MIME_TYPE];\n",
       "      // store reference to embed id on output_area\n",
       "      output_area._bokeh_element_id = output.metadata[EXEC_MIME_TYPE][\"id\"];\n",
       "    }\n",
       "    if (output.metadata[EXEC_MIME_TYPE][\"server_id\"] !== undefined) {\n",
       "      var bk_div = document.createElement(\"div\");\n",
       "      bk_div.innerHTML = output.data[HTML_MIME_TYPE];\n",
       "      var script_attrs = bk_div.children[0].attributes;\n",
       "      for (var i = 0; i < script_attrs.length; i++) {\n",
       "        toinsert[toinsert.length - 1].firstChild.setAttribute(script_attrs[i].name, script_attrs[i].value);\n",
       "      }\n",
       "      // store reference to server id on output_area\n",
       "      output_area._bokeh_server_id = output.metadata[EXEC_MIME_TYPE][\"server_id\"];\n",
       "    }\n",
       "  }\n",
       "\n",
       "  function register_renderer(events, OutputArea) {\n",
       "\n",
       "    function append_mime(data, metadata, element) {\n",
       "      // create a DOM node to render to\n",
       "      var toinsert = this.create_output_subarea(\n",
       "        metadata,\n",
       "        CLASS_NAME,\n",
       "        EXEC_MIME_TYPE\n",
       "      );\n",
       "      this.keyboard_manager.register_events(toinsert);\n",
       "      // Render to node\n",
       "      var props = {data: data, metadata: metadata[EXEC_MIME_TYPE]};\n",
       "      render(props, toinsert[toinsert.length - 1]);\n",
       "      element.append(toinsert);\n",
       "      return toinsert\n",
       "    }\n",
       "\n",
       "    /* Handle when an output is cleared or removed */\n",
       "    events.on('clear_output.CodeCell', handleClearOutput);\n",
       "    events.on('delete.Cell', handleClearOutput);\n",
       "\n",
       "    /* Handle when a new output is added */\n",
       "    events.on('output_added.OutputArea', handleAddOutput);\n",
       "\n",
       "    /**\n",
       "     * Register the mime type and append_mime function with output_area\n",
       "     */\n",
       "    OutputArea.prototype.register_mime_type(EXEC_MIME_TYPE, append_mime, {\n",
       "      /* Is output safe? */\n",
       "      safe: true,\n",
       "      /* Index of renderer in `output_area.display_order` */\n",
       "      index: 0\n",
       "    });\n",
       "  }\n",
       "\n",
       "  // register the mime type if in Jupyter Notebook environment and previously unregistered\n",
       "  if (root.Jupyter !== undefined) {\n",
       "    var events = require('base/js/events');\n",
       "    var OutputArea = require('notebook/js/outputarea').OutputArea;\n",
       "\n",
       "    if (OutputArea.prototype.mime_types().indexOf(EXEC_MIME_TYPE) == -1) {\n",
       "      register_renderer(events, OutputArea);\n",
       "    }\n",
       "  }\n",
       "\n",
       "  \n",
       "  if (typeof (root._bokeh_timeout) === \"undefined\" || force === true) {\n",
       "    root._bokeh_timeout = Date.now() + 5000;\n",
       "    root._bokeh_failed_load = false;\n",
       "  }\n",
       "\n",
       "  var NB_LOAD_WARNING = {'data': {'text/html':\n",
       "     \"<div style='background-color: #fdd'>\\n\"+\n",
       "     \"<p>\\n\"+\n",
       "     \"BokehJS does not appear to have successfully loaded. If loading BokehJS from CDN, this \\n\"+\n",
       "     \"may be due to a slow or bad network connection. Possible fixes:\\n\"+\n",
       "     \"</p>\\n\"+\n",
       "     \"<ul>\\n\"+\n",
       "     \"<li>re-rerun `output_notebook()` to attempt to load from CDN again, or</li>\\n\"+\n",
       "     \"<li>use INLINE resources instead, as so:</li>\\n\"+\n",
       "     \"</ul>\\n\"+\n",
       "     \"<code>\\n\"+\n",
       "     \"from bokeh.resources import INLINE\\n\"+\n",
       "     \"output_notebook(resources=INLINE)\\n\"+\n",
       "     \"</code>\\n\"+\n",
       "     \"</div>\"}};\n",
       "\n",
       "  function display_loaded() {\n",
       "    var el = document.getElementById(\"1001\");\n",
       "    if (el != null) {\n",
       "      el.textContent = \"BokehJS is loading...\";\n",
       "    }\n",
       "    if (root.Bokeh !== undefined) {\n",
       "      if (el != null) {\n",
       "        el.textContent = \"BokehJS \" + root.Bokeh.version + \" successfully loaded.\";\n",
       "      }\n",
       "    } else if (Date.now() < root._bokeh_timeout) {\n",
       "      setTimeout(display_loaded, 100)\n",
       "    }\n",
       "  }\n",
       "\n",
       "\n",
       "  function run_callbacks() {\n",
       "    try {\n",
       "      root._bokeh_onload_callbacks.forEach(function(callback) {\n",
       "        if (callback != null)\n",
       "          callback();\n",
       "      });\n",
       "    } finally {\n",
       "      delete root._bokeh_onload_callbacks\n",
       "    }\n",
       "    console.debug(\"Bokeh: all callbacks have finished\");\n",
       "  }\n",
       "\n",
       "  function load_libs(css_urls, js_urls, callback) {\n",
       "    if (css_urls == null) css_urls = [];\n",
       "    if (js_urls == null) js_urls = [];\n",
       "\n",
       "    root._bokeh_onload_callbacks.push(callback);\n",
       "    if (root._bokeh_is_loading > 0) {\n",
       "      console.debug(\"Bokeh: BokehJS is being loaded, scheduling callback at\", now());\n",
       "      return null;\n",
       "    }\n",
       "    if (js_urls == null || js_urls.length === 0) {\n",
       "      run_callbacks();\n",
       "      return null;\n",
       "    }\n",
       "    console.debug(\"Bokeh: BokehJS not loaded, scheduling load and callback at\", now());\n",
       "    root._bokeh_is_loading = css_urls.length + js_urls.length;\n",
       "\n",
       "    function on_load() {\n",
       "      root._bokeh_is_loading--;\n",
       "      if (root._bokeh_is_loading === 0) {\n",
       "        console.debug(\"Bokeh: all BokehJS libraries/stylesheets loaded\");\n",
       "        run_callbacks()\n",
       "      }\n",
       "    }\n",
       "\n",
       "    function on_error() {\n",
       "      console.error(\"failed to load \" + url);\n",
       "    }\n",
       "\n",
       "    for (var i = 0; i < css_urls.length; i++) {\n",
       "      var url = css_urls[i];\n",
       "      const element = document.createElement(\"link\");\n",
       "      element.onload = on_load;\n",
       "      element.onerror = on_error;\n",
       "      element.rel = \"stylesheet\";\n",
       "      element.type = \"text/css\";\n",
       "      element.href = url;\n",
       "      console.debug(\"Bokeh: injecting link tag for BokehJS stylesheet: \", url);\n",
       "      document.body.appendChild(element);\n",
       "    }\n",
       "\n",
       "    for (var i = 0; i < js_urls.length; i++) {\n",
       "      var url = js_urls[i];\n",
       "      var element = document.createElement('script');\n",
       "      element.onload = on_load;\n",
       "      element.onerror = on_error;\n",
       "      element.async = false;\n",
       "      element.src = url;\n",
       "      console.debug(\"Bokeh: injecting script tag for BokehJS library: \", url);\n",
       "      document.head.appendChild(element);\n",
       "    }\n",
       "  };var element = document.getElementById(\"1001\");\n",
       "  if (element == null) {\n",
       "    console.error(\"Bokeh: ERROR: autoload.js configured with elementid '1001' but no matching script tag was found. \")\n",
       "    return false;\n",
       "  }\n",
       "\n",
       "  function inject_raw_css(css) {\n",
       "    const element = document.createElement(\"style\");\n",
       "    element.appendChild(document.createTextNode(css));\n",
       "    document.body.appendChild(element);\n",
       "  }\n",
       "\n",
       "  \n",
       "  var js_urls = [\"https://cdn.pydata.org/bokeh/release/bokeh-1.4.0.min.js\", \"https://cdn.pydata.org/bokeh/release/bokeh-widgets-1.4.0.min.js\", \"https://cdn.pydata.org/bokeh/release/bokeh-tables-1.4.0.min.js\", \"https://cdn.pydata.org/bokeh/release/bokeh-gl-1.4.0.min.js\"];\n",
       "  var css_urls = [];\n",
       "  \n",
       "\n",
       "  var inline_js = [\n",
       "    function(Bokeh) {\n",
       "      Bokeh.set_log_level(\"info\");\n",
       "    },\n",
       "    function(Bokeh) {\n",
       "    \n",
       "    \n",
       "    }\n",
       "  ];\n",
       "\n",
       "  function run_inline_js() {\n",
       "    \n",
       "    if (root.Bokeh !== undefined || force === true) {\n",
       "      \n",
       "    for (var i = 0; i < inline_js.length; i++) {\n",
       "      inline_js[i].call(root, root.Bokeh);\n",
       "    }\n",
       "    if (force === true) {\n",
       "        display_loaded();\n",
       "      }} else if (Date.now() < root._bokeh_timeout) {\n",
       "      setTimeout(run_inline_js, 100);\n",
       "    } else if (!root._bokeh_failed_load) {\n",
       "      console.log(\"Bokeh: BokehJS failed to load within specified timeout.\");\n",
       "      root._bokeh_failed_load = true;\n",
       "    } else if (force !== true) {\n",
       "      var cell = $(document.getElementById(\"1001\")).parents('.cell').data().cell;\n",
       "      cell.output_area.append_execute_result(NB_LOAD_WARNING)\n",
       "    }\n",
       "\n",
       "  }\n",
       "\n",
       "  if (root._bokeh_is_loading === 0) {\n",
       "    console.debug(\"Bokeh: BokehJS loaded, going straight to plotting\");\n",
       "    run_inline_js();\n",
       "  } else {\n",
       "    load_libs(css_urls, js_urls, function() {\n",
       "      console.debug(\"Bokeh: BokehJS plotting callback run at\", now());\n",
       "      run_inline_js();\n",
       "    });\n",
       "  }\n",
       "}(window));"
      ],
      "application/vnd.bokehjs_load.v0+json": "\n(function(root) {\n  function now() {\n    return new Date();\n  }\n\n  var force = true;\n\n  if (typeof root._bokeh_onload_callbacks === \"undefined\" || force === true) {\n    root._bokeh_onload_callbacks = [];\n    root._bokeh_is_loading = undefined;\n  }\n\n  \n\n  \n  if (typeof (root._bokeh_timeout) === \"undefined\" || force === true) {\n    root._bokeh_timeout = Date.now() + 5000;\n    root._bokeh_failed_load = false;\n  }\n\n  var NB_LOAD_WARNING = {'data': {'text/html':\n     \"<div style='background-color: #fdd'>\\n\"+\n     \"<p>\\n\"+\n     \"BokehJS does not appear to have successfully loaded. If loading BokehJS from CDN, this \\n\"+\n     \"may be due to a slow or bad network connection. Possible fixes:\\n\"+\n     \"</p>\\n\"+\n     \"<ul>\\n\"+\n     \"<li>re-rerun `output_notebook()` to attempt to load from CDN again, or</li>\\n\"+\n     \"<li>use INLINE resources instead, as so:</li>\\n\"+\n     \"</ul>\\n\"+\n     \"<code>\\n\"+\n     \"from bokeh.resources import INLINE\\n\"+\n     \"output_notebook(resources=INLINE)\\n\"+\n     \"</code>\\n\"+\n     \"</div>\"}};\n\n  function display_loaded() {\n    var el = document.getElementById(\"1001\");\n    if (el != null) {\n      el.textContent = \"BokehJS is loading...\";\n    }\n    if (root.Bokeh !== undefined) {\n      if (el != null) {\n        el.textContent = \"BokehJS \" + root.Bokeh.version + \" successfully loaded.\";\n      }\n    } else if (Date.now() < root._bokeh_timeout) {\n      setTimeout(display_loaded, 100)\n    }\n  }\n\n\n  function run_callbacks() {\n    try {\n      root._bokeh_onload_callbacks.forEach(function(callback) {\n        if (callback != null)\n          callback();\n      });\n    } finally {\n      delete root._bokeh_onload_callbacks\n    }\n    console.debug(\"Bokeh: all callbacks have finished\");\n  }\n\n  function load_libs(css_urls, js_urls, callback) {\n    if (css_urls == null) css_urls = [];\n    if (js_urls == null) js_urls = [];\n\n    root._bokeh_onload_callbacks.push(callback);\n    if (root._bokeh_is_loading > 0) {\n      console.debug(\"Bokeh: BokehJS is being loaded, scheduling callback at\", now());\n      return null;\n    }\n    if (js_urls == null || js_urls.length === 0) {\n      run_callbacks();\n      return null;\n    }\n    console.debug(\"Bokeh: BokehJS not loaded, scheduling load and callback at\", now());\n    root._bokeh_is_loading = css_urls.length + js_urls.length;\n\n    function on_load() {\n      root._bokeh_is_loading--;\n      if (root._bokeh_is_loading === 0) {\n        console.debug(\"Bokeh: all BokehJS libraries/stylesheets loaded\");\n        run_callbacks()\n      }\n    }\n\n    function on_error() {\n      console.error(\"failed to load \" + url);\n    }\n\n    for (var i = 0; i < css_urls.length; i++) {\n      var url = css_urls[i];\n      const element = document.createElement(\"link\");\n      element.onload = on_load;\n      element.onerror = on_error;\n      element.rel = \"stylesheet\";\n      element.type = \"text/css\";\n      element.href = url;\n      console.debug(\"Bokeh: injecting link tag for BokehJS stylesheet: \", url);\n      document.body.appendChild(element);\n    }\n\n    for (var i = 0; i < js_urls.length; i++) {\n      var url = js_urls[i];\n      var element = document.createElement('script');\n      element.onload = on_load;\n      element.onerror = on_error;\n      element.async = false;\n      element.src = url;\n      console.debug(\"Bokeh: injecting script tag for BokehJS library: \", url);\n      document.head.appendChild(element);\n    }\n  };var element = document.getElementById(\"1001\");\n  if (element == null) {\n    console.error(\"Bokeh: ERROR: autoload.js configured with elementid '1001' but no matching script tag was found. \")\n    return false;\n  }\n\n  function inject_raw_css(css) {\n    const element = document.createElement(\"style\");\n    element.appendChild(document.createTextNode(css));\n    document.body.appendChild(element);\n  }\n\n  \n  var js_urls = [\"https://cdn.pydata.org/bokeh/release/bokeh-1.4.0.min.js\", \"https://cdn.pydata.org/bokeh/release/bokeh-widgets-1.4.0.min.js\", \"https://cdn.pydata.org/bokeh/release/bokeh-tables-1.4.0.min.js\", \"https://cdn.pydata.org/bokeh/release/bokeh-gl-1.4.0.min.js\"];\n  var css_urls = [];\n  \n\n  var inline_js = [\n    function(Bokeh) {\n      Bokeh.set_log_level(\"info\");\n    },\n    function(Bokeh) {\n    \n    \n    }\n  ];\n\n  function run_inline_js() {\n    \n    if (root.Bokeh !== undefined || force === true) {\n      \n    for (var i = 0; i < inline_js.length; i++) {\n      inline_js[i].call(root, root.Bokeh);\n    }\n    if (force === true) {\n        display_loaded();\n      }} else if (Date.now() < root._bokeh_timeout) {\n      setTimeout(run_inline_js, 100);\n    } else if (!root._bokeh_failed_load) {\n      console.log(\"Bokeh: BokehJS failed to load within specified timeout.\");\n      root._bokeh_failed_load = true;\n    } else if (force !== true) {\n      var cell = $(document.getElementById(\"1001\")).parents('.cell').data().cell;\n      cell.output_area.append_execute_result(NB_LOAD_WARNING)\n    }\n\n  }\n\n  if (root._bokeh_is_loading === 0) {\n    console.debug(\"Bokeh: BokehJS loaded, going straight to plotting\");\n    run_inline_js();\n  } else {\n    load_libs(css_urls, js_urls, function() {\n      console.debug(\"Bokeh: BokehJS plotting callback run at\", now());\n      run_inline_js();\n    });\n  }\n}(window));"
     },
     "metadata": {},
     "output_type": "display_data"
    }
   ],
   "source": [
    "output_notebook()"
   ]
  },
  {
   "cell_type": "markdown",
   "metadata": {},
   "source": [
    "### 2.0 Load Dataset"
   ]
  },
  {
   "cell_type": "code",
   "execution_count": 3,
   "metadata": {},
   "outputs": [
    {
     "data": {
      "text/html": [
       "<div>\n",
       "<style scoped>\n",
       "    .dataframe tbody tr th:only-of-type {\n",
       "        vertical-align: middle;\n",
       "    }\n",
       "\n",
       "    .dataframe tbody tr th {\n",
       "        vertical-align: top;\n",
       "    }\n",
       "\n",
       "    .dataframe thead th {\n",
       "        text-align: right;\n",
       "    }\n",
       "</style>\n",
       "<table border=\"1\" class=\"dataframe\">\n",
       "  <thead>\n",
       "    <tr style=\"text-align: right;\">\n",
       "      <th></th>\n",
       "      <th>total_bill</th>\n",
       "      <th>tip</th>\n",
       "      <th>sex</th>\n",
       "      <th>smoker</th>\n",
       "      <th>day</th>\n",
       "      <th>time</th>\n",
       "      <th>size</th>\n",
       "    </tr>\n",
       "  </thead>\n",
       "  <tbody>\n",
       "    <tr>\n",
       "      <th>0</th>\n",
       "      <td>16.99</td>\n",
       "      <td>1.01</td>\n",
       "      <td>Female</td>\n",
       "      <td>No</td>\n",
       "      <td>Sun</td>\n",
       "      <td>Dinner</td>\n",
       "      <td>2</td>\n",
       "    </tr>\n",
       "    <tr>\n",
       "      <th>1</th>\n",
       "      <td>10.34</td>\n",
       "      <td>1.66</td>\n",
       "      <td>Male</td>\n",
       "      <td>No</td>\n",
       "      <td>Sun</td>\n",
       "      <td>Dinner</td>\n",
       "      <td>3</td>\n",
       "    </tr>\n",
       "    <tr>\n",
       "      <th>2</th>\n",
       "      <td>21.01</td>\n",
       "      <td>3.50</td>\n",
       "      <td>Male</td>\n",
       "      <td>No</td>\n",
       "      <td>Sun</td>\n",
       "      <td>Dinner</td>\n",
       "      <td>3</td>\n",
       "    </tr>\n",
       "    <tr>\n",
       "      <th>3</th>\n",
       "      <td>23.68</td>\n",
       "      <td>3.31</td>\n",
       "      <td>Male</td>\n",
       "      <td>No</td>\n",
       "      <td>Sun</td>\n",
       "      <td>Dinner</td>\n",
       "      <td>2</td>\n",
       "    </tr>\n",
       "    <tr>\n",
       "      <th>4</th>\n",
       "      <td>24.59</td>\n",
       "      <td>3.61</td>\n",
       "      <td>Female</td>\n",
       "      <td>No</td>\n",
       "      <td>Sun</td>\n",
       "      <td>Dinner</td>\n",
       "      <td>4</td>\n",
       "    </tr>\n",
       "  </tbody>\n",
       "</table>\n",
       "</div>"
      ],
      "text/plain": [
       "   total_bill   tip     sex smoker  day    time  size\n",
       "0       16.99  1.01  Female     No  Sun  Dinner     2\n",
       "1       10.34  1.66    Male     No  Sun  Dinner     3\n",
       "2       21.01  3.50    Male     No  Sun  Dinner     3\n",
       "3       23.68  3.31    Male     No  Sun  Dinner     2\n",
       "4       24.59  3.61  Female     No  Sun  Dinner     4"
      ]
     },
     "execution_count": 3,
     "metadata": {},
     "output_type": "execute_result"
    }
   ],
   "source": [
    "tips = sns.load_dataset(\"tips\")\n",
    "tips.head()"
   ]
  },
  {
   "cell_type": "markdown",
   "metadata": {},
   "source": [
    "### 3.0 bokeBorn Bar Plot Examples"
   ]
  },
  {
   "cell_type": "markdown",
   "metadata": {},
   "source": [
    "#### 3.1 Draw Vertical Bar\n",
    "Draw a set of vertical bar plots grouped by a categorical variable:"
   ]
  },
  {
   "cell_type": "code",
   "execution_count": 4,
   "metadata": {},
   "outputs": [
    {
     "data": {
      "text/html": [
       "\n",
       "\n",
       "\n",
       "\n",
       "\n",
       "\n",
       "  <div class=\"bk-root\" id=\"29347e0a-4777-4b33-81ba-f088ce7fff82\" data-root-id=\"1002\"></div>\n"
      ]
     },
     "metadata": {},
     "output_type": "display_data"
    },
    {
     "data": {
      "application/javascript": [
       "(function(root) {\n",
       "  function embed_document(root) {\n",
       "    \n",
       "  var docs_json = {\"3937fc9c-84cc-46ee-97ac-a821e6d1b69b\":{\"roots\":{\"references\":[{\"attributes\":{\"below\":[{\"id\":\"1013\",\"type\":\"CategoricalAxis\"}],\"center\":[{\"id\":\"1016\",\"type\":\"Grid\"},{\"id\":\"1021\",\"type\":\"Grid\"}],\"left\":[{\"id\":\"1017\",\"type\":\"LinearAxis\"}],\"plot_height\":350,\"renderers\":[{\"id\":\"1038\",\"type\":\"GlyphRenderer\"}],\"title\":{\"id\":\"1003\",\"type\":\"Title\"},\"toolbar\":{\"id\":\"1028\",\"type\":\"Toolbar\"},\"x_range\":{\"id\":\"1005\",\"type\":\"FactorRange\"},\"x_scale\":{\"id\":\"1009\",\"type\":\"CategoricalScale\"},\"y_range\":{\"id\":\"1007\",\"type\":\"DataRange1d\"},\"y_scale\":{\"id\":\"1011\",\"type\":\"LinearScale\"}},\"id\":\"1002\",\"subtype\":\"Figure\",\"type\":\"Plot\"},{\"attributes\":{},\"id\":\"1027\",\"type\":\"HelpTool\"},{\"attributes\":{\"ticker\":{\"id\":\"1014\",\"type\":\"CategoricalTicker\"}},\"id\":\"1016\",\"type\":\"Grid\"},{\"attributes\":{\"active_drag\":\"auto\",\"active_inspect\":\"auto\",\"active_multi\":null,\"active_scroll\":\"auto\",\"active_tap\":\"auto\",\"tools\":[{\"id\":\"1022\",\"type\":\"PanTool\"},{\"id\":\"1023\",\"type\":\"WheelZoomTool\"},{\"id\":\"1024\",\"type\":\"BoxZoomTool\"},{\"id\":\"1025\",\"type\":\"SaveTool\"},{\"id\":\"1026\",\"type\":\"ResetTool\"},{\"id\":\"1027\",\"type\":\"HelpTool\"},{\"id\":\"1040\",\"type\":\"HoverTool\"}]},\"id\":\"1028\",\"type\":\"Toolbar\"},{\"attributes\":{\"axis_label\":\"total_bill\",\"formatter\":{\"id\":\"1044\",\"type\":\"BasicTickFormatter\"},\"ticker\":{\"id\":\"1018\",\"type\":\"BasicTicker\"}},\"id\":\"1017\",\"type\":\"LinearAxis\"},{\"attributes\":{},\"id\":\"1023\",\"type\":\"WheelZoomTool\"},{\"attributes\":{\"text\":\"\"},\"id\":\"1003\",\"type\":\"Title\"},{\"attributes\":{\"callback\":null,\"factors\":[\"Thur\",\"Fri\",\"Sat\",\"Sun\"]},\"id\":\"1005\",\"type\":\"FactorRange\"},{\"attributes\":{\"fill_alpha\":{\"value\":0.1},\"fill_color\":{\"value\":\"#1f77b4\"},\"line_alpha\":{\"value\":0.1},\"line_color\":{\"value\":\"#1f77b4\"},\"top\":{\"field\":\"top\"},\"width\":{\"value\":0.7},\"x\":{\"field\":\"x\"}},\"id\":\"1037\",\"type\":\"VBar\"},{\"attributes\":{\"data_source\":{\"id\":\"1035\",\"type\":\"ColumnDataSource\"},\"glyph\":{\"id\":\"1036\",\"type\":\"VBar\"},\"hover_glyph\":null,\"muted_glyph\":null,\"nonselection_glyph\":{\"id\":\"1037\",\"type\":\"VBar\"},\"selection_glyph\":null,\"view\":{\"id\":\"1039\",\"type\":\"CDSView\"}},\"id\":\"1038\",\"type\":\"GlyphRenderer\"},{\"attributes\":{},\"id\":\"1025\",\"type\":\"SaveTool\"},{\"attributes\":{},\"id\":\"1018\",\"type\":\"BasicTicker\"},{\"attributes\":{\"source\":{\"id\":\"1035\",\"type\":\"ColumnDataSource\"}},\"id\":\"1039\",\"type\":\"CDSView\"},{\"attributes\":{\"callback\":null,\"data\":{\"fill_color\":[\"rgb(49, 115, 161)\",\"rgb(224, 128, 44)\",\"rgb(58, 145, 58)\",\"rgb(192, 60, 61)\"],\"line_color\":[\"rgb(49, 115, 161)\",\"rgb(224, 128, 44)\",\"rgb(58, 145, 58)\",\"rgb(192, 60, 61)\"],\"top\":{\"__ndarray__\":\"zoLsLMiuMUCgtb3gzSYxQOMPBzz+cDRAKVyPwvVoNUA=\",\"dtype\":\"float64\",\"shape\":[4]},\"x\":[\"Thur\",\"Fri\",\"Sat\",\"Sun\"]},\"selected\":{\"id\":\"1048\",\"type\":\"Selection\"},\"selection_policy\":{\"id\":\"1047\",\"type\":\"UnionRenderers\"}},\"id\":\"1035\",\"type\":\"ColumnDataSource\"},{\"attributes\":{\"callback\":null},\"id\":\"1040\",\"type\":\"HoverTool\"},{\"attributes\":{},\"id\":\"1044\",\"type\":\"BasicTickFormatter\"},{\"attributes\":{},\"id\":\"1026\",\"type\":\"ResetTool\"},{\"attributes\":{\"overlay\":{\"id\":\"1049\",\"type\":\"BoxAnnotation\"}},\"id\":\"1024\",\"type\":\"BoxZoomTool\"},{\"attributes\":{},\"id\":\"1046\",\"type\":\"CategoricalTickFormatter\"},{\"attributes\":{},\"id\":\"1047\",\"type\":\"UnionRenderers\"},{\"attributes\":{},\"id\":\"1048\",\"type\":\"Selection\"},{\"attributes\":{\"callback\":null},\"id\":\"1007\",\"type\":\"DataRange1d\"},{\"attributes\":{},\"id\":\"1014\",\"type\":\"CategoricalTicker\"},{\"attributes\":{\"bottom_units\":\"screen\",\"fill_alpha\":{\"value\":0.5},\"fill_color\":{\"value\":\"lightgrey\"},\"left_units\":\"screen\",\"level\":\"overlay\",\"line_alpha\":{\"value\":1.0},\"line_color\":{\"value\":\"black\"},\"line_dash\":[4,4],\"line_width\":{\"value\":2},\"render_mode\":\"css\",\"right_units\":\"screen\",\"top_units\":\"screen\"},\"id\":\"1049\",\"type\":\"BoxAnnotation\"},{\"attributes\":{},\"id\":\"1022\",\"type\":\"PanTool\"},{\"attributes\":{},\"id\":\"1009\",\"type\":\"CategoricalScale\"},{\"attributes\":{},\"id\":\"1011\",\"type\":\"LinearScale\"},{\"attributes\":{\"dimension\":1,\"ticker\":{\"id\":\"1018\",\"type\":\"BasicTicker\"}},\"id\":\"1021\",\"type\":\"Grid\"},{\"attributes\":{\"fill_color\":{\"field\":\"fill_color\"},\"line_color\":{\"field\":\"line_color\"},\"top\":{\"field\":\"top\"},\"width\":{\"value\":0.7},\"x\":{\"field\":\"x\"}},\"id\":\"1036\",\"type\":\"VBar\"},{\"attributes\":{\"axis_label\":\"day\",\"formatter\":{\"id\":\"1046\",\"type\":\"CategoricalTickFormatter\"},\"ticker\":{\"id\":\"1014\",\"type\":\"CategoricalTicker\"}},\"id\":\"1013\",\"type\":\"CategoricalAxis\"}],\"root_ids\":[\"1002\"]},\"title\":\"Bokeh Application\",\"version\":\"1.4.0\"}};\n",
       "  var render_items = [{\"docid\":\"3937fc9c-84cc-46ee-97ac-a821e6d1b69b\",\"roots\":{\"1002\":\"29347e0a-4777-4b33-81ba-f088ce7fff82\"}}];\n",
       "  root.Bokeh.embed.embed_items_notebook(docs_json, render_items);\n",
       "\n",
       "  }\n",
       "  if (root.Bokeh !== undefined) {\n",
       "    embed_document(root);\n",
       "  } else {\n",
       "    var attempts = 0;\n",
       "    var timer = setInterval(function(root) {\n",
       "      if (root.Bokeh !== undefined) {\n",
       "        clearInterval(timer);\n",
       "        embed_document(root);\n",
       "      } else {\n",
       "        attempts++;\n",
       "        if (attempts > 100) {\n",
       "          clearInterval(timer);\n",
       "          console.log(\"Bokeh: ERROR: Unable to run BokehJS code because BokehJS library is missing\");\n",
       "        }\n",
       "      }\n",
       "    }, 10, root)\n",
       "  }\n",
       "})(window);"
      ],
      "application/vnd.bokehjs_exec.v0+json": ""
     },
     "metadata": {
      "application/vnd.bokehjs_exec.v0+json": {
       "id": "1002"
      }
     },
     "output_type": "display_data"
    }
   ],
   "source": [
    "barplot(x=\"day\", y=\"total_bill\", data=tips)"
   ]
  },
  {
   "cell_type": "markdown",
   "metadata": {},
   "source": [
    "#### 3.2 Draw Horizontal Bar\n",
    "Draw a set of horizontal bars automatically with change of axis"
   ]
  },
  {
   "cell_type": "code",
   "execution_count": 5,
   "metadata": {
    "scrolled": true
   },
   "outputs": [
    {
     "data": {
      "text/html": [
       "\n",
       "\n",
       "\n",
       "\n",
       "\n",
       "\n",
       "  <div class=\"bk-root\" id=\"42aadcfd-61b6-4fd9-b6bb-798036d002ee\" data-root-id=\"1098\"></div>\n"
      ]
     },
     "metadata": {},
     "output_type": "display_data"
    },
    {
     "data": {
      "application/javascript": [
       "(function(root) {\n",
       "  function embed_document(root) {\n",
       "    \n",
       "  var docs_json = {\"8044d20e-6729-4dc0-b92c-587d2d25b0eb\":{\"roots\":{\"references\":[{\"attributes\":{\"below\":[{\"id\":\"1109\",\"type\":\"LinearAxis\"}],\"center\":[{\"id\":\"1113\",\"type\":\"Grid\"},{\"id\":\"1117\",\"type\":\"Grid\"}],\"left\":[{\"id\":\"1114\",\"type\":\"CategoricalAxis\"}],\"plot_height\":350,\"renderers\":[{\"id\":\"1134\",\"type\":\"GlyphRenderer\"}],\"title\":{\"id\":\"1099\",\"type\":\"Title\"},\"toolbar\":{\"id\":\"1124\",\"type\":\"Toolbar\"},\"x_range\":{\"id\":\"1101\",\"type\":\"DataRange1d\"},\"x_scale\":{\"id\":\"1105\",\"type\":\"LinearScale\"},\"y_range\":{\"id\":\"1103\",\"type\":\"FactorRange\"},\"y_scale\":{\"id\":\"1107\",\"type\":\"CategoricalScale\"}},\"id\":\"1098\",\"subtype\":\"Figure\",\"type\":\"Plot\"},{\"attributes\":{\"callback\":null},\"id\":\"1101\",\"type\":\"DataRange1d\"},{\"attributes\":{},\"id\":\"1119\",\"type\":\"WheelZoomTool\"},{\"attributes\":{},\"id\":\"1118\",\"type\":\"PanTool\"},{\"attributes\":{\"data_source\":{\"id\":\"1131\",\"type\":\"ColumnDataSource\"},\"glyph\":{\"id\":\"1132\",\"type\":\"HBar\"},\"hover_glyph\":null,\"muted_glyph\":null,\"nonselection_glyph\":{\"id\":\"1133\",\"type\":\"HBar\"},\"selection_glyph\":null,\"view\":{\"id\":\"1135\",\"type\":\"CDSView\"}},\"id\":\"1134\",\"type\":\"GlyphRenderer\"},{\"attributes\":{},\"id\":\"1105\",\"type\":\"LinearScale\"},{\"attributes\":{},\"id\":\"1123\",\"type\":\"HelpTool\"},{\"attributes\":{\"fill_color\":{\"field\":\"fill_color\"},\"height\":{\"value\":0.7},\"line_color\":{\"field\":\"line_color\"},\"right\":{\"field\":\"right\"},\"y\":{\"field\":\"y\"}},\"id\":\"1132\",\"type\":\"HBar\"},{\"attributes\":{},\"id\":\"1121\",\"type\":\"SaveTool\"},{\"attributes\":{\"text\":\"\"},\"id\":\"1099\",\"type\":\"Title\"},{\"attributes\":{\"source\":{\"id\":\"1131\",\"type\":\"ColumnDataSource\"}},\"id\":\"1135\",\"type\":\"CDSView\"},{\"attributes\":{\"overlay\":{\"id\":\"1153\",\"type\":\"BoxAnnotation\"}},\"id\":\"1120\",\"type\":\"BoxZoomTool\"},{\"attributes\":{},\"id\":\"1107\",\"type\":\"CategoricalScale\"},{\"attributes\":{},\"id\":\"1122\",\"type\":\"ResetTool\"},{\"attributes\":{\"fill_alpha\":{\"value\":0.1},\"fill_color\":{\"value\":\"#1f77b4\"},\"height\":{\"value\":0.7},\"line_alpha\":{\"value\":0.1},\"line_color\":{\"value\":\"#1f77b4\"},\"right\":{\"field\":\"right\"},\"y\":{\"field\":\"y\"}},\"id\":\"1133\",\"type\":\"HBar\"},{\"attributes\":{\"callback\":null,\"factors\":[\"Thur\",\"Fri\",\"Sat\",\"Sun\"]},\"id\":\"1103\",\"type\":\"FactorRange\"},{\"attributes\":{\"ticker\":{\"id\":\"1110\",\"type\":\"BasicTicker\"}},\"id\":\"1113\",\"type\":\"Grid\"},{\"attributes\":{\"dimension\":1,\"ticker\":{\"id\":\"1115\",\"type\":\"CategoricalTicker\"}},\"id\":\"1117\",\"type\":\"Grid\"},{\"attributes\":{\"callback\":null},\"id\":\"1136\",\"type\":\"HoverTool\"},{\"attributes\":{\"axis_label\":\"day\",\"formatter\":{\"id\":\"1148\",\"type\":\"CategoricalTickFormatter\"},\"ticker\":{\"id\":\"1115\",\"type\":\"CategoricalTicker\"}},\"id\":\"1114\",\"type\":\"CategoricalAxis\"},{\"attributes\":{},\"id\":\"1148\",\"type\":\"CategoricalTickFormatter\"},{\"attributes\":{},\"id\":\"1115\",\"type\":\"CategoricalTicker\"},{\"attributes\":{},\"id\":\"1150\",\"type\":\"BasicTickFormatter\"},{\"attributes\":{},\"id\":\"1110\",\"type\":\"BasicTicker\"},{\"attributes\":{\"axis_label\":\"tip\",\"formatter\":{\"id\":\"1150\",\"type\":\"BasicTickFormatter\"},\"ticker\":{\"id\":\"1110\",\"type\":\"BasicTicker\"}},\"id\":\"1109\",\"type\":\"LinearAxis\"},{\"attributes\":{},\"id\":\"1151\",\"type\":\"UnionRenderers\"},{\"attributes\":{\"active_drag\":\"auto\",\"active_inspect\":\"auto\",\"active_multi\":null,\"active_scroll\":\"auto\",\"active_tap\":\"auto\",\"tools\":[{\"id\":\"1118\",\"type\":\"PanTool\"},{\"id\":\"1119\",\"type\":\"WheelZoomTool\"},{\"id\":\"1120\",\"type\":\"BoxZoomTool\"},{\"id\":\"1121\",\"type\":\"SaveTool\"},{\"id\":\"1122\",\"type\":\"ResetTool\"},{\"id\":\"1123\",\"type\":\"HelpTool\"},{\"id\":\"1136\",\"type\":\"HoverTool\"}]},\"id\":\"1124\",\"type\":\"Toolbar\"},{\"attributes\":{\"bottom_units\":\"screen\",\"fill_alpha\":{\"value\":0.5},\"fill_color\":{\"value\":\"lightgrey\"},\"left_units\":\"screen\",\"level\":\"overlay\",\"line_alpha\":{\"value\":1.0},\"line_color\":{\"value\":\"black\"},\"line_dash\":[4,4],\"line_width\":{\"value\":2},\"render_mode\":\"css\",\"right_units\":\"screen\",\"top_units\":\"screen\"},\"id\":\"1153\",\"type\":\"BoxAnnotation\"},{\"attributes\":{},\"id\":\"1152\",\"type\":\"Selection\"},{\"attributes\":{\"callback\":null,\"data\":{\"fill_color\":[\"rgb(49, 115, 161)\",\"rgb(224, 128, 44)\",\"rgb(58, 145, 58)\",\"rgb(192, 60, 61)\"],\"line_color\":[\"rgb(49, 115, 161)\",\"rgb(224, 128, 44)\",\"rgb(58, 145, 58)\",\"rgb(192, 60, 61)\"],\"right\":{\"__ndarray__\":\"Ku2+0u4rBkA+EaC1veAFQAMefzjg8QdA3AvebIIKCkA=\",\"dtype\":\"float64\",\"shape\":[4]},\"y\":[\"Thur\",\"Fri\",\"Sat\",\"Sun\"]},\"selected\":{\"id\":\"1152\",\"type\":\"Selection\"},\"selection_policy\":{\"id\":\"1151\",\"type\":\"UnionRenderers\"}},\"id\":\"1131\",\"type\":\"ColumnDataSource\"}],\"root_ids\":[\"1098\"]},\"title\":\"Bokeh Application\",\"version\":\"1.4.0\"}};\n",
       "  var render_items = [{\"docid\":\"8044d20e-6729-4dc0-b92c-587d2d25b0eb\",\"roots\":{\"1098\":\"42aadcfd-61b6-4fd9-b6bb-798036d002ee\"}}];\n",
       "  root.Bokeh.embed.embed_items_notebook(docs_json, render_items);\n",
       "\n",
       "  }\n",
       "  if (root.Bokeh !== undefined) {\n",
       "    embed_document(root);\n",
       "  } else {\n",
       "    var attempts = 0;\n",
       "    var timer = setInterval(function(root) {\n",
       "      if (root.Bokeh !== undefined) {\n",
       "        clearInterval(timer);\n",
       "        embed_document(root);\n",
       "      } else {\n",
       "        attempts++;\n",
       "        if (attempts > 100) {\n",
       "          clearInterval(timer);\n",
       "          console.log(\"Bokeh: ERROR: Unable to run BokehJS code because BokehJS library is missing\");\n",
       "        }\n",
       "      }\n",
       "    }, 10, root)\n",
       "  }\n",
       "})(window);"
      ],
      "application/vnd.bokehjs_exec.v0+json": ""
     },
     "metadata": {
      "application/vnd.bokehjs_exec.v0+json": {
       "id": "1098"
      }
     },
     "output_type": "display_data"
    }
   ],
   "source": [
    "barplot(x=\"tip\", y=\"day\", data=tips)"
   ]
  },
  {
   "cell_type": "markdown",
   "metadata": {},
   "source": [
    "#### 3.3 Control Orders\n",
    "Control bar order by passing an explicit order:"
   ]
  },
  {
   "cell_type": "code",
   "execution_count": 6,
   "metadata": {},
   "outputs": [
    {
     "data": {
      "text/html": [
       "\n",
       "\n",
       "\n",
       "\n",
       "\n",
       "\n",
       "  <div class=\"bk-root\" id=\"0f2cb9aa-00be-4c54-9cca-7df29d59a8ab\" data-root-id=\"1202\"></div>\n"
      ]
     },
     "metadata": {},
     "output_type": "display_data"
    },
    {
     "data": {
      "application/javascript": [
       "(function(root) {\n",
       "  function embed_document(root) {\n",
       "    \n",
       "  var docs_json = {\"de9d8b1e-4ae8-4fcc-9471-ba3eb9eb5d5a\":{\"roots\":{\"references\":[{\"attributes\":{\"below\":[{\"id\":\"1213\",\"type\":\"CategoricalAxis\"}],\"center\":[{\"id\":\"1216\",\"type\":\"Grid\"},{\"id\":\"1221\",\"type\":\"Grid\"}],\"left\":[{\"id\":\"1217\",\"type\":\"LinearAxis\"}],\"plot_height\":350,\"renderers\":[{\"id\":\"1238\",\"type\":\"GlyphRenderer\"}],\"title\":{\"id\":\"1203\",\"type\":\"Title\"},\"toolbar\":{\"id\":\"1228\",\"type\":\"Toolbar\"},\"x_range\":{\"id\":\"1205\",\"type\":\"FactorRange\"},\"x_scale\":{\"id\":\"1209\",\"type\":\"CategoricalScale\"},\"y_range\":{\"id\":\"1207\",\"type\":\"DataRange1d\"},\"y_scale\":{\"id\":\"1211\",\"type\":\"LinearScale\"}},\"id\":\"1202\",\"subtype\":\"Figure\",\"type\":\"Plot\"},{\"attributes\":{},\"id\":\"1264\",\"type\":\"Selection\"},{\"attributes\":{\"overlay\":{\"id\":\"1265\",\"type\":\"BoxAnnotation\"}},\"id\":\"1224\",\"type\":\"BoxZoomTool\"},{\"attributes\":{\"bottom_units\":\"screen\",\"fill_alpha\":{\"value\":0.5},\"fill_color\":{\"value\":\"lightgrey\"},\"left_units\":\"screen\",\"level\":\"overlay\",\"line_alpha\":{\"value\":1.0},\"line_color\":{\"value\":\"black\"},\"line_dash\":[4,4],\"line_width\":{\"value\":2},\"render_mode\":\"css\",\"right_units\":\"screen\",\"top_units\":\"screen\"},\"id\":\"1265\",\"type\":\"BoxAnnotation\"},{\"attributes\":{\"axis_label\":\"time\",\"formatter\":{\"id\":\"1262\",\"type\":\"CategoricalTickFormatter\"},\"ticker\":{\"id\":\"1214\",\"type\":\"CategoricalTicker\"}},\"id\":\"1213\",\"type\":\"CategoricalAxis\"},{\"attributes\":{\"active_drag\":\"auto\",\"active_inspect\":\"auto\",\"active_multi\":null,\"active_scroll\":\"auto\",\"active_tap\":\"auto\",\"tools\":[{\"id\":\"1222\",\"type\":\"PanTool\"},{\"id\":\"1223\",\"type\":\"WheelZoomTool\"},{\"id\":\"1224\",\"type\":\"BoxZoomTool\"},{\"id\":\"1225\",\"type\":\"SaveTool\"},{\"id\":\"1226\",\"type\":\"ResetTool\"},{\"id\":\"1227\",\"type\":\"HelpTool\"},{\"id\":\"1240\",\"type\":\"HoverTool\"}]},\"id\":\"1228\",\"type\":\"Toolbar\"},{\"attributes\":{},\"id\":\"1222\",\"type\":\"PanTool\"},{\"attributes\":{},\"id\":\"1218\",\"type\":\"BasicTicker\"},{\"attributes\":{},\"id\":\"1211\",\"type\":\"LinearScale\"},{\"attributes\":{},\"id\":\"1225\",\"type\":\"SaveTool\"},{\"attributes\":{},\"id\":\"1226\",\"type\":\"ResetTool\"},{\"attributes\":{},\"id\":\"1227\",\"type\":\"HelpTool\"},{\"attributes\":{\"dimension\":1,\"ticker\":{\"id\":\"1218\",\"type\":\"BasicTicker\"}},\"id\":\"1221\",\"type\":\"Grid\"},{\"attributes\":{\"callback\":null,\"data\":{\"fill_color\":[\"rgb(49, 115, 161)\",\"rgb(224, 128, 44)\"],\"line_color\":[\"rgb(49, 115, 161)\",\"rgb(224, 128, 44)\"],\"top\":{\"__ndarray__\":\"VIa57B/TBUAxTiTjRNIIQA==\",\"dtype\":\"float64\",\"shape\":[2]},\"x\":[\"Lunch\",\"Dinner\"]},\"selected\":{\"id\":\"1264\",\"type\":\"Selection\"},\"selection_policy\":{\"id\":\"1263\",\"type\":\"UnionRenderers\"}},\"id\":\"1235\",\"type\":\"ColumnDataSource\"},{\"attributes\":{},\"id\":\"1223\",\"type\":\"WheelZoomTool\"},{\"attributes\":{\"fill_color\":{\"field\":\"fill_color\"},\"line_color\":{\"field\":\"line_color\"},\"top\":{\"field\":\"top\"},\"width\":{\"value\":0.7},\"x\":{\"field\":\"x\"}},\"id\":\"1236\",\"type\":\"VBar\"},{\"attributes\":{\"fill_alpha\":{\"value\":0.1},\"fill_color\":{\"value\":\"#1f77b4\"},\"line_alpha\":{\"value\":0.1},\"line_color\":{\"value\":\"#1f77b4\"},\"top\":{\"field\":\"top\"},\"width\":{\"value\":0.7},\"x\":{\"field\":\"x\"}},\"id\":\"1237\",\"type\":\"VBar\"},{\"attributes\":{\"data_source\":{\"id\":\"1235\",\"type\":\"ColumnDataSource\"},\"glyph\":{\"id\":\"1236\",\"type\":\"VBar\"},\"hover_glyph\":null,\"muted_glyph\":null,\"nonselection_glyph\":{\"id\":\"1237\",\"type\":\"VBar\"},\"selection_glyph\":null,\"view\":{\"id\":\"1239\",\"type\":\"CDSView\"}},\"id\":\"1238\",\"type\":\"GlyphRenderer\"},{\"attributes\":{\"axis_label\":\"tip\",\"formatter\":{\"id\":\"1260\",\"type\":\"BasicTickFormatter\"},\"ticker\":{\"id\":\"1218\",\"type\":\"BasicTicker\"}},\"id\":\"1217\",\"type\":\"LinearAxis\"},{\"attributes\":{\"source\":{\"id\":\"1235\",\"type\":\"ColumnDataSource\"}},\"id\":\"1239\",\"type\":\"CDSView\"},{\"attributes\":{\"text\":\"\"},\"id\":\"1203\",\"type\":\"Title\"},{\"attributes\":{\"callback\":null},\"id\":\"1240\",\"type\":\"HoverTool\"},{\"attributes\":{\"callback\":null},\"id\":\"1207\",\"type\":\"DataRange1d\"},{\"attributes\":{\"callback\":null,\"factors\":[\"Lunch\",\"Dinner\"]},\"id\":\"1205\",\"type\":\"FactorRange\"},{\"attributes\":{},\"id\":\"1209\",\"type\":\"CategoricalScale\"},{\"attributes\":{},\"id\":\"1260\",\"type\":\"BasicTickFormatter\"},{\"attributes\":{},\"id\":\"1262\",\"type\":\"CategoricalTickFormatter\"},{\"attributes\":{},\"id\":\"1214\",\"type\":\"CategoricalTicker\"},{\"attributes\":{},\"id\":\"1263\",\"type\":\"UnionRenderers\"},{\"attributes\":{\"ticker\":{\"id\":\"1214\",\"type\":\"CategoricalTicker\"}},\"id\":\"1216\",\"type\":\"Grid\"}],\"root_ids\":[\"1202\"]},\"title\":\"Bokeh Application\",\"version\":\"1.4.0\"}};\n",
       "  var render_items = [{\"docid\":\"de9d8b1e-4ae8-4fcc-9471-ba3eb9eb5d5a\",\"roots\":{\"1202\":\"0f2cb9aa-00be-4c54-9cca-7df29d59a8ab\"}}];\n",
       "  root.Bokeh.embed.embed_items_notebook(docs_json, render_items);\n",
       "\n",
       "  }\n",
       "  if (root.Bokeh !== undefined) {\n",
       "    embed_document(root);\n",
       "  } else {\n",
       "    var attempts = 0;\n",
       "    var timer = setInterval(function(root) {\n",
       "      if (root.Bokeh !== undefined) {\n",
       "        clearInterval(timer);\n",
       "        embed_document(root);\n",
       "      } else {\n",
       "        attempts++;\n",
       "        if (attempts > 100) {\n",
       "          clearInterval(timer);\n",
       "          console.log(\"Bokeh: ERROR: Unable to run BokehJS code because BokehJS library is missing\");\n",
       "        }\n",
       "      }\n",
       "    }, 10, root)\n",
       "  }\n",
       "})(window);"
      ],
      "application/vnd.bokehjs_exec.v0+json": ""
     },
     "metadata": {
      "application/vnd.bokehjs_exec.v0+json": {
       "id": "1202"
      }
     },
     "output_type": "display_data"
    }
   ],
   "source": [
    "barplot(x=\"time\", y=\"tip\", data=tips,order=[\"Lunch\", \"Dinner\"])"
   ]
  },
  {
   "cell_type": "markdown",
   "metadata": {},
   "source": [
    "#### 3.4 Set Desired Estimator\n",
    "For example, use median as the estimate of central tendency:"
   ]
  },
  {
   "cell_type": "code",
   "execution_count": 7,
   "metadata": {},
   "outputs": [
    {
     "data": {
      "text/html": [
       "\n",
       "\n",
       "\n",
       "\n",
       "\n",
       "\n",
       "  <div class=\"bk-root\" id=\"2009e83e-96f9-48c9-954b-9d018252105c\" data-root-id=\"1314\"></div>\n"
      ]
     },
     "metadata": {},
     "output_type": "display_data"
    },
    {
     "data": {
      "application/javascript": [
       "(function(root) {\n",
       "  function embed_document(root) {\n",
       "    \n",
       "  var docs_json = {\"3efc1d96-5b27-44d0-ab0a-033175c79585\":{\"roots\":{\"references\":[{\"attributes\":{\"below\":[{\"id\":\"1325\",\"type\":\"CategoricalAxis\"}],\"center\":[{\"id\":\"1328\",\"type\":\"Grid\"},{\"id\":\"1333\",\"type\":\"Grid\"}],\"left\":[{\"id\":\"1329\",\"type\":\"LinearAxis\"}],\"plot_height\":350,\"renderers\":[{\"id\":\"1350\",\"type\":\"GlyphRenderer\"}],\"title\":{\"id\":\"1315\",\"type\":\"Title\"},\"toolbar\":{\"id\":\"1340\",\"type\":\"Toolbar\"},\"x_range\":{\"id\":\"1317\",\"type\":\"FactorRange\"},\"x_scale\":{\"id\":\"1321\",\"type\":\"CategoricalScale\"},\"y_range\":{\"id\":\"1319\",\"type\":\"DataRange1d\"},\"y_scale\":{\"id\":\"1323\",\"type\":\"LinearScale\"}},\"id\":\"1314\",\"subtype\":\"Figure\",\"type\":\"Plot\"},{\"attributes\":{\"source\":{\"id\":\"1347\",\"type\":\"ColumnDataSource\"}},\"id\":\"1351\",\"type\":\"CDSView\"},{\"attributes\":{\"callback\":null},\"id\":\"1352\",\"type\":\"HoverTool\"},{\"attributes\":{\"ticker\":{\"id\":\"1326\",\"type\":\"CategoricalTicker\"}},\"id\":\"1328\",\"type\":\"Grid\"},{\"attributes\":{},\"id\":\"1380\",\"type\":\"BasicTickFormatter\"},{\"attributes\":{\"dimension\":1,\"ticker\":{\"id\":\"1330\",\"type\":\"BasicTicker\"}},\"id\":\"1333\",\"type\":\"Grid\"},{\"attributes\":{},\"id\":\"1334\",\"type\":\"PanTool\"},{\"attributes\":{},\"id\":\"1382\",\"type\":\"CategoricalTickFormatter\"},{\"attributes\":{},\"id\":\"1335\",\"type\":\"WheelZoomTool\"},{\"attributes\":{},\"id\":\"1383\",\"type\":\"UnionRenderers\"},{\"attributes\":{\"overlay\":{\"id\":\"1385\",\"type\":\"BoxAnnotation\"}},\"id\":\"1336\",\"type\":\"BoxZoomTool\"},{\"attributes\":{\"axis_label\":\"tip\",\"formatter\":{\"id\":\"1380\",\"type\":\"BasicTickFormatter\"},\"ticker\":{\"id\":\"1330\",\"type\":\"BasicTicker\"}},\"id\":\"1329\",\"type\":\"LinearAxis\"},{\"attributes\":{},\"id\":\"1384\",\"type\":\"Selection\"},{\"attributes\":{\"bottom_units\":\"screen\",\"fill_alpha\":{\"value\":0.5},\"fill_color\":{\"value\":\"lightgrey\"},\"left_units\":\"screen\",\"level\":\"overlay\",\"line_alpha\":{\"value\":1.0},\"line_color\":{\"value\":\"black\"},\"line_dash\":[4,4],\"line_width\":{\"value\":2},\"render_mode\":\"css\",\"right_units\":\"screen\",\"top_units\":\"screen\"},\"id\":\"1385\",\"type\":\"BoxAnnotation\"},{\"attributes\":{},\"id\":\"1330\",\"type\":\"BasicTicker\"},{\"attributes\":{},\"id\":\"1337\",\"type\":\"SaveTool\"},{\"attributes\":{\"active_drag\":\"auto\",\"active_inspect\":\"auto\",\"active_multi\":null,\"active_scroll\":\"auto\",\"active_tap\":\"auto\",\"tools\":[{\"id\":\"1334\",\"type\":\"PanTool\"},{\"id\":\"1335\",\"type\":\"WheelZoomTool\"},{\"id\":\"1336\",\"type\":\"BoxZoomTool\"},{\"id\":\"1337\",\"type\":\"SaveTool\"},{\"id\":\"1338\",\"type\":\"ResetTool\"},{\"id\":\"1339\",\"type\":\"HelpTool\"},{\"id\":\"1352\",\"type\":\"HoverTool\"}]},\"id\":\"1340\",\"type\":\"Toolbar\"},{\"attributes\":{},\"id\":\"1326\",\"type\":\"CategoricalTicker\"},{\"attributes\":{\"callback\":null,\"data\":{\"fill_color\":[\"rgb(49, 115, 161)\",\"rgb(224, 128, 44)\",\"rgb(58, 145, 58)\",\"rgb(192, 60, 61)\"],\"line_color\":[\"rgb(49, 115, 161)\",\"rgb(224, 128, 44)\",\"rgb(58, 145, 58)\",\"rgb(192, 60, 61)\"],\"top\":{\"__ndarray__\":\"cD0K16NwAkAAAAAAAAAIQAAAAAAAAAZANDMzMzMzCUA=\",\"dtype\":\"float64\",\"shape\":[4]},\"x\":[\"Thur\",\"Fri\",\"Sat\",\"Sun\"]},\"selected\":{\"id\":\"1384\",\"type\":\"Selection\"},\"selection_policy\":{\"id\":\"1383\",\"type\":\"UnionRenderers\"}},\"id\":\"1347\",\"type\":\"ColumnDataSource\"},{\"attributes\":{\"fill_color\":{\"field\":\"fill_color\"},\"line_color\":{\"field\":\"line_color\"},\"top\":{\"field\":\"top\"},\"width\":{\"value\":0.7},\"x\":{\"field\":\"x\"}},\"id\":\"1348\",\"type\":\"VBar\"},{\"attributes\":{\"text\":\"\"},\"id\":\"1315\",\"type\":\"Title\"},{\"attributes\":{},\"id\":\"1339\",\"type\":\"HelpTool\"},{\"attributes\":{\"data_source\":{\"id\":\"1347\",\"type\":\"ColumnDataSource\"},\"glyph\":{\"id\":\"1348\",\"type\":\"VBar\"},\"hover_glyph\":null,\"muted_glyph\":null,\"nonselection_glyph\":{\"id\":\"1349\",\"type\":\"VBar\"},\"selection_glyph\":null,\"view\":{\"id\":\"1351\",\"type\":\"CDSView\"}},\"id\":\"1350\",\"type\":\"GlyphRenderer\"},{\"attributes\":{\"callback\":null},\"id\":\"1319\",\"type\":\"DataRange1d\"},{\"attributes\":{},\"id\":\"1338\",\"type\":\"ResetTool\"},{\"attributes\":{},\"id\":\"1321\",\"type\":\"CategoricalScale\"},{\"attributes\":{\"axis_label\":\"day\",\"formatter\":{\"id\":\"1382\",\"type\":\"CategoricalTickFormatter\"},\"ticker\":{\"id\":\"1326\",\"type\":\"CategoricalTicker\"}},\"id\":\"1325\",\"type\":\"CategoricalAxis\"},{\"attributes\":{},\"id\":\"1323\",\"type\":\"LinearScale\"},{\"attributes\":{\"callback\":null,\"factors\":[\"Thur\",\"Fri\",\"Sat\",\"Sun\"]},\"id\":\"1317\",\"type\":\"FactorRange\"},{\"attributes\":{\"fill_alpha\":{\"value\":0.1},\"fill_color\":{\"value\":\"#1f77b4\"},\"line_alpha\":{\"value\":0.1},\"line_color\":{\"value\":\"#1f77b4\"},\"top\":{\"field\":\"top\"},\"width\":{\"value\":0.7},\"x\":{\"field\":\"x\"}},\"id\":\"1349\",\"type\":\"VBar\"}],\"root_ids\":[\"1314\"]},\"title\":\"Bokeh Application\",\"version\":\"1.4.0\"}};\n",
       "  var render_items = [{\"docid\":\"3efc1d96-5b27-44d0-ab0a-033175c79585\",\"roots\":{\"1314\":\"2009e83e-96f9-48c9-954b-9d018252105c\"}}];\n",
       "  root.Bokeh.embed.embed_items_notebook(docs_json, render_items);\n",
       "\n",
       "  }\n",
       "  if (root.Bokeh !== undefined) {\n",
       "    embed_document(root);\n",
       "  } else {\n",
       "    var attempts = 0;\n",
       "    var timer = setInterval(function(root) {\n",
       "      if (root.Bokeh !== undefined) {\n",
       "        clearInterval(timer);\n",
       "        embed_document(root);\n",
       "      } else {\n",
       "        attempts++;\n",
       "        if (attempts > 100) {\n",
       "          clearInterval(timer);\n",
       "          console.log(\"Bokeh: ERROR: Unable to run BokehJS code because BokehJS library is missing\");\n",
       "        }\n",
       "      }\n",
       "    }, 10, root)\n",
       "  }\n",
       "})(window);"
      ],
      "application/vnd.bokehjs_exec.v0+json": ""
     },
     "metadata": {
      "application/vnd.bokehjs_exec.v0+json": {
       "id": "1314"
      }
     },
     "output_type": "display_data"
    }
   ],
   "source": [
    "from numpy import median\n",
    "barplot(x=\"day\", y=\"tip\", data=tips, estimator=median)"
   ]
  },
  {
   "cell_type": "markdown",
   "metadata": {},
   "source": [
    "#### 3.5 Choose Palettes\n",
    "Use a different color palette for the bars:"
   ]
  },
  {
   "cell_type": "code",
   "execution_count": 8,
   "metadata": {},
   "outputs": [
    {
     "data": {
      "text/html": [
       "\n",
       "\n",
       "\n",
       "\n",
       "\n",
       "\n",
       "  <div class=\"bk-root\" id=\"be72f663-f911-4ce8-9d6d-6e3ef1f23143\" data-root-id=\"1434\"></div>\n"
      ]
     },
     "metadata": {},
     "output_type": "display_data"
    },
    {
     "data": {
      "application/javascript": [
       "(function(root) {\n",
       "  function embed_document(root) {\n",
       "    \n",
       "  var docs_json = {\"179931ea-79bb-4174-8ba2-913f1b4ef983\":{\"roots\":{\"references\":[{\"attributes\":{\"below\":[{\"id\":\"1445\",\"type\":\"CategoricalAxis\"}],\"center\":[{\"id\":\"1448\",\"type\":\"Grid\"},{\"id\":\"1453\",\"type\":\"Grid\"}],\"left\":[{\"id\":\"1449\",\"type\":\"LinearAxis\"}],\"plot_height\":350,\"renderers\":[{\"id\":\"1470\",\"type\":\"GlyphRenderer\"}],\"title\":{\"id\":\"1435\",\"type\":\"Title\"},\"toolbar\":{\"id\":\"1460\",\"type\":\"Toolbar\"},\"x_range\":{\"id\":\"1437\",\"type\":\"FactorRange\"},\"x_scale\":{\"id\":\"1441\",\"type\":\"CategoricalScale\"},\"y_range\":{\"id\":\"1439\",\"type\":\"DataRange1d\"},\"y_scale\":{\"id\":\"1443\",\"type\":\"LinearScale\"}},\"id\":\"1434\",\"subtype\":\"Figure\",\"type\":\"Plot\"},{\"attributes\":{\"dimension\":1,\"ticker\":{\"id\":\"1450\",\"type\":\"BasicTicker\"}},\"id\":\"1453\",\"type\":\"Grid\"},{\"attributes\":{},\"id\":\"1511\",\"type\":\"UnionRenderers\"},{\"attributes\":{\"text\":\"\"},\"id\":\"1435\",\"type\":\"Title\"},{\"attributes\":{},\"id\":\"1455\",\"type\":\"WheelZoomTool\"},{\"attributes\":{},\"id\":\"1512\",\"type\":\"Selection\"},{\"attributes\":{},\"id\":\"1510\",\"type\":\"CategoricalTickFormatter\"},{\"attributes\":{\"bottom_units\":\"screen\",\"fill_alpha\":{\"value\":0.5},\"fill_color\":{\"value\":\"lightgrey\"},\"left_units\":\"screen\",\"level\":\"overlay\",\"line_alpha\":{\"value\":1.0},\"line_color\":{\"value\":\"black\"},\"line_dash\":[4,4],\"line_width\":{\"value\":2},\"render_mode\":\"css\",\"right_units\":\"screen\",\"top_units\":\"screen\"},\"id\":\"1513\",\"type\":\"BoxAnnotation\"},{\"attributes\":{},\"id\":\"1458\",\"type\":\"ResetTool\"},{\"attributes\":{},\"id\":\"1457\",\"type\":\"SaveTool\"},{\"attributes\":{},\"id\":\"1443\",\"type\":\"LinearScale\"},{\"attributes\":{\"fill_alpha\":{\"value\":0.1},\"fill_color\":{\"value\":\"#1f77b4\"},\"line_alpha\":{\"value\":0.1},\"line_color\":{\"value\":\"#1f77b4\"},\"top\":{\"field\":\"top\"},\"width\":{\"value\":0.7},\"x\":{\"field\":\"x\"}},\"id\":\"1469\",\"type\":\"VBar\"},{\"attributes\":{\"callback\":null},\"id\":\"1439\",\"type\":\"DataRange1d\"},{\"attributes\":{},\"id\":\"1441\",\"type\":\"CategoricalScale\"},{\"attributes\":{\"axis_label\":\"total_bill\",\"formatter\":{\"id\":\"1508\",\"type\":\"BasicTickFormatter\"},\"ticker\":{\"id\":\"1450\",\"type\":\"BasicTicker\"}},\"id\":\"1449\",\"type\":\"LinearAxis\"},{\"attributes\":{},\"id\":\"1508\",\"type\":\"BasicTickFormatter\"},{\"attributes\":{},\"id\":\"1446\",\"type\":\"CategoricalTicker\"},{\"attributes\":{\"ticker\":{\"id\":\"1446\",\"type\":\"CategoricalTicker\"}},\"id\":\"1448\",\"type\":\"Grid\"},{\"attributes\":{\"source\":{\"id\":\"1467\",\"type\":\"ColumnDataSource\"}},\"id\":\"1471\",\"type\":\"CDSView\"},{\"attributes\":{\"callback\":null,\"data\":{\"fill_color\":[\"rgb(59, 83, 100)\",\"rgb(67, 115, 150)\",\"rgb(93, 146, 184)\",\"rgb(136, 176, 203)\"],\"line_color\":[\"rgb(59, 83, 100)\",\"rgb(67, 115, 150)\",\"rgb(93, 146, 184)\",\"rgb(136, 176, 203)\"],\"top\":{\"__ndarray__\":\"zoLsLMiuMUCgtb3gzSYxQOMPBzz+cDRAKVyPwvVoNUA=\",\"dtype\":\"float64\",\"shape\":[4]},\"x\":[\"Thur\",\"Fri\",\"Sat\",\"Sun\"]},\"selected\":{\"id\":\"1512\",\"type\":\"Selection\"},\"selection_policy\":{\"id\":\"1511\",\"type\":\"UnionRenderers\"}},\"id\":\"1467\",\"type\":\"ColumnDataSource\"},{\"attributes\":{},\"id\":\"1450\",\"type\":\"BasicTicker\"},{\"attributes\":{\"callback\":null,\"factors\":[\"Thur\",\"Fri\",\"Sat\",\"Sun\"]},\"id\":\"1437\",\"type\":\"FactorRange\"},{\"attributes\":{\"fill_color\":{\"field\":\"fill_color\"},\"line_color\":{\"field\":\"line_color\"},\"top\":{\"field\":\"top\"},\"width\":{\"value\":0.7},\"x\":{\"field\":\"x\"}},\"id\":\"1468\",\"type\":\"VBar\"},{\"attributes\":{\"axis_label\":\"day\",\"formatter\":{\"id\":\"1510\",\"type\":\"CategoricalTickFormatter\"},\"ticker\":{\"id\":\"1446\",\"type\":\"CategoricalTicker\"}},\"id\":\"1445\",\"type\":\"CategoricalAxis\"},{\"attributes\":{},\"id\":\"1459\",\"type\":\"HelpTool\"},{\"attributes\":{},\"id\":\"1454\",\"type\":\"PanTool\"},{\"attributes\":{\"callback\":null},\"id\":\"1472\",\"type\":\"HoverTool\"},{\"attributes\":{\"active_drag\":\"auto\",\"active_inspect\":\"auto\",\"active_multi\":null,\"active_scroll\":\"auto\",\"active_tap\":\"auto\",\"tools\":[{\"id\":\"1454\",\"type\":\"PanTool\"},{\"id\":\"1455\",\"type\":\"WheelZoomTool\"},{\"id\":\"1456\",\"type\":\"BoxZoomTool\"},{\"id\":\"1457\",\"type\":\"SaveTool\"},{\"id\":\"1458\",\"type\":\"ResetTool\"},{\"id\":\"1459\",\"type\":\"HelpTool\"},{\"id\":\"1472\",\"type\":\"HoverTool\"}]},\"id\":\"1460\",\"type\":\"Toolbar\"},{\"attributes\":{\"data_source\":{\"id\":\"1467\",\"type\":\"ColumnDataSource\"},\"glyph\":{\"id\":\"1468\",\"type\":\"VBar\"},\"hover_glyph\":null,\"muted_glyph\":null,\"nonselection_glyph\":{\"id\":\"1469\",\"type\":\"VBar\"},\"selection_glyph\":null,\"view\":{\"id\":\"1471\",\"type\":\"CDSView\"}},\"id\":\"1470\",\"type\":\"GlyphRenderer\"},{\"attributes\":{\"overlay\":{\"id\":\"1513\",\"type\":\"BoxAnnotation\"}},\"id\":\"1456\",\"type\":\"BoxZoomTool\"}],\"root_ids\":[\"1434\"]},\"title\":\"Bokeh Application\",\"version\":\"1.4.0\"}};\n",
       "  var render_items = [{\"docid\":\"179931ea-79bb-4174-8ba2-913f1b4ef983\",\"roots\":{\"1434\":\"be72f663-f911-4ce8-9d6d-6e3ef1f23143\"}}];\n",
       "  root.Bokeh.embed.embed_items_notebook(docs_json, render_items);\n",
       "\n",
       "  }\n",
       "  if (root.Bokeh !== undefined) {\n",
       "    embed_document(root);\n",
       "  } else {\n",
       "    var attempts = 0;\n",
       "    var timer = setInterval(function(root) {\n",
       "      if (root.Bokeh !== undefined) {\n",
       "        clearInterval(timer);\n",
       "        embed_document(root);\n",
       "      } else {\n",
       "        attempts++;\n",
       "        if (attempts > 100) {\n",
       "          clearInterval(timer);\n",
       "          console.log(\"Bokeh: ERROR: Unable to run BokehJS code because BokehJS library is missing\");\n",
       "        }\n",
       "      }\n",
       "    }, 10, root)\n",
       "  }\n",
       "})(window);"
      ],
      "application/vnd.bokehjs_exec.v0+json": ""
     },
     "metadata": {
      "application/vnd.bokehjs_exec.v0+json": {
       "id": "1434"
      }
     },
     "output_type": "display_data"
    }
   ],
   "source": [
    "barplot(x= \"day\", y=\"total_bill\", data=tips, palette=\"Blues_d\")"
   ]
  },
  {
   "cell_type": "markdown",
   "metadata": {},
   "source": [
    "#### 3.6 Set Specific Color\n",
    "Plot all bars in a single color:"
   ]
  },
  {
   "cell_type": "code",
   "execution_count": 9,
   "metadata": {},
   "outputs": [
    {
     "data": {
      "text/html": [
       "\n",
       "\n",
       "\n",
       "\n",
       "\n",
       "\n",
       "  <div class=\"bk-root\" id=\"8ff87644-bdc5-4415-bc79-c7793250c3eb\" data-root-id=\"1562\"></div>\n"
      ]
     },
     "metadata": {},
     "output_type": "display_data"
    },
    {
     "data": {
      "application/javascript": [
       "(function(root) {\n",
       "  function embed_document(root) {\n",
       "    \n",
       "  var docs_json = {\"80ad768a-debf-40c2-a83f-10ede46adc82\":{\"roots\":{\"references\":[{\"attributes\":{\"below\":[{\"id\":\"1573\",\"type\":\"CategoricalAxis\"}],\"center\":[{\"id\":\"1576\",\"type\":\"Grid\"},{\"id\":\"1581\",\"type\":\"Grid\"}],\"left\":[{\"id\":\"1577\",\"type\":\"LinearAxis\"}],\"plot_height\":350,\"renderers\":[{\"id\":\"1598\",\"type\":\"GlyphRenderer\"}],\"title\":{\"id\":\"1563\",\"type\":\"Title\"},\"toolbar\":{\"id\":\"1588\",\"type\":\"Toolbar\"},\"x_range\":{\"id\":\"1565\",\"type\":\"FactorRange\"},\"x_scale\":{\"id\":\"1569\",\"type\":\"CategoricalScale\"},\"y_range\":{\"id\":\"1567\",\"type\":\"DataRange1d\"},\"y_scale\":{\"id\":\"1571\",\"type\":\"LinearScale\"}},\"id\":\"1562\",\"subtype\":\"Figure\",\"type\":\"Plot\"},{\"attributes\":{\"active_drag\":\"auto\",\"active_inspect\":\"auto\",\"active_multi\":null,\"active_scroll\":\"auto\",\"active_tap\":\"auto\",\"tools\":[{\"id\":\"1582\",\"type\":\"PanTool\"},{\"id\":\"1583\",\"type\":\"WheelZoomTool\"},{\"id\":\"1584\",\"type\":\"BoxZoomTool\"},{\"id\":\"1585\",\"type\":\"SaveTool\"},{\"id\":\"1586\",\"type\":\"ResetTool\"},{\"id\":\"1587\",\"type\":\"HelpTool\"},{\"id\":\"1600\",\"type\":\"HoverTool\"}]},\"id\":\"1588\",\"type\":\"Toolbar\"},{\"attributes\":{},\"id\":\"1648\",\"type\":\"Selection\"},{\"attributes\":{\"bottom_units\":\"screen\",\"fill_alpha\":{\"value\":0.5},\"fill_color\":{\"value\":\"lightgrey\"},\"left_units\":\"screen\",\"level\":\"overlay\",\"line_alpha\":{\"value\":1.0},\"line_color\":{\"value\":\"black\"},\"line_dash\":[4,4],\"line_width\":{\"value\":2},\"render_mode\":\"css\",\"right_units\":\"screen\",\"top_units\":\"screen\"},\"id\":\"1649\",\"type\":\"BoxAnnotation\"},{\"attributes\":{\"ticker\":{\"id\":\"1574\",\"type\":\"CategoricalTicker\"}},\"id\":\"1576\",\"type\":\"Grid\"},{\"attributes\":{},\"id\":\"1586\",\"type\":\"ResetTool\"},{\"attributes\":{},\"id\":\"1647\",\"type\":\"UnionRenderers\"},{\"attributes\":{},\"id\":\"1644\",\"type\":\"BasicTickFormatter\"},{\"attributes\":{},\"id\":\"1569\",\"type\":\"CategoricalScale\"},{\"attributes\":{},\"id\":\"1578\",\"type\":\"BasicTicker\"},{\"attributes\":{},\"id\":\"1571\",\"type\":\"LinearScale\"},{\"attributes\":{\"axis_label\":\"day\",\"formatter\":{\"id\":\"1646\",\"type\":\"CategoricalTickFormatter\"},\"ticker\":{\"id\":\"1574\",\"type\":\"CategoricalTicker\"}},\"id\":\"1573\",\"type\":\"CategoricalAxis\"},{\"attributes\":{},\"id\":\"1582\",\"type\":\"PanTool\"},{\"attributes\":{\"callback\":null},\"id\":\"1567\",\"type\":\"DataRange1d\"},{\"attributes\":{},\"id\":\"1646\",\"type\":\"CategoricalTickFormatter\"},{\"attributes\":{},\"id\":\"1574\",\"type\":\"CategoricalTicker\"},{\"attributes\":{},\"id\":\"1585\",\"type\":\"SaveTool\"},{\"attributes\":{},\"id\":\"1587\",\"type\":\"HelpTool\"},{\"attributes\":{\"overlay\":{\"id\":\"1649\",\"type\":\"BoxAnnotation\"}},\"id\":\"1584\",\"type\":\"BoxZoomTool\"},{\"attributes\":{\"callback\":null,\"data\":{\"fill_color\":[\"rgb(216, 155, 147)\",\"rgb(216, 155, 147)\",\"rgb(216, 155, 147)\",\"rgb(216, 155, 147)\"],\"line_color\":[\"rgb(216, 155, 147)\",\"rgb(216, 155, 147)\",\"rgb(216, 155, 147)\",\"rgb(216, 155, 147)\"],\"top\":{\"__ndarray__\":\"zoLsLMiuMUCgtb3gzSYxQOMPBzz+cDRAKVyPwvVoNUA=\",\"dtype\":\"float64\",\"shape\":[4]},\"x\":[\"Thur\",\"Fri\",\"Sat\",\"Sun\"]},\"selected\":{\"id\":\"1648\",\"type\":\"Selection\"},\"selection_policy\":{\"id\":\"1647\",\"type\":\"UnionRenderers\"}},\"id\":\"1595\",\"type\":\"ColumnDataSource\"},{\"attributes\":{\"fill_color\":{\"field\":\"fill_color\"},\"line_color\":{\"field\":\"line_color\"},\"top\":{\"field\":\"top\"},\"width\":{\"value\":0.7},\"x\":{\"field\":\"x\"}},\"id\":\"1596\",\"type\":\"VBar\"},{\"attributes\":{\"callback\":null,\"factors\":[\"Thur\",\"Fri\",\"Sat\",\"Sun\"]},\"id\":\"1565\",\"type\":\"FactorRange\"},{\"attributes\":{\"text\":\"\"},\"id\":\"1563\",\"type\":\"Title\"},{\"attributes\":{\"callback\":null},\"id\":\"1600\",\"type\":\"HoverTool\"},{\"attributes\":{\"dimension\":1,\"ticker\":{\"id\":\"1578\",\"type\":\"BasicTicker\"}},\"id\":\"1581\",\"type\":\"Grid\"},{\"attributes\":{\"source\":{\"id\":\"1595\",\"type\":\"ColumnDataSource\"}},\"id\":\"1599\",\"type\":\"CDSView\"},{\"attributes\":{\"data_source\":{\"id\":\"1595\",\"type\":\"ColumnDataSource\"},\"glyph\":{\"id\":\"1596\",\"type\":\"VBar\"},\"hover_glyph\":null,\"muted_glyph\":null,\"nonselection_glyph\":{\"id\":\"1597\",\"type\":\"VBar\"},\"selection_glyph\":null,\"view\":{\"id\":\"1599\",\"type\":\"CDSView\"}},\"id\":\"1598\",\"type\":\"GlyphRenderer\"},{\"attributes\":{\"axis_label\":\"total_bill\",\"formatter\":{\"id\":\"1644\",\"type\":\"BasicTickFormatter\"},\"ticker\":{\"id\":\"1578\",\"type\":\"BasicTicker\"}},\"id\":\"1577\",\"type\":\"LinearAxis\"},{\"attributes\":{\"fill_alpha\":{\"value\":0.1},\"fill_color\":{\"value\":\"#1f77b4\"},\"line_alpha\":{\"value\":0.1},\"line_color\":{\"value\":\"#1f77b4\"},\"top\":{\"field\":\"top\"},\"width\":{\"value\":0.7},\"x\":{\"field\":\"x\"}},\"id\":\"1597\",\"type\":\"VBar\"},{\"attributes\":{},\"id\":\"1583\",\"type\":\"WheelZoomTool\"}],\"root_ids\":[\"1562\"]},\"title\":\"Bokeh Application\",\"version\":\"1.4.0\"}};\n",
       "  var render_items = [{\"docid\":\"80ad768a-debf-40c2-a83f-10ede46adc82\",\"roots\":{\"1562\":\"8ff87644-bdc5-4415-bc79-c7793250c3eb\"}}];\n",
       "  root.Bokeh.embed.embed_items_notebook(docs_json, render_items);\n",
       "\n",
       "  }\n",
       "  if (root.Bokeh !== undefined) {\n",
       "    embed_document(root);\n",
       "  } else {\n",
       "    var attempts = 0;\n",
       "    var timer = setInterval(function(root) {\n",
       "      if (root.Bokeh !== undefined) {\n",
       "        clearInterval(timer);\n",
       "        embed_document(root);\n",
       "      } else {\n",
       "        attempts++;\n",
       "        if (attempts > 100) {\n",
       "          clearInterval(timer);\n",
       "          console.log(\"Bokeh: ERROR: Unable to run BokehJS code because BokehJS library is missing\");\n",
       "        }\n",
       "      }\n",
       "    }, 10, root)\n",
       "  }\n",
       "})(window);"
      ],
      "application/vnd.bokehjs_exec.v0+json": ""
     },
     "metadata": {
      "application/vnd.bokehjs_exec.v0+json": {
       "id": "1562"
      }
     },
     "output_type": "display_data"
    }
   ],
   "source": [
    "barplot(x= \"day\", y=\"total_bill\", data=tips,color=\"salmon\", saturation=.5)"
   ]
  },
  {
   "cell_type": "markdown",
   "metadata": {},
   "source": [
    "#### 3.7 Use Hue for Visualization\n",
    "Draw a set of vertical bars with nested grouping by a two variables:"
   ]
  },
  {
   "cell_type": "code",
   "execution_count": 10,
   "metadata": {},
   "outputs": [
    {
     "data": {
      "text/html": [
       "\n",
       "\n",
       "\n",
       "\n",
       "\n",
       "\n",
       "  <div class=\"bk-root\" id=\"4a41dce1-5e74-41c9-b4e5-05d6e06cbf18\" data-root-id=\"1698\"></div>\n"
      ]
     },
     "metadata": {},
     "output_type": "display_data"
    },
    {
     "data": {
      "application/javascript": [
       "(function(root) {\n",
       "  function embed_document(root) {\n",
       "    \n",
       "  var docs_json = {\"3949825f-0d1a-49c5-a875-69ba550e6569\":{\"roots\":{\"references\":[{\"attributes\":{\"below\":[{\"id\":\"1709\",\"type\":\"CategoricalAxis\"}],\"center\":[{\"id\":\"1712\",\"type\":\"Grid\"},{\"id\":\"1717\",\"type\":\"Grid\"}],\"left\":[{\"id\":\"1713\",\"type\":\"LinearAxis\"}],\"plot_height\":350,\"renderers\":[{\"id\":\"1734\",\"type\":\"GlyphRenderer\"},{\"id\":\"1739\",\"type\":\"GlyphRenderer\"}],\"title\":{\"id\":\"1699\",\"type\":\"Title\"},\"toolbar\":{\"id\":\"1724\",\"type\":\"Toolbar\"},\"x_range\":{\"id\":\"1701\",\"type\":\"FactorRange\"},\"x_scale\":{\"id\":\"1705\",\"type\":\"CategoricalScale\"},\"y_range\":{\"id\":\"1703\",\"type\":\"DataRange1d\"},\"y_scale\":{\"id\":\"1707\",\"type\":\"LinearScale\"}},\"id\":\"1698\",\"subtype\":\"Figure\",\"type\":\"Plot\"},{\"attributes\":{\"source\":{\"id\":\"1736\",\"type\":\"ColumnDataSource\"}},\"id\":\"1740\",\"type\":\"CDSView\"},{\"attributes\":{},\"id\":\"1721\",\"type\":\"SaveTool\"},{\"attributes\":{},\"id\":\"1793\",\"type\":\"BasicTickFormatter\"},{\"attributes\":{},\"id\":\"1795\",\"type\":\"CategoricalTickFormatter\"},{\"attributes\":{\"callback\":null},\"id\":\"1703\",\"type\":\"DataRange1d\"},{\"attributes\":{\"data_source\":{\"id\":\"1736\",\"type\":\"ColumnDataSource\"},\"glyph\":{\"id\":\"1737\",\"type\":\"VBar\"},\"hover_glyph\":null,\"muted_glyph\":null,\"nonselection_glyph\":{\"id\":\"1738\",\"type\":\"VBar\"},\"selection_glyph\":null,\"view\":{\"id\":\"1740\",\"type\":\"CDSView\"}},\"id\":\"1739\",\"type\":\"GlyphRenderer\"},{\"attributes\":{\"text\":\"\"},\"id\":\"1699\",\"type\":\"Title\"},{\"attributes\":{},\"id\":\"1796\",\"type\":\"UnionRenderers\"},{\"attributes\":{},\"id\":\"1797\",\"type\":\"Selection\"},{\"attributes\":{\"fill_alpha\":{\"value\":0.1},\"fill_color\":{\"value\":\"#1f77b4\"},\"line_alpha\":{\"value\":0.1},\"line_color\":{\"value\":\"#1f77b4\"},\"top\":{\"field\":\"top\"},\"width\":{\"value\":0.4},\"x\":{\"field\":\"x\"}},\"id\":\"1738\",\"type\":\"VBar\"},{\"attributes\":{},\"id\":\"1710\",\"type\":\"CategoricalTicker\"},{\"attributes\":{},\"id\":\"1798\",\"type\":\"UnionRenderers\"},{\"attributes\":{\"axis_label\":\"total_bill\",\"formatter\":{\"id\":\"1793\",\"type\":\"BasicTickFormatter\"},\"ticker\":{\"id\":\"1714\",\"type\":\"BasicTicker\"}},\"id\":\"1713\",\"type\":\"LinearAxis\"},{\"attributes\":{\"ticker\":{\"id\":\"1710\",\"type\":\"CategoricalTicker\"}},\"id\":\"1712\",\"type\":\"Grid\"},{\"attributes\":{},\"id\":\"1799\",\"type\":\"Selection\"},{\"attributes\":{},\"id\":\"1714\",\"type\":\"BasicTicker\"},{\"attributes\":{},\"id\":\"1722\",\"type\":\"ResetTool\"},{\"attributes\":{\"bottom_units\":\"screen\",\"fill_alpha\":{\"value\":0.5},\"fill_color\":{\"value\":\"lightgrey\"},\"left_units\":\"screen\",\"level\":\"overlay\",\"line_alpha\":{\"value\":1.0},\"line_color\":{\"value\":\"black\"},\"line_dash\":[4,4],\"line_width\":{\"value\":2},\"render_mode\":\"css\",\"right_units\":\"screen\",\"top_units\":\"screen\"},\"id\":\"1800\",\"type\":\"BoxAnnotation\"},{\"attributes\":{},\"id\":\"1723\",\"type\":\"HelpTool\"},{\"attributes\":{\"callback\":null},\"id\":\"1741\",\"type\":\"HoverTool\"},{\"attributes\":{\"dimension\":1,\"ticker\":{\"id\":\"1714\",\"type\":\"BasicTicker\"}},\"id\":\"1717\",\"type\":\"Grid\"},{\"attributes\":{\"callback\":null,\"data\":{\"top\":{\"__ndarray__\":\"hetRuB63MEB1uf1BhkosQOIrvuIrrjNA9Emf9EnfM0A=\",\"dtype\":\"float64\",\"shape\":[4]},\"x\":{\"__ndarray__\":\"ZmZmZmZm5j8zMzMzMzP7P5qZmZmZmQVAmpmZmZmZDUA=\",\"dtype\":\"float64\",\"shape\":[4]}},\"selected\":{\"id\":\"1799\",\"type\":\"Selection\"},\"selection_policy\":{\"id\":\"1798\",\"type\":\"UnionRenderers\"}},\"id\":\"1736\",\"type\":\"ColumnDataSource\"},{\"attributes\":{\"axis_label\":\"day\",\"formatter\":{\"id\":\"1795\",\"type\":\"CategoricalTickFormatter\"},\"ticker\":{\"id\":\"1710\",\"type\":\"CategoricalTicker\"}},\"id\":\"1709\",\"type\":\"CategoricalAxis\"},{\"attributes\":{},\"id\":\"1705\",\"type\":\"CategoricalScale\"},{\"attributes\":{\"source\":{\"id\":\"1731\",\"type\":\"ColumnDataSource\"}},\"id\":\"1735\",\"type\":\"CDSView\"},{\"attributes\":{},\"id\":\"1718\",\"type\":\"PanTool\"},{\"attributes\":{\"data_source\":{\"id\":\"1731\",\"type\":\"ColumnDataSource\"},\"glyph\":{\"id\":\"1732\",\"type\":\"VBar\"},\"hover_glyph\":null,\"muted_glyph\":null,\"nonselection_glyph\":{\"id\":\"1733\",\"type\":\"VBar\"},\"selection_glyph\":null,\"view\":{\"id\":\"1735\",\"type\":\"CDSView\"}},\"id\":\"1734\",\"type\":\"GlyphRenderer\"},{\"attributes\":{\"callback\":null,\"factors\":[\"Thur\",\"Fri\",\"Sat\",\"Sun\"]},\"id\":\"1701\",\"type\":\"FactorRange\"},{\"attributes\":{\"fill_color\":\"rgb(224, 128, 44)\",\"line_color\":\"rgb(224, 128, 44)\",\"top\":{\"field\":\"top\"},\"width\":{\"value\":0.4},\"x\":{\"field\":\"x\"}},\"id\":\"1737\",\"type\":\"VBar\"},{\"attributes\":{\"callback\":null,\"data\":{\"top\":{\"__ndarray__\":\"698IZfS2MkAIrBxaZNszQP4tvWpzzTRAvstDQCLjNUA=\",\"dtype\":\"float64\",\"shape\":[4]},\"x\":{\"__ndarray__\":\"MzMzMzMz0z/NzMzMzMz0P2ZmZmZmZgJAZmZmZmZmCkA=\",\"dtype\":\"float64\",\"shape\":[4]}},\"selected\":{\"id\":\"1797\",\"type\":\"Selection\"},\"selection_policy\":{\"id\":\"1796\",\"type\":\"UnionRenderers\"}},\"id\":\"1731\",\"type\":\"ColumnDataSource\"},{\"attributes\":{\"fill_alpha\":{\"value\":0.1},\"fill_color\":{\"value\":\"#1f77b4\"},\"line_alpha\":{\"value\":0.1},\"line_color\":{\"value\":\"#1f77b4\"},\"top\":{\"field\":\"top\"},\"width\":{\"value\":0.4},\"x\":{\"field\":\"x\"}},\"id\":\"1733\",\"type\":\"VBar\"},{\"attributes\":{\"fill_color\":\"rgb(49, 115, 161)\",\"line_color\":\"rgb(49, 115, 161)\",\"top\":{\"field\":\"top\"},\"width\":{\"value\":0.4},\"x\":{\"field\":\"x\"}},\"id\":\"1732\",\"type\":\"VBar\"},{\"attributes\":{\"overlay\":{\"id\":\"1800\",\"type\":\"BoxAnnotation\"}},\"id\":\"1720\",\"type\":\"BoxZoomTool\"},{\"attributes\":{},\"id\":\"1707\",\"type\":\"LinearScale\"},{\"attributes\":{\"active_drag\":\"auto\",\"active_inspect\":\"auto\",\"active_multi\":null,\"active_scroll\":\"auto\",\"active_tap\":\"auto\",\"tools\":[{\"id\":\"1718\",\"type\":\"PanTool\"},{\"id\":\"1719\",\"type\":\"WheelZoomTool\"},{\"id\":\"1720\",\"type\":\"BoxZoomTool\"},{\"id\":\"1721\",\"type\":\"SaveTool\"},{\"id\":\"1722\",\"type\":\"ResetTool\"},{\"id\":\"1723\",\"type\":\"HelpTool\"},{\"id\":\"1741\",\"type\":\"HoverTool\"}]},\"id\":\"1724\",\"type\":\"Toolbar\"},{\"attributes\":{},\"id\":\"1719\",\"type\":\"WheelZoomTool\"}],\"root_ids\":[\"1698\"]},\"title\":\"Bokeh Application\",\"version\":\"1.4.0\"}};\n",
       "  var render_items = [{\"docid\":\"3949825f-0d1a-49c5-a875-69ba550e6569\",\"roots\":{\"1698\":\"4a41dce1-5e74-41c9-b4e5-05d6e06cbf18\"}}];\n",
       "  root.Bokeh.embed.embed_items_notebook(docs_json, render_items);\n",
       "\n",
       "  }\n",
       "  if (root.Bokeh !== undefined) {\n",
       "    embed_document(root);\n",
       "  } else {\n",
       "    var attempts = 0;\n",
       "    var timer = setInterval(function(root) {\n",
       "      if (root.Bokeh !== undefined) {\n",
       "        clearInterval(timer);\n",
       "        embed_document(root);\n",
       "      } else {\n",
       "        attempts++;\n",
       "        if (attempts > 100) {\n",
       "          clearInterval(timer);\n",
       "          console.log(\"Bokeh: ERROR: Unable to run BokehJS code because BokehJS library is missing\");\n",
       "        }\n",
       "      }\n",
       "    }, 10, root)\n",
       "  }\n",
       "})(window);"
      ],
      "application/vnd.bokehjs_exec.v0+json": ""
     },
     "metadata": {
      "application/vnd.bokehjs_exec.v0+json": {
       "id": "1698"
      }
     },
     "output_type": "display_data"
    }
   ],
   "source": [
    "barplot(x=\"day\", y=\"total_bill\", hue=\"sex\", data=tips)"
   ]
  },
  {
   "cell_type": "code",
   "execution_count": 11,
   "metadata": {},
   "outputs": [
    {
     "data": {
      "text/html": [
       "\n",
       "\n",
       "\n",
       "\n",
       "\n",
       "\n",
       "  <div class=\"bk-root\" id=\"fc341653-c970-4569-a4be-3c29bda2c674\" data-root-id=\"1861\"></div>\n"
      ]
     },
     "metadata": {},
     "output_type": "display_data"
    },
    {
     "data": {
      "application/javascript": [
       "(function(root) {\n",
       "  function embed_document(root) {\n",
       "    \n",
       "  var docs_json = {\"f592471e-7985-4754-bbda-60b15446ee0c\":{\"roots\":{\"references\":[{\"attributes\":{\"below\":[{\"id\":\"1872\",\"type\":\"CategoricalAxis\"}],\"center\":[{\"id\":\"1875\",\"type\":\"Grid\"},{\"id\":\"1880\",\"type\":\"Grid\"}],\"left\":[{\"id\":\"1876\",\"type\":\"LinearAxis\"}],\"plot_height\":350,\"renderers\":[{\"id\":\"1897\",\"type\":\"GlyphRenderer\"},{\"id\":\"1902\",\"type\":\"GlyphRenderer\"}],\"title\":{\"id\":\"1862\",\"type\":\"Title\"},\"toolbar\":{\"id\":\"1887\",\"type\":\"Toolbar\"},\"x_range\":{\"id\":\"1864\",\"type\":\"FactorRange\"},\"x_scale\":{\"id\":\"1868\",\"type\":\"CategoricalScale\"},\"y_range\":{\"id\":\"1866\",\"type\":\"DataRange1d\"},\"y_scale\":{\"id\":\"1870\",\"type\":\"LinearScale\"}},\"id\":\"1861\",\"subtype\":\"Figure\",\"type\":\"Plot\"},{\"attributes\":{\"data_source\":{\"id\":\"1894\",\"type\":\"ColumnDataSource\"},\"glyph\":{\"id\":\"1895\",\"type\":\"VBar\"},\"hover_glyph\":null,\"muted_glyph\":null,\"nonselection_glyph\":{\"id\":\"1896\",\"type\":\"VBar\"},\"selection_glyph\":null,\"view\":{\"id\":\"1898\",\"type\":\"CDSView\"}},\"id\":\"1897\",\"type\":\"GlyphRenderer\"},{\"attributes\":{\"source\":{\"id\":\"1894\",\"type\":\"ColumnDataSource\"}},\"id\":\"1898\",\"type\":\"CDSView\"},{\"attributes\":{\"fill_alpha\":{\"value\":0.1},\"fill_color\":{\"value\":\"#1f77b4\"},\"line_alpha\":{\"value\":0.1},\"line_color\":{\"value\":\"#1f77b4\"},\"top\":{\"field\":\"top\"},\"width\":{\"value\":0.4},\"x\":{\"field\":\"x\"}},\"id\":\"1896\",\"type\":\"VBar\"},{\"attributes\":{\"dimension\":1,\"ticker\":{\"id\":\"1877\",\"type\":\"BasicTicker\"}},\"id\":\"1880\",\"type\":\"Grid\"},{\"attributes\":{\"callback\":null,\"data\":{\"top\":{\"__ndarray__\":\"VAmL2fQcMUDrUbgehWsyQG7GuERqqTNAgk4b6LSBNEA=\",\"dtype\":\"float64\",\"shape\":[4]},\"x\":{\"__ndarray__\":\"ZmZmZmZm5j8zMzMzMzP7P5qZmZmZmQVAmpmZmZmZDUA=\",\"dtype\":\"float64\",\"shape\":[4]}},\"selected\":{\"id\":\"1972\",\"type\":\"Selection\"},\"selection_policy\":{\"id\":\"1971\",\"type\":\"UnionRenderers\"}},\"id\":\"1899\",\"type\":\"ColumnDataSource\"},{\"attributes\":{\"axis_label\":\"day\",\"formatter\":{\"id\":\"1968\",\"type\":\"CategoricalTickFormatter\"},\"ticker\":{\"id\":\"1873\",\"type\":\"CategoricalTicker\"}},\"id\":\"1872\",\"type\":\"CategoricalAxis\"},{\"attributes\":{\"overlay\":{\"id\":\"1973\",\"type\":\"BoxAnnotation\"}},\"id\":\"1883\",\"type\":\"BoxZoomTool\"},{\"attributes\":{\"axis_label\":\"total_bill\",\"formatter\":{\"id\":\"1966\",\"type\":\"BasicTickFormatter\"},\"ticker\":{\"id\":\"1877\",\"type\":\"BasicTicker\"}},\"id\":\"1876\",\"type\":\"LinearAxis\"},{\"attributes\":{\"callback\":null},\"id\":\"1904\",\"type\":\"HoverTool\"},{\"attributes\":{\"fill_color\":\"rgb(224, 128, 44)\",\"line_color\":\"rgb(224, 128, 44)\",\"top\":{\"field\":\"top\"},\"width\":{\"value\":0.4},\"x\":{\"field\":\"x\"}},\"id\":\"1900\",\"type\":\"VBar\"},{\"attributes\":{\"fill_alpha\":{\"value\":0.1},\"fill_color\":{\"value\":\"#1f77b4\"},\"line_alpha\":{\"value\":0.1},\"line_color\":{\"value\":\"#1f77b4\"},\"top\":{\"field\":\"top\"},\"width\":{\"value\":0.4},\"x\":{\"field\":\"x\"}},\"id\":\"1901\",\"type\":\"VBar\"},{\"attributes\":{\"callback\":null,\"data\":{\"top\":{\"__ndarray__\":\"MZf9Y8owM0DQaQOdNtAwQAY6baDTRjVAHoXrUbgeOEA=\",\"dtype\":\"float64\",\"shape\":[4]},\"x\":{\"__ndarray__\":\"MzMzMzMz0z/NzMzMzMz0P2ZmZmZmZgJAZmZmZmZmCkA=\",\"dtype\":\"float64\",\"shape\":[4]}},\"selected\":{\"id\":\"1970\",\"type\":\"Selection\"},\"selection_policy\":{\"id\":\"1969\",\"type\":\"UnionRenderers\"}},\"id\":\"1894\",\"type\":\"ColumnDataSource\"},{\"attributes\":{},\"id\":\"1868\",\"type\":\"CategoricalScale\"},{\"attributes\":{\"data_source\":{\"id\":\"1899\",\"type\":\"ColumnDataSource\"},\"glyph\":{\"id\":\"1900\",\"type\":\"VBar\"},\"hover_glyph\":null,\"muted_glyph\":null,\"nonselection_glyph\":{\"id\":\"1901\",\"type\":\"VBar\"},\"selection_glyph\":null,\"view\":{\"id\":\"1903\",\"type\":\"CDSView\"}},\"id\":\"1902\",\"type\":\"GlyphRenderer\"},{\"attributes\":{\"source\":{\"id\":\"1899\",\"type\":\"ColumnDataSource\"}},\"id\":\"1903\",\"type\":\"CDSView\"},{\"attributes\":{\"bottom_units\":\"screen\",\"fill_alpha\":{\"value\":0.5},\"fill_color\":{\"value\":\"lightgrey\"},\"left_units\":\"screen\",\"level\":\"overlay\",\"line_alpha\":{\"value\":1.0},\"line_color\":{\"value\":\"black\"},\"line_dash\":[4,4],\"line_width\":{\"value\":2},\"render_mode\":\"css\",\"right_units\":\"screen\",\"top_units\":\"screen\"},\"id\":\"1973\",\"type\":\"BoxAnnotation\"},{\"attributes\":{},\"id\":\"1966\",\"type\":\"BasicTickFormatter\"},{\"attributes\":{\"fill_color\":\"rgb(49, 115, 161)\",\"line_color\":\"rgb(49, 115, 161)\",\"top\":{\"field\":\"top\"},\"width\":{\"value\":0.4},\"x\":{\"field\":\"x\"}},\"id\":\"1895\",\"type\":\"VBar\"},{\"attributes\":{},\"id\":\"1968\",\"type\":\"CategoricalTickFormatter\"},{\"attributes\":{\"ticker\":{\"id\":\"1873\",\"type\":\"CategoricalTicker\"}},\"id\":\"1875\",\"type\":\"Grid\"},{\"attributes\":{\"active_drag\":\"auto\",\"active_inspect\":\"auto\",\"active_multi\":null,\"active_scroll\":\"auto\",\"active_tap\":\"auto\",\"tools\":[{\"id\":\"1881\",\"type\":\"PanTool\"},{\"id\":\"1882\",\"type\":\"WheelZoomTool\"},{\"id\":\"1883\",\"type\":\"BoxZoomTool\"},{\"id\":\"1884\",\"type\":\"SaveTool\"},{\"id\":\"1885\",\"type\":\"ResetTool\"},{\"id\":\"1886\",\"type\":\"HelpTool\"},{\"id\":\"1904\",\"type\":\"HoverTool\"}]},\"id\":\"1887\",\"type\":\"Toolbar\"},{\"attributes\":{},\"id\":\"1969\",\"type\":\"UnionRenderers\"},{\"attributes\":{},\"id\":\"1882\",\"type\":\"WheelZoomTool\"},{\"attributes\":{},\"id\":\"1970\",\"type\":\"Selection\"},{\"attributes\":{},\"id\":\"1870\",\"type\":\"LinearScale\"},{\"attributes\":{},\"id\":\"1971\",\"type\":\"UnionRenderers\"},{\"attributes\":{},\"id\":\"1873\",\"type\":\"CategoricalTicker\"},{\"attributes\":{\"text\":\"\"},\"id\":\"1862\",\"type\":\"Title\"},{\"attributes\":{},\"id\":\"1885\",\"type\":\"ResetTool\"},{\"attributes\":{},\"id\":\"1972\",\"type\":\"Selection\"},{\"attributes\":{},\"id\":\"1881\",\"type\":\"PanTool\"},{\"attributes\":{\"callback\":null,\"factors\":[\"Thur\",\"Fri\",\"Sat\",\"Sun\"]},\"id\":\"1864\",\"type\":\"FactorRange\"},{\"attributes\":{},\"id\":\"1884\",\"type\":\"SaveTool\"},{\"attributes\":{\"callback\":null},\"id\":\"1866\",\"type\":\"DataRange1d\"},{\"attributes\":{},\"id\":\"1886\",\"type\":\"HelpTool\"},{\"attributes\":{},\"id\":\"1877\",\"type\":\"BasicTicker\"}],\"root_ids\":[\"1861\"]},\"title\":\"Bokeh Application\",\"version\":\"1.4.0\"}};\n",
       "  var render_items = [{\"docid\":\"f592471e-7985-4754-bbda-60b15446ee0c\",\"roots\":{\"1861\":\"fc341653-c970-4569-a4be-3c29bda2c674\"}}];\n",
       "  root.Bokeh.embed.embed_items_notebook(docs_json, render_items);\n",
       "\n",
       "  }\n",
       "  if (root.Bokeh !== undefined) {\n",
       "    embed_document(root);\n",
       "  } else {\n",
       "    var attempts = 0;\n",
       "    var timer = setInterval(function(root) {\n",
       "      if (root.Bokeh !== undefined) {\n",
       "        clearInterval(timer);\n",
       "        embed_document(root);\n",
       "      } else {\n",
       "        attempts++;\n",
       "        if (attempts > 100) {\n",
       "          clearInterval(timer);\n",
       "          console.log(\"Bokeh: ERROR: Unable to run BokehJS code because BokehJS library is missing\");\n",
       "        }\n",
       "      }\n",
       "    }, 10, root)\n",
       "  }\n",
       "})(window);"
      ],
      "application/vnd.bokehjs_exec.v0+json": ""
     },
     "metadata": {
      "application/vnd.bokehjs_exec.v0+json": {
       "id": "1861"
      }
     },
     "output_type": "display_data"
    }
   ],
   "source": [
    "barplot(x=\"day\", y=\"total_bill\", hue=\"smoker\", data=tips)"
   ]
  },
  {
   "cell_type": "markdown",
   "metadata": {},
   "source": [
    "#### 3.8 Change Plot Properties\n",
    "Change different plot properties such as plot_width:"
   ]
  },
  {
   "cell_type": "code",
   "execution_count": 15,
   "metadata": {},
   "outputs": [
    {
     "data": {
      "text/html": [
       "\n",
       "\n",
       "\n",
       "\n",
       "\n",
       "\n",
       "  <div class=\"bk-root\" id=\"292c13a3-d186-4007-881c-206fd680fd3b\" data-root-id=\"2550\"></div>\n"
      ]
     },
     "metadata": {},
     "output_type": "display_data"
    },
    {
     "data": {
      "application/javascript": [
       "(function(root) {\n",
       "  function embed_document(root) {\n",
       "    \n",
       "  var docs_json = {\"a2b99c34-da93-4977-9bf3-238b9dd76adc\":{\"roots\":{\"references\":[{\"attributes\":{\"below\":[{\"id\":\"2561\",\"type\":\"CategoricalAxis\"}],\"center\":[{\"id\":\"2564\",\"type\":\"Grid\"},{\"id\":\"2569\",\"type\":\"Grid\"}],\"left\":[{\"id\":\"2565\",\"type\":\"LinearAxis\"}],\"plot_height\":350,\"plot_width\":800,\"renderers\":[{\"id\":\"2586\",\"type\":\"GlyphRenderer\"}],\"title\":{\"id\":\"2551\",\"type\":\"Title\"},\"toolbar\":{\"id\":\"2576\",\"type\":\"Toolbar\"},\"x_range\":{\"id\":\"2553\",\"type\":\"FactorRange\"},\"x_scale\":{\"id\":\"2557\",\"type\":\"CategoricalScale\"},\"y_range\":{\"id\":\"2555\",\"type\":\"DataRange1d\"},\"y_scale\":{\"id\":\"2559\",\"type\":\"LinearScale\"}},\"id\":\"2550\",\"subtype\":\"Figure\",\"type\":\"Plot\"},{\"attributes\":{},\"id\":\"2559\",\"type\":\"LinearScale\"},{\"attributes\":{\"active_drag\":\"auto\",\"active_inspect\":\"auto\",\"active_multi\":null,\"active_scroll\":\"auto\",\"active_tap\":\"auto\",\"tools\":[{\"id\":\"2570\",\"type\":\"PanTool\"},{\"id\":\"2571\",\"type\":\"WheelZoomTool\"},{\"id\":\"2572\",\"type\":\"BoxZoomTool\"},{\"id\":\"2573\",\"type\":\"SaveTool\"},{\"id\":\"2574\",\"type\":\"ResetTool\"},{\"id\":\"2575\",\"type\":\"HelpTool\"},{\"id\":\"2588\",\"type\":\"HoverTool\"}]},\"id\":\"2576\",\"type\":\"Toolbar\"},{\"attributes\":{\"dimension\":1,\"ticker\":{\"id\":\"2566\",\"type\":\"BasicTicker\"}},\"id\":\"2569\",\"type\":\"Grid\"},{\"attributes\":{},\"id\":\"2562\",\"type\":\"CategoricalTicker\"},{\"attributes\":{},\"id\":\"2573\",\"type\":\"SaveTool\"},{\"attributes\":{\"fill_color\":{\"field\":\"fill_color\"},\"line_color\":{\"field\":\"line_color\"},\"top\":{\"field\":\"top\"},\"width\":{\"value\":0.7},\"x\":{\"field\":\"x\"}},\"id\":\"2584\",\"type\":\"VBar\"},{\"attributes\":{\"callback\":null,\"data\":{\"fill_color\":[\"rgb(49, 115, 161)\",\"rgb(224, 128, 44)\",\"rgb(58, 145, 58)\",\"rgb(192, 60, 61)\"],\"line_color\":[\"rgb(49, 115, 161)\",\"rgb(224, 128, 44)\",\"rgb(58, 145, 58)\",\"rgb(192, 60, 61)\"],\"top\":{\"__ndarray__\":\"zoLsLMiuMUCgtb3gzSYxQOMPBzz+cDRAKVyPwvVoNUA=\",\"dtype\":\"float64\",\"shape\":[4]},\"x\":[\"Thur\",\"Fri\",\"Sat\",\"Sun\"]},\"selected\":{\"id\":\"2688\",\"type\":\"Selection\"},\"selection_policy\":{\"id\":\"2687\",\"type\":\"UnionRenderers\"}},\"id\":\"2583\",\"type\":\"ColumnDataSource\"},{\"attributes\":{\"fill_alpha\":{\"value\":0.1},\"fill_color\":{\"value\":\"#1f77b4\"},\"line_alpha\":{\"value\":0.1},\"line_color\":{\"value\":\"#1f77b4\"},\"top\":{\"field\":\"top\"},\"width\":{\"value\":0.7},\"x\":{\"field\":\"x\"}},\"id\":\"2585\",\"type\":\"VBar\"},{\"attributes\":{\"callback\":null,\"factors\":[\"Thur\",\"Fri\",\"Sat\",\"Sun\"]},\"id\":\"2553\",\"type\":\"FactorRange\"},{\"attributes\":{\"data_source\":{\"id\":\"2583\",\"type\":\"ColumnDataSource\"},\"glyph\":{\"id\":\"2584\",\"type\":\"VBar\"},\"hover_glyph\":null,\"muted_glyph\":null,\"nonselection_glyph\":{\"id\":\"2585\",\"type\":\"VBar\"},\"selection_glyph\":null,\"view\":{\"id\":\"2587\",\"type\":\"CDSView\"}},\"id\":\"2586\",\"type\":\"GlyphRenderer\"},{\"attributes\":{\"source\":{\"id\":\"2583\",\"type\":\"ColumnDataSource\"}},\"id\":\"2587\",\"type\":\"CDSView\"},{\"attributes\":{\"overlay\":{\"id\":\"2689\",\"type\":\"BoxAnnotation\"}},\"id\":\"2572\",\"type\":\"BoxZoomTool\"},{\"attributes\":{\"callback\":null},\"id\":\"2588\",\"type\":\"HoverTool\"},{\"attributes\":{\"axis_label\":\"day\",\"formatter\":{\"id\":\"2686\",\"type\":\"CategoricalTickFormatter\"},\"ticker\":{\"id\":\"2562\",\"type\":\"CategoricalTicker\"}},\"id\":\"2561\",\"type\":\"CategoricalAxis\"},{\"attributes\":{},\"id\":\"2684\",\"type\":\"BasicTickFormatter\"},{\"attributes\":{\"callback\":null},\"id\":\"2555\",\"type\":\"DataRange1d\"},{\"attributes\":{},\"id\":\"2686\",\"type\":\"CategoricalTickFormatter\"},{\"attributes\":{\"ticker\":{\"id\":\"2562\",\"type\":\"CategoricalTicker\"}},\"id\":\"2564\",\"type\":\"Grid\"},{\"attributes\":{},\"id\":\"2687\",\"type\":\"UnionRenderers\"},{\"attributes\":{},\"id\":\"2570\",\"type\":\"PanTool\"},{\"attributes\":{},\"id\":\"2688\",\"type\":\"Selection\"},{\"attributes\":{\"text\":\"\"},\"id\":\"2551\",\"type\":\"Title\"},{\"attributes\":{\"bottom_units\":\"screen\",\"fill_alpha\":{\"value\":0.5},\"fill_color\":{\"value\":\"lightgrey\"},\"left_units\":\"screen\",\"level\":\"overlay\",\"line_alpha\":{\"value\":1.0},\"line_color\":{\"value\":\"black\"},\"line_dash\":[4,4],\"line_width\":{\"value\":2},\"render_mode\":\"css\",\"right_units\":\"screen\",\"top_units\":\"screen\"},\"id\":\"2689\",\"type\":\"BoxAnnotation\"},{\"attributes\":{},\"id\":\"2574\",\"type\":\"ResetTool\"},{\"attributes\":{},\"id\":\"2575\",\"type\":\"HelpTool\"},{\"attributes\":{},\"id\":\"2571\",\"type\":\"WheelZoomTool\"},{\"attributes\":{},\"id\":\"2557\",\"type\":\"CategoricalScale\"},{\"attributes\":{},\"id\":\"2566\",\"type\":\"BasicTicker\"},{\"attributes\":{\"axis_label\":\"total_bill\",\"formatter\":{\"id\":\"2684\",\"type\":\"BasicTickFormatter\"},\"ticker\":{\"id\":\"2566\",\"type\":\"BasicTicker\"}},\"id\":\"2565\",\"type\":\"LinearAxis\"}],\"root_ids\":[\"2550\"]},\"title\":\"Bokeh Application\",\"version\":\"1.4.0\"}};\n",
       "  var render_items = [{\"docid\":\"a2b99c34-da93-4977-9bf3-238b9dd76adc\",\"roots\":{\"2550\":\"292c13a3-d186-4007-881c-206fd680fd3b\"}}];\n",
       "  root.Bokeh.embed.embed_items_notebook(docs_json, render_items);\n",
       "\n",
       "  }\n",
       "  if (root.Bokeh !== undefined) {\n",
       "    embed_document(root);\n",
       "  } else {\n",
       "    var attempts = 0;\n",
       "    var timer = setInterval(function(root) {\n",
       "      if (root.Bokeh !== undefined) {\n",
       "        clearInterval(timer);\n",
       "        embed_document(root);\n",
       "      } else {\n",
       "        attempts++;\n",
       "        if (attempts > 100) {\n",
       "          clearInterval(timer);\n",
       "          console.log(\"Bokeh: ERROR: Unable to run BokehJS code because BokehJS library is missing\");\n",
       "        }\n",
       "      }\n",
       "    }, 10, root)\n",
       "  }\n",
       "})(window);"
      ],
      "application/vnd.bokehjs_exec.v0+json": ""
     },
     "metadata": {
      "application/vnd.bokehjs_exec.v0+json": {
       "id": "2550"
      }
     },
     "output_type": "display_data"
    }
   ],
   "source": [
    "barplot(x=\"day\", y=\"total_bill\", data=tips, plot_width=800)"
   ]
  },
  {
   "cell_type": "code",
   "execution_count": 14,
   "metadata": {},
   "outputs": [
    {
     "data": {
      "text/html": [
       "\n",
       "\n",
       "\n",
       "\n",
       "\n",
       "\n",
       "  <div class=\"bk-root\" id=\"d7fc17f5-345b-4257-b98d-235dad720251\" data-root-id=\"2370\"></div>\n"
      ]
     },
     "metadata": {},
     "output_type": "display_data"
    },
    {
     "data": {
      "application/javascript": [
       "(function(root) {\n",
       "  function embed_document(root) {\n",
       "    \n",
       "  var docs_json = {\"981dbf40-88f2-47cb-96ae-dfd55b3bd85f\":{\"roots\":{\"references\":[{\"attributes\":{\"below\":[{\"id\":\"2381\",\"type\":\"CategoricalAxis\"}],\"center\":[{\"id\":\"2384\",\"type\":\"Grid\"},{\"id\":\"2389\",\"type\":\"Grid\"}],\"left\":[{\"id\":\"2385\",\"type\":\"LinearAxis\"}],\"plot_height\":200,\"renderers\":[{\"id\":\"2406\",\"type\":\"GlyphRenderer\"}],\"title\":{\"id\":\"2371\",\"type\":\"Title\"},\"toolbar\":{\"id\":\"2396\",\"type\":\"Toolbar\"},\"x_range\":{\"id\":\"2373\",\"type\":\"FactorRange\"},\"x_scale\":{\"id\":\"2377\",\"type\":\"CategoricalScale\"},\"y_range\":{\"id\":\"2375\",\"type\":\"DataRange1d\"},\"y_scale\":{\"id\":\"2379\",\"type\":\"LinearScale\"}},\"id\":\"2370\",\"subtype\":\"Figure\",\"type\":\"Plot\"},{\"attributes\":{},\"id\":\"2395\",\"type\":\"HelpTool\"},{\"attributes\":{},\"id\":\"2393\",\"type\":\"SaveTool\"},{\"attributes\":{\"active_drag\":\"auto\",\"active_inspect\":\"auto\",\"active_multi\":null,\"active_scroll\":\"auto\",\"active_tap\":\"auto\",\"tools\":[{\"id\":\"2390\",\"type\":\"PanTool\"},{\"id\":\"2391\",\"type\":\"WheelZoomTool\"},{\"id\":\"2392\",\"type\":\"BoxZoomTool\"},{\"id\":\"2393\",\"type\":\"SaveTool\"},{\"id\":\"2394\",\"type\":\"ResetTool\"},{\"id\":\"2395\",\"type\":\"HelpTool\"},{\"id\":\"2408\",\"type\":\"HoverTool\"}]},\"id\":\"2396\",\"type\":\"Toolbar\"},{\"attributes\":{},\"id\":\"2391\",\"type\":\"WheelZoomTool\"},{\"attributes\":{\"axis_label\":\"day\",\"formatter\":{\"id\":\"2498\",\"type\":\"CategoricalTickFormatter\"},\"ticker\":{\"id\":\"2382\",\"type\":\"CategoricalTicker\"}},\"id\":\"2381\",\"type\":\"CategoricalAxis\"},{\"attributes\":{},\"id\":\"2386\",\"type\":\"BasicTicker\"},{\"attributes\":{\"fill_color\":{\"field\":\"fill_color\"},\"line_color\":{\"field\":\"line_color\"},\"top\":{\"field\":\"top\"},\"width\":{\"value\":0.7},\"x\":{\"field\":\"x\"}},\"id\":\"2404\",\"type\":\"VBar\"},{\"attributes\":{\"text\":\"Awesome Plot\"},\"id\":\"2371\",\"type\":\"Title\"},{\"attributes\":{\"fill_alpha\":{\"value\":0.1},\"fill_color\":{\"value\":\"#1f77b4\"},\"line_alpha\":{\"value\":0.1},\"line_color\":{\"value\":\"#1f77b4\"},\"top\":{\"field\":\"top\"},\"width\":{\"value\":0.7},\"x\":{\"field\":\"x\"}},\"id\":\"2405\",\"type\":\"VBar\"},{\"attributes\":{\"axis_label\":\"total_bill\",\"formatter\":{\"id\":\"2496\",\"type\":\"BasicTickFormatter\"},\"ticker\":{\"id\":\"2386\",\"type\":\"BasicTicker\"}},\"id\":\"2385\",\"type\":\"LinearAxis\"},{\"attributes\":{\"data_source\":{\"id\":\"2403\",\"type\":\"ColumnDataSource\"},\"glyph\":{\"id\":\"2404\",\"type\":\"VBar\"},\"hover_glyph\":null,\"muted_glyph\":null,\"nonselection_glyph\":{\"id\":\"2405\",\"type\":\"VBar\"},\"selection_glyph\":null,\"view\":{\"id\":\"2407\",\"type\":\"CDSView\"}},\"id\":\"2406\",\"type\":\"GlyphRenderer\"},{\"attributes\":{\"dimension\":1,\"ticker\":{\"id\":\"2386\",\"type\":\"BasicTicker\"}},\"id\":\"2389\",\"type\":\"Grid\"},{\"attributes\":{\"source\":{\"id\":\"2403\",\"type\":\"ColumnDataSource\"}},\"id\":\"2407\",\"type\":\"CDSView\"},{\"attributes\":{},\"id\":\"2382\",\"type\":\"CategoricalTicker\"},{\"attributes\":{\"callback\":null},\"id\":\"2408\",\"type\":\"HoverTool\"},{\"attributes\":{},\"id\":\"2496\",\"type\":\"BasicTickFormatter\"},{\"attributes\":{},\"id\":\"2379\",\"type\":\"LinearScale\"},{\"attributes\":{},\"id\":\"2498\",\"type\":\"CategoricalTickFormatter\"},{\"attributes\":{},\"id\":\"2499\",\"type\":\"UnionRenderers\"},{\"attributes\":{},\"id\":\"2390\",\"type\":\"PanTool\"},{\"attributes\":{},\"id\":\"2500\",\"type\":\"Selection\"},{\"attributes\":{\"callback\":null},\"id\":\"2375\",\"type\":\"DataRange1d\"},{\"attributes\":{\"bottom_units\":\"screen\",\"fill_alpha\":{\"value\":0.5},\"fill_color\":{\"value\":\"lightgrey\"},\"left_units\":\"screen\",\"level\":\"overlay\",\"line_alpha\":{\"value\":1.0},\"line_color\":{\"value\":\"black\"},\"line_dash\":[4,4],\"line_width\":{\"value\":2},\"render_mode\":\"css\",\"right_units\":\"screen\",\"top_units\":\"screen\"},\"id\":\"2501\",\"type\":\"BoxAnnotation\"},{\"attributes\":{\"callback\":null,\"factors\":[\"Thur\",\"Fri\",\"Sat\",\"Sun\"]},\"id\":\"2373\",\"type\":\"FactorRange\"},{\"attributes\":{},\"id\":\"2394\",\"type\":\"ResetTool\"},{\"attributes\":{\"ticker\":{\"id\":\"2382\",\"type\":\"CategoricalTicker\"}},\"id\":\"2384\",\"type\":\"Grid\"},{\"attributes\":{\"overlay\":{\"id\":\"2501\",\"type\":\"BoxAnnotation\"}},\"id\":\"2392\",\"type\":\"BoxZoomTool\"},{\"attributes\":{\"callback\":null,\"data\":{\"fill_color\":[\"rgb(49, 115, 161)\",\"rgb(224, 128, 44)\",\"rgb(58, 145, 58)\",\"rgb(192, 60, 61)\"],\"line_color\":[\"rgb(49, 115, 161)\",\"rgb(224, 128, 44)\",\"rgb(58, 145, 58)\",\"rgb(192, 60, 61)\"],\"top\":{\"__ndarray__\":\"zoLsLMiuMUCgtb3gzSYxQOMPBzz+cDRAKVyPwvVoNUA=\",\"dtype\":\"float64\",\"shape\":[4]},\"x\":[\"Thur\",\"Fri\",\"Sat\",\"Sun\"]},\"selected\":{\"id\":\"2500\",\"type\":\"Selection\"},\"selection_policy\":{\"id\":\"2499\",\"type\":\"UnionRenderers\"}},\"id\":\"2403\",\"type\":\"ColumnDataSource\"},{\"attributes\":{},\"id\":\"2377\",\"type\":\"CategoricalScale\"}],\"root_ids\":[\"2370\"]},\"title\":\"Bokeh Application\",\"version\":\"1.4.0\"}};\n",
       "  var render_items = [{\"docid\":\"981dbf40-88f2-47cb-96ae-dfd55b3bd85f\",\"roots\":{\"2370\":\"d7fc17f5-345b-4257-b98d-235dad720251\"}}];\n",
       "  root.Bokeh.embed.embed_items_notebook(docs_json, render_items);\n",
       "\n",
       "  }\n",
       "  if (root.Bokeh !== undefined) {\n",
       "    embed_document(root);\n",
       "  } else {\n",
       "    var attempts = 0;\n",
       "    var timer = setInterval(function(root) {\n",
       "      if (root.Bokeh !== undefined) {\n",
       "        clearInterval(timer);\n",
       "        embed_document(root);\n",
       "      } else {\n",
       "        attempts++;\n",
       "        if (attempts > 100) {\n",
       "          clearInterval(timer);\n",
       "          console.log(\"Bokeh: ERROR: Unable to run BokehJS code because BokehJS library is missing\");\n",
       "        }\n",
       "      }\n",
       "    }, 10, root)\n",
       "  }\n",
       "})(window);"
      ],
      "application/vnd.bokehjs_exec.v0+json": ""
     },
     "metadata": {
      "application/vnd.bokehjs_exec.v0+json": {
       "id": "2370"
      }
     },
     "output_type": "display_data"
    }
   ],
   "source": [
    "barplot(x=\"day\", y=\"total_bill\", data=tips, plot_width=600, plot_height=200, plot_title=\"Awesome Plot\")"
   ]
  },
  {
   "cell_type": "markdown",
   "metadata": {},
   "source": [
    "#### 3.9 And More\n",
    "Change the other aesthetics of the plot as key word arguments as available in `bokeh.plotting.figure.vbar`, such as changing `alpha` of the plot. List of all the aesthetics properties :: https://docs.bokeh.org/en/latest/docs/reference/plotting.html#bokeh.plotting.figure.Figure.vbar"
   ]
  },
  {
   "cell_type": "code",
   "execution_count": 16,
   "metadata": {},
   "outputs": [
    {
     "data": {
      "text/html": [
       "\n",
       "\n",
       "\n",
       "\n",
       "\n",
       "\n",
       "  <div class=\"bk-root\" id=\"d59f4c76-4e13-4ed4-a1b8-1fe9582048af\" data-root-id=\"2738\"></div>\n"
      ]
     },
     "metadata": {},
     "output_type": "display_data"
    },
    {
     "data": {
      "application/javascript": [
       "(function(root) {\n",
       "  function embed_document(root) {\n",
       "    \n",
       "  var docs_json = {\"77bd06be-9b39-487e-92a7-986b2fa2ae1e\":{\"roots\":{\"references\":[{\"attributes\":{\"below\":[{\"id\":\"2749\",\"type\":\"CategoricalAxis\"}],\"center\":[{\"id\":\"2752\",\"type\":\"Grid\"},{\"id\":\"2757\",\"type\":\"Grid\"}],\"left\":[{\"id\":\"2753\",\"type\":\"LinearAxis\"}],\"plot_height\":350,\"renderers\":[{\"id\":\"2774\",\"type\":\"GlyphRenderer\"}],\"title\":{\"id\":\"2739\",\"type\":\"Title\"},\"toolbar\":{\"id\":\"2764\",\"type\":\"Toolbar\"},\"x_range\":{\"id\":\"2741\",\"type\":\"FactorRange\"},\"x_scale\":{\"id\":\"2745\",\"type\":\"CategoricalScale\"},\"y_range\":{\"id\":\"2743\",\"type\":\"DataRange1d\"},\"y_scale\":{\"id\":\"2747\",\"type\":\"LinearScale\"}},\"id\":\"2738\",\"subtype\":\"Figure\",\"type\":\"Plot\"},{\"attributes\":{},\"id\":\"2750\",\"type\":\"CategoricalTicker\"},{\"attributes\":{\"active_drag\":\"auto\",\"active_inspect\":\"auto\",\"active_multi\":null,\"active_scroll\":\"auto\",\"active_tap\":\"auto\",\"tools\":[{\"id\":\"2758\",\"type\":\"PanTool\"},{\"id\":\"2759\",\"type\":\"WheelZoomTool\"},{\"id\":\"2760\",\"type\":\"BoxZoomTool\"},{\"id\":\"2761\",\"type\":\"SaveTool\"},{\"id\":\"2762\",\"type\":\"ResetTool\"},{\"id\":\"2763\",\"type\":\"HelpTool\"},{\"id\":\"2776\",\"type\":\"HoverTool\"}]},\"id\":\"2764\",\"type\":\"Toolbar\"},{\"attributes\":{\"overlay\":{\"id\":\"2885\",\"type\":\"BoxAnnotation\"}},\"id\":\"2760\",\"type\":\"BoxZoomTool\"},{\"attributes\":{\"axis_label\":\"day\",\"formatter\":{\"id\":\"2882\",\"type\":\"CategoricalTickFormatter\"},\"ticker\":{\"id\":\"2750\",\"type\":\"CategoricalTicker\"}},\"id\":\"2749\",\"type\":\"CategoricalAxis\"},{\"attributes\":{\"fill_alpha\":{\"value\":0.3},\"fill_color\":{\"field\":\"fill_color\"},\"line_alpha\":{\"value\":0.3},\"line_color\":{\"field\":\"line_color\"},\"top\":{\"field\":\"top\"},\"width\":{\"value\":0.7},\"x\":{\"field\":\"x\"}},\"id\":\"2772\",\"type\":\"VBar\"},{\"attributes\":{\"fill_alpha\":{\"value\":0.1},\"fill_color\":{\"value\":\"#1f77b4\"},\"line_alpha\":{\"value\":0.1},\"line_color\":{\"value\":\"#1f77b4\"},\"top\":{\"field\":\"top\"},\"width\":{\"value\":0.7},\"x\":{\"field\":\"x\"}},\"id\":\"2773\",\"type\":\"VBar\"},{\"attributes\":{\"data_source\":{\"id\":\"2771\",\"type\":\"ColumnDataSource\"},\"glyph\":{\"id\":\"2772\",\"type\":\"VBar\"},\"hover_glyph\":null,\"muted_glyph\":null,\"nonselection_glyph\":{\"id\":\"2773\",\"type\":\"VBar\"},\"selection_glyph\":null,\"view\":{\"id\":\"2775\",\"type\":\"CDSView\"}},\"id\":\"2774\",\"type\":\"GlyphRenderer\"},{\"attributes\":{},\"id\":\"2747\",\"type\":\"LinearScale\"},{\"attributes\":{},\"id\":\"2759\",\"type\":\"WheelZoomTool\"},{\"attributes\":{\"source\":{\"id\":\"2771\",\"type\":\"ColumnDataSource\"}},\"id\":\"2775\",\"type\":\"CDSView\"},{\"attributes\":{\"callback\":null,\"data\":{\"fill_color\":[\"rgb(49, 115, 161)\",\"rgb(224, 128, 44)\",\"rgb(58, 145, 58)\",\"rgb(192, 60, 61)\"],\"line_color\":[\"rgb(49, 115, 161)\",\"rgb(224, 128, 44)\",\"rgb(58, 145, 58)\",\"rgb(192, 60, 61)\"],\"top\":{\"__ndarray__\":\"zoLsLMiuMUCgtb3gzSYxQOMPBzz+cDRAKVyPwvVoNUA=\",\"dtype\":\"float64\",\"shape\":[4]},\"x\":[\"Thur\",\"Fri\",\"Sat\",\"Sun\"]},\"selected\":{\"id\":\"2884\",\"type\":\"Selection\"},\"selection_policy\":{\"id\":\"2883\",\"type\":\"UnionRenderers\"}},\"id\":\"2771\",\"type\":\"ColumnDataSource\"},{\"attributes\":{\"callback\":null},\"id\":\"2776\",\"type\":\"HoverTool\"},{\"attributes\":{\"dimension\":1,\"ticker\":{\"id\":\"2754\",\"type\":\"BasicTicker\"}},\"id\":\"2757\",\"type\":\"Grid\"},{\"attributes\":{\"callback\":null,\"factors\":[\"Thur\",\"Fri\",\"Sat\",\"Sun\"]},\"id\":\"2741\",\"type\":\"FactorRange\"},{\"attributes\":{},\"id\":\"2880\",\"type\":\"BasicTickFormatter\"},{\"attributes\":{},\"id\":\"2763\",\"type\":\"HelpTool\"},{\"attributes\":{},\"id\":\"2882\",\"type\":\"CategoricalTickFormatter\"},{\"attributes\":{\"text\":\"\"},\"id\":\"2739\",\"type\":\"Title\"},{\"attributes\":{},\"id\":\"2883\",\"type\":\"UnionRenderers\"},{\"attributes\":{},\"id\":\"2884\",\"type\":\"Selection\"},{\"attributes\":{},\"id\":\"2762\",\"type\":\"ResetTool\"},{\"attributes\":{\"bottom_units\":\"screen\",\"fill_alpha\":{\"value\":0.5},\"fill_color\":{\"value\":\"lightgrey\"},\"left_units\":\"screen\",\"level\":\"overlay\",\"line_alpha\":{\"value\":1.0},\"line_color\":{\"value\":\"black\"},\"line_dash\":[4,4],\"line_width\":{\"value\":2},\"render_mode\":\"css\",\"right_units\":\"screen\",\"top_units\":\"screen\"},\"id\":\"2885\",\"type\":\"BoxAnnotation\"},{\"attributes\":{},\"id\":\"2761\",\"type\":\"SaveTool\"},{\"attributes\":{\"callback\":null},\"id\":\"2743\",\"type\":\"DataRange1d\"},{\"attributes\":{},\"id\":\"2758\",\"type\":\"PanTool\"},{\"attributes\":{},\"id\":\"2745\",\"type\":\"CategoricalScale\"},{\"attributes\":{\"ticker\":{\"id\":\"2750\",\"type\":\"CategoricalTicker\"}},\"id\":\"2752\",\"type\":\"Grid\"},{\"attributes\":{\"axis_label\":\"total_bill\",\"formatter\":{\"id\":\"2880\",\"type\":\"BasicTickFormatter\"},\"ticker\":{\"id\":\"2754\",\"type\":\"BasicTicker\"}},\"id\":\"2753\",\"type\":\"LinearAxis\"},{\"attributes\":{},\"id\":\"2754\",\"type\":\"BasicTicker\"}],\"root_ids\":[\"2738\"]},\"title\":\"Bokeh Application\",\"version\":\"1.4.0\"}};\n",
       "  var render_items = [{\"docid\":\"77bd06be-9b39-487e-92a7-986b2fa2ae1e\",\"roots\":{\"2738\":\"d59f4c76-4e13-4ed4-a1b8-1fe9582048af\"}}];\n",
       "  root.Bokeh.embed.embed_items_notebook(docs_json, render_items);\n",
       "\n",
       "  }\n",
       "  if (root.Bokeh !== undefined) {\n",
       "    embed_document(root);\n",
       "  } else {\n",
       "    var attempts = 0;\n",
       "    var timer = setInterval(function(root) {\n",
       "      if (root.Bokeh !== undefined) {\n",
       "        clearInterval(timer);\n",
       "        embed_document(root);\n",
       "      } else {\n",
       "        attempts++;\n",
       "        if (attempts > 100) {\n",
       "          clearInterval(timer);\n",
       "          console.log(\"Bokeh: ERROR: Unable to run BokehJS code because BokehJS library is missing\");\n",
       "        }\n",
       "      }\n",
       "    }, 10, root)\n",
       "  }\n",
       "})(window);"
      ],
      "application/vnd.bokehjs_exec.v0+json": ""
     },
     "metadata": {
      "application/vnd.bokehjs_exec.v0+json": {
       "id": "2738"
      }
     },
     "output_type": "display_data"
    }
   ],
   "source": [
    "barplot(x=\"day\", y=\"total_bill\", data=tips, alpha=0.3)"
   ]
  },
  {
   "cell_type": "code",
   "execution_count": null,
   "metadata": {},
   "outputs": [],
   "source": []
  }
 ],
 "metadata": {
  "kernelspec": {
   "display_name": "Python 3",
   "language": "python",
   "name": "python3"
  },
  "language_info": {
   "codemirror_mode": {
    "name": "ipython",
    "version": 3
   },
   "file_extension": ".py",
   "mimetype": "text/x-python",
   "name": "python",
   "nbconvert_exporter": "python",
   "pygments_lexer": "ipython3",
   "version": "3.6.9"
  }
 },
 "nbformat": 4,
 "nbformat_minor": 2
}
