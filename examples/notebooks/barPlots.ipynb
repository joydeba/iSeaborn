{
 "cells": [
  {
   "cell_type": "code",
   "execution_count": 1,
   "metadata": {},
   "outputs": [
    {
     "name": "stdout",
     "output_type": "stream",
     "text": [
      "/home/golammostaeen/anaconda3/envs/projectAlphaEnv/bin/python\r\n"
     ]
    }
   ],
   "source": [
    "!which python"
   ]
  },
  {
   "cell_type": "markdown",
   "metadata": {},
   "source": [
    "### 1.0 Import bokehBorn"
   ]
  },
  {
   "cell_type": "code",
   "execution_count": 2,
   "metadata": {},
   "outputs": [],
   "source": [
    "import seaborn as sns\n",
    "from bokehBorn.categorical import barplot\n",
    "from bokeh.io import output_notebook\n",
    "\n",
    "tips = sns.load_dataset(\"tips\")"
   ]
  },
  {
   "cell_type": "code",
   "execution_count": 3,
   "metadata": {},
   "outputs": [
    {
     "data": {
      "text/html": [
       "\n",
       "    <div class=\"bk-root\">\n",
       "        <a href=\"https://bokeh.org\" target=\"_blank\" class=\"bk-logo bk-logo-small bk-logo-notebook\"></a>\n",
       "        <span id=\"1001\">Loading BokehJS ...</span>\n",
       "    </div>"
      ]
     },
     "metadata": {},
     "output_type": "display_data"
    },
    {
     "data": {
      "application/javascript": [
       "\n",
       "(function(root) {\n",
       "  function now() {\n",
       "    return new Date();\n",
       "  }\n",
       "\n",
       "  var force = true;\n",
       "\n",
       "  if (typeof root._bokeh_onload_callbacks === \"undefined\" || force === true) {\n",
       "    root._bokeh_onload_callbacks = [];\n",
       "    root._bokeh_is_loading = undefined;\n",
       "  }\n",
       "\n",
       "  var JS_MIME_TYPE = 'application/javascript';\n",
       "  var HTML_MIME_TYPE = 'text/html';\n",
       "  var EXEC_MIME_TYPE = 'application/vnd.bokehjs_exec.v0+json';\n",
       "  var CLASS_NAME = 'output_bokeh rendered_html';\n",
       "\n",
       "  /**\n",
       "   * Render data to the DOM node\n",
       "   */\n",
       "  function render(props, node) {\n",
       "    var script = document.createElement(\"script\");\n",
       "    node.appendChild(script);\n",
       "  }\n",
       "\n",
       "  /**\n",
       "   * Handle when an output is cleared or removed\n",
       "   */\n",
       "  function handleClearOutput(event, handle) {\n",
       "    var cell = handle.cell;\n",
       "\n",
       "    var id = cell.output_area._bokeh_element_id;\n",
       "    var server_id = cell.output_area._bokeh_server_id;\n",
       "    // Clean up Bokeh references\n",
       "    if (id != null && id in Bokeh.index) {\n",
       "      Bokeh.index[id].model.document.clear();\n",
       "      delete Bokeh.index[id];\n",
       "    }\n",
       "\n",
       "    if (server_id !== undefined) {\n",
       "      // Clean up Bokeh references\n",
       "      var cmd = \"from bokeh.io.state import curstate; print(curstate().uuid_to_server['\" + server_id + \"'].get_sessions()[0].document.roots[0]._id)\";\n",
       "      cell.notebook.kernel.execute(cmd, {\n",
       "        iopub: {\n",
       "          output: function(msg) {\n",
       "            var id = msg.content.text.trim();\n",
       "            if (id in Bokeh.index) {\n",
       "              Bokeh.index[id].model.document.clear();\n",
       "              delete Bokeh.index[id];\n",
       "            }\n",
       "          }\n",
       "        }\n",
       "      });\n",
       "      // Destroy server and session\n",
       "      var cmd = \"import bokeh.io.notebook as ion; ion.destroy_server('\" + server_id + \"')\";\n",
       "      cell.notebook.kernel.execute(cmd);\n",
       "    }\n",
       "  }\n",
       "\n",
       "  /**\n",
       "   * Handle when a new output is added\n",
       "   */\n",
       "  function handleAddOutput(event, handle) {\n",
       "    var output_area = handle.output_area;\n",
       "    var output = handle.output;\n",
       "\n",
       "    // limit handleAddOutput to display_data with EXEC_MIME_TYPE content only\n",
       "    if ((output.output_type != \"display_data\") || (!output.data.hasOwnProperty(EXEC_MIME_TYPE))) {\n",
       "      return\n",
       "    }\n",
       "\n",
       "    var toinsert = output_area.element.find(\".\" + CLASS_NAME.split(' ')[0]);\n",
       "\n",
       "    if (output.metadata[EXEC_MIME_TYPE][\"id\"] !== undefined) {\n",
       "      toinsert[toinsert.length - 1].firstChild.textContent = output.data[JS_MIME_TYPE];\n",
       "      // store reference to embed id on output_area\n",
       "      output_area._bokeh_element_id = output.metadata[EXEC_MIME_TYPE][\"id\"];\n",
       "    }\n",
       "    if (output.metadata[EXEC_MIME_TYPE][\"server_id\"] !== undefined) {\n",
       "      var bk_div = document.createElement(\"div\");\n",
       "      bk_div.innerHTML = output.data[HTML_MIME_TYPE];\n",
       "      var script_attrs = bk_div.children[0].attributes;\n",
       "      for (var i = 0; i < script_attrs.length; i++) {\n",
       "        toinsert[toinsert.length - 1].firstChild.setAttribute(script_attrs[i].name, script_attrs[i].value);\n",
       "      }\n",
       "      // store reference to server id on output_area\n",
       "      output_area._bokeh_server_id = output.metadata[EXEC_MIME_TYPE][\"server_id\"];\n",
       "    }\n",
       "  }\n",
       "\n",
       "  function register_renderer(events, OutputArea) {\n",
       "\n",
       "    function append_mime(data, metadata, element) {\n",
       "      // create a DOM node to render to\n",
       "      var toinsert = this.create_output_subarea(\n",
       "        metadata,\n",
       "        CLASS_NAME,\n",
       "        EXEC_MIME_TYPE\n",
       "      );\n",
       "      this.keyboard_manager.register_events(toinsert);\n",
       "      // Render to node\n",
       "      var props = {data: data, metadata: metadata[EXEC_MIME_TYPE]};\n",
       "      render(props, toinsert[toinsert.length - 1]);\n",
       "      element.append(toinsert);\n",
       "      return toinsert\n",
       "    }\n",
       "\n",
       "    /* Handle when an output is cleared or removed */\n",
       "    events.on('clear_output.CodeCell', handleClearOutput);\n",
       "    events.on('delete.Cell', handleClearOutput);\n",
       "\n",
       "    /* Handle when a new output is added */\n",
       "    events.on('output_added.OutputArea', handleAddOutput);\n",
       "\n",
       "    /**\n",
       "     * Register the mime type and append_mime function with output_area\n",
       "     */\n",
       "    OutputArea.prototype.register_mime_type(EXEC_MIME_TYPE, append_mime, {\n",
       "      /* Is output safe? */\n",
       "      safe: true,\n",
       "      /* Index of renderer in `output_area.display_order` */\n",
       "      index: 0\n",
       "    });\n",
       "  }\n",
       "\n",
       "  // register the mime type if in Jupyter Notebook environment and previously unregistered\n",
       "  if (root.Jupyter !== undefined) {\n",
       "    var events = require('base/js/events');\n",
       "    var OutputArea = require('notebook/js/outputarea').OutputArea;\n",
       "\n",
       "    if (OutputArea.prototype.mime_types().indexOf(EXEC_MIME_TYPE) == -1) {\n",
       "      register_renderer(events, OutputArea);\n",
       "    }\n",
       "  }\n",
       "\n",
       "  \n",
       "  if (typeof (root._bokeh_timeout) === \"undefined\" || force === true) {\n",
       "    root._bokeh_timeout = Date.now() + 5000;\n",
       "    root._bokeh_failed_load = false;\n",
       "  }\n",
       "\n",
       "  var NB_LOAD_WARNING = {'data': {'text/html':\n",
       "     \"<div style='background-color: #fdd'>\\n\"+\n",
       "     \"<p>\\n\"+\n",
       "     \"BokehJS does not appear to have successfully loaded. If loading BokehJS from CDN, this \\n\"+\n",
       "     \"may be due to a slow or bad network connection. Possible fixes:\\n\"+\n",
       "     \"</p>\\n\"+\n",
       "     \"<ul>\\n\"+\n",
       "     \"<li>re-rerun `output_notebook()` to attempt to load from CDN again, or</li>\\n\"+\n",
       "     \"<li>use INLINE resources instead, as so:</li>\\n\"+\n",
       "     \"</ul>\\n\"+\n",
       "     \"<code>\\n\"+\n",
       "     \"from bokeh.resources import INLINE\\n\"+\n",
       "     \"output_notebook(resources=INLINE)\\n\"+\n",
       "     \"</code>\\n\"+\n",
       "     \"</div>\"}};\n",
       "\n",
       "  function display_loaded() {\n",
       "    var el = document.getElementById(\"1001\");\n",
       "    if (el != null) {\n",
       "      el.textContent = \"BokehJS is loading...\";\n",
       "    }\n",
       "    if (root.Bokeh !== undefined) {\n",
       "      if (el != null) {\n",
       "        el.textContent = \"BokehJS \" + root.Bokeh.version + \" successfully loaded.\";\n",
       "      }\n",
       "    } else if (Date.now() < root._bokeh_timeout) {\n",
       "      setTimeout(display_loaded, 100)\n",
       "    }\n",
       "  }\n",
       "\n",
       "\n",
       "  function run_callbacks() {\n",
       "    try {\n",
       "      root._bokeh_onload_callbacks.forEach(function(callback) {\n",
       "        if (callback != null)\n",
       "          callback();\n",
       "      });\n",
       "    } finally {\n",
       "      delete root._bokeh_onload_callbacks\n",
       "    }\n",
       "    console.debug(\"Bokeh: all callbacks have finished\");\n",
       "  }\n",
       "\n",
       "  function load_libs(css_urls, js_urls, callback) {\n",
       "    if (css_urls == null) css_urls = [];\n",
       "    if (js_urls == null) js_urls = [];\n",
       "\n",
       "    root._bokeh_onload_callbacks.push(callback);\n",
       "    if (root._bokeh_is_loading > 0) {\n",
       "      console.debug(\"Bokeh: BokehJS is being loaded, scheduling callback at\", now());\n",
       "      return null;\n",
       "    }\n",
       "    if (js_urls == null || js_urls.length === 0) {\n",
       "      run_callbacks();\n",
       "      return null;\n",
       "    }\n",
       "    console.debug(\"Bokeh: BokehJS not loaded, scheduling load and callback at\", now());\n",
       "    root._bokeh_is_loading = css_urls.length + js_urls.length;\n",
       "\n",
       "    function on_load() {\n",
       "      root._bokeh_is_loading--;\n",
       "      if (root._bokeh_is_loading === 0) {\n",
       "        console.debug(\"Bokeh: all BokehJS libraries/stylesheets loaded\");\n",
       "        run_callbacks()\n",
       "      }\n",
       "    }\n",
       "\n",
       "    function on_error() {\n",
       "      console.error(\"failed to load \" + url);\n",
       "    }\n",
       "\n",
       "    for (var i = 0; i < css_urls.length; i++) {\n",
       "      var url = css_urls[i];\n",
       "      const element = document.createElement(\"link\");\n",
       "      element.onload = on_load;\n",
       "      element.onerror = on_error;\n",
       "      element.rel = \"stylesheet\";\n",
       "      element.type = \"text/css\";\n",
       "      element.href = url;\n",
       "      console.debug(\"Bokeh: injecting link tag for BokehJS stylesheet: \", url);\n",
       "      document.body.appendChild(element);\n",
       "    }\n",
       "\n",
       "    for (var i = 0; i < js_urls.length; i++) {\n",
       "      var url = js_urls[i];\n",
       "      var element = document.createElement('script');\n",
       "      element.onload = on_load;\n",
       "      element.onerror = on_error;\n",
       "      element.async = false;\n",
       "      element.src = url;\n",
       "      console.debug(\"Bokeh: injecting script tag for BokehJS library: \", url);\n",
       "      document.head.appendChild(element);\n",
       "    }\n",
       "  };var element = document.getElementById(\"1001\");\n",
       "  if (element == null) {\n",
       "    console.error(\"Bokeh: ERROR: autoload.js configured with elementid '1001' but no matching script tag was found. \")\n",
       "    return false;\n",
       "  }\n",
       "\n",
       "  function inject_raw_css(css) {\n",
       "    const element = document.createElement(\"style\");\n",
       "    element.appendChild(document.createTextNode(css));\n",
       "    document.body.appendChild(element);\n",
       "  }\n",
       "\n",
       "  \n",
       "  var js_urls = [\"https://cdn.pydata.org/bokeh/release/bokeh-1.4.0.min.js\", \"https://cdn.pydata.org/bokeh/release/bokeh-widgets-1.4.0.min.js\", \"https://cdn.pydata.org/bokeh/release/bokeh-tables-1.4.0.min.js\", \"https://cdn.pydata.org/bokeh/release/bokeh-gl-1.4.0.min.js\"];\n",
       "  var css_urls = [];\n",
       "  \n",
       "\n",
       "  var inline_js = [\n",
       "    function(Bokeh) {\n",
       "      Bokeh.set_log_level(\"info\");\n",
       "    },\n",
       "    function(Bokeh) {\n",
       "    \n",
       "    \n",
       "    }\n",
       "  ];\n",
       "\n",
       "  function run_inline_js() {\n",
       "    \n",
       "    if (root.Bokeh !== undefined || force === true) {\n",
       "      \n",
       "    for (var i = 0; i < inline_js.length; i++) {\n",
       "      inline_js[i].call(root, root.Bokeh);\n",
       "    }\n",
       "    if (force === true) {\n",
       "        display_loaded();\n",
       "      }} else if (Date.now() < root._bokeh_timeout) {\n",
       "      setTimeout(run_inline_js, 100);\n",
       "    } else if (!root._bokeh_failed_load) {\n",
       "      console.log(\"Bokeh: BokehJS failed to load within specified timeout.\");\n",
       "      root._bokeh_failed_load = true;\n",
       "    } else if (force !== true) {\n",
       "      var cell = $(document.getElementById(\"1001\")).parents('.cell').data().cell;\n",
       "      cell.output_area.append_execute_result(NB_LOAD_WARNING)\n",
       "    }\n",
       "\n",
       "  }\n",
       "\n",
       "  if (root._bokeh_is_loading === 0) {\n",
       "    console.debug(\"Bokeh: BokehJS loaded, going straight to plotting\");\n",
       "    run_inline_js();\n",
       "  } else {\n",
       "    load_libs(css_urls, js_urls, function() {\n",
       "      console.debug(\"Bokeh: BokehJS plotting callback run at\", now());\n",
       "      run_inline_js();\n",
       "    });\n",
       "  }\n",
       "}(window));"
      ],
      "application/vnd.bokehjs_load.v0+json": "\n(function(root) {\n  function now() {\n    return new Date();\n  }\n\n  var force = true;\n\n  if (typeof root._bokeh_onload_callbacks === \"undefined\" || force === true) {\n    root._bokeh_onload_callbacks = [];\n    root._bokeh_is_loading = undefined;\n  }\n\n  \n\n  \n  if (typeof (root._bokeh_timeout) === \"undefined\" || force === true) {\n    root._bokeh_timeout = Date.now() + 5000;\n    root._bokeh_failed_load = false;\n  }\n\n  var NB_LOAD_WARNING = {'data': {'text/html':\n     \"<div style='background-color: #fdd'>\\n\"+\n     \"<p>\\n\"+\n     \"BokehJS does not appear to have successfully loaded. If loading BokehJS from CDN, this \\n\"+\n     \"may be due to a slow or bad network connection. Possible fixes:\\n\"+\n     \"</p>\\n\"+\n     \"<ul>\\n\"+\n     \"<li>re-rerun `output_notebook()` to attempt to load from CDN again, or</li>\\n\"+\n     \"<li>use INLINE resources instead, as so:</li>\\n\"+\n     \"</ul>\\n\"+\n     \"<code>\\n\"+\n     \"from bokeh.resources import INLINE\\n\"+\n     \"output_notebook(resources=INLINE)\\n\"+\n     \"</code>\\n\"+\n     \"</div>\"}};\n\n  function display_loaded() {\n    var el = document.getElementById(\"1001\");\n    if (el != null) {\n      el.textContent = \"BokehJS is loading...\";\n    }\n    if (root.Bokeh !== undefined) {\n      if (el != null) {\n        el.textContent = \"BokehJS \" + root.Bokeh.version + \" successfully loaded.\";\n      }\n    } else if (Date.now() < root._bokeh_timeout) {\n      setTimeout(display_loaded, 100)\n    }\n  }\n\n\n  function run_callbacks() {\n    try {\n      root._bokeh_onload_callbacks.forEach(function(callback) {\n        if (callback != null)\n          callback();\n      });\n    } finally {\n      delete root._bokeh_onload_callbacks\n    }\n    console.debug(\"Bokeh: all callbacks have finished\");\n  }\n\n  function load_libs(css_urls, js_urls, callback) {\n    if (css_urls == null) css_urls = [];\n    if (js_urls == null) js_urls = [];\n\n    root._bokeh_onload_callbacks.push(callback);\n    if (root._bokeh_is_loading > 0) {\n      console.debug(\"Bokeh: BokehJS is being loaded, scheduling callback at\", now());\n      return null;\n    }\n    if (js_urls == null || js_urls.length === 0) {\n      run_callbacks();\n      return null;\n    }\n    console.debug(\"Bokeh: BokehJS not loaded, scheduling load and callback at\", now());\n    root._bokeh_is_loading = css_urls.length + js_urls.length;\n\n    function on_load() {\n      root._bokeh_is_loading--;\n      if (root._bokeh_is_loading === 0) {\n        console.debug(\"Bokeh: all BokehJS libraries/stylesheets loaded\");\n        run_callbacks()\n      }\n    }\n\n    function on_error() {\n      console.error(\"failed to load \" + url);\n    }\n\n    for (var i = 0; i < css_urls.length; i++) {\n      var url = css_urls[i];\n      const element = document.createElement(\"link\");\n      element.onload = on_load;\n      element.onerror = on_error;\n      element.rel = \"stylesheet\";\n      element.type = \"text/css\";\n      element.href = url;\n      console.debug(\"Bokeh: injecting link tag for BokehJS stylesheet: \", url);\n      document.body.appendChild(element);\n    }\n\n    for (var i = 0; i < js_urls.length; i++) {\n      var url = js_urls[i];\n      var element = document.createElement('script');\n      element.onload = on_load;\n      element.onerror = on_error;\n      element.async = false;\n      element.src = url;\n      console.debug(\"Bokeh: injecting script tag for BokehJS library: \", url);\n      document.head.appendChild(element);\n    }\n  };var element = document.getElementById(\"1001\");\n  if (element == null) {\n    console.error(\"Bokeh: ERROR: autoload.js configured with elementid '1001' but no matching script tag was found. \")\n    return false;\n  }\n\n  function inject_raw_css(css) {\n    const element = document.createElement(\"style\");\n    element.appendChild(document.createTextNode(css));\n    document.body.appendChild(element);\n  }\n\n  \n  var js_urls = [\"https://cdn.pydata.org/bokeh/release/bokeh-1.4.0.min.js\", \"https://cdn.pydata.org/bokeh/release/bokeh-widgets-1.4.0.min.js\", \"https://cdn.pydata.org/bokeh/release/bokeh-tables-1.4.0.min.js\", \"https://cdn.pydata.org/bokeh/release/bokeh-gl-1.4.0.min.js\"];\n  var css_urls = [];\n  \n\n  var inline_js = [\n    function(Bokeh) {\n      Bokeh.set_log_level(\"info\");\n    },\n    function(Bokeh) {\n    \n    \n    }\n  ];\n\n  function run_inline_js() {\n    \n    if (root.Bokeh !== undefined || force === true) {\n      \n    for (var i = 0; i < inline_js.length; i++) {\n      inline_js[i].call(root, root.Bokeh);\n    }\n    if (force === true) {\n        display_loaded();\n      }} else if (Date.now() < root._bokeh_timeout) {\n      setTimeout(run_inline_js, 100);\n    } else if (!root._bokeh_failed_load) {\n      console.log(\"Bokeh: BokehJS failed to load within specified timeout.\");\n      root._bokeh_failed_load = true;\n    } else if (force !== true) {\n      var cell = $(document.getElementById(\"1001\")).parents('.cell').data().cell;\n      cell.output_area.append_execute_result(NB_LOAD_WARNING)\n    }\n\n  }\n\n  if (root._bokeh_is_loading === 0) {\n    console.debug(\"Bokeh: BokehJS loaded, going straight to plotting\");\n    run_inline_js();\n  } else {\n    load_libs(css_urls, js_urls, function() {\n      console.debug(\"Bokeh: BokehJS plotting callback run at\", now());\n      run_inline_js();\n    });\n  }\n}(window));"
     },
     "metadata": {},
     "output_type": "display_data"
    }
   ],
   "source": [
    "output_notebook()"
   ]
  },
  {
   "cell_type": "markdown",
   "metadata": {},
   "source": [
    "### 2.0 Load Dataset"
   ]
  },
  {
   "cell_type": "code",
   "execution_count": 4,
   "metadata": {},
   "outputs": [
    {
     "data": {
      "text/html": [
       "<div>\n",
       "<style scoped>\n",
       "    .dataframe tbody tr th:only-of-type {\n",
       "        vertical-align: middle;\n",
       "    }\n",
       "\n",
       "    .dataframe tbody tr th {\n",
       "        vertical-align: top;\n",
       "    }\n",
       "\n",
       "    .dataframe thead th {\n",
       "        text-align: right;\n",
       "    }\n",
       "</style>\n",
       "<table border=\"1\" class=\"dataframe\">\n",
       "  <thead>\n",
       "    <tr style=\"text-align: right;\">\n",
       "      <th></th>\n",
       "      <th>total_bill</th>\n",
       "      <th>tip</th>\n",
       "      <th>sex</th>\n",
       "      <th>smoker</th>\n",
       "      <th>day</th>\n",
       "      <th>time</th>\n",
       "      <th>size</th>\n",
       "    </tr>\n",
       "  </thead>\n",
       "  <tbody>\n",
       "    <tr>\n",
       "      <th>0</th>\n",
       "      <td>16.99</td>\n",
       "      <td>1.01</td>\n",
       "      <td>Female</td>\n",
       "      <td>No</td>\n",
       "      <td>Sun</td>\n",
       "      <td>Dinner</td>\n",
       "      <td>2</td>\n",
       "    </tr>\n",
       "    <tr>\n",
       "      <th>1</th>\n",
       "      <td>10.34</td>\n",
       "      <td>1.66</td>\n",
       "      <td>Male</td>\n",
       "      <td>No</td>\n",
       "      <td>Sun</td>\n",
       "      <td>Dinner</td>\n",
       "      <td>3</td>\n",
       "    </tr>\n",
       "    <tr>\n",
       "      <th>2</th>\n",
       "      <td>21.01</td>\n",
       "      <td>3.50</td>\n",
       "      <td>Male</td>\n",
       "      <td>No</td>\n",
       "      <td>Sun</td>\n",
       "      <td>Dinner</td>\n",
       "      <td>3</td>\n",
       "    </tr>\n",
       "    <tr>\n",
       "      <th>3</th>\n",
       "      <td>23.68</td>\n",
       "      <td>3.31</td>\n",
       "      <td>Male</td>\n",
       "      <td>No</td>\n",
       "      <td>Sun</td>\n",
       "      <td>Dinner</td>\n",
       "      <td>2</td>\n",
       "    </tr>\n",
       "    <tr>\n",
       "      <th>4</th>\n",
       "      <td>24.59</td>\n",
       "      <td>3.61</td>\n",
       "      <td>Female</td>\n",
       "      <td>No</td>\n",
       "      <td>Sun</td>\n",
       "      <td>Dinner</td>\n",
       "      <td>4</td>\n",
       "    </tr>\n",
       "  </tbody>\n",
       "</table>\n",
       "</div>"
      ],
      "text/plain": [
       "   total_bill   tip     sex smoker  day    time  size\n",
       "0       16.99  1.01  Female     No  Sun  Dinner     2\n",
       "1       10.34  1.66    Male     No  Sun  Dinner     3\n",
       "2       21.01  3.50    Male     No  Sun  Dinner     3\n",
       "3       23.68  3.31    Male     No  Sun  Dinner     2\n",
       "4       24.59  3.61  Female     No  Sun  Dinner     4"
      ]
     },
     "execution_count": 4,
     "metadata": {},
     "output_type": "execute_result"
    }
   ],
   "source": [
    "tips = sns.load_dataset(\"tips\")\n",
    "tips.head()"
   ]
  },
  {
   "cell_type": "markdown",
   "metadata": {},
   "source": [
    "### 3.0 bokeBorn Bar Plot Examples"
   ]
  },
  {
   "cell_type": "markdown",
   "metadata": {},
   "source": [
    "#### 3.1 Draw Vertical Bar\n",
    "Draw a set of vertical bar plots grouped by a categorical variable:"
   ]
  },
  {
   "cell_type": "code",
   "execution_count": 5,
   "metadata": {},
   "outputs": [
    {
     "data": {
      "text/html": [
       "\n",
       "\n",
       "\n",
       "\n",
       "\n",
       "\n",
       "  <div class=\"bk-root\" id=\"17e1b69c-2396-4171-99f7-7f2dccc3dc5d\" data-root-id=\"1002\"></div>\n"
      ]
     },
     "metadata": {},
     "output_type": "display_data"
    },
    {
     "data": {
      "application/javascript": [
       "(function(root) {\n",
       "  function embed_document(root) {\n",
       "    \n",
       "  var docs_json = {\"b28ad910-b223-42d6-8375-cc1b63855767\":{\"roots\":{\"references\":[{\"attributes\":{\"below\":[{\"id\":\"1011\",\"type\":\"CategoricalAxis\"}],\"center\":[{\"id\":\"1014\",\"type\":\"Grid\"},{\"id\":\"1019\",\"type\":\"Grid\"}],\"left\":[{\"id\":\"1015\",\"type\":\"LinearAxis\"}],\"plot_height\":350,\"renderers\":[{\"id\":\"1036\",\"type\":\"GlyphRenderer\"}],\"title\":{\"id\":\"1041\",\"type\":\"Title\"},\"toolbar\":{\"id\":\"1026\",\"type\":\"Toolbar\"},\"x_range\":{\"id\":\"1003\",\"type\":\"FactorRange\"},\"x_scale\":{\"id\":\"1007\",\"type\":\"CategoricalScale\"},\"y_range\":{\"id\":\"1005\",\"type\":\"DataRange1d\"},\"y_scale\":{\"id\":\"1009\",\"type\":\"LinearScale\"}},\"id\":\"1002\",\"subtype\":\"Figure\",\"type\":\"Plot\"},{\"attributes\":{},\"id\":\"1020\",\"type\":\"PanTool\"},{\"attributes\":{},\"id\":\"1047\",\"type\":\"Selection\"},{\"attributes\":{\"fill_color\":{\"field\":\"fill_color\"},\"line_color\":{\"field\":\"line_color\"},\"top\":{\"field\":\"top\"},\"width\":{\"value\":0.7},\"x\":{\"field\":\"x\"}},\"id\":\"1034\",\"type\":\"VBar\"},{\"attributes\":{},\"id\":\"1021\",\"type\":\"WheelZoomTool\"},{\"attributes\":{\"callback\":null},\"id\":\"1005\",\"type\":\"DataRange1d\"},{\"attributes\":{\"bottom_units\":\"screen\",\"fill_alpha\":{\"value\":0.5},\"fill_color\":{\"value\":\"lightgrey\"},\"left_units\":\"screen\",\"level\":\"overlay\",\"line_alpha\":{\"value\":1.0},\"line_color\":{\"value\":\"black\"},\"line_dash\":[4,4],\"line_width\":{\"value\":2},\"render_mode\":\"css\",\"right_units\":\"screen\",\"top_units\":\"screen\"},\"id\":\"1048\",\"type\":\"BoxAnnotation\"},{\"attributes\":{},\"id\":\"1007\",\"type\":\"CategoricalScale\"},{\"attributes\":{\"overlay\":{\"id\":\"1048\",\"type\":\"BoxAnnotation\"}},\"id\":\"1022\",\"type\":\"BoxZoomTool\"},{\"attributes\":{},\"id\":\"1023\",\"type\":\"SaveTool\"},{\"attributes\":{\"axis_label\":\"day\",\"formatter\":{\"id\":\"1042\",\"type\":\"CategoricalTickFormatter\"},\"ticker\":{\"id\":\"1012\",\"type\":\"CategoricalTicker\"}},\"id\":\"1011\",\"type\":\"CategoricalAxis\"},{\"attributes\":{},\"id\":\"1024\",\"type\":\"ResetTool\"},{\"attributes\":{},\"id\":\"1016\",\"type\":\"BasicTicker\"},{\"attributes\":{},\"id\":\"1025\",\"type\":\"HelpTool\"},{\"attributes\":{\"active_drag\":\"auto\",\"active_inspect\":\"auto\",\"active_multi\":null,\"active_scroll\":\"auto\",\"active_tap\":\"auto\",\"tools\":[{\"id\":\"1020\",\"type\":\"PanTool\"},{\"id\":\"1021\",\"type\":\"WheelZoomTool\"},{\"id\":\"1022\",\"type\":\"BoxZoomTool\"},{\"id\":\"1023\",\"type\":\"SaveTool\"},{\"id\":\"1024\",\"type\":\"ResetTool\"},{\"id\":\"1025\",\"type\":\"HelpTool\"},{\"id\":\"1038\",\"type\":\"HoverTool\"}]},\"id\":\"1026\",\"type\":\"Toolbar\"},{\"attributes\":{\"fill_alpha\":{\"value\":0.1},\"fill_color\":{\"value\":\"#1f77b4\"},\"line_alpha\":{\"value\":0.1},\"line_color\":{\"value\":\"#1f77b4\"},\"top\":{\"field\":\"top\"},\"width\":{\"value\":0.7},\"x\":{\"field\":\"x\"}},\"id\":\"1035\",\"type\":\"VBar\"},{\"attributes\":{\"data_source\":{\"id\":\"1033\",\"type\":\"ColumnDataSource\"},\"glyph\":{\"id\":\"1034\",\"type\":\"VBar\"},\"hover_glyph\":null,\"muted_glyph\":null,\"nonselection_glyph\":{\"id\":\"1035\",\"type\":\"VBar\"},\"selection_glyph\":null,\"view\":{\"id\":\"1037\",\"type\":\"CDSView\"}},\"id\":\"1036\",\"type\":\"GlyphRenderer\"},{\"attributes\":{\"source\":{\"id\":\"1033\",\"type\":\"ColumnDataSource\"}},\"id\":\"1037\",\"type\":\"CDSView\"},{\"attributes\":{\"callback\":null},\"id\":\"1038\",\"type\":\"HoverTool\"},{\"attributes\":{\"callback\":null,\"data\":{\"fill_color\":[\"rgb(49, 115, 161)\",\"rgb(224, 128, 44)\",\"rgb(58, 145, 58)\",\"rgb(192, 60, 61)\"],\"line_color\":[\"rgb(49, 115, 161)\",\"rgb(224, 128, 44)\",\"rgb(58, 145, 58)\",\"rgb(192, 60, 61)\"],\"top\":{\"__ndarray__\":\"zoLsLMiuMUCgtb3gzSYxQOMPBzz+cDRAKVyPwvVoNUA=\",\"dtype\":\"float64\",\"shape\":[4]},\"x\":[\"Thur\",\"Fri\",\"Sat\",\"Sun\"]},\"selected\":{\"id\":\"1047\",\"type\":\"Selection\"},\"selection_policy\":{\"id\":\"1046\",\"type\":\"UnionRenderers\"}},\"id\":\"1033\",\"type\":\"ColumnDataSource\"},{\"attributes\":{\"callback\":null,\"factors\":[\"Thur\",\"Fri\",\"Sat\",\"Sun\"]},\"id\":\"1003\",\"type\":\"FactorRange\"},{\"attributes\":{\"axis_label\":\"total_bill\",\"formatter\":{\"id\":\"1044\",\"type\":\"BasicTickFormatter\"},\"ticker\":{\"id\":\"1016\",\"type\":\"BasicTicker\"}},\"id\":\"1015\",\"type\":\"LinearAxis\"},{\"attributes\":{\"text\":\"\"},\"id\":\"1041\",\"type\":\"Title\"},{\"attributes\":{},\"id\":\"1012\",\"type\":\"CategoricalTicker\"},{\"attributes\":{},\"id\":\"1042\",\"type\":\"CategoricalTickFormatter\"},{\"attributes\":{\"ticker\":{\"id\":\"1012\",\"type\":\"CategoricalTicker\"}},\"id\":\"1014\",\"type\":\"Grid\"},{\"attributes\":{},\"id\":\"1009\",\"type\":\"LinearScale\"},{\"attributes\":{},\"id\":\"1044\",\"type\":\"BasicTickFormatter\"},{\"attributes\":{\"dimension\":1,\"ticker\":{\"id\":\"1016\",\"type\":\"BasicTicker\"}},\"id\":\"1019\",\"type\":\"Grid\"},{\"attributes\":{},\"id\":\"1046\",\"type\":\"UnionRenderers\"}],\"root_ids\":[\"1002\"]},\"title\":\"Bokeh Application\",\"version\":\"1.4.0\"}};\n",
       "  var render_items = [{\"docid\":\"b28ad910-b223-42d6-8375-cc1b63855767\",\"roots\":{\"1002\":\"17e1b69c-2396-4171-99f7-7f2dccc3dc5d\"}}];\n",
       "  root.Bokeh.embed.embed_items_notebook(docs_json, render_items);\n",
       "\n",
       "  }\n",
       "  if (root.Bokeh !== undefined) {\n",
       "    embed_document(root);\n",
       "  } else {\n",
       "    var attempts = 0;\n",
       "    var timer = setInterval(function(root) {\n",
       "      if (root.Bokeh !== undefined) {\n",
       "        clearInterval(timer);\n",
       "        embed_document(root);\n",
       "      } else {\n",
       "        attempts++;\n",
       "        if (attempts > 100) {\n",
       "          clearInterval(timer);\n",
       "          console.log(\"Bokeh: ERROR: Unable to run BokehJS code because BokehJS library is missing\");\n",
       "        }\n",
       "      }\n",
       "    }, 10, root)\n",
       "  }\n",
       "})(window);"
      ],
      "application/vnd.bokehjs_exec.v0+json": ""
     },
     "metadata": {
      "application/vnd.bokehjs_exec.v0+json": {
       "id": "1002"
      }
     },
     "output_type": "display_data"
    }
   ],
   "source": [
    "barplot(x=\"day\", y=\"total_bill\", data=tips)"
   ]
  },
  {
   "cell_type": "markdown",
   "metadata": {},
   "source": [
    "#### 3.2 Draw Horizontal Bar\n",
    "Draw a set of horizontal bars automatically with change of axis"
   ]
  },
  {
   "cell_type": "code",
   "execution_count": 6,
   "metadata": {
    "scrolled": true
   },
   "outputs": [
    {
     "data": {
      "text/html": [
       "\n",
       "\n",
       "\n",
       "\n",
       "\n",
       "\n",
       "  <div class=\"bk-root\" id=\"4c401e0a-d45a-441b-abd1-e9dd4b3c730b\" data-root-id=\"1103\"></div>\n"
      ]
     },
     "metadata": {},
     "output_type": "display_data"
    },
    {
     "data": {
      "application/javascript": [
       "(function(root) {\n",
       "  function embed_document(root) {\n",
       "    \n",
       "  var docs_json = {\"e11fe33c-a34b-4b7a-92c6-06e197246023\":{\"roots\":{\"references\":[{\"attributes\":{\"below\":[{\"id\":\"1112\",\"type\":\"LinearAxis\"}],\"center\":[{\"id\":\"1116\",\"type\":\"Grid\"},{\"id\":\"1120\",\"type\":\"Grid\"}],\"left\":[{\"id\":\"1117\",\"type\":\"CategoricalAxis\"}],\"plot_height\":350,\"renderers\":[{\"id\":\"1137\",\"type\":\"GlyphRenderer\"}],\"title\":{\"id\":\"1151\",\"type\":\"Title\"},\"toolbar\":{\"id\":\"1127\",\"type\":\"Toolbar\"},\"x_range\":{\"id\":\"1104\",\"type\":\"DataRange1d\"},\"x_scale\":{\"id\":\"1108\",\"type\":\"LinearScale\"},\"y_range\":{\"id\":\"1106\",\"type\":\"FactorRange\"},\"y_scale\":{\"id\":\"1110\",\"type\":\"CategoricalScale\"}},\"id\":\"1103\",\"subtype\":\"Figure\",\"type\":\"Plot\"},{\"attributes\":{\"callback\":null,\"factors\":[\"Thur\",\"Fri\",\"Sat\",\"Sun\"]},\"id\":\"1106\",\"type\":\"FactorRange\"},{\"attributes\":{},\"id\":\"1126\",\"type\":\"HelpTool\"},{\"attributes\":{\"dimension\":1,\"ticker\":{\"id\":\"1118\",\"type\":\"CategoricalTicker\"}},\"id\":\"1120\",\"type\":\"Grid\"},{\"attributes\":{},\"id\":\"1118\",\"type\":\"CategoricalTicker\"},{\"attributes\":{\"callback\":null,\"data\":{\"fill_color\":[\"rgb(49, 115, 161)\",\"rgb(224, 128, 44)\",\"rgb(58, 145, 58)\",\"rgb(192, 60, 61)\"],\"line_color\":[\"rgb(49, 115, 161)\",\"rgb(224, 128, 44)\",\"rgb(58, 145, 58)\",\"rgb(192, 60, 61)\"],\"right\":{\"__ndarray__\":\"Ku2+0u4rBkA+EaC1veAFQAMefzjg8QdA3AvebIIKCkA=\",\"dtype\":\"float64\",\"shape\":[4]},\"y\":[\"Thur\",\"Fri\",\"Sat\",\"Sun\"]},\"selected\":{\"id\":\"1157\",\"type\":\"Selection\"},\"selection_policy\":{\"id\":\"1156\",\"type\":\"UnionRenderers\"}},\"id\":\"1134\",\"type\":\"ColumnDataSource\"},{\"attributes\":{\"fill_alpha\":{\"value\":0.1},\"fill_color\":{\"value\":\"#1f77b4\"},\"height\":{\"value\":0.7},\"line_alpha\":{\"value\":0.1},\"line_color\":{\"value\":\"#1f77b4\"},\"right\":{\"field\":\"right\"},\"y\":{\"field\":\"y\"}},\"id\":\"1136\",\"type\":\"HBar\"},{\"attributes\":{},\"id\":\"1124\",\"type\":\"SaveTool\"},{\"attributes\":{\"bottom_units\":\"screen\",\"fill_alpha\":{\"value\":0.5},\"fill_color\":{\"value\":\"lightgrey\"},\"left_units\":\"screen\",\"level\":\"overlay\",\"line_alpha\":{\"value\":1.0},\"line_color\":{\"value\":\"black\"},\"line_dash\":[4,4],\"line_width\":{\"value\":2},\"render_mode\":\"css\",\"right_units\":\"screen\",\"top_units\":\"screen\"},\"id\":\"1158\",\"type\":\"BoxAnnotation\"},{\"attributes\":{},\"id\":\"1157\",\"type\":\"Selection\"},{\"attributes\":{},\"id\":\"1122\",\"type\":\"WheelZoomTool\"},{\"attributes\":{\"overlay\":{\"id\":\"1158\",\"type\":\"BoxAnnotation\"}},\"id\":\"1123\",\"type\":\"BoxZoomTool\"},{\"attributes\":{},\"id\":\"1108\",\"type\":\"LinearScale\"},{\"attributes\":{\"data_source\":{\"id\":\"1134\",\"type\":\"ColumnDataSource\"},\"glyph\":{\"id\":\"1135\",\"type\":\"HBar\"},\"hover_glyph\":null,\"muted_glyph\":null,\"nonselection_glyph\":{\"id\":\"1136\",\"type\":\"HBar\"},\"selection_glyph\":null,\"view\":{\"id\":\"1138\",\"type\":\"CDSView\"}},\"id\":\"1137\",\"type\":\"GlyphRenderer\"},{\"attributes\":{},\"id\":\"1125\",\"type\":\"ResetTool\"},{\"attributes\":{\"text\":\"\"},\"id\":\"1151\",\"type\":\"Title\"},{\"attributes\":{},\"id\":\"1121\",\"type\":\"PanTool\"},{\"attributes\":{},\"id\":\"1156\",\"type\":\"UnionRenderers\"},{\"attributes\":{},\"id\":\"1110\",\"type\":\"CategoricalScale\"},{\"attributes\":{},\"id\":\"1154\",\"type\":\"CategoricalTickFormatter\"},{\"attributes\":{\"axis_label\":\"tip\",\"formatter\":{\"id\":\"1152\",\"type\":\"BasicTickFormatter\"},\"ticker\":{\"id\":\"1113\",\"type\":\"BasicTicker\"}},\"id\":\"1112\",\"type\":\"LinearAxis\"},{\"attributes\":{\"callback\":null},\"id\":\"1104\",\"type\":\"DataRange1d\"},{\"attributes\":{},\"id\":\"1113\",\"type\":\"BasicTicker\"},{\"attributes\":{\"source\":{\"id\":\"1134\",\"type\":\"ColumnDataSource\"}},\"id\":\"1138\",\"type\":\"CDSView\"},{\"attributes\":{\"fill_color\":{\"field\":\"fill_color\"},\"height\":{\"value\":0.7},\"line_color\":{\"field\":\"line_color\"},\"right\":{\"field\":\"right\"},\"y\":{\"field\":\"y\"}},\"id\":\"1135\",\"type\":\"HBar\"},{\"attributes\":{\"axis_label\":\"day\",\"formatter\":{\"id\":\"1154\",\"type\":\"CategoricalTickFormatter\"},\"ticker\":{\"id\":\"1118\",\"type\":\"CategoricalTicker\"}},\"id\":\"1117\",\"type\":\"CategoricalAxis\"},{\"attributes\":{},\"id\":\"1152\",\"type\":\"BasicTickFormatter\"},{\"attributes\":{\"ticker\":{\"id\":\"1113\",\"type\":\"BasicTicker\"}},\"id\":\"1116\",\"type\":\"Grid\"},{\"attributes\":{\"callback\":null},\"id\":\"1139\",\"type\":\"HoverTool\"},{\"attributes\":{\"active_drag\":\"auto\",\"active_inspect\":\"auto\",\"active_multi\":null,\"active_scroll\":\"auto\",\"active_tap\":\"auto\",\"tools\":[{\"id\":\"1121\",\"type\":\"PanTool\"},{\"id\":\"1122\",\"type\":\"WheelZoomTool\"},{\"id\":\"1123\",\"type\":\"BoxZoomTool\"},{\"id\":\"1124\",\"type\":\"SaveTool\"},{\"id\":\"1125\",\"type\":\"ResetTool\"},{\"id\":\"1126\",\"type\":\"HelpTool\"},{\"id\":\"1139\",\"type\":\"HoverTool\"}]},\"id\":\"1127\",\"type\":\"Toolbar\"}],\"root_ids\":[\"1103\"]},\"title\":\"Bokeh Application\",\"version\":\"1.4.0\"}};\n",
       "  var render_items = [{\"docid\":\"e11fe33c-a34b-4b7a-92c6-06e197246023\",\"roots\":{\"1103\":\"4c401e0a-d45a-441b-abd1-e9dd4b3c730b\"}}];\n",
       "  root.Bokeh.embed.embed_items_notebook(docs_json, render_items);\n",
       "\n",
       "  }\n",
       "  if (root.Bokeh !== undefined) {\n",
       "    embed_document(root);\n",
       "  } else {\n",
       "    var attempts = 0;\n",
       "    var timer = setInterval(function(root) {\n",
       "      if (root.Bokeh !== undefined) {\n",
       "        clearInterval(timer);\n",
       "        embed_document(root);\n",
       "      } else {\n",
       "        attempts++;\n",
       "        if (attempts > 100) {\n",
       "          clearInterval(timer);\n",
       "          console.log(\"Bokeh: ERROR: Unable to run BokehJS code because BokehJS library is missing\");\n",
       "        }\n",
       "      }\n",
       "    }, 10, root)\n",
       "  }\n",
       "})(window);"
      ],
      "application/vnd.bokehjs_exec.v0+json": ""
     },
     "metadata": {
      "application/vnd.bokehjs_exec.v0+json": {
       "id": "1103"
      }
     },
     "output_type": "display_data"
    }
   ],
   "source": [
    "barplot(x=\"tip\", y=\"day\", data=tips)"
   ]
  },
  {
   "cell_type": "markdown",
   "metadata": {},
   "source": [
    "#### 3.3 Control Orders\n",
    "Control bar order by passing an explicit order:"
   ]
  },
  {
   "cell_type": "code",
   "execution_count": 7,
   "metadata": {},
   "outputs": [
    {
     "data": {
      "text/html": [
       "\n",
       "\n",
       "\n",
       "\n",
       "\n",
       "\n",
       "  <div class=\"bk-root\" id=\"65f2e0d8-b135-4da2-b298-4e4bac3a62a7\" data-root-id=\"1213\"></div>\n"
      ]
     },
     "metadata": {},
     "output_type": "display_data"
    },
    {
     "data": {
      "application/javascript": [
       "(function(root) {\n",
       "  function embed_document(root) {\n",
       "    \n",
       "  var docs_json = {\"01693845-2183-4ae2-a26b-b71d63b9eeea\":{\"roots\":{\"references\":[{\"attributes\":{\"below\":[{\"id\":\"1222\",\"type\":\"CategoricalAxis\"}],\"center\":[{\"id\":\"1225\",\"type\":\"Grid\"},{\"id\":\"1230\",\"type\":\"Grid\"}],\"left\":[{\"id\":\"1226\",\"type\":\"LinearAxis\"}],\"plot_height\":350,\"renderers\":[{\"id\":\"1247\",\"type\":\"GlyphRenderer\"}],\"title\":{\"id\":\"1270\",\"type\":\"Title\"},\"toolbar\":{\"id\":\"1237\",\"type\":\"Toolbar\"},\"x_range\":{\"id\":\"1214\",\"type\":\"FactorRange\"},\"x_scale\":{\"id\":\"1218\",\"type\":\"CategoricalScale\"},\"y_range\":{\"id\":\"1216\",\"type\":\"DataRange1d\"},\"y_scale\":{\"id\":\"1220\",\"type\":\"LinearScale\"}},\"id\":\"1213\",\"subtype\":\"Figure\",\"type\":\"Plot\"},{\"attributes\":{\"source\":{\"id\":\"1244\",\"type\":\"ColumnDataSource\"}},\"id\":\"1248\",\"type\":\"CDSView\"},{\"attributes\":{},\"id\":\"1218\",\"type\":\"CategoricalScale\"},{\"attributes\":{},\"id\":\"1227\",\"type\":\"BasicTicker\"},{\"attributes\":{\"axis_label\":\"time\",\"formatter\":{\"id\":\"1271\",\"type\":\"CategoricalTickFormatter\"},\"ticker\":{\"id\":\"1223\",\"type\":\"CategoricalTicker\"}},\"id\":\"1222\",\"type\":\"CategoricalAxis\"},{\"attributes\":{\"callback\":null},\"id\":\"1249\",\"type\":\"HoverTool\"},{\"attributes\":{\"text\":\"\"},\"id\":\"1270\",\"type\":\"Title\"},{\"attributes\":{\"callback\":null},\"id\":\"1216\",\"type\":\"DataRange1d\"},{\"attributes\":{},\"id\":\"1271\",\"type\":\"CategoricalTickFormatter\"},{\"attributes\":{},\"id\":\"1220\",\"type\":\"LinearScale\"},{\"attributes\":{},\"id\":\"1273\",\"type\":\"BasicTickFormatter\"},{\"attributes\":{},\"id\":\"1232\",\"type\":\"WheelZoomTool\"},{\"attributes\":{},\"id\":\"1275\",\"type\":\"UnionRenderers\"},{\"attributes\":{},\"id\":\"1234\",\"type\":\"SaveTool\"},{\"attributes\":{},\"id\":\"1276\",\"type\":\"Selection\"},{\"attributes\":{},\"id\":\"1236\",\"type\":\"HelpTool\"},{\"attributes\":{\"bottom_units\":\"screen\",\"fill_alpha\":{\"value\":0.5},\"fill_color\":{\"value\":\"lightgrey\"},\"left_units\":\"screen\",\"level\":\"overlay\",\"line_alpha\":{\"value\":1.0},\"line_color\":{\"value\":\"black\"},\"line_dash\":[4,4],\"line_width\":{\"value\":2},\"render_mode\":\"css\",\"right_units\":\"screen\",\"top_units\":\"screen\"},\"id\":\"1277\",\"type\":\"BoxAnnotation\"},{\"attributes\":{},\"id\":\"1235\",\"type\":\"ResetTool\"},{\"attributes\":{\"fill_color\":{\"field\":\"fill_color\"},\"line_color\":{\"field\":\"line_color\"},\"top\":{\"field\":\"top\"},\"width\":{\"value\":0.7},\"x\":{\"field\":\"x\"}},\"id\":\"1245\",\"type\":\"VBar\"},{\"attributes\":{\"callback\":null,\"data\":{\"fill_color\":[\"rgb(49, 115, 161)\",\"rgb(224, 128, 44)\"],\"line_color\":[\"rgb(49, 115, 161)\",\"rgb(224, 128, 44)\"],\"top\":{\"__ndarray__\":\"VIa57B/TBUAxTiTjRNIIQA==\",\"dtype\":\"float64\",\"shape\":[2]},\"x\":[\"Lunch\",\"Dinner\"]},\"selected\":{\"id\":\"1276\",\"type\":\"Selection\"},\"selection_policy\":{\"id\":\"1275\",\"type\":\"UnionRenderers\"}},\"id\":\"1244\",\"type\":\"ColumnDataSource\"},{\"attributes\":{\"dimension\":1,\"ticker\":{\"id\":\"1227\",\"type\":\"BasicTicker\"}},\"id\":\"1230\",\"type\":\"Grid\"},{\"attributes\":{\"callback\":null,\"factors\":[\"Lunch\",\"Dinner\"]},\"id\":\"1214\",\"type\":\"FactorRange\"},{\"attributes\":{\"ticker\":{\"id\":\"1223\",\"type\":\"CategoricalTicker\"}},\"id\":\"1225\",\"type\":\"Grid\"},{\"attributes\":{},\"id\":\"1223\",\"type\":\"CategoricalTicker\"},{\"attributes\":{\"data_source\":{\"id\":\"1244\",\"type\":\"ColumnDataSource\"},\"glyph\":{\"id\":\"1245\",\"type\":\"VBar\"},\"hover_glyph\":null,\"muted_glyph\":null,\"nonselection_glyph\":{\"id\":\"1246\",\"type\":\"VBar\"},\"selection_glyph\":null,\"view\":{\"id\":\"1248\",\"type\":\"CDSView\"}},\"id\":\"1247\",\"type\":\"GlyphRenderer\"},{\"attributes\":{\"fill_alpha\":{\"value\":0.1},\"fill_color\":{\"value\":\"#1f77b4\"},\"line_alpha\":{\"value\":0.1},\"line_color\":{\"value\":\"#1f77b4\"},\"top\":{\"field\":\"top\"},\"width\":{\"value\":0.7},\"x\":{\"field\":\"x\"}},\"id\":\"1246\",\"type\":\"VBar\"},{\"attributes\":{\"axis_label\":\"tip\",\"formatter\":{\"id\":\"1273\",\"type\":\"BasicTickFormatter\"},\"ticker\":{\"id\":\"1227\",\"type\":\"BasicTicker\"}},\"id\":\"1226\",\"type\":\"LinearAxis\"},{\"attributes\":{\"overlay\":{\"id\":\"1277\",\"type\":\"BoxAnnotation\"}},\"id\":\"1233\",\"type\":\"BoxZoomTool\"},{\"attributes\":{\"active_drag\":\"auto\",\"active_inspect\":\"auto\",\"active_multi\":null,\"active_scroll\":\"auto\",\"active_tap\":\"auto\",\"tools\":[{\"id\":\"1231\",\"type\":\"PanTool\"},{\"id\":\"1232\",\"type\":\"WheelZoomTool\"},{\"id\":\"1233\",\"type\":\"BoxZoomTool\"},{\"id\":\"1234\",\"type\":\"SaveTool\"},{\"id\":\"1235\",\"type\":\"ResetTool\"},{\"id\":\"1236\",\"type\":\"HelpTool\"},{\"id\":\"1249\",\"type\":\"HoverTool\"}]},\"id\":\"1237\",\"type\":\"Toolbar\"},{\"attributes\":{},\"id\":\"1231\",\"type\":\"PanTool\"}],\"root_ids\":[\"1213\"]},\"title\":\"Bokeh Application\",\"version\":\"1.4.0\"}};\n",
       "  var render_items = [{\"docid\":\"01693845-2183-4ae2-a26b-b71d63b9eeea\",\"roots\":{\"1213\":\"65f2e0d8-b135-4da2-b298-4e4bac3a62a7\"}}];\n",
       "  root.Bokeh.embed.embed_items_notebook(docs_json, render_items);\n",
       "\n",
       "  }\n",
       "  if (root.Bokeh !== undefined) {\n",
       "    embed_document(root);\n",
       "  } else {\n",
       "    var attempts = 0;\n",
       "    var timer = setInterval(function(root) {\n",
       "      if (root.Bokeh !== undefined) {\n",
       "        clearInterval(timer);\n",
       "        embed_document(root);\n",
       "      } else {\n",
       "        attempts++;\n",
       "        if (attempts > 100) {\n",
       "          clearInterval(timer);\n",
       "          console.log(\"Bokeh: ERROR: Unable to run BokehJS code because BokehJS library is missing\");\n",
       "        }\n",
       "      }\n",
       "    }, 10, root)\n",
       "  }\n",
       "})(window);"
      ],
      "application/vnd.bokehjs_exec.v0+json": ""
     },
     "metadata": {
      "application/vnd.bokehjs_exec.v0+json": {
       "id": "1213"
      }
     },
     "output_type": "display_data"
    }
   ],
   "source": [
    "barplot(x=\"time\", y=\"tip\", data=tips,order=[\"Lunch\", \"Dinner\"])"
   ]
  },
  {
   "cell_type": "markdown",
   "metadata": {},
   "source": [
    "#### 3.4 Set Desired Estimator\n",
    "For example, use median as the estimate of central tendency:"
   ]
  },
  {
   "cell_type": "code",
   "execution_count": 8,
   "metadata": {},
   "outputs": [
    {
     "data": {
      "text/html": [
       "\n",
       "\n",
       "\n",
       "\n",
       "\n",
       "\n",
       "  <div class=\"bk-root\" id=\"e6110931-ccb5-4f5e-b177-ba3eb0b54ddf\" data-root-id=\"1332\"></div>\n"
      ]
     },
     "metadata": {},
     "output_type": "display_data"
    },
    {
     "data": {
      "application/javascript": [
       "(function(root) {\n",
       "  function embed_document(root) {\n",
       "    \n",
       "  var docs_json = {\"f648bfbe-5622-4acd-9def-b8fcb3f29bbb\":{\"roots\":{\"references\":[{\"attributes\":{\"below\":[{\"id\":\"1341\",\"type\":\"CategoricalAxis\"}],\"center\":[{\"id\":\"1344\",\"type\":\"Grid\"},{\"id\":\"1349\",\"type\":\"Grid\"}],\"left\":[{\"id\":\"1345\",\"type\":\"LinearAxis\"}],\"plot_height\":350,\"renderers\":[{\"id\":\"1366\",\"type\":\"GlyphRenderer\"}],\"title\":{\"id\":\"1398\",\"type\":\"Title\"},\"toolbar\":{\"id\":\"1356\",\"type\":\"Toolbar\"},\"x_range\":{\"id\":\"1333\",\"type\":\"FactorRange\"},\"x_scale\":{\"id\":\"1337\",\"type\":\"CategoricalScale\"},\"y_range\":{\"id\":\"1335\",\"type\":\"DataRange1d\"},\"y_scale\":{\"id\":\"1339\",\"type\":\"LinearScale\"}},\"id\":\"1332\",\"subtype\":\"Figure\",\"type\":\"Plot\"},{\"attributes\":{\"callback\":null,\"factors\":[\"Thur\",\"Fri\",\"Sat\",\"Sun\"]},\"id\":\"1333\",\"type\":\"FactorRange\"},{\"attributes\":{},\"id\":\"1401\",\"type\":\"BasicTickFormatter\"},{\"attributes\":{\"text\":\"\"},\"id\":\"1398\",\"type\":\"Title\"},{\"attributes\":{},\"id\":\"1403\",\"type\":\"UnionRenderers\"},{\"attributes\":{\"callback\":null},\"id\":\"1368\",\"type\":\"HoverTool\"},{\"attributes\":{},\"id\":\"1404\",\"type\":\"Selection\"},{\"attributes\":{\"bottom_units\":\"screen\",\"fill_alpha\":{\"value\":0.5},\"fill_color\":{\"value\":\"lightgrey\"},\"left_units\":\"screen\",\"level\":\"overlay\",\"line_alpha\":{\"value\":1.0},\"line_color\":{\"value\":\"black\"},\"line_dash\":[4,4],\"line_width\":{\"value\":2},\"render_mode\":\"css\",\"right_units\":\"screen\",\"top_units\":\"screen\"},\"id\":\"1405\",\"type\":\"BoxAnnotation\"},{\"attributes\":{\"source\":{\"id\":\"1363\",\"type\":\"ColumnDataSource\"}},\"id\":\"1367\",\"type\":\"CDSView\"},{\"attributes\":{},\"id\":\"1355\",\"type\":\"HelpTool\"},{\"attributes\":{},\"id\":\"1337\",\"type\":\"CategoricalScale\"},{\"attributes\":{},\"id\":\"1399\",\"type\":\"CategoricalTickFormatter\"},{\"attributes\":{},\"id\":\"1354\",\"type\":\"ResetTool\"},{\"attributes\":{\"callback\":null},\"id\":\"1335\",\"type\":\"DataRange1d\"},{\"attributes\":{\"fill_alpha\":{\"value\":0.1},\"fill_color\":{\"value\":\"#1f77b4\"},\"line_alpha\":{\"value\":0.1},\"line_color\":{\"value\":\"#1f77b4\"},\"top\":{\"field\":\"top\"},\"width\":{\"value\":0.7},\"x\":{\"field\":\"x\"}},\"id\":\"1365\",\"type\":\"VBar\"},{\"attributes\":{\"axis_label\":\"tip\",\"formatter\":{\"id\":\"1401\",\"type\":\"BasicTickFormatter\"},\"ticker\":{\"id\":\"1346\",\"type\":\"BasicTicker\"}},\"id\":\"1345\",\"type\":\"LinearAxis\"},{\"attributes\":{\"axis_label\":\"day\",\"formatter\":{\"id\":\"1399\",\"type\":\"CategoricalTickFormatter\"},\"ticker\":{\"id\":\"1342\",\"type\":\"CategoricalTicker\"}},\"id\":\"1341\",\"type\":\"CategoricalAxis\"},{\"attributes\":{},\"id\":\"1350\",\"type\":\"PanTool\"},{\"attributes\":{\"data_source\":{\"id\":\"1363\",\"type\":\"ColumnDataSource\"},\"glyph\":{\"id\":\"1364\",\"type\":\"VBar\"},\"hover_glyph\":null,\"muted_glyph\":null,\"nonselection_glyph\":{\"id\":\"1365\",\"type\":\"VBar\"},\"selection_glyph\":null,\"view\":{\"id\":\"1367\",\"type\":\"CDSView\"}},\"id\":\"1366\",\"type\":\"GlyphRenderer\"},{\"attributes\":{\"callback\":null,\"data\":{\"fill_color\":[\"rgb(49, 115, 161)\",\"rgb(224, 128, 44)\",\"rgb(58, 145, 58)\",\"rgb(192, 60, 61)\"],\"line_color\":[\"rgb(49, 115, 161)\",\"rgb(224, 128, 44)\",\"rgb(58, 145, 58)\",\"rgb(192, 60, 61)\"],\"top\":{\"__ndarray__\":\"cD0K16NwAkAAAAAAAAAIQAAAAAAAAAZANDMzMzMzCUA=\",\"dtype\":\"float64\",\"shape\":[4]},\"x\":[\"Thur\",\"Fri\",\"Sat\",\"Sun\"]},\"selected\":{\"id\":\"1404\",\"type\":\"Selection\"},\"selection_policy\":{\"id\":\"1403\",\"type\":\"UnionRenderers\"}},\"id\":\"1363\",\"type\":\"ColumnDataSource\"},{\"attributes\":{},\"id\":\"1339\",\"type\":\"LinearScale\"},{\"attributes\":{},\"id\":\"1351\",\"type\":\"WheelZoomTool\"},{\"attributes\":{\"fill_color\":{\"field\":\"fill_color\"},\"line_color\":{\"field\":\"line_color\"},\"top\":{\"field\":\"top\"},\"width\":{\"value\":0.7},\"x\":{\"field\":\"x\"}},\"id\":\"1364\",\"type\":\"VBar\"},{\"attributes\":{\"ticker\":{\"id\":\"1342\",\"type\":\"CategoricalTicker\"}},\"id\":\"1344\",\"type\":\"Grid\"},{\"attributes\":{\"dimension\":1,\"ticker\":{\"id\":\"1346\",\"type\":\"BasicTicker\"}},\"id\":\"1349\",\"type\":\"Grid\"},{\"attributes\":{},\"id\":\"1353\",\"type\":\"SaveTool\"},{\"attributes\":{},\"id\":\"1346\",\"type\":\"BasicTicker\"},{\"attributes\":{\"overlay\":{\"id\":\"1405\",\"type\":\"BoxAnnotation\"}},\"id\":\"1352\",\"type\":\"BoxZoomTool\"},{\"attributes\":{\"active_drag\":\"auto\",\"active_inspect\":\"auto\",\"active_multi\":null,\"active_scroll\":\"auto\",\"active_tap\":\"auto\",\"tools\":[{\"id\":\"1350\",\"type\":\"PanTool\"},{\"id\":\"1351\",\"type\":\"WheelZoomTool\"},{\"id\":\"1352\",\"type\":\"BoxZoomTool\"},{\"id\":\"1353\",\"type\":\"SaveTool\"},{\"id\":\"1354\",\"type\":\"ResetTool\"},{\"id\":\"1355\",\"type\":\"HelpTool\"},{\"id\":\"1368\",\"type\":\"HoverTool\"}]},\"id\":\"1356\",\"type\":\"Toolbar\"},{\"attributes\":{},\"id\":\"1342\",\"type\":\"CategoricalTicker\"}],\"root_ids\":[\"1332\"]},\"title\":\"Bokeh Application\",\"version\":\"1.4.0\"}};\n",
       "  var render_items = [{\"docid\":\"f648bfbe-5622-4acd-9def-b8fcb3f29bbb\",\"roots\":{\"1332\":\"e6110931-ccb5-4f5e-b177-ba3eb0b54ddf\"}}];\n",
       "  root.Bokeh.embed.embed_items_notebook(docs_json, render_items);\n",
       "\n",
       "  }\n",
       "  if (root.Bokeh !== undefined) {\n",
       "    embed_document(root);\n",
       "  } else {\n",
       "    var attempts = 0;\n",
       "    var timer = setInterval(function(root) {\n",
       "      if (root.Bokeh !== undefined) {\n",
       "        clearInterval(timer);\n",
       "        embed_document(root);\n",
       "      } else {\n",
       "        attempts++;\n",
       "        if (attempts > 100) {\n",
       "          clearInterval(timer);\n",
       "          console.log(\"Bokeh: ERROR: Unable to run BokehJS code because BokehJS library is missing\");\n",
       "        }\n",
       "      }\n",
       "    }, 10, root)\n",
       "  }\n",
       "})(window);"
      ],
      "application/vnd.bokehjs_exec.v0+json": ""
     },
     "metadata": {
      "application/vnd.bokehjs_exec.v0+json": {
       "id": "1332"
      }
     },
     "output_type": "display_data"
    }
   ],
   "source": [
    "from numpy import median\n",
    "barplot(x=\"day\", y=\"tip\", data=tips, estimator=median)"
   ]
  },
  {
   "cell_type": "markdown",
   "metadata": {},
   "source": [
    "#### 3.5 Choose Palettes\n",
    "Use a different color palette for the bars:"
   ]
  },
  {
   "cell_type": "code",
   "execution_count": 9,
   "metadata": {},
   "outputs": [
    {
     "data": {
      "text/html": [
       "\n",
       "\n",
       "\n",
       "\n",
       "\n",
       "\n",
       "  <div class=\"bk-root\" id=\"ffe784a1-a37b-4199-a121-ca9590f54997\" data-root-id=\"1460\"></div>\n"
      ]
     },
     "metadata": {},
     "output_type": "display_data"
    },
    {
     "data": {
      "application/javascript": [
       "(function(root) {\n",
       "  function embed_document(root) {\n",
       "    \n",
       "  var docs_json = {\"b3da7d88-ef73-45d1-8d59-d80dbaf64da2\":{\"roots\":{\"references\":[{\"attributes\":{\"below\":[{\"id\":\"1469\",\"type\":\"CategoricalAxis\"}],\"center\":[{\"id\":\"1472\",\"type\":\"Grid\"},{\"id\":\"1477\",\"type\":\"Grid\"}],\"left\":[{\"id\":\"1473\",\"type\":\"LinearAxis\"}],\"plot_height\":350,\"renderers\":[{\"id\":\"1494\",\"type\":\"GlyphRenderer\"}],\"title\":{\"id\":\"1535\",\"type\":\"Title\"},\"toolbar\":{\"id\":\"1484\",\"type\":\"Toolbar\"},\"x_range\":{\"id\":\"1461\",\"type\":\"FactorRange\"},\"x_scale\":{\"id\":\"1465\",\"type\":\"CategoricalScale\"},\"y_range\":{\"id\":\"1463\",\"type\":\"DataRange1d\"},\"y_scale\":{\"id\":\"1467\",\"type\":\"LinearScale\"}},\"id\":\"1460\",\"subtype\":\"Figure\",\"type\":\"Plot\"},{\"attributes\":{\"fill_color\":{\"field\":\"fill_color\"},\"line_color\":{\"field\":\"line_color\"},\"top\":{\"field\":\"top\"},\"width\":{\"value\":0.7},\"x\":{\"field\":\"x\"}},\"id\":\"1492\",\"type\":\"VBar\"},{\"attributes\":{\"axis_label\":\"day\",\"formatter\":{\"id\":\"1536\",\"type\":\"CategoricalTickFormatter\"},\"ticker\":{\"id\":\"1470\",\"type\":\"CategoricalTicker\"}},\"id\":\"1469\",\"type\":\"CategoricalAxis\"},{\"attributes\":{},\"id\":\"1540\",\"type\":\"UnionRenderers\"},{\"attributes\":{},\"id\":\"1541\",\"type\":\"Selection\"},{\"attributes\":{},\"id\":\"1538\",\"type\":\"BasicTickFormatter\"},{\"attributes\":{\"bottom_units\":\"screen\",\"fill_alpha\":{\"value\":0.5},\"fill_color\":{\"value\":\"lightgrey\"},\"left_units\":\"screen\",\"level\":\"overlay\",\"line_alpha\":{\"value\":1.0},\"line_color\":{\"value\":\"black\"},\"line_dash\":[4,4],\"line_width\":{\"value\":2},\"render_mode\":\"css\",\"right_units\":\"screen\",\"top_units\":\"screen\"},\"id\":\"1542\",\"type\":\"BoxAnnotation\"},{\"attributes\":{\"text\":\"\"},\"id\":\"1535\",\"type\":\"Title\"},{\"attributes\":{},\"id\":\"1536\",\"type\":\"CategoricalTickFormatter\"},{\"attributes\":{\"callback\":null},\"id\":\"1496\",\"type\":\"HoverTool\"},{\"attributes\":{\"callback\":null},\"id\":\"1463\",\"type\":\"DataRange1d\"},{\"attributes\":{\"dimension\":1,\"ticker\":{\"id\":\"1474\",\"type\":\"BasicTicker\"}},\"id\":\"1477\",\"type\":\"Grid\"},{\"attributes\":{\"fill_alpha\":{\"value\":0.1},\"fill_color\":{\"value\":\"#1f77b4\"},\"line_alpha\":{\"value\":0.1},\"line_color\":{\"value\":\"#1f77b4\"},\"top\":{\"field\":\"top\"},\"width\":{\"value\":0.7},\"x\":{\"field\":\"x\"}},\"id\":\"1493\",\"type\":\"VBar\"},{\"attributes\":{\"data_source\":{\"id\":\"1491\",\"type\":\"ColumnDataSource\"},\"glyph\":{\"id\":\"1492\",\"type\":\"VBar\"},\"hover_glyph\":null,\"muted_glyph\":null,\"nonselection_glyph\":{\"id\":\"1493\",\"type\":\"VBar\"},\"selection_glyph\":null,\"view\":{\"id\":\"1495\",\"type\":\"CDSView\"}},\"id\":\"1494\",\"type\":\"GlyphRenderer\"},{\"attributes\":{},\"id\":\"1481\",\"type\":\"SaveTool\"},{\"attributes\":{},\"id\":\"1479\",\"type\":\"WheelZoomTool\"},{\"attributes\":{},\"id\":\"1465\",\"type\":\"CategoricalScale\"},{\"attributes\":{},\"id\":\"1482\",\"type\":\"ResetTool\"},{\"attributes\":{\"axis_label\":\"total_bill\",\"formatter\":{\"id\":\"1538\",\"type\":\"BasicTickFormatter\"},\"ticker\":{\"id\":\"1474\",\"type\":\"BasicTicker\"}},\"id\":\"1473\",\"type\":\"LinearAxis\"},{\"attributes\":{\"active_drag\":\"auto\",\"active_inspect\":\"auto\",\"active_multi\":null,\"active_scroll\":\"auto\",\"active_tap\":\"auto\",\"tools\":[{\"id\":\"1478\",\"type\":\"PanTool\"},{\"id\":\"1479\",\"type\":\"WheelZoomTool\"},{\"id\":\"1480\",\"type\":\"BoxZoomTool\"},{\"id\":\"1481\",\"type\":\"SaveTool\"},{\"id\":\"1482\",\"type\":\"ResetTool\"},{\"id\":\"1483\",\"type\":\"HelpTool\"},{\"id\":\"1496\",\"type\":\"HoverTool\"}]},\"id\":\"1484\",\"type\":\"Toolbar\"},{\"attributes\":{},\"id\":\"1474\",\"type\":\"BasicTicker\"},{\"attributes\":{},\"id\":\"1467\",\"type\":\"LinearScale\"},{\"attributes\":{\"source\":{\"id\":\"1491\",\"type\":\"ColumnDataSource\"}},\"id\":\"1495\",\"type\":\"CDSView\"},{\"attributes\":{\"overlay\":{\"id\":\"1542\",\"type\":\"BoxAnnotation\"}},\"id\":\"1480\",\"type\":\"BoxZoomTool\"},{\"attributes\":{},\"id\":\"1483\",\"type\":\"HelpTool\"},{\"attributes\":{\"callback\":null,\"data\":{\"fill_color\":[\"rgb(59, 83, 100)\",\"rgb(67, 115, 150)\",\"rgb(93, 146, 184)\",\"rgb(136, 176, 203)\"],\"line_color\":[\"rgb(59, 83, 100)\",\"rgb(67, 115, 150)\",\"rgb(93, 146, 184)\",\"rgb(136, 176, 203)\"],\"top\":{\"__ndarray__\":\"zoLsLMiuMUCgtb3gzSYxQOMPBzz+cDRAKVyPwvVoNUA=\",\"dtype\":\"float64\",\"shape\":[4]},\"x\":[\"Thur\",\"Fri\",\"Sat\",\"Sun\"]},\"selected\":{\"id\":\"1541\",\"type\":\"Selection\"},\"selection_policy\":{\"id\":\"1540\",\"type\":\"UnionRenderers\"}},\"id\":\"1491\",\"type\":\"ColumnDataSource\"},{\"attributes\":{\"ticker\":{\"id\":\"1470\",\"type\":\"CategoricalTicker\"}},\"id\":\"1472\",\"type\":\"Grid\"},{\"attributes\":{},\"id\":\"1470\",\"type\":\"CategoricalTicker\"},{\"attributes\":{},\"id\":\"1478\",\"type\":\"PanTool\"},{\"attributes\":{\"callback\":null,\"factors\":[\"Thur\",\"Fri\",\"Sat\",\"Sun\"]},\"id\":\"1461\",\"type\":\"FactorRange\"}],\"root_ids\":[\"1460\"]},\"title\":\"Bokeh Application\",\"version\":\"1.4.0\"}};\n",
       "  var render_items = [{\"docid\":\"b3da7d88-ef73-45d1-8d59-d80dbaf64da2\",\"roots\":{\"1460\":\"ffe784a1-a37b-4199-a121-ca9590f54997\"}}];\n",
       "  root.Bokeh.embed.embed_items_notebook(docs_json, render_items);\n",
       "\n",
       "  }\n",
       "  if (root.Bokeh !== undefined) {\n",
       "    embed_document(root);\n",
       "  } else {\n",
       "    var attempts = 0;\n",
       "    var timer = setInterval(function(root) {\n",
       "      if (root.Bokeh !== undefined) {\n",
       "        clearInterval(timer);\n",
       "        embed_document(root);\n",
       "      } else {\n",
       "        attempts++;\n",
       "        if (attempts > 100) {\n",
       "          clearInterval(timer);\n",
       "          console.log(\"Bokeh: ERROR: Unable to run BokehJS code because BokehJS library is missing\");\n",
       "        }\n",
       "      }\n",
       "    }, 10, root)\n",
       "  }\n",
       "})(window);"
      ],
      "application/vnd.bokehjs_exec.v0+json": ""
     },
     "metadata": {
      "application/vnd.bokehjs_exec.v0+json": {
       "id": "1460"
      }
     },
     "output_type": "display_data"
    }
   ],
   "source": [
    "barplot(x= \"day\", y=\"total_bill\", data=tips, palette=\"Blues_d\")"
   ]
  },
  {
   "cell_type": "markdown",
   "metadata": {},
   "source": [
    "#### 3.6 Set Specific Color\n",
    "Plot all bars in a single color:"
   ]
  },
  {
   "cell_type": "code",
   "execution_count": 10,
   "metadata": {},
   "outputs": [
    {
     "data": {
      "text/html": [
       "\n",
       "\n",
       "\n",
       "\n",
       "\n",
       "\n",
       "  <div class=\"bk-root\" id=\"e2c15fee-58ed-41e5-a9d8-bae83fcdc282\" data-root-id=\"1597\"></div>\n"
      ]
     },
     "metadata": {},
     "output_type": "display_data"
    },
    {
     "data": {
      "application/javascript": [
       "(function(root) {\n",
       "  function embed_document(root) {\n",
       "    \n",
       "  var docs_json = {\"9de65a36-5d15-4897-8f00-6495225d6097\":{\"roots\":{\"references\":[{\"attributes\":{\"below\":[{\"id\":\"1606\",\"type\":\"CategoricalAxis\"}],\"center\":[{\"id\":\"1609\",\"type\":\"Grid\"},{\"id\":\"1614\",\"type\":\"Grid\"}],\"left\":[{\"id\":\"1610\",\"type\":\"LinearAxis\"}],\"plot_height\":350,\"renderers\":[{\"id\":\"1631\",\"type\":\"GlyphRenderer\"}],\"title\":{\"id\":\"1681\",\"type\":\"Title\"},\"toolbar\":{\"id\":\"1621\",\"type\":\"Toolbar\"},\"x_range\":{\"id\":\"1598\",\"type\":\"FactorRange\"},\"x_scale\":{\"id\":\"1602\",\"type\":\"CategoricalScale\"},\"y_range\":{\"id\":\"1600\",\"type\":\"DataRange1d\"},\"y_scale\":{\"id\":\"1604\",\"type\":\"LinearScale\"}},\"id\":\"1597\",\"subtype\":\"Figure\",\"type\":\"Plot\"},{\"attributes\":{},\"id\":\"1684\",\"type\":\"BasicTickFormatter\"},{\"attributes\":{\"data_source\":{\"id\":\"1628\",\"type\":\"ColumnDataSource\"},\"glyph\":{\"id\":\"1629\",\"type\":\"VBar\"},\"hover_glyph\":null,\"muted_glyph\":null,\"nonselection_glyph\":{\"id\":\"1630\",\"type\":\"VBar\"},\"selection_glyph\":null,\"view\":{\"id\":\"1632\",\"type\":\"CDSView\"}},\"id\":\"1631\",\"type\":\"GlyphRenderer\"},{\"attributes\":{},\"id\":\"1686\",\"type\":\"UnionRenderers\"},{\"attributes\":{},\"id\":\"1687\",\"type\":\"Selection\"},{\"attributes\":{\"callback\":null,\"factors\":[\"Thur\",\"Fri\",\"Sat\",\"Sun\"]},\"id\":\"1598\",\"type\":\"FactorRange\"},{\"attributes\":{\"bottom_units\":\"screen\",\"fill_alpha\":{\"value\":0.5},\"fill_color\":{\"value\":\"lightgrey\"},\"left_units\":\"screen\",\"level\":\"overlay\",\"line_alpha\":{\"value\":1.0},\"line_color\":{\"value\":\"black\"},\"line_dash\":[4,4],\"line_width\":{\"value\":2},\"render_mode\":\"css\",\"right_units\":\"screen\",\"top_units\":\"screen\"},\"id\":\"1688\",\"type\":\"BoxAnnotation\"},{\"attributes\":{},\"id\":\"1607\",\"type\":\"CategoricalTicker\"},{\"attributes\":{\"axis_label\":\"total_bill\",\"formatter\":{\"id\":\"1684\",\"type\":\"BasicTickFormatter\"},\"ticker\":{\"id\":\"1611\",\"type\":\"BasicTicker\"}},\"id\":\"1610\",\"type\":\"LinearAxis\"},{\"attributes\":{\"callback\":null},\"id\":\"1633\",\"type\":\"HoverTool\"},{\"attributes\":{\"dimension\":1,\"ticker\":{\"id\":\"1611\",\"type\":\"BasicTicker\"}},\"id\":\"1614\",\"type\":\"Grid\"},{\"attributes\":{\"fill_color\":{\"field\":\"fill_color\"},\"line_color\":{\"field\":\"line_color\"},\"top\":{\"field\":\"top\"},\"width\":{\"value\":0.7},\"x\":{\"field\":\"x\"}},\"id\":\"1629\",\"type\":\"VBar\"},{\"attributes\":{\"overlay\":{\"id\":\"1688\",\"type\":\"BoxAnnotation\"}},\"id\":\"1617\",\"type\":\"BoxZoomTool\"},{\"attributes\":{},\"id\":\"1682\",\"type\":\"CategoricalTickFormatter\"},{\"attributes\":{},\"id\":\"1616\",\"type\":\"WheelZoomTool\"},{\"attributes\":{},\"id\":\"1618\",\"type\":\"SaveTool\"},{\"attributes\":{\"active_drag\":\"auto\",\"active_inspect\":\"auto\",\"active_multi\":null,\"active_scroll\":\"auto\",\"active_tap\":\"auto\",\"tools\":[{\"id\":\"1615\",\"type\":\"PanTool\"},{\"id\":\"1616\",\"type\":\"WheelZoomTool\"},{\"id\":\"1617\",\"type\":\"BoxZoomTool\"},{\"id\":\"1618\",\"type\":\"SaveTool\"},{\"id\":\"1619\",\"type\":\"ResetTool\"},{\"id\":\"1620\",\"type\":\"HelpTool\"},{\"id\":\"1633\",\"type\":\"HoverTool\"}]},\"id\":\"1621\",\"type\":\"Toolbar\"},{\"attributes\":{\"text\":\"\"},\"id\":\"1681\",\"type\":\"Title\"},{\"attributes\":{\"callback\":null},\"id\":\"1600\",\"type\":\"DataRange1d\"},{\"attributes\":{},\"id\":\"1611\",\"type\":\"BasicTicker\"},{\"attributes\":{},\"id\":\"1619\",\"type\":\"ResetTool\"},{\"attributes\":{\"callback\":null,\"data\":{\"fill_color\":[\"rgb(216, 155, 147)\",\"rgb(216, 155, 147)\",\"rgb(216, 155, 147)\",\"rgb(216, 155, 147)\"],\"line_color\":[\"rgb(216, 155, 147)\",\"rgb(216, 155, 147)\",\"rgb(216, 155, 147)\",\"rgb(216, 155, 147)\"],\"top\":{\"__ndarray__\":\"zoLsLMiuMUCgtb3gzSYxQOMPBzz+cDRAKVyPwvVoNUA=\",\"dtype\":\"float64\",\"shape\":[4]},\"x\":[\"Thur\",\"Fri\",\"Sat\",\"Sun\"]},\"selected\":{\"id\":\"1687\",\"type\":\"Selection\"},\"selection_policy\":{\"id\":\"1686\",\"type\":\"UnionRenderers\"}},\"id\":\"1628\",\"type\":\"ColumnDataSource\"},{\"attributes\":{},\"id\":\"1620\",\"type\":\"HelpTool\"},{\"attributes\":{},\"id\":\"1615\",\"type\":\"PanTool\"},{\"attributes\":{},\"id\":\"1602\",\"type\":\"CategoricalScale\"},{\"attributes\":{},\"id\":\"1604\",\"type\":\"LinearScale\"},{\"attributes\":{\"source\":{\"id\":\"1628\",\"type\":\"ColumnDataSource\"}},\"id\":\"1632\",\"type\":\"CDSView\"},{\"attributes\":{\"axis_label\":\"day\",\"formatter\":{\"id\":\"1682\",\"type\":\"CategoricalTickFormatter\"},\"ticker\":{\"id\":\"1607\",\"type\":\"CategoricalTicker\"}},\"id\":\"1606\",\"type\":\"CategoricalAxis\"},{\"attributes\":{\"ticker\":{\"id\":\"1607\",\"type\":\"CategoricalTicker\"}},\"id\":\"1609\",\"type\":\"Grid\"},{\"attributes\":{\"fill_alpha\":{\"value\":0.1},\"fill_color\":{\"value\":\"#1f77b4\"},\"line_alpha\":{\"value\":0.1},\"line_color\":{\"value\":\"#1f77b4\"},\"top\":{\"field\":\"top\"},\"width\":{\"value\":0.7},\"x\":{\"field\":\"x\"}},\"id\":\"1630\",\"type\":\"VBar\"}],\"root_ids\":[\"1597\"]},\"title\":\"Bokeh Application\",\"version\":\"1.4.0\"}};\n",
       "  var render_items = [{\"docid\":\"9de65a36-5d15-4897-8f00-6495225d6097\",\"roots\":{\"1597\":\"e2c15fee-58ed-41e5-a9d8-bae83fcdc282\"}}];\n",
       "  root.Bokeh.embed.embed_items_notebook(docs_json, render_items);\n",
       "\n",
       "  }\n",
       "  if (root.Bokeh !== undefined) {\n",
       "    embed_document(root);\n",
       "  } else {\n",
       "    var attempts = 0;\n",
       "    var timer = setInterval(function(root) {\n",
       "      if (root.Bokeh !== undefined) {\n",
       "        clearInterval(timer);\n",
       "        embed_document(root);\n",
       "      } else {\n",
       "        attempts++;\n",
       "        if (attempts > 100) {\n",
       "          clearInterval(timer);\n",
       "          console.log(\"Bokeh: ERROR: Unable to run BokehJS code because BokehJS library is missing\");\n",
       "        }\n",
       "      }\n",
       "    }, 10, root)\n",
       "  }\n",
       "})(window);"
      ],
      "application/vnd.bokehjs_exec.v0+json": ""
     },
     "metadata": {
      "application/vnd.bokehjs_exec.v0+json": {
       "id": "1597"
      }
     },
     "output_type": "display_data"
    }
   ],
   "source": [
    "barplot(x= \"day\", y=\"total_bill\", data=tips,color=\"salmon\", saturation=.5)"
   ]
  },
  {
   "cell_type": "code",
   "execution_count": 11,
   "metadata": {},
   "outputs": [
    {
     "name": "stdout",
     "output_type": "stream",
     "text": [
      "['Male', 'Female']\n",
      "[[18.71466667 16.7153125 ]\n",
      " [19.857      14.14555556]\n",
      " [20.80254237 19.68035714]\n",
      " [21.88724138 19.87222222]]\n",
      "0.4\n"
     ]
    },
    {
     "data": {
      "text/html": [
       "\n",
       "\n",
       "\n",
       "\n",
       "\n",
       "\n",
       "  <div class=\"bk-root\" id=\"ed6acd02-c12d-46fa-b6f7-bfcf5c1577cd\" data-root-id=\"1743\"></div>\n"
      ]
     },
     "metadata": {},
     "output_type": "display_data"
    },
    {
     "data": {
      "application/javascript": [
       "(function(root) {\n",
       "  function embed_document(root) {\n",
       "    \n",
       "  var docs_json = {\"cd6d5d2e-2dc3-4a36-a8ac-c2e67abce528\":{\"roots\":{\"references\":[{\"attributes\":{\"below\":[{\"id\":\"1752\",\"type\":\"CategoricalAxis\"}],\"center\":[{\"id\":\"1755\",\"type\":\"Grid\"},{\"id\":\"1760\",\"type\":\"Grid\"}],\"left\":[{\"id\":\"1756\",\"type\":\"LinearAxis\"}],\"plot_height\":350,\"renderers\":[{\"id\":\"1777\",\"type\":\"GlyphRenderer\"},{\"id\":\"1782\",\"type\":\"GlyphRenderer\"}],\"title\":{\"id\":\"1841\",\"type\":\"Title\"},\"toolbar\":{\"id\":\"1767\",\"type\":\"Toolbar\"},\"x_range\":{\"id\":\"1744\",\"type\":\"FactorRange\"},\"x_scale\":{\"id\":\"1748\",\"type\":\"CategoricalScale\"},\"y_range\":{\"id\":\"1746\",\"type\":\"DataRange1d\"},\"y_scale\":{\"id\":\"1750\",\"type\":\"LinearScale\"}},\"id\":\"1743\",\"subtype\":\"Figure\",\"type\":\"Plot\"},{\"attributes\":{},\"id\":\"1764\",\"type\":\"SaveTool\"},{\"attributes\":{\"source\":{\"id\":\"1779\",\"type\":\"ColumnDataSource\"}},\"id\":\"1783\",\"type\":\"CDSView\"},{\"attributes\":{\"data_source\":{\"id\":\"1779\",\"type\":\"ColumnDataSource\"},\"glyph\":{\"id\":\"1780\",\"type\":\"VBar\"},\"hover_glyph\":null,\"muted_glyph\":null,\"nonselection_glyph\":{\"id\":\"1781\",\"type\":\"VBar\"},\"selection_glyph\":null,\"view\":{\"id\":\"1783\",\"type\":\"CDSView\"}},\"id\":\"1782\",\"type\":\"GlyphRenderer\"},{\"attributes\":{},\"id\":\"1766\",\"type\":\"HelpTool\"},{\"attributes\":{\"text\":\"\"},\"id\":\"1841\",\"type\":\"Title\"},{\"attributes\":{},\"id\":\"1842\",\"type\":\"CategoricalTickFormatter\"},{\"attributes\":{},\"id\":\"1844\",\"type\":\"BasicTickFormatter\"},{\"attributes\":{\"callback\":null},\"id\":\"1746\",\"type\":\"DataRange1d\"},{\"attributes\":{\"callback\":null,\"factors\":[\"Thur\",\"Fri\",\"Sat\",\"Sun\"]},\"id\":\"1744\",\"type\":\"FactorRange\"},{\"attributes\":{},\"id\":\"1753\",\"type\":\"CategoricalTicker\"},{\"attributes\":{},\"id\":\"1846\",\"type\":\"UnionRenderers\"},{\"attributes\":{},\"id\":\"1847\",\"type\":\"Selection\"},{\"attributes\":{\"callback\":null},\"id\":\"1784\",\"type\":\"HoverTool\"},{\"attributes\":{\"axis_label\":\"day\",\"formatter\":{\"id\":\"1842\",\"type\":\"CategoricalTickFormatter\"},\"ticker\":{\"id\":\"1753\",\"type\":\"CategoricalTicker\"}},\"id\":\"1752\",\"type\":\"CategoricalAxis\"},{\"attributes\":{},\"id\":\"1750\",\"type\":\"LinearScale\"},{\"attributes\":{},\"id\":\"1765\",\"type\":\"ResetTool\"},{\"attributes\":{},\"id\":\"1848\",\"type\":\"UnionRenderers\"},{\"attributes\":{},\"id\":\"1762\",\"type\":\"WheelZoomTool\"},{\"attributes\":{\"fill_alpha\":{\"value\":0.1},\"fill_color\":{\"value\":\"#1f77b4\"},\"line_alpha\":{\"value\":0.1},\"line_color\":{\"value\":\"#1f77b4\"},\"top\":{\"field\":\"top\"},\"width\":{\"value\":0.4},\"x\":{\"field\":\"x\"}},\"id\":\"1781\",\"type\":\"VBar\"},{\"attributes\":{},\"id\":\"1849\",\"type\":\"Selection\"},{\"attributes\":{\"overlay\":{\"id\":\"1850\",\"type\":\"BoxAnnotation\"}},\"id\":\"1763\",\"type\":\"BoxZoomTool\"},{\"attributes\":{\"bottom_units\":\"screen\",\"fill_alpha\":{\"value\":0.5},\"fill_color\":{\"value\":\"lightgrey\"},\"left_units\":\"screen\",\"level\":\"overlay\",\"line_alpha\":{\"value\":1.0},\"line_color\":{\"value\":\"black\"},\"line_dash\":[4,4],\"line_width\":{\"value\":2},\"render_mode\":\"css\",\"right_units\":\"screen\",\"top_units\":\"screen\"},\"id\":\"1850\",\"type\":\"BoxAnnotation\"},{\"attributes\":{},\"id\":\"1761\",\"type\":\"PanTool\"},{\"attributes\":{},\"id\":\"1748\",\"type\":\"CategoricalScale\"},{\"attributes\":{\"dimension\":1,\"ticker\":{\"id\":\"1757\",\"type\":\"BasicTicker\"}},\"id\":\"1760\",\"type\":\"Grid\"},{\"attributes\":{},\"id\":\"1757\",\"type\":\"BasicTicker\"},{\"attributes\":{\"ticker\":{\"id\":\"1753\",\"type\":\"CategoricalTicker\"}},\"id\":\"1755\",\"type\":\"Grid\"},{\"attributes\":{\"fill_color\":\"rgb(224, 128, 44)\",\"line_color\":{\"value\":\"#1f77b4\"},\"top\":{\"field\":\"top\"},\"width\":{\"value\":0.4},\"x\":{\"field\":\"x\"}},\"id\":\"1780\",\"type\":\"VBar\"},{\"attributes\":{\"callback\":null,\"data\":{\"top\":{\"__ndarray__\":\"hetRuB63MEB1uf1BhkosQOIrvuIrrjNA9Emf9EnfM0A=\",\"dtype\":\"float64\",\"shape\":[4]},\"x\":{\"__ndarray__\":\"mpmZmZmZyT8zMzMzMzPzP5qZmZmZmQFAmpmZmZmZCUA=\",\"dtype\":\"float64\",\"shape\":[4]}},\"selected\":{\"id\":\"1849\",\"type\":\"Selection\"},\"selection_policy\":{\"id\":\"1848\",\"type\":\"UnionRenderers\"}},\"id\":\"1779\",\"type\":\"ColumnDataSource\"},{\"attributes\":{\"fill_color\":\"rgb(49, 115, 161)\",\"line_color\":{\"value\":\"#1f77b4\"},\"top\":{\"field\":\"top\"},\"width\":{\"value\":0.4},\"x\":{\"field\":\"x\"}},\"id\":\"1775\",\"type\":\"VBar\"},{\"attributes\":{\"source\":{\"id\":\"1774\",\"type\":\"ColumnDataSource\"}},\"id\":\"1778\",\"type\":\"CDSView\"},{\"attributes\":{\"callback\":null,\"data\":{\"top\":{\"__ndarray__\":\"698IZfS2MkAIrBxaZNszQP4tvWpzzTRAvstDQCLjNUA=\",\"dtype\":\"float64\",\"shape\":[4]},\"x\":{\"__ndarray__\":\"mpmZmZmZyb+amZmZmZnpP83MzMzMzPw/ZmZmZmZmBkA=\",\"dtype\":\"float64\",\"shape\":[4]}},\"selected\":{\"id\":\"1847\",\"type\":\"Selection\"},\"selection_policy\":{\"id\":\"1846\",\"type\":\"UnionRenderers\"}},\"id\":\"1774\",\"type\":\"ColumnDataSource\"},{\"attributes\":{\"data_source\":{\"id\":\"1774\",\"type\":\"ColumnDataSource\"},\"glyph\":{\"id\":\"1775\",\"type\":\"VBar\"},\"hover_glyph\":null,\"muted_glyph\":null,\"nonselection_glyph\":{\"id\":\"1776\",\"type\":\"VBar\"},\"selection_glyph\":null,\"view\":{\"id\":\"1778\",\"type\":\"CDSView\"}},\"id\":\"1777\",\"type\":\"GlyphRenderer\"},{\"attributes\":{\"fill_alpha\":{\"value\":0.1},\"fill_color\":{\"value\":\"#1f77b4\"},\"line_alpha\":{\"value\":0.1},\"line_color\":{\"value\":\"#1f77b4\"},\"top\":{\"field\":\"top\"},\"width\":{\"value\":0.4},\"x\":{\"field\":\"x\"}},\"id\":\"1776\",\"type\":\"VBar\"},{\"attributes\":{\"axis_label\":\"total_bill\",\"formatter\":{\"id\":\"1844\",\"type\":\"BasicTickFormatter\"},\"ticker\":{\"id\":\"1757\",\"type\":\"BasicTicker\"}},\"id\":\"1756\",\"type\":\"LinearAxis\"},{\"attributes\":{\"active_drag\":\"auto\",\"active_inspect\":\"auto\",\"active_multi\":null,\"active_scroll\":\"auto\",\"active_tap\":\"auto\",\"tools\":[{\"id\":\"1761\",\"type\":\"PanTool\"},{\"id\":\"1762\",\"type\":\"WheelZoomTool\"},{\"id\":\"1763\",\"type\":\"BoxZoomTool\"},{\"id\":\"1764\",\"type\":\"SaveTool\"},{\"id\":\"1765\",\"type\":\"ResetTool\"},{\"id\":\"1766\",\"type\":\"HelpTool\"},{\"id\":\"1784\",\"type\":\"HoverTool\"}]},\"id\":\"1767\",\"type\":\"Toolbar\"}],\"root_ids\":[\"1743\"]},\"title\":\"Bokeh Application\",\"version\":\"1.4.0\"}};\n",
       "  var render_items = [{\"docid\":\"cd6d5d2e-2dc3-4a36-a8ac-c2e67abce528\",\"roots\":{\"1743\":\"ed6acd02-c12d-46fa-b6f7-bfcf5c1577cd\"}}];\n",
       "  root.Bokeh.embed.embed_items_notebook(docs_json, render_items);\n",
       "\n",
       "  }\n",
       "  if (root.Bokeh !== undefined) {\n",
       "    embed_document(root);\n",
       "  } else {\n",
       "    var attempts = 0;\n",
       "    var timer = setInterval(function(root) {\n",
       "      if (root.Bokeh !== undefined) {\n",
       "        clearInterval(timer);\n",
       "        embed_document(root);\n",
       "      } else {\n",
       "        attempts++;\n",
       "        if (attempts > 100) {\n",
       "          clearInterval(timer);\n",
       "          console.log(\"Bokeh: ERROR: Unable to run BokehJS code because BokehJS library is missing\");\n",
       "        }\n",
       "      }\n",
       "    }, 10, root)\n",
       "  }\n",
       "})(window);"
      ],
      "application/vnd.bokehjs_exec.v0+json": ""
     },
     "metadata": {
      "application/vnd.bokehjs_exec.v0+json": {
       "id": "1743"
      }
     },
     "output_type": "display_data"
    }
   ],
   "source": [
    "barplot(x=\"day\", y=\"total_bill\", hue=\"sex\", data=tips)"
   ]
  },
  {
   "cell_type": "code",
   "execution_count": 13,
   "metadata": {},
   "outputs": [
    {
     "name": "stdout",
     "output_type": "stream",
     "text": [
      "['Yes', 'No']\n",
      "[[19.19058824 17.11311111]\n",
      " [16.81333333 18.42      ]\n",
      " [21.27666667 19.66177778]\n",
      " [24.12       20.50666667]]\n",
      "0.4\n"
     ]
    },
    {
     "data": {
      "text/html": [
       "\n",
       "\n",
       "\n",
       "\n",
       "\n",
       "\n",
       "  <div class=\"bk-root\" id=\"8628417b-2fc3-4be9-bd8a-a0ff48730c78\" data-root-id=\"2102\"></div>\n"
      ]
     },
     "metadata": {},
     "output_type": "display_data"
    },
    {
     "data": {
      "application/javascript": [
       "(function(root) {\n",
       "  function embed_document(root) {\n",
       "    \n",
       "  var docs_json = {\"dd4d4678-f059-4804-ac3b-91fbb52ea6bc\":{\"roots\":{\"references\":[{\"attributes\":{\"below\":[{\"id\":\"2111\",\"type\":\"CategoricalAxis\"}],\"center\":[{\"id\":\"2114\",\"type\":\"Grid\"},{\"id\":\"2119\",\"type\":\"Grid\"}],\"left\":[{\"id\":\"2115\",\"type\":\"LinearAxis\"}],\"plot_height\":350,\"renderers\":[{\"id\":\"2136\",\"type\":\"GlyphRenderer\"},{\"id\":\"2141\",\"type\":\"GlyphRenderer\"}],\"title\":{\"id\":\"2222\",\"type\":\"Title\"},\"toolbar\":{\"id\":\"2126\",\"type\":\"Toolbar\"},\"x_range\":{\"id\":\"2103\",\"type\":\"FactorRange\"},\"x_scale\":{\"id\":\"2107\",\"type\":\"CategoricalScale\"},\"y_range\":{\"id\":\"2105\",\"type\":\"DataRange1d\"},\"y_scale\":{\"id\":\"2109\",\"type\":\"LinearScale\"}},\"id\":\"2102\",\"subtype\":\"Figure\",\"type\":\"Plot\"},{\"attributes\":{},\"id\":\"2109\",\"type\":\"LinearScale\"},{\"attributes\":{\"source\":{\"id\":\"2133\",\"type\":\"ColumnDataSource\"}},\"id\":\"2137\",\"type\":\"CDSView\"},{\"attributes\":{},\"id\":\"2107\",\"type\":\"CategoricalScale\"},{\"attributes\":{\"fill_alpha\":{\"value\":0.1},\"fill_color\":{\"value\":\"#1f77b4\"},\"line_alpha\":{\"value\":0.1},\"line_color\":{\"value\":\"#1f77b4\"},\"top\":{\"field\":\"top\"},\"width\":{\"value\":0.4},\"x\":{\"field\":\"x\"}},\"id\":\"2135\",\"type\":\"VBar\"},{\"attributes\":{\"callback\":null,\"data\":{\"top\":{\"__ndarray__\":\"VAmL2fQcMUDrUbgehWsyQG7GuERqqTNAgk4b6LSBNEA=\",\"dtype\":\"float64\",\"shape\":[4]},\"x\":{\"__ndarray__\":\"mpmZmZmZyT8zMzMzMzPzP5qZmZmZmQFAmpmZmZmZCUA=\",\"dtype\":\"float64\",\"shape\":[4]}},\"selected\":{\"id\":\"2230\",\"type\":\"Selection\"},\"selection_policy\":{\"id\":\"2229\",\"type\":\"UnionRenderers\"}},\"id\":\"2138\",\"type\":\"ColumnDataSource\"},{\"attributes\":{},\"id\":\"2124\",\"type\":\"ResetTool\"},{\"attributes\":{\"fill_color\":\"rgb(224, 128, 44)\",\"line_color\":{\"value\":\"#1f77b4\"},\"top\":{\"field\":\"top\"},\"width\":{\"value\":0.4},\"x\":{\"field\":\"x\"}},\"id\":\"2139\",\"type\":\"VBar\"},{\"attributes\":{\"overlay\":{\"id\":\"2231\",\"type\":\"BoxAnnotation\"}},\"id\":\"2122\",\"type\":\"BoxZoomTool\"},{\"attributes\":{\"active_drag\":\"auto\",\"active_inspect\":\"auto\",\"active_multi\":null,\"active_scroll\":\"auto\",\"active_tap\":\"auto\",\"tools\":[{\"id\":\"2120\",\"type\":\"PanTool\"},{\"id\":\"2121\",\"type\":\"WheelZoomTool\"},{\"id\":\"2122\",\"type\":\"BoxZoomTool\"},{\"id\":\"2123\",\"type\":\"SaveTool\"},{\"id\":\"2124\",\"type\":\"ResetTool\"},{\"id\":\"2125\",\"type\":\"HelpTool\"},{\"id\":\"2143\",\"type\":\"HoverTool\"}]},\"id\":\"2126\",\"type\":\"Toolbar\"},{\"attributes\":{\"fill_alpha\":{\"value\":0.1},\"fill_color\":{\"value\":\"#1f77b4\"},\"line_alpha\":{\"value\":0.1},\"line_color\":{\"value\":\"#1f77b4\"},\"top\":{\"field\":\"top\"},\"width\":{\"value\":0.4},\"x\":{\"field\":\"x\"}},\"id\":\"2140\",\"type\":\"VBar\"},{\"attributes\":{\"data_source\":{\"id\":\"2138\",\"type\":\"ColumnDataSource\"},\"glyph\":{\"id\":\"2139\",\"type\":\"VBar\"},\"hover_glyph\":null,\"muted_glyph\":null,\"nonselection_glyph\":{\"id\":\"2140\",\"type\":\"VBar\"},\"selection_glyph\":null,\"view\":{\"id\":\"2142\",\"type\":\"CDSView\"}},\"id\":\"2141\",\"type\":\"GlyphRenderer\"},{\"attributes\":{},\"id\":\"2123\",\"type\":\"SaveTool\"},{\"attributes\":{\"fill_color\":\"rgb(49, 115, 161)\",\"line_color\":{\"value\":\"#1f77b4\"},\"top\":{\"field\":\"top\"},\"width\":{\"value\":0.4},\"x\":{\"field\":\"x\"}},\"id\":\"2134\",\"type\":\"VBar\"},{\"attributes\":{\"source\":{\"id\":\"2138\",\"type\":\"ColumnDataSource\"}},\"id\":\"2142\",\"type\":\"CDSView\"},{\"attributes\":{},\"id\":\"2125\",\"type\":\"HelpTool\"},{\"attributes\":{\"callback\":null,\"data\":{\"top\":{\"__ndarray__\":\"MZf9Y8owM0DQaQOdNtAwQAY6baDTRjVAHoXrUbgeOEA=\",\"dtype\":\"float64\",\"shape\":[4]},\"x\":{\"__ndarray__\":\"mpmZmZmZyb+amZmZmZnpP83MzMzMzPw/ZmZmZmZmBkA=\",\"dtype\":\"float64\",\"shape\":[4]}},\"selected\":{\"id\":\"2228\",\"type\":\"Selection\"},\"selection_policy\":{\"id\":\"2227\",\"type\":\"UnionRenderers\"}},\"id\":\"2133\",\"type\":\"ColumnDataSource\"},{\"attributes\":{\"text\":\"\"},\"id\":\"2222\",\"type\":\"Title\"},{\"attributes\":{},\"id\":\"2120\",\"type\":\"PanTool\"},{\"attributes\":{},\"id\":\"2223\",\"type\":\"CategoricalTickFormatter\"},{\"attributes\":{},\"id\":\"2225\",\"type\":\"BasicTickFormatter\"},{\"attributes\":{},\"id\":\"2121\",\"type\":\"WheelZoomTool\"},{\"attributes\":{},\"id\":\"2227\",\"type\":\"UnionRenderers\"},{\"attributes\":{},\"id\":\"2116\",\"type\":\"BasicTicker\"},{\"attributes\":{},\"id\":\"2228\",\"type\":\"Selection\"},{\"attributes\":{\"callback\":null},\"id\":\"2143\",\"type\":\"HoverTool\"},{\"attributes\":{},\"id\":\"2229\",\"type\":\"UnionRenderers\"},{\"attributes\":{\"callback\":null,\"factors\":[\"Thur\",\"Fri\",\"Sat\",\"Sun\"]},\"id\":\"2103\",\"type\":\"FactorRange\"},{\"attributes\":{},\"id\":\"2230\",\"type\":\"Selection\"},{\"attributes\":{\"axis_label\":\"day\",\"formatter\":{\"id\":\"2223\",\"type\":\"CategoricalTickFormatter\"},\"ticker\":{\"id\":\"2112\",\"type\":\"CategoricalTicker\"}},\"id\":\"2111\",\"type\":\"CategoricalAxis\"},{\"attributes\":{},\"id\":\"2112\",\"type\":\"CategoricalTicker\"},{\"attributes\":{\"bottom_units\":\"screen\",\"fill_alpha\":{\"value\":0.5},\"fill_color\":{\"value\":\"lightgrey\"},\"left_units\":\"screen\",\"level\":\"overlay\",\"line_alpha\":{\"value\":1.0},\"line_color\":{\"value\":\"black\"},\"line_dash\":[4,4],\"line_width\":{\"value\":2},\"render_mode\":\"css\",\"right_units\":\"screen\",\"top_units\":\"screen\"},\"id\":\"2231\",\"type\":\"BoxAnnotation\"},{\"attributes\":{\"dimension\":1,\"ticker\":{\"id\":\"2116\",\"type\":\"BasicTicker\"}},\"id\":\"2119\",\"type\":\"Grid\"},{\"attributes\":{\"data_source\":{\"id\":\"2133\",\"type\":\"ColumnDataSource\"},\"glyph\":{\"id\":\"2134\",\"type\":\"VBar\"},\"hover_glyph\":null,\"muted_glyph\":null,\"nonselection_glyph\":{\"id\":\"2135\",\"type\":\"VBar\"},\"selection_glyph\":null,\"view\":{\"id\":\"2137\",\"type\":\"CDSView\"}},\"id\":\"2136\",\"type\":\"GlyphRenderer\"},{\"attributes\":{\"callback\":null},\"id\":\"2105\",\"type\":\"DataRange1d\"},{\"attributes\":{\"axis_label\":\"total_bill\",\"formatter\":{\"id\":\"2225\",\"type\":\"BasicTickFormatter\"},\"ticker\":{\"id\":\"2116\",\"type\":\"BasicTicker\"}},\"id\":\"2115\",\"type\":\"LinearAxis\"},{\"attributes\":{\"ticker\":{\"id\":\"2112\",\"type\":\"CategoricalTicker\"}},\"id\":\"2114\",\"type\":\"Grid\"}],\"root_ids\":[\"2102\"]},\"title\":\"Bokeh Application\",\"version\":\"1.4.0\"}};\n",
       "  var render_items = [{\"docid\":\"dd4d4678-f059-4804-ac3b-91fbb52ea6bc\",\"roots\":{\"2102\":\"8628417b-2fc3-4be9-bd8a-a0ff48730c78\"}}];\n",
       "  root.Bokeh.embed.embed_items_notebook(docs_json, render_items);\n",
       "\n",
       "  }\n",
       "  if (root.Bokeh !== undefined) {\n",
       "    embed_document(root);\n",
       "  } else {\n",
       "    var attempts = 0;\n",
       "    var timer = setInterval(function(root) {\n",
       "      if (root.Bokeh !== undefined) {\n",
       "        clearInterval(timer);\n",
       "        embed_document(root);\n",
       "      } else {\n",
       "        attempts++;\n",
       "        if (attempts > 100) {\n",
       "          clearInterval(timer);\n",
       "          console.log(\"Bokeh: ERROR: Unable to run BokehJS code because BokehJS library is missing\");\n",
       "        }\n",
       "      }\n",
       "    }, 10, root)\n",
       "  }\n",
       "})(window);"
      ],
      "application/vnd.bokehjs_exec.v0+json": ""
     },
     "metadata": {
      "application/vnd.bokehjs_exec.v0+json": {
       "id": "2102"
      }
     },
     "output_type": "display_data"
    }
   ],
   "source": [
    "barplot(x=\"day\", y=\"total_bill\", hue=\"smoker\", data=tips)"
   ]
  },
  {
   "cell_type": "code",
   "execution_count": null,
   "metadata": {},
   "outputs": [],
   "source": []
  }
 ],
 "metadata": {
  "kernelspec": {
   "display_name": "Python 3",
   "language": "python",
   "name": "python3"
  },
  "language_info": {
   "codemirror_mode": {
    "name": "ipython",
    "version": 3
   },
   "file_extension": ".py",
   "mimetype": "text/x-python",
   "name": "python",
   "nbconvert_exporter": "python",
   "pygments_lexer": "ipython3",
   "version": "3.6.9"
  }
 },
 "nbformat": 4,
 "nbformat_minor": 2
}
