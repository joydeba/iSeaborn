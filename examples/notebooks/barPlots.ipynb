{
 "cells": [
  {
   "cell_type": "markdown",
   "metadata": {},
   "source": [
    "### 1.0 Import bokehBorn"
   ]
  },
  {
   "cell_type": "code",
   "execution_count": 1,
   "metadata": {},
   "outputs": [],
   "source": [
    "import bokehBorn as bb\n",
    "from bokeh.io import output_notebook"
   ]
  },
  {
   "cell_type": "code",
   "execution_count": 2,
   "metadata": {},
   "outputs": [
    {
     "data": {
      "text/html": [
       "\n",
       "    <div class=\"bk-root\">\n",
       "        <a href=\"https://bokeh.org\" target=\"_blank\" class=\"bk-logo bk-logo-small bk-logo-notebook\"></a>\n",
       "        <span id=\"1001\">Loading BokehJS ...</span>\n",
       "    </div>"
      ]
     },
     "metadata": {},
     "output_type": "display_data"
    },
    {
     "data": {
      "application/javascript": [
       "\n",
       "(function(root) {\n",
       "  function now() {\n",
       "    return new Date();\n",
       "  }\n",
       "\n",
       "  var force = true;\n",
       "\n",
       "  if (typeof root._bokeh_onload_callbacks === \"undefined\" || force === true) {\n",
       "    root._bokeh_onload_callbacks = [];\n",
       "    root._bokeh_is_loading = undefined;\n",
       "  }\n",
       "\n",
       "  var JS_MIME_TYPE = 'application/javascript';\n",
       "  var HTML_MIME_TYPE = 'text/html';\n",
       "  var EXEC_MIME_TYPE = 'application/vnd.bokehjs_exec.v0+json';\n",
       "  var CLASS_NAME = 'output_bokeh rendered_html';\n",
       "\n",
       "  /**\n",
       "   * Render data to the DOM node\n",
       "   */\n",
       "  function render(props, node) {\n",
       "    var script = document.createElement(\"script\");\n",
       "    node.appendChild(script);\n",
       "  }\n",
       "\n",
       "  /**\n",
       "   * Handle when an output is cleared or removed\n",
       "   */\n",
       "  function handleClearOutput(event, handle) {\n",
       "    var cell = handle.cell;\n",
       "\n",
       "    var id = cell.output_area._bokeh_element_id;\n",
       "    var server_id = cell.output_area._bokeh_server_id;\n",
       "    // Clean up Bokeh references\n",
       "    if (id != null && id in Bokeh.index) {\n",
       "      Bokeh.index[id].model.document.clear();\n",
       "      delete Bokeh.index[id];\n",
       "    }\n",
       "\n",
       "    if (server_id !== undefined) {\n",
       "      // Clean up Bokeh references\n",
       "      var cmd = \"from bokeh.io.state import curstate; print(curstate().uuid_to_server['\" + server_id + \"'].get_sessions()[0].document.roots[0]._id)\";\n",
       "      cell.notebook.kernel.execute(cmd, {\n",
       "        iopub: {\n",
       "          output: function(msg) {\n",
       "            var id = msg.content.text.trim();\n",
       "            if (id in Bokeh.index) {\n",
       "              Bokeh.index[id].model.document.clear();\n",
       "              delete Bokeh.index[id];\n",
       "            }\n",
       "          }\n",
       "        }\n",
       "      });\n",
       "      // Destroy server and session\n",
       "      var cmd = \"import bokeh.io.notebook as ion; ion.destroy_server('\" + server_id + \"')\";\n",
       "      cell.notebook.kernel.execute(cmd);\n",
       "    }\n",
       "  }\n",
       "\n",
       "  /**\n",
       "   * Handle when a new output is added\n",
       "   */\n",
       "  function handleAddOutput(event, handle) {\n",
       "    var output_area = handle.output_area;\n",
       "    var output = handle.output;\n",
       "\n",
       "    // limit handleAddOutput to display_data with EXEC_MIME_TYPE content only\n",
       "    if ((output.output_type != \"display_data\") || (!output.data.hasOwnProperty(EXEC_MIME_TYPE))) {\n",
       "      return\n",
       "    }\n",
       "\n",
       "    var toinsert = output_area.element.find(\".\" + CLASS_NAME.split(' ')[0]);\n",
       "\n",
       "    if (output.metadata[EXEC_MIME_TYPE][\"id\"] !== undefined) {\n",
       "      toinsert[toinsert.length - 1].firstChild.textContent = output.data[JS_MIME_TYPE];\n",
       "      // store reference to embed id on output_area\n",
       "      output_area._bokeh_element_id = output.metadata[EXEC_MIME_TYPE][\"id\"];\n",
       "    }\n",
       "    if (output.metadata[EXEC_MIME_TYPE][\"server_id\"] !== undefined) {\n",
       "      var bk_div = document.createElement(\"div\");\n",
       "      bk_div.innerHTML = output.data[HTML_MIME_TYPE];\n",
       "      var script_attrs = bk_div.children[0].attributes;\n",
       "      for (var i = 0; i < script_attrs.length; i++) {\n",
       "        toinsert[toinsert.length - 1].firstChild.setAttribute(script_attrs[i].name, script_attrs[i].value);\n",
       "      }\n",
       "      // store reference to server id on output_area\n",
       "      output_area._bokeh_server_id = output.metadata[EXEC_MIME_TYPE][\"server_id\"];\n",
       "    }\n",
       "  }\n",
       "\n",
       "  function register_renderer(events, OutputArea) {\n",
       "\n",
       "    function append_mime(data, metadata, element) {\n",
       "      // create a DOM node to render to\n",
       "      var toinsert = this.create_output_subarea(\n",
       "        metadata,\n",
       "        CLASS_NAME,\n",
       "        EXEC_MIME_TYPE\n",
       "      );\n",
       "      this.keyboard_manager.register_events(toinsert);\n",
       "      // Render to node\n",
       "      var props = {data: data, metadata: metadata[EXEC_MIME_TYPE]};\n",
       "      render(props, toinsert[toinsert.length - 1]);\n",
       "      element.append(toinsert);\n",
       "      return toinsert\n",
       "    }\n",
       "\n",
       "    /* Handle when an output is cleared or removed */\n",
       "    events.on('clear_output.CodeCell', handleClearOutput);\n",
       "    events.on('delete.Cell', handleClearOutput);\n",
       "\n",
       "    /* Handle when a new output is added */\n",
       "    events.on('output_added.OutputArea', handleAddOutput);\n",
       "\n",
       "    /**\n",
       "     * Register the mime type and append_mime function with output_area\n",
       "     */\n",
       "    OutputArea.prototype.register_mime_type(EXEC_MIME_TYPE, append_mime, {\n",
       "      /* Is output safe? */\n",
       "      safe: true,\n",
       "      /* Index of renderer in `output_area.display_order` */\n",
       "      index: 0\n",
       "    });\n",
       "  }\n",
       "\n",
       "  // register the mime type if in Jupyter Notebook environment and previously unregistered\n",
       "  if (root.Jupyter !== undefined) {\n",
       "    var events = require('base/js/events');\n",
       "    var OutputArea = require('notebook/js/outputarea').OutputArea;\n",
       "\n",
       "    if (OutputArea.prototype.mime_types().indexOf(EXEC_MIME_TYPE) == -1) {\n",
       "      register_renderer(events, OutputArea);\n",
       "    }\n",
       "  }\n",
       "\n",
       "  \n",
       "  if (typeof (root._bokeh_timeout) === \"undefined\" || force === true) {\n",
       "    root._bokeh_timeout = Date.now() + 5000;\n",
       "    root._bokeh_failed_load = false;\n",
       "  }\n",
       "\n",
       "  var NB_LOAD_WARNING = {'data': {'text/html':\n",
       "     \"<div style='background-color: #fdd'>\\n\"+\n",
       "     \"<p>\\n\"+\n",
       "     \"BokehJS does not appear to have successfully loaded. If loading BokehJS from CDN, this \\n\"+\n",
       "     \"may be due to a slow or bad network connection. Possible fixes:\\n\"+\n",
       "     \"</p>\\n\"+\n",
       "     \"<ul>\\n\"+\n",
       "     \"<li>re-rerun `output_notebook()` to attempt to load from CDN again, or</li>\\n\"+\n",
       "     \"<li>use INLINE resources instead, as so:</li>\\n\"+\n",
       "     \"</ul>\\n\"+\n",
       "     \"<code>\\n\"+\n",
       "     \"from bokeh.resources import INLINE\\n\"+\n",
       "     \"output_notebook(resources=INLINE)\\n\"+\n",
       "     \"</code>\\n\"+\n",
       "     \"</div>\"}};\n",
       "\n",
       "  function display_loaded() {\n",
       "    var el = document.getElementById(\"1001\");\n",
       "    if (el != null) {\n",
       "      el.textContent = \"BokehJS is loading...\";\n",
       "    }\n",
       "    if (root.Bokeh !== undefined) {\n",
       "      if (el != null) {\n",
       "        el.textContent = \"BokehJS \" + root.Bokeh.version + \" successfully loaded.\";\n",
       "      }\n",
       "    } else if (Date.now() < root._bokeh_timeout) {\n",
       "      setTimeout(display_loaded, 100)\n",
       "    }\n",
       "  }\n",
       "\n",
       "\n",
       "  function run_callbacks() {\n",
       "    try {\n",
       "      root._bokeh_onload_callbacks.forEach(function(callback) {\n",
       "        if (callback != null)\n",
       "          callback();\n",
       "      });\n",
       "    } finally {\n",
       "      delete root._bokeh_onload_callbacks\n",
       "    }\n",
       "    console.debug(\"Bokeh: all callbacks have finished\");\n",
       "  }\n",
       "\n",
       "  function load_libs(css_urls, js_urls, callback) {\n",
       "    if (css_urls == null) css_urls = [];\n",
       "    if (js_urls == null) js_urls = [];\n",
       "\n",
       "    root._bokeh_onload_callbacks.push(callback);\n",
       "    if (root._bokeh_is_loading > 0) {\n",
       "      console.debug(\"Bokeh: BokehJS is being loaded, scheduling callback at\", now());\n",
       "      return null;\n",
       "    }\n",
       "    if (js_urls == null || js_urls.length === 0) {\n",
       "      run_callbacks();\n",
       "      return null;\n",
       "    }\n",
       "    console.debug(\"Bokeh: BokehJS not loaded, scheduling load and callback at\", now());\n",
       "    root._bokeh_is_loading = css_urls.length + js_urls.length;\n",
       "\n",
       "    function on_load() {\n",
       "      root._bokeh_is_loading--;\n",
       "      if (root._bokeh_is_loading === 0) {\n",
       "        console.debug(\"Bokeh: all BokehJS libraries/stylesheets loaded\");\n",
       "        run_callbacks()\n",
       "      }\n",
       "    }\n",
       "\n",
       "    function on_error() {\n",
       "      console.error(\"failed to load \" + url);\n",
       "    }\n",
       "\n",
       "    for (var i = 0; i < css_urls.length; i++) {\n",
       "      var url = css_urls[i];\n",
       "      const element = document.createElement(\"link\");\n",
       "      element.onload = on_load;\n",
       "      element.onerror = on_error;\n",
       "      element.rel = \"stylesheet\";\n",
       "      element.type = \"text/css\";\n",
       "      element.href = url;\n",
       "      console.debug(\"Bokeh: injecting link tag for BokehJS stylesheet: \", url);\n",
       "      document.body.appendChild(element);\n",
       "    }\n",
       "\n",
       "    for (var i = 0; i < js_urls.length; i++) {\n",
       "      var url = js_urls[i];\n",
       "      var element = document.createElement('script');\n",
       "      element.onload = on_load;\n",
       "      element.onerror = on_error;\n",
       "      element.async = false;\n",
       "      element.src = url;\n",
       "      console.debug(\"Bokeh: injecting script tag for BokehJS library: \", url);\n",
       "      document.head.appendChild(element);\n",
       "    }\n",
       "  };var element = document.getElementById(\"1001\");\n",
       "  if (element == null) {\n",
       "    console.error(\"Bokeh: ERROR: autoload.js configured with elementid '1001' but no matching script tag was found. \")\n",
       "    return false;\n",
       "  }\n",
       "\n",
       "  function inject_raw_css(css) {\n",
       "    const element = document.createElement(\"style\");\n",
       "    element.appendChild(document.createTextNode(css));\n",
       "    document.body.appendChild(element);\n",
       "  }\n",
       "\n",
       "  \n",
       "  var js_urls = [\"https://cdn.pydata.org/bokeh/release/bokeh-1.4.0.min.js\", \"https://cdn.pydata.org/bokeh/release/bokeh-widgets-1.4.0.min.js\", \"https://cdn.pydata.org/bokeh/release/bokeh-tables-1.4.0.min.js\", \"https://cdn.pydata.org/bokeh/release/bokeh-gl-1.4.0.min.js\"];\n",
       "  var css_urls = [];\n",
       "  \n",
       "\n",
       "  var inline_js = [\n",
       "    function(Bokeh) {\n",
       "      Bokeh.set_log_level(\"info\");\n",
       "    },\n",
       "    function(Bokeh) {\n",
       "    \n",
       "    \n",
       "    }\n",
       "  ];\n",
       "\n",
       "  function run_inline_js() {\n",
       "    \n",
       "    if (root.Bokeh !== undefined || force === true) {\n",
       "      \n",
       "    for (var i = 0; i < inline_js.length; i++) {\n",
       "      inline_js[i].call(root, root.Bokeh);\n",
       "    }\n",
       "    if (force === true) {\n",
       "        display_loaded();\n",
       "      }} else if (Date.now() < root._bokeh_timeout) {\n",
       "      setTimeout(run_inline_js, 100);\n",
       "    } else if (!root._bokeh_failed_load) {\n",
       "      console.log(\"Bokeh: BokehJS failed to load within specified timeout.\");\n",
       "      root._bokeh_failed_load = true;\n",
       "    } else if (force !== true) {\n",
       "      var cell = $(document.getElementById(\"1001\")).parents('.cell').data().cell;\n",
       "      cell.output_area.append_execute_result(NB_LOAD_WARNING)\n",
       "    }\n",
       "\n",
       "  }\n",
       "\n",
       "  if (root._bokeh_is_loading === 0) {\n",
       "    console.debug(\"Bokeh: BokehJS loaded, going straight to plotting\");\n",
       "    run_inline_js();\n",
       "  } else {\n",
       "    load_libs(css_urls, js_urls, function() {\n",
       "      console.debug(\"Bokeh: BokehJS plotting callback run at\", now());\n",
       "      run_inline_js();\n",
       "    });\n",
       "  }\n",
       "}(window));"
      ],
      "application/vnd.bokehjs_load.v0+json": "\n(function(root) {\n  function now() {\n    return new Date();\n  }\n\n  var force = true;\n\n  if (typeof root._bokeh_onload_callbacks === \"undefined\" || force === true) {\n    root._bokeh_onload_callbacks = [];\n    root._bokeh_is_loading = undefined;\n  }\n\n  \n\n  \n  if (typeof (root._bokeh_timeout) === \"undefined\" || force === true) {\n    root._bokeh_timeout = Date.now() + 5000;\n    root._bokeh_failed_load = false;\n  }\n\n  var NB_LOAD_WARNING = {'data': {'text/html':\n     \"<div style='background-color: #fdd'>\\n\"+\n     \"<p>\\n\"+\n     \"BokehJS does not appear to have successfully loaded. If loading BokehJS from CDN, this \\n\"+\n     \"may be due to a slow or bad network connection. Possible fixes:\\n\"+\n     \"</p>\\n\"+\n     \"<ul>\\n\"+\n     \"<li>re-rerun `output_notebook()` to attempt to load from CDN again, or</li>\\n\"+\n     \"<li>use INLINE resources instead, as so:</li>\\n\"+\n     \"</ul>\\n\"+\n     \"<code>\\n\"+\n     \"from bokeh.resources import INLINE\\n\"+\n     \"output_notebook(resources=INLINE)\\n\"+\n     \"</code>\\n\"+\n     \"</div>\"}};\n\n  function display_loaded() {\n    var el = document.getElementById(\"1001\");\n    if (el != null) {\n      el.textContent = \"BokehJS is loading...\";\n    }\n    if (root.Bokeh !== undefined) {\n      if (el != null) {\n        el.textContent = \"BokehJS \" + root.Bokeh.version + \" successfully loaded.\";\n      }\n    } else if (Date.now() < root._bokeh_timeout) {\n      setTimeout(display_loaded, 100)\n    }\n  }\n\n\n  function run_callbacks() {\n    try {\n      root._bokeh_onload_callbacks.forEach(function(callback) {\n        if (callback != null)\n          callback();\n      });\n    } finally {\n      delete root._bokeh_onload_callbacks\n    }\n    console.debug(\"Bokeh: all callbacks have finished\");\n  }\n\n  function load_libs(css_urls, js_urls, callback) {\n    if (css_urls == null) css_urls = [];\n    if (js_urls == null) js_urls = [];\n\n    root._bokeh_onload_callbacks.push(callback);\n    if (root._bokeh_is_loading > 0) {\n      console.debug(\"Bokeh: BokehJS is being loaded, scheduling callback at\", now());\n      return null;\n    }\n    if (js_urls == null || js_urls.length === 0) {\n      run_callbacks();\n      return null;\n    }\n    console.debug(\"Bokeh: BokehJS not loaded, scheduling load and callback at\", now());\n    root._bokeh_is_loading = css_urls.length + js_urls.length;\n\n    function on_load() {\n      root._bokeh_is_loading--;\n      if (root._bokeh_is_loading === 0) {\n        console.debug(\"Bokeh: all BokehJS libraries/stylesheets loaded\");\n        run_callbacks()\n      }\n    }\n\n    function on_error() {\n      console.error(\"failed to load \" + url);\n    }\n\n    for (var i = 0; i < css_urls.length; i++) {\n      var url = css_urls[i];\n      const element = document.createElement(\"link\");\n      element.onload = on_load;\n      element.onerror = on_error;\n      element.rel = \"stylesheet\";\n      element.type = \"text/css\";\n      element.href = url;\n      console.debug(\"Bokeh: injecting link tag for BokehJS stylesheet: \", url);\n      document.body.appendChild(element);\n    }\n\n    for (var i = 0; i < js_urls.length; i++) {\n      var url = js_urls[i];\n      var element = document.createElement('script');\n      element.onload = on_load;\n      element.onerror = on_error;\n      element.async = false;\n      element.src = url;\n      console.debug(\"Bokeh: injecting script tag for BokehJS library: \", url);\n      document.head.appendChild(element);\n    }\n  };var element = document.getElementById(\"1001\");\n  if (element == null) {\n    console.error(\"Bokeh: ERROR: autoload.js configured with elementid '1001' but no matching script tag was found. \")\n    return false;\n  }\n\n  function inject_raw_css(css) {\n    const element = document.createElement(\"style\");\n    element.appendChild(document.createTextNode(css));\n    document.body.appendChild(element);\n  }\n\n  \n  var js_urls = [\"https://cdn.pydata.org/bokeh/release/bokeh-1.4.0.min.js\", \"https://cdn.pydata.org/bokeh/release/bokeh-widgets-1.4.0.min.js\", \"https://cdn.pydata.org/bokeh/release/bokeh-tables-1.4.0.min.js\", \"https://cdn.pydata.org/bokeh/release/bokeh-gl-1.4.0.min.js\"];\n  var css_urls = [];\n  \n\n  var inline_js = [\n    function(Bokeh) {\n      Bokeh.set_log_level(\"info\");\n    },\n    function(Bokeh) {\n    \n    \n    }\n  ];\n\n  function run_inline_js() {\n    \n    if (root.Bokeh !== undefined || force === true) {\n      \n    for (var i = 0; i < inline_js.length; i++) {\n      inline_js[i].call(root, root.Bokeh);\n    }\n    if (force === true) {\n        display_loaded();\n      }} else if (Date.now() < root._bokeh_timeout) {\n      setTimeout(run_inline_js, 100);\n    } else if (!root._bokeh_failed_load) {\n      console.log(\"Bokeh: BokehJS failed to load within specified timeout.\");\n      root._bokeh_failed_load = true;\n    } else if (force !== true) {\n      var cell = $(document.getElementById(\"1001\")).parents('.cell').data().cell;\n      cell.output_area.append_execute_result(NB_LOAD_WARNING)\n    }\n\n  }\n\n  if (root._bokeh_is_loading === 0) {\n    console.debug(\"Bokeh: BokehJS loaded, going straight to plotting\");\n    run_inline_js();\n  } else {\n    load_libs(css_urls, js_urls, function() {\n      console.debug(\"Bokeh: BokehJS plotting callback run at\", now());\n      run_inline_js();\n    });\n  }\n}(window));"
     },
     "metadata": {},
     "output_type": "display_data"
    }
   ],
   "source": [
    "output_notebook()"
   ]
  },
  {
   "cell_type": "markdown",
   "metadata": {},
   "source": [
    "### 2.0 Load Dataset"
   ]
  },
  {
   "cell_type": "code",
   "execution_count": 3,
   "metadata": {},
   "outputs": [
    {
     "data": {
      "text/html": [
       "<div>\n",
       "<style scoped>\n",
       "    .dataframe tbody tr th:only-of-type {\n",
       "        vertical-align: middle;\n",
       "    }\n",
       "\n",
       "    .dataframe tbody tr th {\n",
       "        vertical-align: top;\n",
       "    }\n",
       "\n",
       "    .dataframe thead th {\n",
       "        text-align: right;\n",
       "    }\n",
       "</style>\n",
       "<table border=\"1\" class=\"dataframe\">\n",
       "  <thead>\n",
       "    <tr style=\"text-align: right;\">\n",
       "      <th></th>\n",
       "      <th>total_bill</th>\n",
       "      <th>tip</th>\n",
       "      <th>sex</th>\n",
       "      <th>smoker</th>\n",
       "      <th>day</th>\n",
       "      <th>time</th>\n",
       "      <th>size</th>\n",
       "    </tr>\n",
       "  </thead>\n",
       "  <tbody>\n",
       "    <tr>\n",
       "      <th>0</th>\n",
       "      <td>16.99</td>\n",
       "      <td>1.01</td>\n",
       "      <td>Female</td>\n",
       "      <td>No</td>\n",
       "      <td>Sun</td>\n",
       "      <td>Dinner</td>\n",
       "      <td>2</td>\n",
       "    </tr>\n",
       "    <tr>\n",
       "      <th>1</th>\n",
       "      <td>10.34</td>\n",
       "      <td>1.66</td>\n",
       "      <td>Male</td>\n",
       "      <td>No</td>\n",
       "      <td>Sun</td>\n",
       "      <td>Dinner</td>\n",
       "      <td>3</td>\n",
       "    </tr>\n",
       "    <tr>\n",
       "      <th>2</th>\n",
       "      <td>21.01</td>\n",
       "      <td>3.50</td>\n",
       "      <td>Male</td>\n",
       "      <td>No</td>\n",
       "      <td>Sun</td>\n",
       "      <td>Dinner</td>\n",
       "      <td>3</td>\n",
       "    </tr>\n",
       "    <tr>\n",
       "      <th>3</th>\n",
       "      <td>23.68</td>\n",
       "      <td>3.31</td>\n",
       "      <td>Male</td>\n",
       "      <td>No</td>\n",
       "      <td>Sun</td>\n",
       "      <td>Dinner</td>\n",
       "      <td>2</td>\n",
       "    </tr>\n",
       "    <tr>\n",
       "      <th>4</th>\n",
       "      <td>24.59</td>\n",
       "      <td>3.61</td>\n",
       "      <td>Female</td>\n",
       "      <td>No</td>\n",
       "      <td>Sun</td>\n",
       "      <td>Dinner</td>\n",
       "      <td>4</td>\n",
       "    </tr>\n",
       "  </tbody>\n",
       "</table>\n",
       "</div>"
      ],
      "text/plain": [
       "   total_bill   tip     sex smoker  day    time  size\n",
       "0       16.99  1.01  Female     No  Sun  Dinner     2\n",
       "1       10.34  1.66    Male     No  Sun  Dinner     3\n",
       "2       21.01  3.50    Male     No  Sun  Dinner     3\n",
       "3       23.68  3.31    Male     No  Sun  Dinner     2\n",
       "4       24.59  3.61  Female     No  Sun  Dinner     4"
      ]
     },
     "execution_count": 3,
     "metadata": {},
     "output_type": "execute_result"
    }
   ],
   "source": [
    "tips = bb.load_dataset(\"tips\")\n",
    "tips.head()"
   ]
  },
  {
   "cell_type": "markdown",
   "metadata": {},
   "source": [
    "### 3.0 bokeBorn Bar Plot Examples"
   ]
  },
  {
   "cell_type": "markdown",
   "metadata": {},
   "source": [
    "#### 3.1 Draw Vertical Bar\n",
    "Draw a set of vertical bar plots grouped by a categorical variable:"
   ]
  },
  {
   "cell_type": "code",
   "execution_count": 4,
   "metadata": {},
   "outputs": [
    {
     "data": {
      "text/html": [
       "\n",
       "\n",
       "\n",
       "\n",
       "\n",
       "\n",
       "  <div class=\"bk-root\" id=\"30bcc6d2-c69d-4840-97fa-0d1519bb88ef\" data-root-id=\"1003\"></div>\n"
      ]
     },
     "metadata": {},
     "output_type": "display_data"
    },
    {
     "data": {
      "application/javascript": [
       "(function(root) {\n",
       "  function embed_document(root) {\n",
       "    \n",
       "  var docs_json = {\"dc212b54-623c-4e5c-a2ad-17f25b951b88\":{\"roots\":{\"references\":[{\"attributes\":{\"below\":[{\"id\":\"1014\",\"type\":\"CategoricalAxis\"}],\"center\":[{\"id\":\"1017\",\"type\":\"Grid\"},{\"id\":\"1022\",\"type\":\"Grid\"}],\"left\":[{\"id\":\"1018\",\"type\":\"LinearAxis\"}],\"plot_height\":350,\"renderers\":[{\"id\":\"1039\",\"type\":\"GlyphRenderer\"}],\"title\":{\"id\":\"1004\",\"type\":\"Title\"},\"toolbar\":{\"id\":\"1029\",\"type\":\"Toolbar\"},\"x_range\":{\"id\":\"1006\",\"type\":\"FactorRange\"},\"x_scale\":{\"id\":\"1010\",\"type\":\"CategoricalScale\"},\"y_range\":{\"id\":\"1008\",\"type\":\"DataRange1d\"},\"y_scale\":{\"id\":\"1012\",\"type\":\"LinearScale\"}},\"id\":\"1003\",\"subtype\":\"Figure\",\"type\":\"Plot\"},{\"attributes\":{\"bottom_units\":\"screen\",\"fill_alpha\":{\"value\":0.5},\"fill_color\":{\"value\":\"lightgrey\"},\"left_units\":\"screen\",\"level\":\"overlay\",\"line_alpha\":{\"value\":1.0},\"line_color\":{\"value\":\"black\"},\"line_dash\":[4,4],\"line_width\":{\"value\":2},\"render_mode\":\"css\",\"right_units\":\"screen\",\"top_units\":\"screen\"},\"id\":\"1050\",\"type\":\"BoxAnnotation\"},{\"attributes\":{},\"id\":\"1044\",\"type\":\"BasicTickFormatter\"},{\"attributes\":{\"callback\":null,\"factors\":[\"Thur\",\"Fri\",\"Sat\",\"Sun\"]},\"id\":\"1006\",\"type\":\"FactorRange\"},{\"attributes\":{\"axis_label\":\"day\",\"formatter\":{\"id\":\"1046\",\"type\":\"CategoricalTickFormatter\"},\"ticker\":{\"id\":\"1015\",\"type\":\"CategoricalTicker\"}},\"id\":\"1014\",\"type\":\"CategoricalAxis\"},{\"attributes\":{\"fill_alpha\":{\"value\":0.5},\"fill_color\":{\"field\":\"fill_color\"},\"line_color\":{\"field\":\"line_color\"},\"top\":{\"field\":\"total_bill\"},\"width\":{\"value\":0.7},\"x\":{\"field\":\"day\"}},\"id\":\"1037\",\"type\":\"VBar\"},{\"attributes\":{\"ticker\":{\"id\":\"1015\",\"type\":\"CategoricalTicker\"}},\"id\":\"1017\",\"type\":\"Grid\"},{\"attributes\":{\"data_source\":{\"id\":\"1002\",\"type\":\"ColumnDataSource\"},\"glyph\":{\"id\":\"1037\",\"type\":\"VBar\"},\"hover_glyph\":null,\"muted_glyph\":null,\"nonselection_glyph\":{\"id\":\"1038\",\"type\":\"VBar\"},\"selection_glyph\":null,\"view\":{\"id\":\"1040\",\"type\":\"CDSView\"}},\"id\":\"1039\",\"type\":\"GlyphRenderer\"},{\"attributes\":{},\"id\":\"1023\",\"type\":\"PanTool\"},{\"attributes\":{\"callback\":null},\"id\":\"1008\",\"type\":\"DataRange1d\"},{\"attributes\":{},\"id\":\"1024\",\"type\":\"WheelZoomTool\"},{\"attributes\":{},\"id\":\"1010\",\"type\":\"CategoricalScale\"},{\"attributes\":{\"overlay\":{\"id\":\"1050\",\"type\":\"BoxAnnotation\"}},\"id\":\"1025\",\"type\":\"BoxZoomTool\"},{\"attributes\":{},\"id\":\"1026\",\"type\":\"SaveTool\"},{\"attributes\":{\"text\":\"\"},\"id\":\"1004\",\"type\":\"Title\"},{\"attributes\":{},\"id\":\"1027\",\"type\":\"ResetTool\"},{\"attributes\":{\"axis_label\":\"total_bill\",\"formatter\":{\"id\":\"1044\",\"type\":\"BasicTickFormatter\"},\"ticker\":{\"id\":\"1019\",\"type\":\"BasicTicker\"}},\"id\":\"1018\",\"type\":\"LinearAxis\"},{\"attributes\":{},\"id\":\"1028\",\"type\":\"HelpTool\"},{\"attributes\":{},\"id\":\"1019\",\"type\":\"BasicTicker\"},{\"attributes\":{\"active_drag\":\"auto\",\"active_inspect\":\"auto\",\"active_multi\":null,\"active_scroll\":\"auto\",\"active_tap\":\"auto\",\"tools\":[{\"id\":\"1023\",\"type\":\"PanTool\"},{\"id\":\"1024\",\"type\":\"WheelZoomTool\"},{\"id\":\"1025\",\"type\":\"BoxZoomTool\"},{\"id\":\"1026\",\"type\":\"SaveTool\"},{\"id\":\"1027\",\"type\":\"ResetTool\"},{\"id\":\"1028\",\"type\":\"HelpTool\"},{\"id\":\"1041\",\"type\":\"HoverTool\"}]},\"id\":\"1029\",\"type\":\"Toolbar\"},{\"attributes\":{\"source\":{\"id\":\"1002\",\"type\":\"ColumnDataSource\"}},\"id\":\"1040\",\"type\":\"CDSView\"},{\"attributes\":{},\"id\":\"1015\",\"type\":\"CategoricalTicker\"},{\"attributes\":{\"callback\":null,\"tooltips\":[[\"day\",\"@day\"],[\"total_bill\",\"@total_bill\"]]},\"id\":\"1041\",\"type\":\"HoverTool\"},{\"attributes\":{},\"id\":\"1012\",\"type\":\"LinearScale\"},{\"attributes\":{},\"id\":\"1046\",\"type\":\"CategoricalTickFormatter\"},{\"attributes\":{\"dimension\":1,\"ticker\":{\"id\":\"1019\",\"type\":\"BasicTicker\"}},\"id\":\"1022\",\"type\":\"Grid\"},{\"attributes\":{\"fill_alpha\":{\"value\":0.1},\"fill_color\":{\"value\":\"#1f77b4\"},\"line_alpha\":{\"value\":0.1},\"line_color\":{\"value\":\"#1f77b4\"},\"top\":{\"field\":\"total_bill\"},\"width\":{\"value\":0.7},\"x\":{\"field\":\"day\"}},\"id\":\"1038\",\"type\":\"VBar\"},{\"attributes\":{},\"id\":\"1048\",\"type\":\"Selection\"},{\"attributes\":{},\"id\":\"1049\",\"type\":\"UnionRenderers\"},{\"attributes\":{\"callback\":null,\"data\":{\"day\":[\"Thur\",\"Fri\",\"Sat\",\"Sun\"],\"fill_color\":[\"rgb(49, 115, 161)\",\"rgb(224, 128, 44)\",\"rgb(58, 145, 58)\",\"rgb(192, 60, 61)\"],\"index\":[0,1,2,3],\"line_color\":[\"rgb(49, 115, 161)\",\"rgb(224, 128, 44)\",\"rgb(58, 145, 58)\",\"rgb(192, 60, 61)\"],\"total_bill\":{\"__ndarray__\":\"zoLsLMiuMUCgtb3gzSYxQOMPBzz+cDRAKVyPwvVoNUA=\",\"dtype\":\"float64\",\"shape\":[4]}},\"selected\":{\"id\":\"1048\",\"type\":\"Selection\"},\"selection_policy\":{\"id\":\"1049\",\"type\":\"UnionRenderers\"}},\"id\":\"1002\",\"type\":\"ColumnDataSource\"}],\"root_ids\":[\"1003\"]},\"title\":\"Bokeh Application\",\"version\":\"1.4.0\"}};\n",
       "  var render_items = [{\"docid\":\"dc212b54-623c-4e5c-a2ad-17f25b951b88\",\"roots\":{\"1003\":\"30bcc6d2-c69d-4840-97fa-0d1519bb88ef\"}}];\n",
       "  root.Bokeh.embed.embed_items_notebook(docs_json, render_items);\n",
       "\n",
       "  }\n",
       "  if (root.Bokeh !== undefined) {\n",
       "    embed_document(root);\n",
       "  } else {\n",
       "    var attempts = 0;\n",
       "    var timer = setInterval(function(root) {\n",
       "      if (root.Bokeh !== undefined) {\n",
       "        clearInterval(timer);\n",
       "        embed_document(root);\n",
       "      } else {\n",
       "        attempts++;\n",
       "        if (attempts > 100) {\n",
       "          clearInterval(timer);\n",
       "          console.log(\"Bokeh: ERROR: Unable to run BokehJS code because BokehJS library is missing\");\n",
       "        }\n",
       "      }\n",
       "    }, 10, root)\n",
       "  }\n",
       "})(window);"
      ],
      "application/vnd.bokehjs_exec.v0+json": ""
     },
     "metadata": {
      "application/vnd.bokehjs_exec.v0+json": {
       "id": "1003"
      }
     },
     "output_type": "display_data"
    }
   ],
   "source": [
    "bb.barplot(x=\"day\", y=\"total_bill\", data=tips)"
   ]
  },
  {
   "cell_type": "markdown",
   "metadata": {},
   "source": [
    "#### 3.2 Draw Horizontal Bar\n",
    "Draw a set of horizontal bars automatically with change of axis"
   ]
  },
  {
   "cell_type": "code",
   "execution_count": 5,
   "metadata": {
    "scrolled": true
   },
   "outputs": [
    {
     "data": {
      "text/html": [
       "\n",
       "\n",
       "\n",
       "\n",
       "\n",
       "\n",
       "  <div class=\"bk-root\" id=\"9ec2e0f6-504e-4417-a6a4-b1702331b1a0\" data-root-id=\"1099\"></div>\n"
      ]
     },
     "metadata": {},
     "output_type": "display_data"
    },
    {
     "data": {
      "application/javascript": [
       "(function(root) {\n",
       "  function embed_document(root) {\n",
       "    \n",
       "  var docs_json = {\"8e4f59f7-06ef-4135-a472-8bdf208b6cf5\":{\"roots\":{\"references\":[{\"attributes\":{\"below\":[{\"id\":\"1110\",\"type\":\"LinearAxis\"}],\"center\":[{\"id\":\"1114\",\"type\":\"Grid\"},{\"id\":\"1118\",\"type\":\"Grid\"}],\"left\":[{\"id\":\"1115\",\"type\":\"CategoricalAxis\"}],\"plot_height\":350,\"renderers\":[{\"id\":\"1135\",\"type\":\"GlyphRenderer\"}],\"title\":{\"id\":\"1100\",\"type\":\"Title\"},\"toolbar\":{\"id\":\"1125\",\"type\":\"Toolbar\"},\"x_range\":{\"id\":\"1102\",\"type\":\"DataRange1d\"},\"x_scale\":{\"id\":\"1106\",\"type\":\"LinearScale\"},\"y_range\":{\"id\":\"1104\",\"type\":\"FactorRange\"},\"y_scale\":{\"id\":\"1108\",\"type\":\"CategoricalScale\"}},\"id\":\"1099\",\"subtype\":\"Figure\",\"type\":\"Plot\"},{\"attributes\":{\"bottom_units\":\"screen\",\"fill_alpha\":{\"value\":0.5},\"fill_color\":{\"value\":\"lightgrey\"},\"left_units\":\"screen\",\"level\":\"overlay\",\"line_alpha\":{\"value\":1.0},\"line_color\":{\"value\":\"black\"},\"line_dash\":[4,4],\"line_width\":{\"value\":2},\"render_mode\":\"css\",\"right_units\":\"screen\",\"top_units\":\"screen\"},\"id\":\"1152\",\"type\":\"BoxAnnotation\"},{\"attributes\":{\"active_drag\":\"auto\",\"active_inspect\":\"auto\",\"active_multi\":null,\"active_scroll\":\"auto\",\"active_tap\":\"auto\",\"tools\":[{\"id\":\"1119\",\"type\":\"PanTool\"},{\"id\":\"1120\",\"type\":\"WheelZoomTool\"},{\"id\":\"1121\",\"type\":\"BoxZoomTool\"},{\"id\":\"1122\",\"type\":\"SaveTool\"},{\"id\":\"1123\",\"type\":\"ResetTool\"},{\"id\":\"1124\",\"type\":\"HelpTool\"}]},\"id\":\"1125\",\"type\":\"Toolbar\"},{\"attributes\":{\"data_source\":{\"id\":\"1132\",\"type\":\"ColumnDataSource\"},\"glyph\":{\"id\":\"1133\",\"type\":\"HBar\"},\"hover_glyph\":null,\"muted_glyph\":null,\"nonselection_glyph\":{\"id\":\"1134\",\"type\":\"HBar\"},\"selection_glyph\":null,\"view\":{\"id\":\"1136\",\"type\":\"CDSView\"}},\"id\":\"1135\",\"type\":\"GlyphRenderer\"},{\"attributes\":{\"axis_label\":\"day\",\"formatter\":{\"id\":\"1146\",\"type\":\"CategoricalTickFormatter\"},\"ticker\":{\"id\":\"1116\",\"type\":\"CategoricalTicker\"}},\"id\":\"1115\",\"type\":\"CategoricalAxis\"},{\"attributes\":{\"axis_label\":\"tip\",\"formatter\":{\"id\":\"1148\",\"type\":\"BasicTickFormatter\"},\"ticker\":{\"id\":\"1111\",\"type\":\"BasicTicker\"}},\"id\":\"1110\",\"type\":\"LinearAxis\"},{\"attributes\":{\"callback\":null,\"factors\":[\"Thur\",\"Fri\",\"Sat\",\"Sun\"]},\"id\":\"1104\",\"type\":\"FactorRange\"},{\"attributes\":{},\"id\":\"1111\",\"type\":\"BasicTicker\"},{\"attributes\":{\"text\":\"\"},\"id\":\"1100\",\"type\":\"Title\"},{\"attributes\":{\"dimension\":1,\"ticker\":{\"id\":\"1116\",\"type\":\"CategoricalTicker\"}},\"id\":\"1118\",\"type\":\"Grid\"},{\"attributes\":{},\"id\":\"1148\",\"type\":\"BasicTickFormatter\"},{\"attributes\":{},\"id\":\"1116\",\"type\":\"CategoricalTicker\"},{\"attributes\":{\"callback\":null,\"data\":{\"fill_color\":[\"rgb(49, 115, 161)\",\"rgb(224, 128, 44)\",\"rgb(58, 145, 58)\",\"rgb(192, 60, 61)\"],\"line_color\":[\"rgb(49, 115, 161)\",\"rgb(224, 128, 44)\",\"rgb(58, 145, 58)\",\"rgb(192, 60, 61)\"],\"right\":{\"__ndarray__\":\"Ku2+0u4rBkA+EaC1veAFQAMefzjg8QdA3AvebIIKCkA=\",\"dtype\":\"float64\",\"shape\":[4]},\"y\":[\"Thur\",\"Fri\",\"Sat\",\"Sun\"]},\"selected\":{\"id\":\"1150\",\"type\":\"Selection\"},\"selection_policy\":{\"id\":\"1151\",\"type\":\"UnionRenderers\"}},\"id\":\"1132\",\"type\":\"ColumnDataSource\"},{\"attributes\":{\"overlay\":{\"id\":\"1152\",\"type\":\"BoxAnnotation\"}},\"id\":\"1121\",\"type\":\"BoxZoomTool\"},{\"attributes\":{},\"id\":\"1123\",\"type\":\"ResetTool\"},{\"attributes\":{},\"id\":\"1108\",\"type\":\"CategoricalScale\"},{\"attributes\":{\"fill_alpha\":{\"value\":0.1},\"fill_color\":{\"value\":\"#1f77b4\"},\"height\":{\"value\":0.7},\"line_alpha\":{\"value\":0.1},\"line_color\":{\"value\":\"#1f77b4\"},\"right\":{\"field\":\"right\"},\"y\":{\"field\":\"y\"}},\"id\":\"1134\",\"type\":\"HBar\"},{\"attributes\":{\"source\":{\"id\":\"1132\",\"type\":\"ColumnDataSource\"}},\"id\":\"1136\",\"type\":\"CDSView\"},{\"attributes\":{},\"id\":\"1119\",\"type\":\"PanTool\"},{\"attributes\":{},\"id\":\"1106\",\"type\":\"LinearScale\"},{\"attributes\":{},\"id\":\"1120\",\"type\":\"WheelZoomTool\"},{\"attributes\":{\"fill_color\":{\"field\":\"fill_color\"},\"height\":{\"value\":0.7},\"line_color\":{\"field\":\"line_color\"},\"right\":{\"field\":\"right\"},\"y\":{\"field\":\"y\"}},\"id\":\"1133\",\"type\":\"HBar\"},{\"attributes\":{},\"id\":\"1122\",\"type\":\"SaveTool\"},{\"attributes\":{},\"id\":\"1150\",\"type\":\"Selection\"},{\"attributes\":{\"ticker\":{\"id\":\"1111\",\"type\":\"BasicTicker\"}},\"id\":\"1114\",\"type\":\"Grid\"},{\"attributes\":{},\"id\":\"1146\",\"type\":\"CategoricalTickFormatter\"},{\"attributes\":{\"callback\":null},\"id\":\"1102\",\"type\":\"DataRange1d\"},{\"attributes\":{},\"id\":\"1151\",\"type\":\"UnionRenderers\"},{\"attributes\":{},\"id\":\"1124\",\"type\":\"HelpTool\"}],\"root_ids\":[\"1099\"]},\"title\":\"Bokeh Application\",\"version\":\"1.4.0\"}};\n",
       "  var render_items = [{\"docid\":\"8e4f59f7-06ef-4135-a472-8bdf208b6cf5\",\"roots\":{\"1099\":\"9ec2e0f6-504e-4417-a6a4-b1702331b1a0\"}}];\n",
       "  root.Bokeh.embed.embed_items_notebook(docs_json, render_items);\n",
       "\n",
       "  }\n",
       "  if (root.Bokeh !== undefined) {\n",
       "    embed_document(root);\n",
       "  } else {\n",
       "    var attempts = 0;\n",
       "    var timer = setInterval(function(root) {\n",
       "      if (root.Bokeh !== undefined) {\n",
       "        clearInterval(timer);\n",
       "        embed_document(root);\n",
       "      } else {\n",
       "        attempts++;\n",
       "        if (attempts > 100) {\n",
       "          clearInterval(timer);\n",
       "          console.log(\"Bokeh: ERROR: Unable to run BokehJS code because BokehJS library is missing\");\n",
       "        }\n",
       "      }\n",
       "    }, 10, root)\n",
       "  }\n",
       "})(window);"
      ],
      "application/vnd.bokehjs_exec.v0+json": ""
     },
     "metadata": {
      "application/vnd.bokehjs_exec.v0+json": {
       "id": "1099"
      }
     },
     "output_type": "display_data"
    }
   ],
   "source": [
    "bb.barplot(x=\"tip\", y=\"day\", data=tips)"
   ]
  },
  {
   "cell_type": "markdown",
   "metadata": {},
   "source": [
    "#### 3.3 Control Orders\n",
    "Control bar order by passing an explicit order:"
   ]
  },
  {
   "cell_type": "code",
   "execution_count": 6,
   "metadata": {},
   "outputs": [
    {
     "data": {
      "text/html": [
       "\n",
       "\n",
       "\n",
       "\n",
       "\n",
       "\n",
       "  <div class=\"bk-root\" id=\"6d63efe4-9931-4994-abeb-87ab74d236ed\" data-root-id=\"1202\"></div>\n"
      ]
     },
     "metadata": {},
     "output_type": "display_data"
    },
    {
     "data": {
      "application/javascript": [
       "(function(root) {\n",
       "  function embed_document(root) {\n",
       "    \n",
       "  var docs_json = {\"2f74038f-64a3-4b02-89d9-fa90aeca3fa0\":{\"roots\":{\"references\":[{\"attributes\":{\"below\":[{\"id\":\"1213\",\"type\":\"CategoricalAxis\"}],\"center\":[{\"id\":\"1216\",\"type\":\"Grid\"},{\"id\":\"1221\",\"type\":\"Grid\"}],\"left\":[{\"id\":\"1217\",\"type\":\"LinearAxis\"}],\"plot_height\":350,\"renderers\":[{\"id\":\"1238\",\"type\":\"GlyphRenderer\"}],\"title\":{\"id\":\"1203\",\"type\":\"Title\"},\"toolbar\":{\"id\":\"1228\",\"type\":\"Toolbar\"},\"x_range\":{\"id\":\"1205\",\"type\":\"FactorRange\"},\"x_scale\":{\"id\":\"1209\",\"type\":\"CategoricalScale\"},\"y_range\":{\"id\":\"1207\",\"type\":\"DataRange1d\"},\"y_scale\":{\"id\":\"1211\",\"type\":\"LinearScale\"}},\"id\":\"1202\",\"subtype\":\"Figure\",\"type\":\"Plot\"},{\"attributes\":{},\"id\":\"1211\",\"type\":\"LinearScale\"},{\"attributes\":{\"callback\":null,\"tooltips\":[[\"time\",\"@time\"],[\"tip\",\"@tip\"]]},\"id\":\"1240\",\"type\":\"HoverTool\"},{\"attributes\":{},\"id\":\"1261\",\"type\":\"CategoricalTickFormatter\"},{\"attributes\":{\"axis_label\":\"time\",\"formatter\":{\"id\":\"1261\",\"type\":\"CategoricalTickFormatter\"},\"ticker\":{\"id\":\"1214\",\"type\":\"CategoricalTicker\"}},\"id\":\"1213\",\"type\":\"CategoricalAxis\"},{\"attributes\":{\"callback\":null,\"factors\":[\"Lunch\",\"Dinner\"]},\"id\":\"1205\",\"type\":\"FactorRange\"},{\"attributes\":{},\"id\":\"1214\",\"type\":\"CategoricalTicker\"},{\"attributes\":{},\"id\":\"1264\",\"type\":\"UnionRenderers\"},{\"attributes\":{\"ticker\":{\"id\":\"1214\",\"type\":\"CategoricalTicker\"}},\"id\":\"1216\",\"type\":\"Grid\"},{\"attributes\":{\"bottom_units\":\"screen\",\"fill_alpha\":{\"value\":0.5},\"fill_color\":{\"value\":\"lightgrey\"},\"left_units\":\"screen\",\"level\":\"overlay\",\"line_alpha\":{\"value\":1.0},\"line_color\":{\"value\":\"black\"},\"line_dash\":[4,4],\"line_width\":{\"value\":2},\"render_mode\":\"css\",\"right_units\":\"screen\",\"top_units\":\"screen\"},\"id\":\"1265\",\"type\":\"BoxAnnotation\"},{\"attributes\":{},\"id\":\"1259\",\"type\":\"BasicTickFormatter\"},{\"attributes\":{\"callback\":null},\"id\":\"1207\",\"type\":\"DataRange1d\"},{\"attributes\":{\"axis_label\":\"tip\",\"formatter\":{\"id\":\"1259\",\"type\":\"BasicTickFormatter\"},\"ticker\":{\"id\":\"1218\",\"type\":\"BasicTicker\"}},\"id\":\"1217\",\"type\":\"LinearAxis\"},{\"attributes\":{},\"id\":\"1218\",\"type\":\"BasicTicker\"},{\"attributes\":{\"callback\":null,\"data\":{\"fill_color\":[\"rgb(49, 115, 161)\",\"rgb(224, 128, 44)\"],\"index\":[0,1],\"line_color\":[\"rgb(49, 115, 161)\",\"rgb(224, 128, 44)\"],\"time\":[\"Lunch\",\"Dinner\"],\"tip\":{\"__ndarray__\":\"VIa57B/TBUAxTiTjRNIIQA==\",\"dtype\":\"float64\",\"shape\":[2]}},\"selected\":{\"id\":\"1263\",\"type\":\"Selection\"},\"selection_policy\":{\"id\":\"1264\",\"type\":\"UnionRenderers\"}},\"id\":\"1201\",\"type\":\"ColumnDataSource\"},{\"attributes\":{\"dimension\":1,\"ticker\":{\"id\":\"1218\",\"type\":\"BasicTicker\"}},\"id\":\"1221\",\"type\":\"Grid\"},{\"attributes\":{\"fill_alpha\":{\"value\":0.1},\"fill_color\":{\"value\":\"#1f77b4\"},\"line_alpha\":{\"value\":0.1},\"line_color\":{\"value\":\"#1f77b4\"},\"top\":{\"field\":\"tip\"},\"width\":{\"value\":0.7},\"x\":{\"field\":\"time\"}},\"id\":\"1237\",\"type\":\"VBar\"},{\"attributes\":{\"fill_alpha\":{\"value\":0.5},\"fill_color\":{\"field\":\"fill_color\"},\"line_color\":{\"field\":\"line_color\"},\"top\":{\"field\":\"tip\"},\"width\":{\"value\":0.7},\"x\":{\"field\":\"time\"}},\"id\":\"1236\",\"type\":\"VBar\"},{\"attributes\":{},\"id\":\"1209\",\"type\":\"CategoricalScale\"},{\"attributes\":{},\"id\":\"1263\",\"type\":\"Selection\"},{\"attributes\":{\"active_drag\":\"auto\",\"active_inspect\":\"auto\",\"active_multi\":null,\"active_scroll\":\"auto\",\"active_tap\":\"auto\",\"tools\":[{\"id\":\"1222\",\"type\":\"PanTool\"},{\"id\":\"1223\",\"type\":\"WheelZoomTool\"},{\"id\":\"1224\",\"type\":\"BoxZoomTool\"},{\"id\":\"1225\",\"type\":\"SaveTool\"},{\"id\":\"1226\",\"type\":\"ResetTool\"},{\"id\":\"1227\",\"type\":\"HelpTool\"},{\"id\":\"1240\",\"type\":\"HoverTool\"}]},\"id\":\"1228\",\"type\":\"Toolbar\"},{\"attributes\":{},\"id\":\"1222\",\"type\":\"PanTool\"},{\"attributes\":{\"text\":\"\"},\"id\":\"1203\",\"type\":\"Title\"},{\"attributes\":{},\"id\":\"1223\",\"type\":\"WheelZoomTool\"},{\"attributes\":{\"overlay\":{\"id\":\"1265\",\"type\":\"BoxAnnotation\"}},\"id\":\"1224\",\"type\":\"BoxZoomTool\"},{\"attributes\":{},\"id\":\"1225\",\"type\":\"SaveTool\"},{\"attributes\":{},\"id\":\"1226\",\"type\":\"ResetTool\"},{\"attributes\":{},\"id\":\"1227\",\"type\":\"HelpTool\"},{\"attributes\":{\"data_source\":{\"id\":\"1201\",\"type\":\"ColumnDataSource\"},\"glyph\":{\"id\":\"1236\",\"type\":\"VBar\"},\"hover_glyph\":null,\"muted_glyph\":null,\"nonselection_glyph\":{\"id\":\"1237\",\"type\":\"VBar\"},\"selection_glyph\":null,\"view\":{\"id\":\"1239\",\"type\":\"CDSView\"}},\"id\":\"1238\",\"type\":\"GlyphRenderer\"},{\"attributes\":{\"source\":{\"id\":\"1201\",\"type\":\"ColumnDataSource\"}},\"id\":\"1239\",\"type\":\"CDSView\"}],\"root_ids\":[\"1202\"]},\"title\":\"Bokeh Application\",\"version\":\"1.4.0\"}};\n",
       "  var render_items = [{\"docid\":\"2f74038f-64a3-4b02-89d9-fa90aeca3fa0\",\"roots\":{\"1202\":\"6d63efe4-9931-4994-abeb-87ab74d236ed\"}}];\n",
       "  root.Bokeh.embed.embed_items_notebook(docs_json, render_items);\n",
       "\n",
       "  }\n",
       "  if (root.Bokeh !== undefined) {\n",
       "    embed_document(root);\n",
       "  } else {\n",
       "    var attempts = 0;\n",
       "    var timer = setInterval(function(root) {\n",
       "      if (root.Bokeh !== undefined) {\n",
       "        clearInterval(timer);\n",
       "        embed_document(root);\n",
       "      } else {\n",
       "        attempts++;\n",
       "        if (attempts > 100) {\n",
       "          clearInterval(timer);\n",
       "          console.log(\"Bokeh: ERROR: Unable to run BokehJS code because BokehJS library is missing\");\n",
       "        }\n",
       "      }\n",
       "    }, 10, root)\n",
       "  }\n",
       "})(window);"
      ],
      "application/vnd.bokehjs_exec.v0+json": ""
     },
     "metadata": {
      "application/vnd.bokehjs_exec.v0+json": {
       "id": "1202"
      }
     },
     "output_type": "display_data"
    }
   ],
   "source": [
    "bb.barplot(x=\"time\", y=\"tip\", data=tips,order=[\"Lunch\", \"Dinner\"])"
   ]
  },
  {
   "cell_type": "markdown",
   "metadata": {},
   "source": [
    "#### 3.4 Set Desired Estimator\n",
    "For example, use median as the estimate of central tendency:"
   ]
  },
  {
   "cell_type": "code",
   "execution_count": 7,
   "metadata": {},
   "outputs": [
    {
     "data": {
      "text/html": [
       "\n",
       "\n",
       "\n",
       "\n",
       "\n",
       "\n",
       "  <div class=\"bk-root\" id=\"8262319b-ae4a-47e5-9cb1-7e022335bb82\" data-root-id=\"1315\"></div>\n"
      ]
     },
     "metadata": {},
     "output_type": "display_data"
    },
    {
     "data": {
      "application/javascript": [
       "(function(root) {\n",
       "  function embed_document(root) {\n",
       "    \n",
       "  var docs_json = {\"5c3b6d11-f290-4ab2-8ff2-92e47470a893\":{\"roots\":{\"references\":[{\"attributes\":{\"below\":[{\"id\":\"1326\",\"type\":\"CategoricalAxis\"}],\"center\":[{\"id\":\"1329\",\"type\":\"Grid\"},{\"id\":\"1334\",\"type\":\"Grid\"}],\"left\":[{\"id\":\"1330\",\"type\":\"LinearAxis\"}],\"plot_height\":350,\"renderers\":[{\"id\":\"1351\",\"type\":\"GlyphRenderer\"}],\"title\":{\"id\":\"1316\",\"type\":\"Title\"},\"toolbar\":{\"id\":\"1341\",\"type\":\"Toolbar\"},\"x_range\":{\"id\":\"1318\",\"type\":\"FactorRange\"},\"x_scale\":{\"id\":\"1322\",\"type\":\"CategoricalScale\"},\"y_range\":{\"id\":\"1320\",\"type\":\"DataRange1d\"},\"y_scale\":{\"id\":\"1324\",\"type\":\"LinearScale\"}},\"id\":\"1315\",\"subtype\":\"Figure\",\"type\":\"Plot\"},{\"attributes\":{\"overlay\":{\"id\":\"1386\",\"type\":\"BoxAnnotation\"}},\"id\":\"1337\",\"type\":\"BoxZoomTool\"},{\"attributes\":{},\"id\":\"1338\",\"type\":\"SaveTool\"},{\"attributes\":{\"callback\":null,\"factors\":[\"Thur\",\"Fri\",\"Sat\",\"Sun\"]},\"id\":\"1318\",\"type\":\"FactorRange\"},{\"attributes\":{},\"id\":\"1339\",\"type\":\"ResetTool\"},{\"attributes\":{},\"id\":\"1340\",\"type\":\"HelpTool\"},{\"attributes\":{},\"id\":\"1331\",\"type\":\"BasicTicker\"},{\"attributes\":{\"bottom_units\":\"screen\",\"fill_alpha\":{\"value\":0.5},\"fill_color\":{\"value\":\"lightgrey\"},\"left_units\":\"screen\",\"level\":\"overlay\",\"line_alpha\":{\"value\":1.0},\"line_color\":{\"value\":\"black\"},\"line_dash\":[4,4],\"line_width\":{\"value\":2},\"render_mode\":\"css\",\"right_units\":\"screen\",\"top_units\":\"screen\"},\"id\":\"1386\",\"type\":\"BoxAnnotation\"},{\"attributes\":{\"dimension\":1,\"ticker\":{\"id\":\"1331\",\"type\":\"BasicTicker\"}},\"id\":\"1334\",\"type\":\"Grid\"},{\"attributes\":{\"data_source\":{\"id\":\"1314\",\"type\":\"ColumnDataSource\"},\"glyph\":{\"id\":\"1349\",\"type\":\"VBar\"},\"hover_glyph\":null,\"muted_glyph\":null,\"nonselection_glyph\":{\"id\":\"1350\",\"type\":\"VBar\"},\"selection_glyph\":null,\"view\":{\"id\":\"1352\",\"type\":\"CDSView\"}},\"id\":\"1351\",\"type\":\"GlyphRenderer\"},{\"attributes\":{\"source\":{\"id\":\"1314\",\"type\":\"ColumnDataSource\"}},\"id\":\"1352\",\"type\":\"CDSView\"},{\"attributes\":{\"ticker\":{\"id\":\"1327\",\"type\":\"CategoricalTicker\"}},\"id\":\"1329\",\"type\":\"Grid\"},{\"attributes\":{\"axis_label\":\"tip\",\"formatter\":{\"id\":\"1380\",\"type\":\"BasicTickFormatter\"},\"ticker\":{\"id\":\"1331\",\"type\":\"BasicTicker\"}},\"id\":\"1330\",\"type\":\"LinearAxis\"},{\"attributes\":{\"callback\":null,\"tooltips\":[[\"day\",\"@day\"],[\"tip\",\"@tip\"]]},\"id\":\"1353\",\"type\":\"HoverTool\"},{\"attributes\":{\"axis_label\":\"day\",\"formatter\":{\"id\":\"1382\",\"type\":\"CategoricalTickFormatter\"},\"ticker\":{\"id\":\"1327\",\"type\":\"CategoricalTicker\"}},\"id\":\"1326\",\"type\":\"CategoricalAxis\"},{\"attributes\":{},\"id\":\"1327\",\"type\":\"CategoricalTicker\"},{\"attributes\":{},\"id\":\"1324\",\"type\":\"LinearScale\"},{\"attributes\":{},\"id\":\"1380\",\"type\":\"BasicTickFormatter\"},{\"attributes\":{},\"id\":\"1382\",\"type\":\"CategoricalTickFormatter\"},{\"attributes\":{\"fill_alpha\":{\"value\":0.5},\"fill_color\":{\"field\":\"fill_color\"},\"line_color\":{\"field\":\"line_color\"},\"top\":{\"field\":\"tip\"},\"width\":{\"value\":0.7},\"x\":{\"field\":\"day\"}},\"id\":\"1349\",\"type\":\"VBar\"},{\"attributes\":{\"fill_alpha\":{\"value\":0.1},\"fill_color\":{\"value\":\"#1f77b4\"},\"line_alpha\":{\"value\":0.1},\"line_color\":{\"value\":\"#1f77b4\"},\"top\":{\"field\":\"tip\"},\"width\":{\"value\":0.7},\"x\":{\"field\":\"day\"}},\"id\":\"1350\",\"type\":\"VBar\"},{\"attributes\":{},\"id\":\"1384\",\"type\":\"Selection\"},{\"attributes\":{\"callback\":null},\"id\":\"1320\",\"type\":\"DataRange1d\"},{\"attributes\":{},\"id\":\"1385\",\"type\":\"UnionRenderers\"},{\"attributes\":{\"text\":\"\"},\"id\":\"1316\",\"type\":\"Title\"},{\"attributes\":{\"callback\":null,\"data\":{\"day\":[\"Thur\",\"Fri\",\"Sat\",\"Sun\"],\"fill_color\":[\"rgb(49, 115, 161)\",\"rgb(224, 128, 44)\",\"rgb(58, 145, 58)\",\"rgb(192, 60, 61)\"],\"index\":[0,1,2,3],\"line_color\":[\"rgb(49, 115, 161)\",\"rgb(224, 128, 44)\",\"rgb(58, 145, 58)\",\"rgb(192, 60, 61)\"],\"tip\":{\"__ndarray__\":\"cD0K16NwAkAAAAAAAAAIQAAAAAAAAAZANDMzMzMzCUA=\",\"dtype\":\"float64\",\"shape\":[4]}},\"selected\":{\"id\":\"1384\",\"type\":\"Selection\"},\"selection_policy\":{\"id\":\"1385\",\"type\":\"UnionRenderers\"}},\"id\":\"1314\",\"type\":\"ColumnDataSource\"},{\"attributes\":{},\"id\":\"1322\",\"type\":\"CategoricalScale\"},{\"attributes\":{\"active_drag\":\"auto\",\"active_inspect\":\"auto\",\"active_multi\":null,\"active_scroll\":\"auto\",\"active_tap\":\"auto\",\"tools\":[{\"id\":\"1335\",\"type\":\"PanTool\"},{\"id\":\"1336\",\"type\":\"WheelZoomTool\"},{\"id\":\"1337\",\"type\":\"BoxZoomTool\"},{\"id\":\"1338\",\"type\":\"SaveTool\"},{\"id\":\"1339\",\"type\":\"ResetTool\"},{\"id\":\"1340\",\"type\":\"HelpTool\"},{\"id\":\"1353\",\"type\":\"HoverTool\"}]},\"id\":\"1341\",\"type\":\"Toolbar\"},{\"attributes\":{},\"id\":\"1335\",\"type\":\"PanTool\"},{\"attributes\":{},\"id\":\"1336\",\"type\":\"WheelZoomTool\"}],\"root_ids\":[\"1315\"]},\"title\":\"Bokeh Application\",\"version\":\"1.4.0\"}};\n",
       "  var render_items = [{\"docid\":\"5c3b6d11-f290-4ab2-8ff2-92e47470a893\",\"roots\":{\"1315\":\"8262319b-ae4a-47e5-9cb1-7e022335bb82\"}}];\n",
       "  root.Bokeh.embed.embed_items_notebook(docs_json, render_items);\n",
       "\n",
       "  }\n",
       "  if (root.Bokeh !== undefined) {\n",
       "    embed_document(root);\n",
       "  } else {\n",
       "    var attempts = 0;\n",
       "    var timer = setInterval(function(root) {\n",
       "      if (root.Bokeh !== undefined) {\n",
       "        clearInterval(timer);\n",
       "        embed_document(root);\n",
       "      } else {\n",
       "        attempts++;\n",
       "        if (attempts > 100) {\n",
       "          clearInterval(timer);\n",
       "          console.log(\"Bokeh: ERROR: Unable to run BokehJS code because BokehJS library is missing\");\n",
       "        }\n",
       "      }\n",
       "    }, 10, root)\n",
       "  }\n",
       "})(window);"
      ],
      "application/vnd.bokehjs_exec.v0+json": ""
     },
     "metadata": {
      "application/vnd.bokehjs_exec.v0+json": {
       "id": "1315"
      }
     },
     "output_type": "display_data"
    }
   ],
   "source": [
    "from numpy import median\n",
    "bb.barplot(x=\"day\", y=\"tip\", data=tips, estimator=median)"
   ]
  },
  {
   "cell_type": "markdown",
   "metadata": {},
   "source": [
    "#### 3.5 Choose Palettes\n",
    "Use a different color palette for the bars:"
   ]
  },
  {
   "cell_type": "code",
   "execution_count": 8,
   "metadata": {},
   "outputs": [
    {
     "data": {
      "text/html": [
       "\n",
       "\n",
       "\n",
       "\n",
       "\n",
       "\n",
       "  <div class=\"bk-root\" id=\"b6baed4e-b1f0-4868-b3f2-93dbeb9fda10\" data-root-id=\"1436\"></div>\n"
      ]
     },
     "metadata": {},
     "output_type": "display_data"
    },
    {
     "data": {
      "application/javascript": [
       "(function(root) {\n",
       "  function embed_document(root) {\n",
       "    \n",
       "  var docs_json = {\"135daf3e-4f6c-4ecd-a8b6-531a354e01cd\":{\"roots\":{\"references\":[{\"attributes\":{\"below\":[{\"id\":\"1447\",\"type\":\"CategoricalAxis\"}],\"center\":[{\"id\":\"1450\",\"type\":\"Grid\"},{\"id\":\"1455\",\"type\":\"Grid\"}],\"left\":[{\"id\":\"1451\",\"type\":\"LinearAxis\"}],\"plot_height\":350,\"renderers\":[{\"id\":\"1472\",\"type\":\"GlyphRenderer\"}],\"title\":{\"id\":\"1437\",\"type\":\"Title\"},\"toolbar\":{\"id\":\"1462\",\"type\":\"Toolbar\"},\"x_range\":{\"id\":\"1439\",\"type\":\"FactorRange\"},\"x_scale\":{\"id\":\"1443\",\"type\":\"CategoricalScale\"},\"y_range\":{\"id\":\"1441\",\"type\":\"DataRange1d\"},\"y_scale\":{\"id\":\"1445\",\"type\":\"LinearScale\"}},\"id\":\"1436\",\"subtype\":\"Figure\",\"type\":\"Plot\"},{\"attributes\":{\"data_source\":{\"id\":\"1435\",\"type\":\"ColumnDataSource\"},\"glyph\":{\"id\":\"1470\",\"type\":\"VBar\"},\"hover_glyph\":null,\"muted_glyph\":null,\"nonselection_glyph\":{\"id\":\"1471\",\"type\":\"VBar\"},\"selection_glyph\":null,\"view\":{\"id\":\"1473\",\"type\":\"CDSView\"}},\"id\":\"1472\",\"type\":\"GlyphRenderer\"},{\"attributes\":{},\"id\":\"1443\",\"type\":\"CategoricalScale\"},{\"attributes\":{\"source\":{\"id\":\"1435\",\"type\":\"ColumnDataSource\"}},\"id\":\"1473\",\"type\":\"CDSView\"},{\"attributes\":{},\"id\":\"1445\",\"type\":\"LinearScale\"},{\"attributes\":{\"callback\":null,\"tooltips\":[[\"day\",\"@day\"],[\"total_bill\",\"@total_bill\"]]},\"id\":\"1474\",\"type\":\"HoverTool\"},{\"attributes\":{\"axis_label\":\"day\",\"formatter\":{\"id\":\"1511\",\"type\":\"CategoricalTickFormatter\"},\"ticker\":{\"id\":\"1448\",\"type\":\"CategoricalTicker\"}},\"id\":\"1447\",\"type\":\"CategoricalAxis\"},{\"attributes\":{},\"id\":\"1511\",\"type\":\"CategoricalTickFormatter\"},{\"attributes\":{},\"id\":\"1448\",\"type\":\"CategoricalTicker\"},{\"attributes\":{},\"id\":\"1513\",\"type\":\"Selection\"},{\"attributes\":{\"ticker\":{\"id\":\"1448\",\"type\":\"CategoricalTicker\"}},\"id\":\"1450\",\"type\":\"Grid\"},{\"attributes\":{\"callback\":null},\"id\":\"1441\",\"type\":\"DataRange1d\"},{\"attributes\":{},\"id\":\"1514\",\"type\":\"UnionRenderers\"},{\"attributes\":{\"axis_label\":\"total_bill\",\"formatter\":{\"id\":\"1509\",\"type\":\"BasicTickFormatter\"},\"ticker\":{\"id\":\"1452\",\"type\":\"BasicTicker\"}},\"id\":\"1451\",\"type\":\"LinearAxis\"},{\"attributes\":{\"bottom_units\":\"screen\",\"fill_alpha\":{\"value\":0.5},\"fill_color\":{\"value\":\"lightgrey\"},\"left_units\":\"screen\",\"level\":\"overlay\",\"line_alpha\":{\"value\":1.0},\"line_color\":{\"value\":\"black\"},\"line_dash\":[4,4],\"line_width\":{\"value\":2},\"render_mode\":\"css\",\"right_units\":\"screen\",\"top_units\":\"screen\"},\"id\":\"1515\",\"type\":\"BoxAnnotation\"},{\"attributes\":{},\"id\":\"1452\",\"type\":\"BasicTicker\"},{\"attributes\":{\"callback\":null,\"factors\":[\"Thur\",\"Fri\",\"Sat\",\"Sun\"]},\"id\":\"1439\",\"type\":\"FactorRange\"},{\"attributes\":{\"dimension\":1,\"ticker\":{\"id\":\"1452\",\"type\":\"BasicTicker\"}},\"id\":\"1455\",\"type\":\"Grid\"},{\"attributes\":{},\"id\":\"1509\",\"type\":\"BasicTickFormatter\"},{\"attributes\":{\"fill_alpha\":{\"value\":0.1},\"fill_color\":{\"value\":\"#1f77b4\"},\"line_alpha\":{\"value\":0.1},\"line_color\":{\"value\":\"#1f77b4\"},\"top\":{\"field\":\"total_bill\"},\"width\":{\"value\":0.7},\"x\":{\"field\":\"day\"}},\"id\":\"1471\",\"type\":\"VBar\"},{\"attributes\":{\"fill_alpha\":{\"value\":0.5},\"fill_color\":{\"field\":\"fill_color\"},\"line_color\":{\"field\":\"line_color\"},\"top\":{\"field\":\"total_bill\"},\"width\":{\"value\":0.7},\"x\":{\"field\":\"day\"}},\"id\":\"1470\",\"type\":\"VBar\"},{\"attributes\":{\"text\":\"\"},\"id\":\"1437\",\"type\":\"Title\"},{\"attributes\":{\"active_drag\":\"auto\",\"active_inspect\":\"auto\",\"active_multi\":null,\"active_scroll\":\"auto\",\"active_tap\":\"auto\",\"tools\":[{\"id\":\"1456\",\"type\":\"PanTool\"},{\"id\":\"1457\",\"type\":\"WheelZoomTool\"},{\"id\":\"1458\",\"type\":\"BoxZoomTool\"},{\"id\":\"1459\",\"type\":\"SaveTool\"},{\"id\":\"1460\",\"type\":\"ResetTool\"},{\"id\":\"1461\",\"type\":\"HelpTool\"},{\"id\":\"1474\",\"type\":\"HoverTool\"}]},\"id\":\"1462\",\"type\":\"Toolbar\"},{\"attributes\":{},\"id\":\"1456\",\"type\":\"PanTool\"},{\"attributes\":{},\"id\":\"1457\",\"type\":\"WheelZoomTool\"},{\"attributes\":{\"overlay\":{\"id\":\"1515\",\"type\":\"BoxAnnotation\"}},\"id\":\"1458\",\"type\":\"BoxZoomTool\"},{\"attributes\":{},\"id\":\"1459\",\"type\":\"SaveTool\"},{\"attributes\":{},\"id\":\"1460\",\"type\":\"ResetTool\"},{\"attributes\":{\"callback\":null,\"data\":{\"day\":[\"Thur\",\"Fri\",\"Sat\",\"Sun\"],\"fill_color\":[\"rgb(59, 83, 100)\",\"rgb(67, 115, 150)\",\"rgb(93, 146, 184)\",\"rgb(136, 176, 203)\"],\"index\":[0,1,2,3],\"line_color\":[\"rgb(59, 83, 100)\",\"rgb(67, 115, 150)\",\"rgb(93, 146, 184)\",\"rgb(136, 176, 203)\"],\"total_bill\":{\"__ndarray__\":\"zoLsLMiuMUCgtb3gzSYxQOMPBzz+cDRAKVyPwvVoNUA=\",\"dtype\":\"float64\",\"shape\":[4]}},\"selected\":{\"id\":\"1513\",\"type\":\"Selection\"},\"selection_policy\":{\"id\":\"1514\",\"type\":\"UnionRenderers\"}},\"id\":\"1435\",\"type\":\"ColumnDataSource\"},{\"attributes\":{},\"id\":\"1461\",\"type\":\"HelpTool\"}],\"root_ids\":[\"1436\"]},\"title\":\"Bokeh Application\",\"version\":\"1.4.0\"}};\n",
       "  var render_items = [{\"docid\":\"135daf3e-4f6c-4ecd-a8b6-531a354e01cd\",\"roots\":{\"1436\":\"b6baed4e-b1f0-4868-b3f2-93dbeb9fda10\"}}];\n",
       "  root.Bokeh.embed.embed_items_notebook(docs_json, render_items);\n",
       "\n",
       "  }\n",
       "  if (root.Bokeh !== undefined) {\n",
       "    embed_document(root);\n",
       "  } else {\n",
       "    var attempts = 0;\n",
       "    var timer = setInterval(function(root) {\n",
       "      if (root.Bokeh !== undefined) {\n",
       "        clearInterval(timer);\n",
       "        embed_document(root);\n",
       "      } else {\n",
       "        attempts++;\n",
       "        if (attempts > 100) {\n",
       "          clearInterval(timer);\n",
       "          console.log(\"Bokeh: ERROR: Unable to run BokehJS code because BokehJS library is missing\");\n",
       "        }\n",
       "      }\n",
       "    }, 10, root)\n",
       "  }\n",
       "})(window);"
      ],
      "application/vnd.bokehjs_exec.v0+json": ""
     },
     "metadata": {
      "application/vnd.bokehjs_exec.v0+json": {
       "id": "1436"
      }
     },
     "output_type": "display_data"
    }
   ],
   "source": [
    "bb.barplot(x= \"day\", y=\"total_bill\", data=tips, palette=\"Blues_d\")"
   ]
  },
  {
   "cell_type": "markdown",
   "metadata": {},
   "source": [
    "#### 3.6 Set Specific Color\n",
    "Plot all bars in a single color:"
   ]
  },
  {
   "cell_type": "code",
   "execution_count": 17,
   "metadata": {},
   "outputs": [
    {
     "data": {
      "text/html": [
       "\n",
       "\n",
       "\n",
       "\n",
       "\n",
       "\n",
       "  <div class=\"bk-root\" id=\"efcbb28c-9fb0-480d-b234-2bf56dcf8532\" data-root-id=\"2939\"></div>\n"
      ]
     },
     "metadata": {},
     "output_type": "display_data"
    },
    {
     "data": {
      "application/javascript": [
       "(function(root) {\n",
       "  function embed_document(root) {\n",
       "    \n",
       "  var docs_json = {\"6f4b475d-09d1-47e3-878b-36ce72a4ac77\":{\"roots\":{\"references\":[{\"attributes\":{\"below\":[{\"id\":\"2950\",\"type\":\"CategoricalAxis\"}],\"center\":[{\"id\":\"2953\",\"type\":\"Grid\"},{\"id\":\"2958\",\"type\":\"Grid\"}],\"left\":[{\"id\":\"2954\",\"type\":\"LinearAxis\"}],\"plot_height\":350,\"renderers\":[{\"id\":\"2975\",\"type\":\"GlyphRenderer\"}],\"title\":{\"id\":\"2940\",\"type\":\"Title\"},\"toolbar\":{\"id\":\"2965\",\"type\":\"Toolbar\"},\"x_range\":{\"id\":\"2942\",\"type\":\"FactorRange\"},\"x_scale\":{\"id\":\"2946\",\"type\":\"CategoricalScale\"},\"y_range\":{\"id\":\"2944\",\"type\":\"DataRange1d\"},\"y_scale\":{\"id\":\"2948\",\"type\":\"LinearScale\"}},\"id\":\"2939\",\"subtype\":\"Figure\",\"type\":\"Plot\"},{\"attributes\":{},\"id\":\"2960\",\"type\":\"WheelZoomTool\"},{\"attributes\":{},\"id\":\"2955\",\"type\":\"BasicTicker\"},{\"attributes\":{\"fill_alpha\":{\"value\":0.5},\"fill_color\":{\"field\":\"fill_color\"},\"line_alpha\":{\"value\":0.01},\"line_color\":{\"field\":\"line_color\"},\"top\":{\"field\":\"total_bill\"},\"width\":{\"value\":0.7},\"x\":{\"field\":\"day\"}},\"id\":\"2973\",\"type\":\"VBar\"},{\"attributes\":{\"ticker\":{\"id\":\"2951\",\"type\":\"CategoricalTicker\"}},\"id\":\"2953\",\"type\":\"Grid\"},{\"attributes\":{\"dimension\":1,\"ticker\":{\"id\":\"2955\",\"type\":\"BasicTicker\"}},\"id\":\"2958\",\"type\":\"Grid\"},{\"attributes\":{\"fill_alpha\":{\"value\":0.1},\"fill_color\":{\"value\":\"#1f77b4\"},\"line_alpha\":{\"value\":0.1},\"line_color\":{\"value\":\"#1f77b4\"},\"top\":{\"field\":\"total_bill\"},\"width\":{\"value\":0.7},\"x\":{\"field\":\"day\"}},\"id\":\"2974\",\"type\":\"VBar\"},{\"attributes\":{},\"id\":\"2946\",\"type\":\"CategoricalScale\"},{\"attributes\":{\"data_source\":{\"id\":\"2938\",\"type\":\"ColumnDataSource\"},\"glyph\":{\"id\":\"2973\",\"type\":\"VBar\"},\"hover_glyph\":null,\"muted_glyph\":null,\"nonselection_glyph\":{\"id\":\"2974\",\"type\":\"VBar\"},\"selection_glyph\":null,\"view\":{\"id\":\"2976\",\"type\":\"CDSView\"}},\"id\":\"2975\",\"type\":\"GlyphRenderer\"},{\"attributes\":{},\"id\":\"2964\",\"type\":\"HelpTool\"},{\"attributes\":{},\"id\":\"2948\",\"type\":\"LinearScale\"},{\"attributes\":{\"source\":{\"id\":\"2938\",\"type\":\"ColumnDataSource\"}},\"id\":\"2976\",\"type\":\"CDSView\"},{\"attributes\":{\"axis_label\":\"total_bill\",\"formatter\":{\"id\":\"3088\",\"type\":\"BasicTickFormatter\"},\"ticker\":{\"id\":\"2955\",\"type\":\"BasicTicker\"}},\"id\":\"2954\",\"type\":\"LinearAxis\"},{\"attributes\":{\"text\":\"\"},\"id\":\"2940\",\"type\":\"Title\"},{\"attributes\":{},\"id\":\"3093\",\"type\":\"UnionRenderers\"},{\"attributes\":{\"axis_label\":\"day\",\"formatter\":{\"id\":\"3090\",\"type\":\"CategoricalTickFormatter\"},\"ticker\":{\"id\":\"2951\",\"type\":\"CategoricalTicker\"}},\"id\":\"2950\",\"type\":\"CategoricalAxis\"},{\"attributes\":{\"callback\":null,\"tooltips\":[[\"day\",\"@day\"],[\"total_bill\",\"@total_bill\"]]},\"id\":\"2977\",\"type\":\"HoverTool\"},{\"attributes\":{\"bottom_units\":\"screen\",\"fill_alpha\":{\"value\":0.5},\"fill_color\":{\"value\":\"lightgrey\"},\"left_units\":\"screen\",\"level\":\"overlay\",\"line_alpha\":{\"value\":1.0},\"line_color\":{\"value\":\"black\"},\"line_dash\":[4,4],\"line_width\":{\"value\":2},\"render_mode\":\"css\",\"right_units\":\"screen\",\"top_units\":\"screen\"},\"id\":\"3094\",\"type\":\"BoxAnnotation\"},{\"attributes\":{},\"id\":\"3090\",\"type\":\"CategoricalTickFormatter\"},{\"attributes\":{\"callback\":null,\"data\":{\"day\":[\"Thur\",\"Fri\",\"Sat\",\"Sun\"],\"fill_color\":[\"rgb(232, 141, 131)\",\"rgb(232, 141, 131)\",\"rgb(232, 141, 131)\",\"rgb(232, 141, 131)\"],\"index\":[0,1,2,3],\"line_color\":[\"rgb(232, 141, 131)\",\"rgb(232, 141, 131)\",\"rgb(232, 141, 131)\",\"rgb(232, 141, 131)\"],\"total_bill\":{\"__ndarray__\":\"zoLsLMiuMUCgtb3gzSYxQOMPBzz+cDRAKVyPwvVoNUA=\",\"dtype\":\"float64\",\"shape\":[4]}},\"selected\":{\"id\":\"3092\",\"type\":\"Selection\"},\"selection_policy\":{\"id\":\"3093\",\"type\":\"UnionRenderers\"}},\"id\":\"2938\",\"type\":\"ColumnDataSource\"},{\"attributes\":{},\"id\":\"3092\",\"type\":\"Selection\"},{\"attributes\":{},\"id\":\"3088\",\"type\":\"BasicTickFormatter\"},{\"attributes\":{},\"id\":\"2951\",\"type\":\"CategoricalTicker\"},{\"attributes\":{\"callback\":null},\"id\":\"2944\",\"type\":\"DataRange1d\"},{\"attributes\":{\"callback\":null,\"factors\":[\"Thur\",\"Fri\",\"Sat\",\"Sun\"]},\"id\":\"2942\",\"type\":\"FactorRange\"},{\"attributes\":{},\"id\":\"2959\",\"type\":\"PanTool\"},{\"attributes\":{},\"id\":\"2963\",\"type\":\"ResetTool\"},{\"attributes\":{\"active_drag\":\"auto\",\"active_inspect\":\"auto\",\"active_multi\":null,\"active_scroll\":\"auto\",\"active_tap\":\"auto\",\"tools\":[{\"id\":\"2959\",\"type\":\"PanTool\"},{\"id\":\"2960\",\"type\":\"WheelZoomTool\"},{\"id\":\"2961\",\"type\":\"BoxZoomTool\"},{\"id\":\"2962\",\"type\":\"SaveTool\"},{\"id\":\"2963\",\"type\":\"ResetTool\"},{\"id\":\"2964\",\"type\":\"HelpTool\"},{\"id\":\"2977\",\"type\":\"HoverTool\"}]},\"id\":\"2965\",\"type\":\"Toolbar\"},{\"attributes\":{},\"id\":\"2962\",\"type\":\"SaveTool\"},{\"attributes\":{\"overlay\":{\"id\":\"3094\",\"type\":\"BoxAnnotation\"}},\"id\":\"2961\",\"type\":\"BoxZoomTool\"}],\"root_ids\":[\"2939\"]},\"title\":\"Bokeh Application\",\"version\":\"1.4.0\"}};\n",
       "  var render_items = [{\"docid\":\"6f4b475d-09d1-47e3-878b-36ce72a4ac77\",\"roots\":{\"2939\":\"efcbb28c-9fb0-480d-b234-2bf56dcf8532\"}}];\n",
       "  root.Bokeh.embed.embed_items_notebook(docs_json, render_items);\n",
       "\n",
       "  }\n",
       "  if (root.Bokeh !== undefined) {\n",
       "    embed_document(root);\n",
       "  } else {\n",
       "    var attempts = 0;\n",
       "    var timer = setInterval(function(root) {\n",
       "      if (root.Bokeh !== undefined) {\n",
       "        clearInterval(timer);\n",
       "        embed_document(root);\n",
       "      } else {\n",
       "        attempts++;\n",
       "        if (attempts > 100) {\n",
       "          clearInterval(timer);\n",
       "          console.log(\"Bokeh: ERROR: Unable to run BokehJS code because BokehJS library is missing\");\n",
       "        }\n",
       "      }\n",
       "    }, 10, root)\n",
       "  }\n",
       "})(window);"
      ],
      "application/vnd.bokehjs_exec.v0+json": ""
     },
     "metadata": {
      "application/vnd.bokehjs_exec.v0+json": {
       "id": "2939"
      }
     },
     "output_type": "display_data"
    }
   ],
   "source": [
    "bb.barplot(x= \"day\", y=\"total_bill\", data=tips, color=\"salmon\")"
   ]
  },
  {
   "cell_type": "markdown",
   "metadata": {},
   "source": [
    "#### 3.7 Use Hue for Visualization\n",
    "Draw a set of vertical bars with nested grouping by a two variables:"
   ]
  },
  {
   "cell_type": "code",
   "execution_count": 10,
   "metadata": {},
   "outputs": [
    {
     "data": {
      "text/html": [
       "\n",
       "\n",
       "\n",
       "\n",
       "\n",
       "\n",
       "  <div class=\"bk-root\" id=\"bba5008b-f68c-4a64-b78b-c68f9395c252\" data-root-id=\"1701\"></div>\n"
      ]
     },
     "metadata": {},
     "output_type": "display_data"
    },
    {
     "data": {
      "application/javascript": [
       "(function(root) {\n",
       "  function embed_document(root) {\n",
       "    \n",
       "  var docs_json = {\"a14ac61f-b123-43c9-a0d1-45b22d6e0f4a\":{\"roots\":{\"references\":[{\"attributes\":{\"below\":[{\"id\":\"1712\",\"type\":\"CategoricalAxis\"}],\"center\":[{\"id\":\"1715\",\"type\":\"Grid\"},{\"id\":\"1720\",\"type\":\"Grid\"}],\"left\":[{\"id\":\"1716\",\"type\":\"LinearAxis\"}],\"plot_height\":350,\"renderers\":[{\"id\":\"1737\",\"type\":\"GlyphRenderer\"},{\"id\":\"1742\",\"type\":\"GlyphRenderer\"}],\"title\":{\"id\":\"1702\",\"type\":\"Title\"},\"toolbar\":{\"id\":\"1727\",\"type\":\"Toolbar\"},\"x_range\":{\"id\":\"1704\",\"type\":\"FactorRange\"},\"x_scale\":{\"id\":\"1708\",\"type\":\"CategoricalScale\"},\"y_range\":{\"id\":\"1706\",\"type\":\"DataRange1d\"},\"y_scale\":{\"id\":\"1710\",\"type\":\"LinearScale\"}},\"id\":\"1701\",\"subtype\":\"Figure\",\"type\":\"Plot\"},{\"attributes\":{\"fill_color\":\"rgb(224, 128, 44)\",\"line_color\":\"rgb(224, 128, 44)\",\"top\":{\"field\":\"top\"},\"width\":{\"value\":0.4},\"x\":{\"field\":\"x\"}},\"id\":\"1740\",\"type\":\"VBar\"},{\"attributes\":{\"axis_label\":\"total_bill\",\"formatter\":{\"id\":\"1793\",\"type\":\"BasicTickFormatter\"},\"ticker\":{\"id\":\"1717\",\"type\":\"BasicTicker\"}},\"id\":\"1716\",\"type\":\"LinearAxis\"},{\"attributes\":{\"fill_alpha\":{\"value\":0.1},\"fill_color\":{\"value\":\"#1f77b4\"},\"line_alpha\":{\"value\":0.1},\"line_color\":{\"value\":\"#1f77b4\"},\"top\":{\"field\":\"top\"},\"width\":{\"value\":0.4},\"x\":{\"field\":\"x\"}},\"id\":\"1741\",\"type\":\"VBar\"},{\"attributes\":{},\"id\":\"1717\",\"type\":\"BasicTicker\"},{\"attributes\":{\"data_source\":{\"id\":\"1739\",\"type\":\"ColumnDataSource\"},\"glyph\":{\"id\":\"1740\",\"type\":\"VBar\"},\"hover_glyph\":null,\"muted_glyph\":null,\"nonselection_glyph\":{\"id\":\"1741\",\"type\":\"VBar\"},\"selection_glyph\":null,\"view\":{\"id\":\"1743\",\"type\":\"CDSView\"}},\"id\":\"1742\",\"type\":\"GlyphRenderer\"},{\"attributes\":{\"dimension\":1,\"ticker\":{\"id\":\"1717\",\"type\":\"BasicTicker\"}},\"id\":\"1720\",\"type\":\"Grid\"},{\"attributes\":{\"source\":{\"id\":\"1739\",\"type\":\"ColumnDataSource\"}},\"id\":\"1743\",\"type\":\"CDSView\"},{\"attributes\":{\"callback\":null,\"data\":{\"top\":{\"__ndarray__\":\"698IZfS2MkAIrBxaZNszQP4tvWpzzTRAvstDQCLjNUA=\",\"dtype\":\"float64\",\"shape\":[4]},\"x\":{\"__ndarray__\":\"MzMzMzMz0z/NzMzMzMz0P2ZmZmZmZgJAZmZmZmZmCkA=\",\"dtype\":\"float64\",\"shape\":[4]}},\"selected\":{\"id\":\"1797\",\"type\":\"Selection\"},\"selection_policy\":{\"id\":\"1798\",\"type\":\"UnionRenderers\"}},\"id\":\"1734\",\"type\":\"ColumnDataSource\"},{\"attributes\":{},\"id\":\"1793\",\"type\":\"BasicTickFormatter\"},{\"attributes\":{},\"id\":\"1795\",\"type\":\"CategoricalTickFormatter\"},{\"attributes\":{\"active_drag\":\"auto\",\"active_inspect\":\"auto\",\"active_multi\":null,\"active_scroll\":\"auto\",\"active_tap\":\"auto\",\"tools\":[{\"id\":\"1721\",\"type\":\"PanTool\"},{\"id\":\"1722\",\"type\":\"WheelZoomTool\"},{\"id\":\"1723\",\"type\":\"BoxZoomTool\"},{\"id\":\"1724\",\"type\":\"SaveTool\"},{\"id\":\"1725\",\"type\":\"ResetTool\"},{\"id\":\"1726\",\"type\":\"HelpTool\"}]},\"id\":\"1727\",\"type\":\"Toolbar\"},{\"attributes\":{},\"id\":\"1721\",\"type\":\"PanTool\"},{\"attributes\":{},\"id\":\"1797\",\"type\":\"Selection\"},{\"attributes\":{},\"id\":\"1722\",\"type\":\"WheelZoomTool\"},{\"attributes\":{},\"id\":\"1798\",\"type\":\"UnionRenderers\"},{\"attributes\":{\"overlay\":{\"id\":\"1801\",\"type\":\"BoxAnnotation\"}},\"id\":\"1723\",\"type\":\"BoxZoomTool\"},{\"attributes\":{},\"id\":\"1799\",\"type\":\"Selection\"},{\"attributes\":{},\"id\":\"1724\",\"type\":\"SaveTool\"},{\"attributes\":{},\"id\":\"1800\",\"type\":\"UnionRenderers\"},{\"attributes\":{},\"id\":\"1725\",\"type\":\"ResetTool\"},{\"attributes\":{\"bottom_units\":\"screen\",\"fill_alpha\":{\"value\":0.5},\"fill_color\":{\"value\":\"lightgrey\"},\"left_units\":\"screen\",\"level\":\"overlay\",\"line_alpha\":{\"value\":1.0},\"line_color\":{\"value\":\"black\"},\"line_dash\":[4,4],\"line_width\":{\"value\":2},\"render_mode\":\"css\",\"right_units\":\"screen\",\"top_units\":\"screen\"},\"id\":\"1801\",\"type\":\"BoxAnnotation\"},{\"attributes\":{\"text\":\"\"},\"id\":\"1702\",\"type\":\"Title\"},{\"attributes\":{},\"id\":\"1726\",\"type\":\"HelpTool\"},{\"attributes\":{\"ticker\":{\"id\":\"1713\",\"type\":\"CategoricalTicker\"}},\"id\":\"1715\",\"type\":\"Grid\"},{\"attributes\":{},\"id\":\"1713\",\"type\":\"CategoricalTicker\"},{\"attributes\":{\"axis_label\":\"day\",\"formatter\":{\"id\":\"1795\",\"type\":\"CategoricalTickFormatter\"},\"ticker\":{\"id\":\"1713\",\"type\":\"CategoricalTicker\"}},\"id\":\"1712\",\"type\":\"CategoricalAxis\"},{\"attributes\":{\"fill_color\":\"rgb(49, 115, 161)\",\"line_color\":\"rgb(49, 115, 161)\",\"top\":{\"field\":\"top\"},\"width\":{\"value\":0.4},\"x\":{\"field\":\"x\"}},\"id\":\"1735\",\"type\":\"VBar\"},{\"attributes\":{\"fill_alpha\":{\"value\":0.1},\"fill_color\":{\"value\":\"#1f77b4\"},\"line_alpha\":{\"value\":0.1},\"line_color\":{\"value\":\"#1f77b4\"},\"top\":{\"field\":\"top\"},\"width\":{\"value\":0.4},\"x\":{\"field\":\"x\"}},\"id\":\"1736\",\"type\":\"VBar\"},{\"attributes\":{},\"id\":\"1710\",\"type\":\"LinearScale\"},{\"attributes\":{\"data_source\":{\"id\":\"1734\",\"type\":\"ColumnDataSource\"},\"glyph\":{\"id\":\"1735\",\"type\":\"VBar\"},\"hover_glyph\":null,\"muted_glyph\":null,\"nonselection_glyph\":{\"id\":\"1736\",\"type\":\"VBar\"},\"selection_glyph\":null,\"view\":{\"id\":\"1738\",\"type\":\"CDSView\"}},\"id\":\"1737\",\"type\":\"GlyphRenderer\"},{\"attributes\":{\"source\":{\"id\":\"1734\",\"type\":\"ColumnDataSource\"}},\"id\":\"1738\",\"type\":\"CDSView\"},{\"attributes\":{},\"id\":\"1708\",\"type\":\"CategoricalScale\"},{\"attributes\":{\"callback\":null,\"data\":{\"top\":{\"__ndarray__\":\"hetRuB63MEB1uf1BhkosQOIrvuIrrjNA9Emf9EnfM0A=\",\"dtype\":\"float64\",\"shape\":[4]},\"x\":{\"__ndarray__\":\"ZmZmZmZm5j8zMzMzMzP7P5qZmZmZmQVAmpmZmZmZDUA=\",\"dtype\":\"float64\",\"shape\":[4]}},\"selected\":{\"id\":\"1799\",\"type\":\"Selection\"},\"selection_policy\":{\"id\":\"1800\",\"type\":\"UnionRenderers\"}},\"id\":\"1739\",\"type\":\"ColumnDataSource\"},{\"attributes\":{\"callback\":null},\"id\":\"1706\",\"type\":\"DataRange1d\"},{\"attributes\":{\"callback\":null,\"factors\":[\"Thur\",\"Fri\",\"Sat\",\"Sun\"]},\"id\":\"1704\",\"type\":\"FactorRange\"}],\"root_ids\":[\"1701\"]},\"title\":\"Bokeh Application\",\"version\":\"1.4.0\"}};\n",
       "  var render_items = [{\"docid\":\"a14ac61f-b123-43c9-a0d1-45b22d6e0f4a\",\"roots\":{\"1701\":\"bba5008b-f68c-4a64-b78b-c68f9395c252\"}}];\n",
       "  root.Bokeh.embed.embed_items_notebook(docs_json, render_items);\n",
       "\n",
       "  }\n",
       "  if (root.Bokeh !== undefined) {\n",
       "    embed_document(root);\n",
       "  } else {\n",
       "    var attempts = 0;\n",
       "    var timer = setInterval(function(root) {\n",
       "      if (root.Bokeh !== undefined) {\n",
       "        clearInterval(timer);\n",
       "        embed_document(root);\n",
       "      } else {\n",
       "        attempts++;\n",
       "        if (attempts > 100) {\n",
       "          clearInterval(timer);\n",
       "          console.log(\"Bokeh: ERROR: Unable to run BokehJS code because BokehJS library is missing\");\n",
       "        }\n",
       "      }\n",
       "    }, 10, root)\n",
       "  }\n",
       "})(window);"
      ],
      "application/vnd.bokehjs_exec.v0+json": ""
     },
     "metadata": {
      "application/vnd.bokehjs_exec.v0+json": {
       "id": "1701"
      }
     },
     "output_type": "display_data"
    }
   ],
   "source": [
    "bb.barplot(x=\"day\", y=\"total_bill\", hue=\"sex\", data=tips)"
   ]
  },
  {
   "cell_type": "code",
   "execution_count": 11,
   "metadata": {},
   "outputs": [
    {
     "data": {
      "text/html": [
       "\n",
       "\n",
       "\n",
       "\n",
       "\n",
       "\n",
       "  <div class=\"bk-root\" id=\"8754a544-a7ef-497d-876b-b93109d7cc27\" data-root-id=\"1862\"></div>\n"
      ]
     },
     "metadata": {},
     "output_type": "display_data"
    },
    {
     "data": {
      "application/javascript": [
       "(function(root) {\n",
       "  function embed_document(root) {\n",
       "    \n",
       "  var docs_json = {\"37701a61-e1f2-45dd-9cba-c398fdd168f0\":{\"roots\":{\"references\":[{\"attributes\":{\"below\":[{\"id\":\"1873\",\"type\":\"CategoricalAxis\"}],\"center\":[{\"id\":\"1876\",\"type\":\"Grid\"},{\"id\":\"1881\",\"type\":\"Grid\"}],\"left\":[{\"id\":\"1877\",\"type\":\"LinearAxis\"}],\"plot_height\":350,\"renderers\":[{\"id\":\"1898\",\"type\":\"GlyphRenderer\"},{\"id\":\"1903\",\"type\":\"GlyphRenderer\"}],\"title\":{\"id\":\"1863\",\"type\":\"Title\"},\"toolbar\":{\"id\":\"1888\",\"type\":\"Toolbar\"},\"x_range\":{\"id\":\"1865\",\"type\":\"FactorRange\"},\"x_scale\":{\"id\":\"1869\",\"type\":\"CategoricalScale\"},\"y_range\":{\"id\":\"1867\",\"type\":\"DataRange1d\"},\"y_scale\":{\"id\":\"1871\",\"type\":\"LinearScale\"}},\"id\":\"1862\",\"subtype\":\"Figure\",\"type\":\"Plot\"},{\"attributes\":{\"fill_color\":\"rgb(49, 115, 161)\",\"line_color\":\"rgb(49, 115, 161)\",\"top\":{\"field\":\"top\"},\"width\":{\"value\":0.4},\"x\":{\"field\":\"x\"}},\"id\":\"1896\",\"type\":\"VBar\"},{\"attributes\":{\"callback\":null},\"id\":\"1867\",\"type\":\"DataRange1d\"},{\"attributes\":{\"fill_alpha\":{\"value\":0.1},\"fill_color\":{\"value\":\"#1f77b4\"},\"line_alpha\":{\"value\":0.1},\"line_color\":{\"value\":\"#1f77b4\"},\"top\":{\"field\":\"top\"},\"width\":{\"value\":0.4},\"x\":{\"field\":\"x\"}},\"id\":\"1897\",\"type\":\"VBar\"},{\"attributes\":{},\"id\":\"1869\",\"type\":\"CategoricalScale\"},{\"attributes\":{\"data_source\":{\"id\":\"1895\",\"type\":\"ColumnDataSource\"},\"glyph\":{\"id\":\"1896\",\"type\":\"VBar\"},\"hover_glyph\":null,\"muted_glyph\":null,\"nonselection_glyph\":{\"id\":\"1897\",\"type\":\"VBar\"},\"selection_glyph\":null,\"view\":{\"id\":\"1899\",\"type\":\"CDSView\"}},\"id\":\"1898\",\"type\":\"GlyphRenderer\"},{\"attributes\":{},\"id\":\"1871\",\"type\":\"LinearScale\"},{\"attributes\":{\"source\":{\"id\":\"1895\",\"type\":\"ColumnDataSource\"}},\"id\":\"1899\",\"type\":\"CDSView\"},{\"attributes\":{\"axis_label\":\"day\",\"formatter\":{\"id\":\"1966\",\"type\":\"CategoricalTickFormatter\"},\"ticker\":{\"id\":\"1874\",\"type\":\"CategoricalTicker\"}},\"id\":\"1873\",\"type\":\"CategoricalAxis\"},{\"attributes\":{\"callback\":null,\"data\":{\"top\":{\"__ndarray__\":\"VAmL2fQcMUDrUbgehWsyQG7GuERqqTNAgk4b6LSBNEA=\",\"dtype\":\"float64\",\"shape\":[4]},\"x\":{\"__ndarray__\":\"ZmZmZmZm5j8zMzMzMzP7P5qZmZmZmQVAmpmZmZmZDUA=\",\"dtype\":\"float64\",\"shape\":[4]}},\"selected\":{\"id\":\"1970\",\"type\":\"Selection\"},\"selection_policy\":{\"id\":\"1971\",\"type\":\"UnionRenderers\"}},\"id\":\"1900\",\"type\":\"ColumnDataSource\"},{\"attributes\":{},\"id\":\"1874\",\"type\":\"CategoricalTicker\"},{\"attributes\":{\"ticker\":{\"id\":\"1874\",\"type\":\"CategoricalTicker\"}},\"id\":\"1876\",\"type\":\"Grid\"},{\"attributes\":{\"text\":\"\"},\"id\":\"1863\",\"type\":\"Title\"},{\"attributes\":{\"fill_color\":\"rgb(224, 128, 44)\",\"line_color\":\"rgb(224, 128, 44)\",\"top\":{\"field\":\"top\"},\"width\":{\"value\":0.4},\"x\":{\"field\":\"x\"}},\"id\":\"1901\",\"type\":\"VBar\"},{\"attributes\":{\"axis_label\":\"total_bill\",\"formatter\":{\"id\":\"1964\",\"type\":\"BasicTickFormatter\"},\"ticker\":{\"id\":\"1878\",\"type\":\"BasicTicker\"}},\"id\":\"1877\",\"type\":\"LinearAxis\"},{\"attributes\":{\"fill_alpha\":{\"value\":0.1},\"fill_color\":{\"value\":\"#1f77b4\"},\"line_alpha\":{\"value\":0.1},\"line_color\":{\"value\":\"#1f77b4\"},\"top\":{\"field\":\"top\"},\"width\":{\"value\":0.4},\"x\":{\"field\":\"x\"}},\"id\":\"1902\",\"type\":\"VBar\"},{\"attributes\":{},\"id\":\"1878\",\"type\":\"BasicTicker\"},{\"attributes\":{\"data_source\":{\"id\":\"1900\",\"type\":\"ColumnDataSource\"},\"glyph\":{\"id\":\"1901\",\"type\":\"VBar\"},\"hover_glyph\":null,\"muted_glyph\":null,\"nonselection_glyph\":{\"id\":\"1902\",\"type\":\"VBar\"},\"selection_glyph\":null,\"view\":{\"id\":\"1904\",\"type\":\"CDSView\"}},\"id\":\"1903\",\"type\":\"GlyphRenderer\"},{\"attributes\":{\"dimension\":1,\"ticker\":{\"id\":\"1878\",\"type\":\"BasicTicker\"}},\"id\":\"1881\",\"type\":\"Grid\"},{\"attributes\":{\"source\":{\"id\":\"1900\",\"type\":\"ColumnDataSource\"}},\"id\":\"1904\",\"type\":\"CDSView\"},{\"attributes\":{\"callback\":null,\"data\":{\"top\":{\"__ndarray__\":\"MZf9Y8owM0DQaQOdNtAwQAY6baDTRjVAHoXrUbgeOEA=\",\"dtype\":\"float64\",\"shape\":[4]},\"x\":{\"__ndarray__\":\"MzMzMzMz0z/NzMzMzMz0P2ZmZmZmZgJAZmZmZmZmCkA=\",\"dtype\":\"float64\",\"shape\":[4]}},\"selected\":{\"id\":\"1968\",\"type\":\"Selection\"},\"selection_policy\":{\"id\":\"1969\",\"type\":\"UnionRenderers\"}},\"id\":\"1895\",\"type\":\"ColumnDataSource\"},{\"attributes\":{},\"id\":\"1964\",\"type\":\"BasicTickFormatter\"},{\"attributes\":{},\"id\":\"1966\",\"type\":\"CategoricalTickFormatter\"},{\"attributes\":{\"active_drag\":\"auto\",\"active_inspect\":\"auto\",\"active_multi\":null,\"active_scroll\":\"auto\",\"active_tap\":\"auto\",\"tools\":[{\"id\":\"1882\",\"type\":\"PanTool\"},{\"id\":\"1883\",\"type\":\"WheelZoomTool\"},{\"id\":\"1884\",\"type\":\"BoxZoomTool\"},{\"id\":\"1885\",\"type\":\"SaveTool\"},{\"id\":\"1886\",\"type\":\"ResetTool\"},{\"id\":\"1887\",\"type\":\"HelpTool\"}]},\"id\":\"1888\",\"type\":\"Toolbar\"},{\"attributes\":{},\"id\":\"1882\",\"type\":\"PanTool\"},{\"attributes\":{\"callback\":null,\"factors\":[\"Thur\",\"Fri\",\"Sat\",\"Sun\"]},\"id\":\"1865\",\"type\":\"FactorRange\"},{\"attributes\":{},\"id\":\"1968\",\"type\":\"Selection\"},{\"attributes\":{},\"id\":\"1883\",\"type\":\"WheelZoomTool\"},{\"attributes\":{},\"id\":\"1969\",\"type\":\"UnionRenderers\"},{\"attributes\":{\"overlay\":{\"id\":\"1972\",\"type\":\"BoxAnnotation\"}},\"id\":\"1884\",\"type\":\"BoxZoomTool\"},{\"attributes\":{},\"id\":\"1970\",\"type\":\"Selection\"},{\"attributes\":{},\"id\":\"1885\",\"type\":\"SaveTool\"},{\"attributes\":{},\"id\":\"1971\",\"type\":\"UnionRenderers\"},{\"attributes\":{},\"id\":\"1886\",\"type\":\"ResetTool\"},{\"attributes\":{\"bottom_units\":\"screen\",\"fill_alpha\":{\"value\":0.5},\"fill_color\":{\"value\":\"lightgrey\"},\"left_units\":\"screen\",\"level\":\"overlay\",\"line_alpha\":{\"value\":1.0},\"line_color\":{\"value\":\"black\"},\"line_dash\":[4,4],\"line_width\":{\"value\":2},\"render_mode\":\"css\",\"right_units\":\"screen\",\"top_units\":\"screen\"},\"id\":\"1972\",\"type\":\"BoxAnnotation\"},{\"attributes\":{},\"id\":\"1887\",\"type\":\"HelpTool\"}],\"root_ids\":[\"1862\"]},\"title\":\"Bokeh Application\",\"version\":\"1.4.0\"}};\n",
       "  var render_items = [{\"docid\":\"37701a61-e1f2-45dd-9cba-c398fdd168f0\",\"roots\":{\"1862\":\"8754a544-a7ef-497d-876b-b93109d7cc27\"}}];\n",
       "  root.Bokeh.embed.embed_items_notebook(docs_json, render_items);\n",
       "\n",
       "  }\n",
       "  if (root.Bokeh !== undefined) {\n",
       "    embed_document(root);\n",
       "  } else {\n",
       "    var attempts = 0;\n",
       "    var timer = setInterval(function(root) {\n",
       "      if (root.Bokeh !== undefined) {\n",
       "        clearInterval(timer);\n",
       "        embed_document(root);\n",
       "      } else {\n",
       "        attempts++;\n",
       "        if (attempts > 100) {\n",
       "          clearInterval(timer);\n",
       "          console.log(\"Bokeh: ERROR: Unable to run BokehJS code because BokehJS library is missing\");\n",
       "        }\n",
       "      }\n",
       "    }, 10, root)\n",
       "  }\n",
       "})(window);"
      ],
      "application/vnd.bokehjs_exec.v0+json": ""
     },
     "metadata": {
      "application/vnd.bokehjs_exec.v0+json": {
       "id": "1862"
      }
     },
     "output_type": "display_data"
    }
   ],
   "source": [
    "bb.barplot(x=\"day\", y=\"total_bill\", hue=\"smoker\", data=tips)"
   ]
  },
  {
   "cell_type": "markdown",
   "metadata": {},
   "source": [
    "#### 3.8 Change Plot Properties\n",
    "Change different plot properties such as plot_width:"
   ]
  },
  {
   "cell_type": "code",
   "execution_count": 12,
   "metadata": {},
   "outputs": [
    {
     "data": {
      "text/html": [
       "\n",
       "\n",
       "\n",
       "\n",
       "\n",
       "\n",
       "  <div class=\"bk-root\" id=\"a11ea026-78c4-4f11-a3e0-88d05bc6a363\" data-root-id=\"2034\"></div>\n"
      ]
     },
     "metadata": {},
     "output_type": "display_data"
    },
    {
     "data": {
      "application/javascript": [
       "(function(root) {\n",
       "  function embed_document(root) {\n",
       "    \n",
       "  var docs_json = {\"cc3da92f-7a14-46b8-8cec-ca9842f07d4c\":{\"roots\":{\"references\":[{\"attributes\":{\"below\":[{\"id\":\"2045\",\"type\":\"CategoricalAxis\"}],\"center\":[{\"id\":\"2048\",\"type\":\"Grid\"},{\"id\":\"2053\",\"type\":\"Grid\"}],\"left\":[{\"id\":\"2049\",\"type\":\"LinearAxis\"}],\"plot_height\":350,\"plot_width\":800,\"renderers\":[{\"id\":\"2070\",\"type\":\"GlyphRenderer\"}],\"title\":{\"id\":\"2035\",\"type\":\"Title\"},\"toolbar\":{\"id\":\"2060\",\"type\":\"Toolbar\"},\"x_range\":{\"id\":\"2037\",\"type\":\"FactorRange\"},\"x_scale\":{\"id\":\"2041\",\"type\":\"CategoricalScale\"},\"y_range\":{\"id\":\"2039\",\"type\":\"DataRange1d\"},\"y_scale\":{\"id\":\"2043\",\"type\":\"LinearScale\"}},\"id\":\"2034\",\"subtype\":\"Figure\",\"type\":\"Plot\"},{\"attributes\":{},\"id\":\"2143\",\"type\":\"BasicTickFormatter\"},{\"attributes\":{\"bottom_units\":\"screen\",\"fill_alpha\":{\"value\":0.5},\"fill_color\":{\"value\":\"lightgrey\"},\"left_units\":\"screen\",\"level\":\"overlay\",\"line_alpha\":{\"value\":1.0},\"line_color\":{\"value\":\"black\"},\"line_dash\":[4,4],\"line_width\":{\"value\":2},\"render_mode\":\"css\",\"right_units\":\"screen\",\"top_units\":\"screen\"},\"id\":\"2149\",\"type\":\"BoxAnnotation\"},{\"attributes\":{\"callback\":null,\"factors\":[\"Thur\",\"Fri\",\"Sat\",\"Sun\"]},\"id\":\"2037\",\"type\":\"FactorRange\"},{\"attributes\":{\"text\":\"\"},\"id\":\"2035\",\"type\":\"Title\"},{\"attributes\":{\"fill_alpha\":{\"value\":0.1},\"fill_color\":{\"value\":\"#1f77b4\"},\"line_alpha\":{\"value\":0.1},\"line_color\":{\"value\":\"#1f77b4\"},\"top\":{\"field\":\"total_bill\"},\"width\":{\"value\":0.7},\"x\":{\"field\":\"day\"}},\"id\":\"2069\",\"type\":\"VBar\"},{\"attributes\":{},\"id\":\"2046\",\"type\":\"CategoricalTicker\"},{\"attributes\":{\"active_drag\":\"auto\",\"active_inspect\":\"auto\",\"active_multi\":null,\"active_scroll\":\"auto\",\"active_tap\":\"auto\",\"tools\":[{\"id\":\"2054\",\"type\":\"PanTool\"},{\"id\":\"2055\",\"type\":\"WheelZoomTool\"},{\"id\":\"2056\",\"type\":\"BoxZoomTool\"},{\"id\":\"2057\",\"type\":\"SaveTool\"},{\"id\":\"2058\",\"type\":\"ResetTool\"},{\"id\":\"2059\",\"type\":\"HelpTool\"},{\"id\":\"2072\",\"type\":\"HoverTool\"}]},\"id\":\"2060\",\"type\":\"Toolbar\"},{\"attributes\":{\"dimension\":1,\"ticker\":{\"id\":\"2050\",\"type\":\"BasicTicker\"}},\"id\":\"2053\",\"type\":\"Grid\"},{\"attributes\":{},\"id\":\"2054\",\"type\":\"PanTool\"},{\"attributes\":{},\"id\":\"2041\",\"type\":\"CategoricalScale\"},{\"attributes\":{},\"id\":\"2055\",\"type\":\"WheelZoomTool\"},{\"attributes\":{\"overlay\":{\"id\":\"2149\",\"type\":\"BoxAnnotation\"}},\"id\":\"2056\",\"type\":\"BoxZoomTool\"},{\"attributes\":{},\"id\":\"2057\",\"type\":\"SaveTool\"},{\"attributes\":{},\"id\":\"2058\",\"type\":\"ResetTool\"},{\"attributes\":{\"axis_label\":\"total_bill\",\"formatter\":{\"id\":\"2143\",\"type\":\"BasicTickFormatter\"},\"ticker\":{\"id\":\"2050\",\"type\":\"BasicTicker\"}},\"id\":\"2049\",\"type\":\"LinearAxis\"},{\"attributes\":{},\"id\":\"2059\",\"type\":\"HelpTool\"},{\"attributes\":{},\"id\":\"2050\",\"type\":\"BasicTicker\"},{\"attributes\":{\"ticker\":{\"id\":\"2046\",\"type\":\"CategoricalTicker\"}},\"id\":\"2048\",\"type\":\"Grid\"},{\"attributes\":{\"data_source\":{\"id\":\"2033\",\"type\":\"ColumnDataSource\"},\"glyph\":{\"id\":\"2068\",\"type\":\"VBar\"},\"hover_glyph\":null,\"muted_glyph\":null,\"nonselection_glyph\":{\"id\":\"2069\",\"type\":\"VBar\"},\"selection_glyph\":null,\"view\":{\"id\":\"2071\",\"type\":\"CDSView\"}},\"id\":\"2070\",\"type\":\"GlyphRenderer\"},{\"attributes\":{\"fill_alpha\":{\"value\":0.5},\"fill_color\":{\"field\":\"fill_color\"},\"line_color\":{\"field\":\"line_color\"},\"top\":{\"field\":\"total_bill\"},\"width\":{\"value\":0.7},\"x\":{\"field\":\"day\"}},\"id\":\"2068\",\"type\":\"VBar\"},{\"attributes\":{\"source\":{\"id\":\"2033\",\"type\":\"ColumnDataSource\"}},\"id\":\"2071\",\"type\":\"CDSView\"},{\"attributes\":{},\"id\":\"2043\",\"type\":\"LinearScale\"},{\"attributes\":{\"callback\":null,\"tooltips\":[[\"day\",\"@day\"],[\"total_bill\",\"@total_bill\"]]},\"id\":\"2072\",\"type\":\"HoverTool\"},{\"attributes\":{\"axis_label\":\"day\",\"formatter\":{\"id\":\"2145\",\"type\":\"CategoricalTickFormatter\"},\"ticker\":{\"id\":\"2046\",\"type\":\"CategoricalTicker\"}},\"id\":\"2045\",\"type\":\"CategoricalAxis\"},{\"attributes\":{},\"id\":\"2145\",\"type\":\"CategoricalTickFormatter\"},{\"attributes\":{\"callback\":null},\"id\":\"2039\",\"type\":\"DataRange1d\"},{\"attributes\":{},\"id\":\"2147\",\"type\":\"Selection\"},{\"attributes\":{\"callback\":null,\"data\":{\"day\":[\"Thur\",\"Fri\",\"Sat\",\"Sun\"],\"fill_color\":[\"rgb(49, 115, 161)\",\"rgb(224, 128, 44)\",\"rgb(58, 145, 58)\",\"rgb(192, 60, 61)\"],\"index\":[0,1,2,3],\"line_color\":[\"rgb(49, 115, 161)\",\"rgb(224, 128, 44)\",\"rgb(58, 145, 58)\",\"rgb(192, 60, 61)\"],\"total_bill\":{\"__ndarray__\":\"zoLsLMiuMUCgtb3gzSYxQOMPBzz+cDRAKVyPwvVoNUA=\",\"dtype\":\"float64\",\"shape\":[4]}},\"selected\":{\"id\":\"2147\",\"type\":\"Selection\"},\"selection_policy\":{\"id\":\"2148\",\"type\":\"UnionRenderers\"}},\"id\":\"2033\",\"type\":\"ColumnDataSource\"},{\"attributes\":{},\"id\":\"2148\",\"type\":\"UnionRenderers\"}],\"root_ids\":[\"2034\"]},\"title\":\"Bokeh Application\",\"version\":\"1.4.0\"}};\n",
       "  var render_items = [{\"docid\":\"cc3da92f-7a14-46b8-8cec-ca9842f07d4c\",\"roots\":{\"2034\":\"a11ea026-78c4-4f11-a3e0-88d05bc6a363\"}}];\n",
       "  root.Bokeh.embed.embed_items_notebook(docs_json, render_items);\n",
       "\n",
       "  }\n",
       "  if (root.Bokeh !== undefined) {\n",
       "    embed_document(root);\n",
       "  } else {\n",
       "    var attempts = 0;\n",
       "    var timer = setInterval(function(root) {\n",
       "      if (root.Bokeh !== undefined) {\n",
       "        clearInterval(timer);\n",
       "        embed_document(root);\n",
       "      } else {\n",
       "        attempts++;\n",
       "        if (attempts > 100) {\n",
       "          clearInterval(timer);\n",
       "          console.log(\"Bokeh: ERROR: Unable to run BokehJS code because BokehJS library is missing\");\n",
       "        }\n",
       "      }\n",
       "    }, 10, root)\n",
       "  }\n",
       "})(window);"
      ],
      "application/vnd.bokehjs_exec.v0+json": ""
     },
     "metadata": {
      "application/vnd.bokehjs_exec.v0+json": {
       "id": "2034"
      }
     },
     "output_type": "display_data"
    }
   ],
   "source": [
    "bb.barplot(x=\"day\", y=\"total_bill\", data=tips, plot_width=800)"
   ]
  },
  {
   "cell_type": "code",
   "execution_count": 21,
   "metadata": {},
   "outputs": [
    {
     "data": {
      "text/html": [
       "\n",
       "\n",
       "\n",
       "\n",
       "\n",
       "\n",
       "  <div class=\"bk-root\" id=\"11e2a396-7bdf-43df-9814-0fb5f2362b7b\" data-root-id=\"3807\"></div>\n"
      ]
     },
     "metadata": {},
     "output_type": "display_data"
    },
    {
     "data": {
      "application/javascript": [
       "(function(root) {\n",
       "  function embed_document(root) {\n",
       "    \n",
       "  var docs_json = {\"b5a53de1-15a5-4092-bb9a-64b6bf79ea0b\":{\"roots\":{\"references\":[{\"attributes\":{\"below\":[{\"id\":\"3818\",\"type\":\"CategoricalAxis\"}],\"center\":[{\"id\":\"3821\",\"type\":\"Grid\"},{\"id\":\"3826\",\"type\":\"Grid\"}],\"left\":[{\"id\":\"3822\",\"type\":\"LinearAxis\"}],\"plot_height\":200,\"renderers\":[{\"id\":\"3843\",\"type\":\"GlyphRenderer\"}],\"title\":{\"id\":\"3808\",\"type\":\"Title\"},\"toolbar\":{\"id\":\"3833\",\"type\":\"Toolbar\"},\"x_range\":{\"id\":\"3810\",\"type\":\"FactorRange\"},\"x_scale\":{\"id\":\"3814\",\"type\":\"CategoricalScale\"},\"y_range\":{\"id\":\"3812\",\"type\":\"DataRange1d\"},\"y_scale\":{\"id\":\"3816\",\"type\":\"LinearScale\"}},\"id\":\"3807\",\"subtype\":\"Figure\",\"type\":\"Plot\"},{\"attributes\":{\"data_source\":{\"id\":\"3806\",\"type\":\"ColumnDataSource\"},\"glyph\":{\"id\":\"3841\",\"type\":\"VBar\"},\"hover_glyph\":null,\"muted_glyph\":null,\"nonselection_glyph\":{\"id\":\"3842\",\"type\":\"VBar\"},\"selection_glyph\":null,\"view\":{\"id\":\"3844\",\"type\":\"CDSView\"}},\"id\":\"3843\",\"type\":\"GlyphRenderer\"},{\"attributes\":{},\"id\":\"3814\",\"type\":\"CategoricalScale\"},{\"attributes\":{\"source\":{\"id\":\"3806\",\"type\":\"ColumnDataSource\"}},\"id\":\"3844\",\"type\":\"CDSView\"},{\"attributes\":{},\"id\":\"3816\",\"type\":\"LinearScale\"},{\"attributes\":{\"callback\":null,\"tooltips\":[[\"day\",\"@day\"],[\"total_bill\",\"@total_bill\"]]},\"id\":\"3845\",\"type\":\"HoverTool\"},{\"attributes\":{\"axis_label\":\"day\",\"formatter\":{\"id\":\"3990\",\"type\":\"CategoricalTickFormatter\"},\"ticker\":{\"id\":\"3819\",\"type\":\"CategoricalTicker\"}},\"id\":\"3818\",\"type\":\"CategoricalAxis\"},{\"attributes\":{},\"id\":\"3990\",\"type\":\"CategoricalTickFormatter\"},{\"attributes\":{},\"id\":\"3819\",\"type\":\"CategoricalTicker\"},{\"attributes\":{},\"id\":\"3992\",\"type\":\"Selection\"},{\"attributes\":{\"ticker\":{\"id\":\"3819\",\"type\":\"CategoricalTicker\"}},\"id\":\"3821\",\"type\":\"Grid\"},{\"attributes\":{},\"id\":\"3993\",\"type\":\"UnionRenderers\"},{\"attributes\":{\"axis_label\":\"total_bill\",\"formatter\":{\"id\":\"3988\",\"type\":\"BasicTickFormatter\"},\"ticker\":{\"id\":\"3823\",\"type\":\"BasicTicker\"}},\"id\":\"3822\",\"type\":\"LinearAxis\"},{\"attributes\":{\"bottom_units\":\"screen\",\"fill_alpha\":{\"value\":0.5},\"fill_color\":{\"value\":\"lightgrey\"},\"left_units\":\"screen\",\"level\":\"overlay\",\"line_alpha\":{\"value\":1.0},\"line_color\":{\"value\":\"black\"},\"line_dash\":[4,4],\"line_width\":{\"value\":2},\"render_mode\":\"css\",\"right_units\":\"screen\",\"top_units\":\"screen\"},\"id\":\"3994\",\"type\":\"BoxAnnotation\"},{\"attributes\":{},\"id\":\"3823\",\"type\":\"BasicTicker\"},{\"attributes\":{\"dimension\":1,\"ticker\":{\"id\":\"3823\",\"type\":\"BasicTicker\"}},\"id\":\"3826\",\"type\":\"Grid\"},{\"attributes\":{\"fill_alpha\":{\"value\":0.1},\"fill_color\":{\"value\":\"#1f77b4\"},\"line_alpha\":{\"value\":0.1},\"line_color\":{\"value\":\"#1f77b4\"},\"top\":{\"field\":\"total_bill\"},\"width\":{\"value\":0.7},\"x\":{\"field\":\"day\"}},\"id\":\"3842\",\"type\":\"VBar\"},{\"attributes\":{\"fill_alpha\":{\"value\":0.5},\"fill_color\":{\"field\":\"fill_color\"},\"line_color\":{\"field\":\"line_color\"},\"top\":{\"field\":\"total_bill\"},\"width\":{\"value\":0.7},\"x\":{\"field\":\"day\"}},\"id\":\"3841\",\"type\":\"VBar\"},{\"attributes\":{},\"id\":\"3988\",\"type\":\"BasicTickFormatter\"},{\"attributes\":{\"active_drag\":\"auto\",\"active_inspect\":\"auto\",\"active_multi\":null,\"active_scroll\":\"auto\",\"active_tap\":\"auto\",\"tools\":[{\"id\":\"3827\",\"type\":\"PanTool\"},{\"id\":\"3828\",\"type\":\"WheelZoomTool\"},{\"id\":\"3829\",\"type\":\"BoxZoomTool\"},{\"id\":\"3830\",\"type\":\"SaveTool\"},{\"id\":\"3831\",\"type\":\"ResetTool\"},{\"id\":\"3832\",\"type\":\"HelpTool\"},{\"id\":\"3845\",\"type\":\"HoverTool\"}]},\"id\":\"3833\",\"type\":\"Toolbar\"},{\"attributes\":{},\"id\":\"3827\",\"type\":\"PanTool\"},{\"attributes\":{},\"id\":\"3828\",\"type\":\"WheelZoomTool\"},{\"attributes\":{\"overlay\":{\"id\":\"3994\",\"type\":\"BoxAnnotation\"}},\"id\":\"3829\",\"type\":\"BoxZoomTool\"},{\"attributes\":{\"callback\":null,\"factors\":[\"Thur\",\"Fri\",\"Sat\",\"Sun\"]},\"id\":\"3810\",\"type\":\"FactorRange\"},{\"attributes\":{\"callback\":null,\"data\":{\"day\":[\"Thur\",\"Fri\",\"Sat\",\"Sun\"],\"fill_color\":[\"rgb(49, 115, 161)\",\"rgb(224, 128, 44)\",\"rgb(58, 145, 58)\",\"rgb(192, 60, 61)\"],\"index\":[0,1,2,3],\"line_color\":[\"rgb(49, 115, 161)\",\"rgb(224, 128, 44)\",\"rgb(58, 145, 58)\",\"rgb(192, 60, 61)\"],\"total_bill\":{\"__ndarray__\":\"zoLsLMiuMUCgtb3gzSYxQOMPBzz+cDRAKVyPwvVoNUA=\",\"dtype\":\"float64\",\"shape\":[4]}},\"selected\":{\"id\":\"3992\",\"type\":\"Selection\"},\"selection_policy\":{\"id\":\"3993\",\"type\":\"UnionRenderers\"}},\"id\":\"3806\",\"type\":\"ColumnDataSource\"},{\"attributes\":{},\"id\":\"3830\",\"type\":\"SaveTool\"},{\"attributes\":{},\"id\":\"3831\",\"type\":\"ResetTool\"},{\"attributes\":{\"text\":\"Awesome Plot Title\"},\"id\":\"3808\",\"type\":\"Title\"},{\"attributes\":{},\"id\":\"3832\",\"type\":\"HelpTool\"},{\"attributes\":{\"callback\":null},\"id\":\"3812\",\"type\":\"DataRange1d\"}],\"root_ids\":[\"3807\"]},\"title\":\"Bokeh Application\",\"version\":\"1.4.0\"}};\n",
       "  var render_items = [{\"docid\":\"b5a53de1-15a5-4092-bb9a-64b6bf79ea0b\",\"roots\":{\"3807\":\"11e2a396-7bdf-43df-9814-0fb5f2362b7b\"}}];\n",
       "  root.Bokeh.embed.embed_items_notebook(docs_json, render_items);\n",
       "\n",
       "  }\n",
       "  if (root.Bokeh !== undefined) {\n",
       "    embed_document(root);\n",
       "  } else {\n",
       "    var attempts = 0;\n",
       "    var timer = setInterval(function(root) {\n",
       "      if (root.Bokeh !== undefined) {\n",
       "        clearInterval(timer);\n",
       "        embed_document(root);\n",
       "      } else {\n",
       "        attempts++;\n",
       "        if (attempts > 100) {\n",
       "          clearInterval(timer);\n",
       "          console.log(\"Bokeh: ERROR: Unable to run BokehJS code because BokehJS library is missing\");\n",
       "        }\n",
       "      }\n",
       "    }, 10, root)\n",
       "  }\n",
       "})(window);"
      ],
      "application/vnd.bokehjs_exec.v0+json": ""
     },
     "metadata": {
      "application/vnd.bokehjs_exec.v0+json": {
       "id": "3807"
      }
     },
     "output_type": "display_data"
    }
   ],
   "source": [
    "bb.barplot(x=\"day\", y=\"total_bill\", data=tips, plot_width=600, plot_height=200, plot_title=\"Awesome Plot Title\")"
   ]
  },
  {
   "cell_type": "markdown",
   "metadata": {},
   "source": [
    "#### 3.9 And More\n",
    "Change the other aesthetics of the plot as key word arguments as available in `bokeh.plotting.figure.vbar`, such as changing `alpha` of the plot. List of all the aesthetics properties :: https://docs.bokeh.org/en/latest/docs/reference/plotting.html#bokeh.plotting.figure.Figure.vbar"
   ]
  },
  {
   "cell_type": "code",
   "execution_count": 14,
   "metadata": {},
   "outputs": [
    {
     "data": {
      "text/html": [
       "\n",
       "\n",
       "\n",
       "\n",
       "\n",
       "\n",
       "  <div class=\"bk-root\" id=\"4f2a24d7-b370-4194-8c34-1525b8a5ccb1\" data-root-id=\"2372\"></div>\n"
      ]
     },
     "metadata": {},
     "output_type": "display_data"
    },
    {
     "data": {
      "application/javascript": [
       "(function(root) {\n",
       "  function embed_document(root) {\n",
       "    \n",
       "  var docs_json = {\"804800a6-f980-43c5-91b2-96873113ec09\":{\"roots\":{\"references\":[{\"attributes\":{\"below\":[{\"id\":\"2383\",\"type\":\"CategoricalAxis\"}],\"center\":[{\"id\":\"2386\",\"type\":\"Grid\"},{\"id\":\"2391\",\"type\":\"Grid\"}],\"left\":[{\"id\":\"2387\",\"type\":\"LinearAxis\"}],\"plot_height\":350,\"renderers\":[{\"id\":\"2408\",\"type\":\"GlyphRenderer\"}],\"title\":{\"id\":\"2373\",\"type\":\"Title\"},\"toolbar\":{\"id\":\"2398\",\"type\":\"Toolbar\"},\"x_range\":{\"id\":\"2375\",\"type\":\"FactorRange\"},\"x_scale\":{\"id\":\"2379\",\"type\":\"CategoricalScale\"},\"y_range\":{\"id\":\"2377\",\"type\":\"DataRange1d\"},\"y_scale\":{\"id\":\"2381\",\"type\":\"LinearScale\"}},\"id\":\"2372\",\"subtype\":\"Figure\",\"type\":\"Plot\"},{\"attributes\":{\"callback\":null},\"id\":\"2377\",\"type\":\"DataRange1d\"},{\"attributes\":{\"fill_alpha\":{\"value\":0.1},\"fill_color\":{\"value\":\"#1f77b4\"},\"line_alpha\":{\"value\":0.1},\"line_color\":{\"value\":\"#1f77b4\"},\"top\":{\"field\":\"total_bill\"},\"width\":{\"value\":0.7},\"x\":{\"field\":\"day\"}},\"id\":\"2407\",\"type\":\"VBar\"},{\"attributes\":{},\"id\":\"2397\",\"type\":\"HelpTool\"},{\"attributes\":{},\"id\":\"2499\",\"type\":\"CategoricalTickFormatter\"},{\"attributes\":{\"dimension\":1,\"ticker\":{\"id\":\"2388\",\"type\":\"BasicTicker\"}},\"id\":\"2391\",\"type\":\"Grid\"},{\"attributes\":{},\"id\":\"2501\",\"type\":\"Selection\"},{\"attributes\":{},\"id\":\"2502\",\"type\":\"UnionRenderers\"},{\"attributes\":{\"bottom_units\":\"screen\",\"fill_alpha\":{\"value\":0.5},\"fill_color\":{\"value\":\"lightgrey\"},\"left_units\":\"screen\",\"level\":\"overlay\",\"line_alpha\":{\"value\":1.0},\"line_color\":{\"value\":\"black\"},\"line_dash\":[4,4],\"line_width\":{\"value\":2},\"render_mode\":\"css\",\"right_units\":\"screen\",\"top_units\":\"screen\"},\"id\":\"2503\",\"type\":\"BoxAnnotation\"},{\"attributes\":{\"axis_label\":\"day\",\"formatter\":{\"id\":\"2499\",\"type\":\"CategoricalTickFormatter\"},\"ticker\":{\"id\":\"2384\",\"type\":\"CategoricalTicker\"}},\"id\":\"2383\",\"type\":\"CategoricalAxis\"},{\"attributes\":{\"callback\":null,\"factors\":[\"Thur\",\"Fri\",\"Sat\",\"Sun\"]},\"id\":\"2375\",\"type\":\"FactorRange\"},{\"attributes\":{},\"id\":\"2497\",\"type\":\"BasicTickFormatter\"},{\"attributes\":{\"source\":{\"id\":\"2371\",\"type\":\"ColumnDataSource\"}},\"id\":\"2409\",\"type\":\"CDSView\"},{\"attributes\":{\"ticker\":{\"id\":\"2384\",\"type\":\"CategoricalTicker\"}},\"id\":\"2386\",\"type\":\"Grid\"},{\"attributes\":{\"data_source\":{\"id\":\"2371\",\"type\":\"ColumnDataSource\"},\"glyph\":{\"id\":\"2406\",\"type\":\"VBar\"},\"hover_glyph\":null,\"muted_glyph\":null,\"nonselection_glyph\":{\"id\":\"2407\",\"type\":\"VBar\"},\"selection_glyph\":null,\"view\":{\"id\":\"2409\",\"type\":\"CDSView\"}},\"id\":\"2408\",\"type\":\"GlyphRenderer\"},{\"attributes\":{},\"id\":\"2396\",\"type\":\"ResetTool\"},{\"attributes\":{},\"id\":\"2384\",\"type\":\"CategoricalTicker\"},{\"attributes\":{\"text\":\"\"},\"id\":\"2373\",\"type\":\"Title\"},{\"attributes\":{},\"id\":\"2395\",\"type\":\"SaveTool\"},{\"attributes\":{},\"id\":\"2381\",\"type\":\"LinearScale\"},{\"attributes\":{\"overlay\":{\"id\":\"2503\",\"type\":\"BoxAnnotation\"}},\"id\":\"2394\",\"type\":\"BoxZoomTool\"},{\"attributes\":{},\"id\":\"2388\",\"type\":\"BasicTicker\"},{\"attributes\":{},\"id\":\"2392\",\"type\":\"PanTool\"},{\"attributes\":{},\"id\":\"2393\",\"type\":\"WheelZoomTool\"},{\"attributes\":{\"axis_label\":\"total_bill\",\"formatter\":{\"id\":\"2497\",\"type\":\"BasicTickFormatter\"},\"ticker\":{\"id\":\"2388\",\"type\":\"BasicTicker\"}},\"id\":\"2387\",\"type\":\"LinearAxis\"},{\"attributes\":{\"callback\":null,\"tooltips\":[[\"day\",\"@day\"],[\"total_bill\",\"@total_bill\"]]},\"id\":\"2410\",\"type\":\"HoverTool\"},{\"attributes\":{\"active_drag\":\"auto\",\"active_inspect\":\"auto\",\"active_multi\":null,\"active_scroll\":\"auto\",\"active_tap\":\"auto\",\"tools\":[{\"id\":\"2392\",\"type\":\"PanTool\"},{\"id\":\"2393\",\"type\":\"WheelZoomTool\"},{\"id\":\"2394\",\"type\":\"BoxZoomTool\"},{\"id\":\"2395\",\"type\":\"SaveTool\"},{\"id\":\"2396\",\"type\":\"ResetTool\"},{\"id\":\"2397\",\"type\":\"HelpTool\"},{\"id\":\"2410\",\"type\":\"HoverTool\"}]},\"id\":\"2398\",\"type\":\"Toolbar\"},{\"attributes\":{},\"id\":\"2379\",\"type\":\"CategoricalScale\"},{\"attributes\":{\"callback\":null,\"data\":{\"day\":[\"Thur\",\"Fri\",\"Sat\",\"Sun\"],\"fill_color\":[\"rgb(49, 115, 161)\",\"rgb(224, 128, 44)\",\"rgb(58, 145, 58)\",\"rgb(192, 60, 61)\"],\"index\":[0,1,2,3],\"line_color\":[\"rgb(49, 115, 161)\",\"rgb(224, 128, 44)\",\"rgb(58, 145, 58)\",\"rgb(192, 60, 61)\"],\"total_bill\":{\"__ndarray__\":\"zoLsLMiuMUCgtb3gzSYxQOMPBzz+cDRAKVyPwvVoNUA=\",\"dtype\":\"float64\",\"shape\":[4]}},\"selected\":{\"id\":\"2501\",\"type\":\"Selection\"},\"selection_policy\":{\"id\":\"2502\",\"type\":\"UnionRenderers\"}},\"id\":\"2371\",\"type\":\"ColumnDataSource\"},{\"attributes\":{\"fill_alpha\":{\"value\":0.5},\"fill_color\":{\"field\":\"fill_color\"},\"line_alpha\":{\"value\":0.3},\"line_color\":{\"field\":\"line_color\"},\"top\":{\"field\":\"total_bill\"},\"width\":{\"value\":0.7},\"x\":{\"field\":\"day\"}},\"id\":\"2406\",\"type\":\"VBar\"}],\"root_ids\":[\"2372\"]},\"title\":\"Bokeh Application\",\"version\":\"1.4.0\"}};\n",
       "  var render_items = [{\"docid\":\"804800a6-f980-43c5-91b2-96873113ec09\",\"roots\":{\"2372\":\"4f2a24d7-b370-4194-8c34-1525b8a5ccb1\"}}];\n",
       "  root.Bokeh.embed.embed_items_notebook(docs_json, render_items);\n",
       "\n",
       "  }\n",
       "  if (root.Bokeh !== undefined) {\n",
       "    embed_document(root);\n",
       "  } else {\n",
       "    var attempts = 0;\n",
       "    var timer = setInterval(function(root) {\n",
       "      if (root.Bokeh !== undefined) {\n",
       "        clearInterval(timer);\n",
       "        embed_document(root);\n",
       "      } else {\n",
       "        attempts++;\n",
       "        if (attempts > 100) {\n",
       "          clearInterval(timer);\n",
       "          console.log(\"Bokeh: ERROR: Unable to run BokehJS code because BokehJS library is missing\");\n",
       "        }\n",
       "      }\n",
       "    }, 10, root)\n",
       "  }\n",
       "})(window);"
      ],
      "application/vnd.bokehjs_exec.v0+json": ""
     },
     "metadata": {
      "application/vnd.bokehjs_exec.v0+json": {
       "id": "2372"
      }
     },
     "output_type": "display_data"
    }
   ],
   "source": [
    "bb.barplot(x=\"day\", y=\"total_bill\", data=tips, alpha=0.3)"
   ]
  },
  {
   "cell_type": "code",
   "execution_count": 20,
   "metadata": {},
   "outputs": [
    {
     "data": {
      "text/html": [
       "\n",
       "\n",
       "\n",
       "\n",
       "\n",
       "\n",
       "  <div class=\"bk-root\" id=\"9c6a30af-f816-45b9-b34d-dd362f052b09\" data-root-id=\"3578\"></div>\n"
      ]
     },
     "metadata": {},
     "output_type": "display_data"
    },
    {
     "data": {
      "application/javascript": [
       "(function(root) {\n",
       "  function embed_document(root) {\n",
       "    \n",
       "  var docs_json = {\"f9c902f4-45fa-48e0-9425-3a9e126b1d39\":{\"roots\":{\"references\":[{\"attributes\":{\"below\":[{\"id\":\"3589\",\"type\":\"CategoricalAxis\"}],\"center\":[{\"id\":\"3592\",\"type\":\"Grid\"},{\"id\":\"3597\",\"type\":\"Grid\"}],\"left\":[{\"id\":\"3593\",\"type\":\"LinearAxis\"}],\"plot_height\":350,\"renderers\":[{\"id\":\"3614\",\"type\":\"GlyphRenderer\"}],\"title\":{\"id\":\"3579\",\"type\":\"Title\"},\"toolbar\":{\"id\":\"3604\",\"type\":\"Toolbar\"},\"x_range\":{\"id\":\"3581\",\"type\":\"FactorRange\"},\"x_scale\":{\"id\":\"3585\",\"type\":\"CategoricalScale\"},\"y_range\":{\"id\":\"3583\",\"type\":\"DataRange1d\"},\"y_scale\":{\"id\":\"3587\",\"type\":\"LinearScale\"}},\"id\":\"3578\",\"subtype\":\"Figure\",\"type\":\"Plot\"},{\"attributes\":{\"callback\":null,\"tooltips\":[[\"smoker\",\"@smoker\"],[\"total_bill\",\"@total_bill\"]]},\"id\":\"3616\",\"type\":\"HoverTool\"},{\"attributes\":{\"axis_label\":\"smoker\",\"formatter\":{\"id\":\"3753\",\"type\":\"CategoricalTickFormatter\"},\"ticker\":{\"id\":\"3590\",\"type\":\"CategoricalTicker\"}},\"id\":\"3589\",\"type\":\"CategoricalAxis\"},{\"attributes\":{},\"id\":\"3753\",\"type\":\"CategoricalTickFormatter\"},{\"attributes\":{},\"id\":\"3590\",\"type\":\"CategoricalTicker\"},{\"attributes\":{},\"id\":\"3755\",\"type\":\"Selection\"},{\"attributes\":{\"ticker\":{\"id\":\"3590\",\"type\":\"CategoricalTicker\"}},\"id\":\"3592\",\"type\":\"Grid\"},{\"attributes\":{},\"id\":\"3756\",\"type\":\"UnionRenderers\"},{\"attributes\":{\"axis_label\":\"total_bill\",\"formatter\":{\"id\":\"3751\",\"type\":\"BasicTickFormatter\"},\"ticker\":{\"id\":\"3594\",\"type\":\"BasicTicker\"}},\"id\":\"3593\",\"type\":\"LinearAxis\"},{\"attributes\":{\"bottom_units\":\"screen\",\"fill_alpha\":{\"value\":0.5},\"fill_color\":{\"value\":\"lightgrey\"},\"left_units\":\"screen\",\"level\":\"overlay\",\"line_alpha\":{\"value\":1.0},\"line_color\":{\"value\":\"black\"},\"line_dash\":[4,4],\"line_width\":{\"value\":2},\"render_mode\":\"css\",\"right_units\":\"screen\",\"top_units\":\"screen\"},\"id\":\"3757\",\"type\":\"BoxAnnotation\"},{\"attributes\":{},\"id\":\"3594\",\"type\":\"BasicTicker\"},{\"attributes\":{\"dimension\":1,\"ticker\":{\"id\":\"3594\",\"type\":\"BasicTicker\"}},\"id\":\"3597\",\"type\":\"Grid\"},{\"attributes\":{},\"id\":\"3587\",\"type\":\"LinearScale\"},{\"attributes\":{\"fill_alpha\":{\"value\":0.1},\"fill_color\":{\"value\":\"#1f77b4\"},\"line_alpha\":{\"value\":0.1},\"line_color\":{\"value\":\"#1f77b4\"},\"top\":{\"field\":\"total_bill\"},\"width\":{\"value\":0.7},\"x\":{\"field\":\"smoker\"}},\"id\":\"3613\",\"type\":\"VBar\"},{\"attributes\":{\"fill_alpha\":{\"value\":0.5},\"fill_color\":{\"field\":\"fill_color\"},\"line_color\":{\"field\":\"line_color\"},\"top\":{\"field\":\"total_bill\"},\"width\":{\"value\":0.7},\"x\":{\"field\":\"smoker\"}},\"id\":\"3612\",\"type\":\"VBar\"},{\"attributes\":{\"active_drag\":\"auto\",\"active_inspect\":\"auto\",\"active_multi\":null,\"active_scroll\":\"auto\",\"active_tap\":\"auto\",\"tools\":[{\"id\":\"3598\",\"type\":\"PanTool\"},{\"id\":\"3599\",\"type\":\"WheelZoomTool\"},{\"id\":\"3600\",\"type\":\"BoxZoomTool\"},{\"id\":\"3601\",\"type\":\"SaveTool\"},{\"id\":\"3602\",\"type\":\"ResetTool\"},{\"id\":\"3603\",\"type\":\"HelpTool\"},{\"id\":\"3616\",\"type\":\"HoverTool\"}]},\"id\":\"3604\",\"type\":\"Toolbar\"},{\"attributes\":{},\"id\":\"3585\",\"type\":\"CategoricalScale\"},{\"attributes\":{},\"id\":\"3598\",\"type\":\"PanTool\"},{\"attributes\":{\"callback\":null,\"factors\":[\"Yes\",\"No\"]},\"id\":\"3581\",\"type\":\"FactorRange\"},{\"attributes\":{},\"id\":\"3599\",\"type\":\"WheelZoomTool\"},{\"attributes\":{\"text\":\"kwargs\"},\"id\":\"3579\",\"type\":\"Title\"},{\"attributes\":{\"overlay\":{\"id\":\"3757\",\"type\":\"BoxAnnotation\"}},\"id\":\"3600\",\"type\":\"BoxZoomTool\"},{\"attributes\":{\"callback\":null},\"id\":\"3583\",\"type\":\"DataRange1d\"},{\"attributes\":{},\"id\":\"3601\",\"type\":\"SaveTool\"},{\"attributes\":{},\"id\":\"3602\",\"type\":\"ResetTool\"},{\"attributes\":{\"callback\":null,\"data\":{\"fill_color\":[\"rgb(49, 115, 161)\",\"rgb(224, 128, 44)\"],\"index\":[0,1],\"line_color\":[\"rgb(49, 115, 161)\",\"rgb(224, 128, 44)\"],\"smoker\":[\"Yes\",\"No\"],\"total_bill\":{\"__ndarray__\":\"QvwZxJ/BNEAnUB7/MjAzQA==\",\"dtype\":\"float64\",\"shape\":[2]}},\"selected\":{\"id\":\"3755\",\"type\":\"Selection\"},\"selection_policy\":{\"id\":\"3756\",\"type\":\"UnionRenderers\"}},\"id\":\"3577\",\"type\":\"ColumnDataSource\"},{\"attributes\":{},\"id\":\"3603\",\"type\":\"HelpTool\"},{\"attributes\":{},\"id\":\"3751\",\"type\":\"BasicTickFormatter\"},{\"attributes\":{\"data_source\":{\"id\":\"3577\",\"type\":\"ColumnDataSource\"},\"glyph\":{\"id\":\"3612\",\"type\":\"VBar\"},\"hover_glyph\":null,\"muted_glyph\":null,\"nonselection_glyph\":{\"id\":\"3613\",\"type\":\"VBar\"},\"selection_glyph\":null,\"view\":{\"id\":\"3615\",\"type\":\"CDSView\"}},\"id\":\"3614\",\"type\":\"GlyphRenderer\"},{\"attributes\":{\"source\":{\"id\":\"3577\",\"type\":\"ColumnDataSource\"}},\"id\":\"3615\",\"type\":\"CDSView\"}],\"root_ids\":[\"3578\"]},\"title\":\"Bokeh Application\",\"version\":\"1.4.0\"}};\n",
       "  var render_items = [{\"docid\":\"f9c902f4-45fa-48e0-9425-3a9e126b1d39\",\"roots\":{\"3578\":\"9c6a30af-f816-45b9-b34d-dd362f052b09\"}}];\n",
       "  root.Bokeh.embed.embed_items_notebook(docs_json, render_items);\n",
       "\n",
       "  }\n",
       "  if (root.Bokeh !== undefined) {\n",
       "    embed_document(root);\n",
       "  } else {\n",
       "    var attempts = 0;\n",
       "    var timer = setInterval(function(root) {\n",
       "      if (root.Bokeh !== undefined) {\n",
       "        clearInterval(timer);\n",
       "        embed_document(root);\n",
       "      } else {\n",
       "        attempts++;\n",
       "        if (attempts > 100) {\n",
       "          clearInterval(timer);\n",
       "          console.log(\"Bokeh: ERROR: Unable to run BokehJS code because BokehJS library is missing\");\n",
       "        }\n",
       "      }\n",
       "    }, 10, root)\n",
       "  }\n",
       "})(window);"
      ],
      "application/vnd.bokehjs_exec.v0+json": ""
     },
     "metadata": {
      "application/vnd.bokehjs_exec.v0+json": {
       "id": "3578"
      }
     },
     "output_type": "display_data"
    }
   ],
   "source": [
    "bb.barplot(x=\"smoker\", y=\"total_bill\", data=tips, alpha=1)"
   ]
  },
  {
   "cell_type": "code",
   "execution_count": null,
   "metadata": {},
   "outputs": [],
   "source": []
  }
 ],
 "metadata": {
  "kernelspec": {
   "display_name": "Python 3",
   "language": "python",
   "name": "python3"
  },
  "language_info": {
   "codemirror_mode": {
    "name": "ipython",
    "version": 3
   },
   "file_extension": ".py",
   "mimetype": "text/x-python",
   "name": "python",
   "nbconvert_exporter": "python",
   "pygments_lexer": "ipython3",
   "version": "3.6.9"
  }
 },
 "nbformat": 4,
 "nbformat_minor": 2
}
