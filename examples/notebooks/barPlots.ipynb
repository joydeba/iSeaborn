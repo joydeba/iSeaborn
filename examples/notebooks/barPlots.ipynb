{
 "cells": [
  {
   "cell_type": "markdown",
   "metadata": {},
   "source": [
    "### 1.0 Import bokehBorn"
   ]
  },
  {
   "cell_type": "code",
   "execution_count": 1,
   "metadata": {},
   "outputs": [],
   "source": [
    "import bokehBorn as bb\n",
    "from bokeh.io import output_notebook"
   ]
  },
  {
   "cell_type": "code",
   "execution_count": 2,
   "metadata": {},
   "outputs": [
    {
     "data": {
      "text/html": [
       "\n",
       "    <div class=\"bk-root\">\n",
       "        <a href=\"https://bokeh.org\" target=\"_blank\" class=\"bk-logo bk-logo-small bk-logo-notebook\"></a>\n",
       "        <span id=\"1001\">Loading BokehJS ...</span>\n",
       "    </div>"
      ]
     },
     "metadata": {},
     "output_type": "display_data"
    },
    {
     "data": {
      "application/javascript": [
       "\n",
       "(function(root) {\n",
       "  function now() {\n",
       "    return new Date();\n",
       "  }\n",
       "\n",
       "  var force = true;\n",
       "\n",
       "  if (typeof root._bokeh_onload_callbacks === \"undefined\" || force === true) {\n",
       "    root._bokeh_onload_callbacks = [];\n",
       "    root._bokeh_is_loading = undefined;\n",
       "  }\n",
       "\n",
       "  var JS_MIME_TYPE = 'application/javascript';\n",
       "  var HTML_MIME_TYPE = 'text/html';\n",
       "  var EXEC_MIME_TYPE = 'application/vnd.bokehjs_exec.v0+json';\n",
       "  var CLASS_NAME = 'output_bokeh rendered_html';\n",
       "\n",
       "  /**\n",
       "   * Render data to the DOM node\n",
       "   */\n",
       "  function render(props, node) {\n",
       "    var script = document.createElement(\"script\");\n",
       "    node.appendChild(script);\n",
       "  }\n",
       "\n",
       "  /**\n",
       "   * Handle when an output is cleared or removed\n",
       "   */\n",
       "  function handleClearOutput(event, handle) {\n",
       "    var cell = handle.cell;\n",
       "\n",
       "    var id = cell.output_area._bokeh_element_id;\n",
       "    var server_id = cell.output_area._bokeh_server_id;\n",
       "    // Clean up Bokeh references\n",
       "    if (id != null && id in Bokeh.index) {\n",
       "      Bokeh.index[id].model.document.clear();\n",
       "      delete Bokeh.index[id];\n",
       "    }\n",
       "\n",
       "    if (server_id !== undefined) {\n",
       "      // Clean up Bokeh references\n",
       "      var cmd = \"from bokeh.io.state import curstate; print(curstate().uuid_to_server['\" + server_id + \"'].get_sessions()[0].document.roots[0]._id)\";\n",
       "      cell.notebook.kernel.execute(cmd, {\n",
       "        iopub: {\n",
       "          output: function(msg) {\n",
       "            var id = msg.content.text.trim();\n",
       "            if (id in Bokeh.index) {\n",
       "              Bokeh.index[id].model.document.clear();\n",
       "              delete Bokeh.index[id];\n",
       "            }\n",
       "          }\n",
       "        }\n",
       "      });\n",
       "      // Destroy server and session\n",
       "      var cmd = \"import bokeh.io.notebook as ion; ion.destroy_server('\" + server_id + \"')\";\n",
       "      cell.notebook.kernel.execute(cmd);\n",
       "    }\n",
       "  }\n",
       "\n",
       "  /**\n",
       "   * Handle when a new output is added\n",
       "   */\n",
       "  function handleAddOutput(event, handle) {\n",
       "    var output_area = handle.output_area;\n",
       "    var output = handle.output;\n",
       "\n",
       "    // limit handleAddOutput to display_data with EXEC_MIME_TYPE content only\n",
       "    if ((output.output_type != \"display_data\") || (!output.data.hasOwnProperty(EXEC_MIME_TYPE))) {\n",
       "      return\n",
       "    }\n",
       "\n",
       "    var toinsert = output_area.element.find(\".\" + CLASS_NAME.split(' ')[0]);\n",
       "\n",
       "    if (output.metadata[EXEC_MIME_TYPE][\"id\"] !== undefined) {\n",
       "      toinsert[toinsert.length - 1].firstChild.textContent = output.data[JS_MIME_TYPE];\n",
       "      // store reference to embed id on output_area\n",
       "      output_area._bokeh_element_id = output.metadata[EXEC_MIME_TYPE][\"id\"];\n",
       "    }\n",
       "    if (output.metadata[EXEC_MIME_TYPE][\"server_id\"] !== undefined) {\n",
       "      var bk_div = document.createElement(\"div\");\n",
       "      bk_div.innerHTML = output.data[HTML_MIME_TYPE];\n",
       "      var script_attrs = bk_div.children[0].attributes;\n",
       "      for (var i = 0; i < script_attrs.length; i++) {\n",
       "        toinsert[toinsert.length - 1].firstChild.setAttribute(script_attrs[i].name, script_attrs[i].value);\n",
       "      }\n",
       "      // store reference to server id on output_area\n",
       "      output_area._bokeh_server_id = output.metadata[EXEC_MIME_TYPE][\"server_id\"];\n",
       "    }\n",
       "  }\n",
       "\n",
       "  function register_renderer(events, OutputArea) {\n",
       "\n",
       "    function append_mime(data, metadata, element) {\n",
       "      // create a DOM node to render to\n",
       "      var toinsert = this.create_output_subarea(\n",
       "        metadata,\n",
       "        CLASS_NAME,\n",
       "        EXEC_MIME_TYPE\n",
       "      );\n",
       "      this.keyboard_manager.register_events(toinsert);\n",
       "      // Render to node\n",
       "      var props = {data: data, metadata: metadata[EXEC_MIME_TYPE]};\n",
       "      render(props, toinsert[toinsert.length - 1]);\n",
       "      element.append(toinsert);\n",
       "      return toinsert\n",
       "    }\n",
       "\n",
       "    /* Handle when an output is cleared or removed */\n",
       "    events.on('clear_output.CodeCell', handleClearOutput);\n",
       "    events.on('delete.Cell', handleClearOutput);\n",
       "\n",
       "    /* Handle when a new output is added */\n",
       "    events.on('output_added.OutputArea', handleAddOutput);\n",
       "\n",
       "    /**\n",
       "     * Register the mime type and append_mime function with output_area\n",
       "     */\n",
       "    OutputArea.prototype.register_mime_type(EXEC_MIME_TYPE, append_mime, {\n",
       "      /* Is output safe? */\n",
       "      safe: true,\n",
       "      /* Index of renderer in `output_area.display_order` */\n",
       "      index: 0\n",
       "    });\n",
       "  }\n",
       "\n",
       "  // register the mime type if in Jupyter Notebook environment and previously unregistered\n",
       "  if (root.Jupyter !== undefined) {\n",
       "    var events = require('base/js/events');\n",
       "    var OutputArea = require('notebook/js/outputarea').OutputArea;\n",
       "\n",
       "    if (OutputArea.prototype.mime_types().indexOf(EXEC_MIME_TYPE) == -1) {\n",
       "      register_renderer(events, OutputArea);\n",
       "    }\n",
       "  }\n",
       "\n",
       "  \n",
       "  if (typeof (root._bokeh_timeout) === \"undefined\" || force === true) {\n",
       "    root._bokeh_timeout = Date.now() + 5000;\n",
       "    root._bokeh_failed_load = false;\n",
       "  }\n",
       "\n",
       "  var NB_LOAD_WARNING = {'data': {'text/html':\n",
       "     \"<div style='background-color: #fdd'>\\n\"+\n",
       "     \"<p>\\n\"+\n",
       "     \"BokehJS does not appear to have successfully loaded. If loading BokehJS from CDN, this \\n\"+\n",
       "     \"may be due to a slow or bad network connection. Possible fixes:\\n\"+\n",
       "     \"</p>\\n\"+\n",
       "     \"<ul>\\n\"+\n",
       "     \"<li>re-rerun `output_notebook()` to attempt to load from CDN again, or</li>\\n\"+\n",
       "     \"<li>use INLINE resources instead, as so:</li>\\n\"+\n",
       "     \"</ul>\\n\"+\n",
       "     \"<code>\\n\"+\n",
       "     \"from bokeh.resources import INLINE\\n\"+\n",
       "     \"output_notebook(resources=INLINE)\\n\"+\n",
       "     \"</code>\\n\"+\n",
       "     \"</div>\"}};\n",
       "\n",
       "  function display_loaded() {\n",
       "    var el = document.getElementById(\"1001\");\n",
       "    if (el != null) {\n",
       "      el.textContent = \"BokehJS is loading...\";\n",
       "    }\n",
       "    if (root.Bokeh !== undefined) {\n",
       "      if (el != null) {\n",
       "        el.textContent = \"BokehJS \" + root.Bokeh.version + \" successfully loaded.\";\n",
       "      }\n",
       "    } else if (Date.now() < root._bokeh_timeout) {\n",
       "      setTimeout(display_loaded, 100)\n",
       "    }\n",
       "  }\n",
       "\n",
       "\n",
       "  function run_callbacks() {\n",
       "    try {\n",
       "      root._bokeh_onload_callbacks.forEach(function(callback) {\n",
       "        if (callback != null)\n",
       "          callback();\n",
       "      });\n",
       "    } finally {\n",
       "      delete root._bokeh_onload_callbacks\n",
       "    }\n",
       "    console.debug(\"Bokeh: all callbacks have finished\");\n",
       "  }\n",
       "\n",
       "  function load_libs(css_urls, js_urls, callback) {\n",
       "    if (css_urls == null) css_urls = [];\n",
       "    if (js_urls == null) js_urls = [];\n",
       "\n",
       "    root._bokeh_onload_callbacks.push(callback);\n",
       "    if (root._bokeh_is_loading > 0) {\n",
       "      console.debug(\"Bokeh: BokehJS is being loaded, scheduling callback at\", now());\n",
       "      return null;\n",
       "    }\n",
       "    if (js_urls == null || js_urls.length === 0) {\n",
       "      run_callbacks();\n",
       "      return null;\n",
       "    }\n",
       "    console.debug(\"Bokeh: BokehJS not loaded, scheduling load and callback at\", now());\n",
       "    root._bokeh_is_loading = css_urls.length + js_urls.length;\n",
       "\n",
       "    function on_load() {\n",
       "      root._bokeh_is_loading--;\n",
       "      if (root._bokeh_is_loading === 0) {\n",
       "        console.debug(\"Bokeh: all BokehJS libraries/stylesheets loaded\");\n",
       "        run_callbacks()\n",
       "      }\n",
       "    }\n",
       "\n",
       "    function on_error() {\n",
       "      console.error(\"failed to load \" + url);\n",
       "    }\n",
       "\n",
       "    for (var i = 0; i < css_urls.length; i++) {\n",
       "      var url = css_urls[i];\n",
       "      const element = document.createElement(\"link\");\n",
       "      element.onload = on_load;\n",
       "      element.onerror = on_error;\n",
       "      element.rel = \"stylesheet\";\n",
       "      element.type = \"text/css\";\n",
       "      element.href = url;\n",
       "      console.debug(\"Bokeh: injecting link tag for BokehJS stylesheet: \", url);\n",
       "      document.body.appendChild(element);\n",
       "    }\n",
       "\n",
       "    for (var i = 0; i < js_urls.length; i++) {\n",
       "      var url = js_urls[i];\n",
       "      var element = document.createElement('script');\n",
       "      element.onload = on_load;\n",
       "      element.onerror = on_error;\n",
       "      element.async = false;\n",
       "      element.src = url;\n",
       "      console.debug(\"Bokeh: injecting script tag for BokehJS library: \", url);\n",
       "      document.head.appendChild(element);\n",
       "    }\n",
       "  };var element = document.getElementById(\"1001\");\n",
       "  if (element == null) {\n",
       "    console.error(\"Bokeh: ERROR: autoload.js configured with elementid '1001' but no matching script tag was found. \")\n",
       "    return false;\n",
       "  }\n",
       "\n",
       "  function inject_raw_css(css) {\n",
       "    const element = document.createElement(\"style\");\n",
       "    element.appendChild(document.createTextNode(css));\n",
       "    document.body.appendChild(element);\n",
       "  }\n",
       "\n",
       "  \n",
       "  var js_urls = [\"https://cdn.pydata.org/bokeh/release/bokeh-1.4.0.min.js\", \"https://cdn.pydata.org/bokeh/release/bokeh-widgets-1.4.0.min.js\", \"https://cdn.pydata.org/bokeh/release/bokeh-tables-1.4.0.min.js\", \"https://cdn.pydata.org/bokeh/release/bokeh-gl-1.4.0.min.js\"];\n",
       "  var css_urls = [];\n",
       "  \n",
       "\n",
       "  var inline_js = [\n",
       "    function(Bokeh) {\n",
       "      Bokeh.set_log_level(\"info\");\n",
       "    },\n",
       "    function(Bokeh) {\n",
       "    \n",
       "    \n",
       "    }\n",
       "  ];\n",
       "\n",
       "  function run_inline_js() {\n",
       "    \n",
       "    if (root.Bokeh !== undefined || force === true) {\n",
       "      \n",
       "    for (var i = 0; i < inline_js.length; i++) {\n",
       "      inline_js[i].call(root, root.Bokeh);\n",
       "    }\n",
       "    if (force === true) {\n",
       "        display_loaded();\n",
       "      }} else if (Date.now() < root._bokeh_timeout) {\n",
       "      setTimeout(run_inline_js, 100);\n",
       "    } else if (!root._bokeh_failed_load) {\n",
       "      console.log(\"Bokeh: BokehJS failed to load within specified timeout.\");\n",
       "      root._bokeh_failed_load = true;\n",
       "    } else if (force !== true) {\n",
       "      var cell = $(document.getElementById(\"1001\")).parents('.cell').data().cell;\n",
       "      cell.output_area.append_execute_result(NB_LOAD_WARNING)\n",
       "    }\n",
       "\n",
       "  }\n",
       "\n",
       "  if (root._bokeh_is_loading === 0) {\n",
       "    console.debug(\"Bokeh: BokehJS loaded, going straight to plotting\");\n",
       "    run_inline_js();\n",
       "  } else {\n",
       "    load_libs(css_urls, js_urls, function() {\n",
       "      console.debug(\"Bokeh: BokehJS plotting callback run at\", now());\n",
       "      run_inline_js();\n",
       "    });\n",
       "  }\n",
       "}(window));"
      ],
      "application/vnd.bokehjs_load.v0+json": "\n(function(root) {\n  function now() {\n    return new Date();\n  }\n\n  var force = true;\n\n  if (typeof root._bokeh_onload_callbacks === \"undefined\" || force === true) {\n    root._bokeh_onload_callbacks = [];\n    root._bokeh_is_loading = undefined;\n  }\n\n  \n\n  \n  if (typeof (root._bokeh_timeout) === \"undefined\" || force === true) {\n    root._bokeh_timeout = Date.now() + 5000;\n    root._bokeh_failed_load = false;\n  }\n\n  var NB_LOAD_WARNING = {'data': {'text/html':\n     \"<div style='background-color: #fdd'>\\n\"+\n     \"<p>\\n\"+\n     \"BokehJS does not appear to have successfully loaded. If loading BokehJS from CDN, this \\n\"+\n     \"may be due to a slow or bad network connection. Possible fixes:\\n\"+\n     \"</p>\\n\"+\n     \"<ul>\\n\"+\n     \"<li>re-rerun `output_notebook()` to attempt to load from CDN again, or</li>\\n\"+\n     \"<li>use INLINE resources instead, as so:</li>\\n\"+\n     \"</ul>\\n\"+\n     \"<code>\\n\"+\n     \"from bokeh.resources import INLINE\\n\"+\n     \"output_notebook(resources=INLINE)\\n\"+\n     \"</code>\\n\"+\n     \"</div>\"}};\n\n  function display_loaded() {\n    var el = document.getElementById(\"1001\");\n    if (el != null) {\n      el.textContent = \"BokehJS is loading...\";\n    }\n    if (root.Bokeh !== undefined) {\n      if (el != null) {\n        el.textContent = \"BokehJS \" + root.Bokeh.version + \" successfully loaded.\";\n      }\n    } else if (Date.now() < root._bokeh_timeout) {\n      setTimeout(display_loaded, 100)\n    }\n  }\n\n\n  function run_callbacks() {\n    try {\n      root._bokeh_onload_callbacks.forEach(function(callback) {\n        if (callback != null)\n          callback();\n      });\n    } finally {\n      delete root._bokeh_onload_callbacks\n    }\n    console.debug(\"Bokeh: all callbacks have finished\");\n  }\n\n  function load_libs(css_urls, js_urls, callback) {\n    if (css_urls == null) css_urls = [];\n    if (js_urls == null) js_urls = [];\n\n    root._bokeh_onload_callbacks.push(callback);\n    if (root._bokeh_is_loading > 0) {\n      console.debug(\"Bokeh: BokehJS is being loaded, scheduling callback at\", now());\n      return null;\n    }\n    if (js_urls == null || js_urls.length === 0) {\n      run_callbacks();\n      return null;\n    }\n    console.debug(\"Bokeh: BokehJS not loaded, scheduling load and callback at\", now());\n    root._bokeh_is_loading = css_urls.length + js_urls.length;\n\n    function on_load() {\n      root._bokeh_is_loading--;\n      if (root._bokeh_is_loading === 0) {\n        console.debug(\"Bokeh: all BokehJS libraries/stylesheets loaded\");\n        run_callbacks()\n      }\n    }\n\n    function on_error() {\n      console.error(\"failed to load \" + url);\n    }\n\n    for (var i = 0; i < css_urls.length; i++) {\n      var url = css_urls[i];\n      const element = document.createElement(\"link\");\n      element.onload = on_load;\n      element.onerror = on_error;\n      element.rel = \"stylesheet\";\n      element.type = \"text/css\";\n      element.href = url;\n      console.debug(\"Bokeh: injecting link tag for BokehJS stylesheet: \", url);\n      document.body.appendChild(element);\n    }\n\n    for (var i = 0; i < js_urls.length; i++) {\n      var url = js_urls[i];\n      var element = document.createElement('script');\n      element.onload = on_load;\n      element.onerror = on_error;\n      element.async = false;\n      element.src = url;\n      console.debug(\"Bokeh: injecting script tag for BokehJS library: \", url);\n      document.head.appendChild(element);\n    }\n  };var element = document.getElementById(\"1001\");\n  if (element == null) {\n    console.error(\"Bokeh: ERROR: autoload.js configured with elementid '1001' but no matching script tag was found. \")\n    return false;\n  }\n\n  function inject_raw_css(css) {\n    const element = document.createElement(\"style\");\n    element.appendChild(document.createTextNode(css));\n    document.body.appendChild(element);\n  }\n\n  \n  var js_urls = [\"https://cdn.pydata.org/bokeh/release/bokeh-1.4.0.min.js\", \"https://cdn.pydata.org/bokeh/release/bokeh-widgets-1.4.0.min.js\", \"https://cdn.pydata.org/bokeh/release/bokeh-tables-1.4.0.min.js\", \"https://cdn.pydata.org/bokeh/release/bokeh-gl-1.4.0.min.js\"];\n  var css_urls = [];\n  \n\n  var inline_js = [\n    function(Bokeh) {\n      Bokeh.set_log_level(\"info\");\n    },\n    function(Bokeh) {\n    \n    \n    }\n  ];\n\n  function run_inline_js() {\n    \n    if (root.Bokeh !== undefined || force === true) {\n      \n    for (var i = 0; i < inline_js.length; i++) {\n      inline_js[i].call(root, root.Bokeh);\n    }\n    if (force === true) {\n        display_loaded();\n      }} else if (Date.now() < root._bokeh_timeout) {\n      setTimeout(run_inline_js, 100);\n    } else if (!root._bokeh_failed_load) {\n      console.log(\"Bokeh: BokehJS failed to load within specified timeout.\");\n      root._bokeh_failed_load = true;\n    } else if (force !== true) {\n      var cell = $(document.getElementById(\"1001\")).parents('.cell').data().cell;\n      cell.output_area.append_execute_result(NB_LOAD_WARNING)\n    }\n\n  }\n\n  if (root._bokeh_is_loading === 0) {\n    console.debug(\"Bokeh: BokehJS loaded, going straight to plotting\");\n    run_inline_js();\n  } else {\n    load_libs(css_urls, js_urls, function() {\n      console.debug(\"Bokeh: BokehJS plotting callback run at\", now());\n      run_inline_js();\n    });\n  }\n}(window));"
     },
     "metadata": {},
     "output_type": "display_data"
    }
   ],
   "source": [
    "output_notebook()"
   ]
  },
  {
   "cell_type": "markdown",
   "metadata": {},
   "source": [
    "### 2.0 Load Dataset"
   ]
  },
  {
   "cell_type": "code",
   "execution_count": 3,
   "metadata": {},
   "outputs": [
    {
     "data": {
      "text/html": [
       "<div>\n",
       "<style scoped>\n",
       "    .dataframe tbody tr th:only-of-type {\n",
       "        vertical-align: middle;\n",
       "    }\n",
       "\n",
       "    .dataframe tbody tr th {\n",
       "        vertical-align: top;\n",
       "    }\n",
       "\n",
       "    .dataframe thead th {\n",
       "        text-align: right;\n",
       "    }\n",
       "</style>\n",
       "<table border=\"1\" class=\"dataframe\">\n",
       "  <thead>\n",
       "    <tr style=\"text-align: right;\">\n",
       "      <th></th>\n",
       "      <th>total_bill</th>\n",
       "      <th>tip</th>\n",
       "      <th>sex</th>\n",
       "      <th>smoker</th>\n",
       "      <th>day</th>\n",
       "      <th>time</th>\n",
       "      <th>size</th>\n",
       "    </tr>\n",
       "  </thead>\n",
       "  <tbody>\n",
       "    <tr>\n",
       "      <th>0</th>\n",
       "      <td>16.99</td>\n",
       "      <td>1.01</td>\n",
       "      <td>Female</td>\n",
       "      <td>No</td>\n",
       "      <td>Sun</td>\n",
       "      <td>Dinner</td>\n",
       "      <td>2</td>\n",
       "    </tr>\n",
       "    <tr>\n",
       "      <th>1</th>\n",
       "      <td>10.34</td>\n",
       "      <td>1.66</td>\n",
       "      <td>Male</td>\n",
       "      <td>No</td>\n",
       "      <td>Sun</td>\n",
       "      <td>Dinner</td>\n",
       "      <td>3</td>\n",
       "    </tr>\n",
       "    <tr>\n",
       "      <th>2</th>\n",
       "      <td>21.01</td>\n",
       "      <td>3.50</td>\n",
       "      <td>Male</td>\n",
       "      <td>No</td>\n",
       "      <td>Sun</td>\n",
       "      <td>Dinner</td>\n",
       "      <td>3</td>\n",
       "    </tr>\n",
       "    <tr>\n",
       "      <th>3</th>\n",
       "      <td>23.68</td>\n",
       "      <td>3.31</td>\n",
       "      <td>Male</td>\n",
       "      <td>No</td>\n",
       "      <td>Sun</td>\n",
       "      <td>Dinner</td>\n",
       "      <td>2</td>\n",
       "    </tr>\n",
       "    <tr>\n",
       "      <th>4</th>\n",
       "      <td>24.59</td>\n",
       "      <td>3.61</td>\n",
       "      <td>Female</td>\n",
       "      <td>No</td>\n",
       "      <td>Sun</td>\n",
       "      <td>Dinner</td>\n",
       "      <td>4</td>\n",
       "    </tr>\n",
       "  </tbody>\n",
       "</table>\n",
       "</div>"
      ],
      "text/plain": [
       "   total_bill   tip     sex smoker  day    time  size\n",
       "0       16.99  1.01  Female     No  Sun  Dinner     2\n",
       "1       10.34  1.66    Male     No  Sun  Dinner     3\n",
       "2       21.01  3.50    Male     No  Sun  Dinner     3\n",
       "3       23.68  3.31    Male     No  Sun  Dinner     2\n",
       "4       24.59  3.61  Female     No  Sun  Dinner     4"
      ]
     },
     "execution_count": 3,
     "metadata": {},
     "output_type": "execute_result"
    }
   ],
   "source": [
    "tips = bb.load_dataset(\"tips\")\n",
    "tips.head()"
   ]
  },
  {
   "cell_type": "markdown",
   "metadata": {},
   "source": [
    "### 3.0 bokeBorn Bar Plot Examples"
   ]
  },
  {
   "cell_type": "markdown",
   "metadata": {},
   "source": [
    "#### Draw Vertical Bar\n",
    "Draw a set of vertical bar plots grouped by a categorical variable:"
   ]
  },
  {
   "cell_type": "code",
   "execution_count": 4,
   "metadata": {
    "scrolled": false
   },
   "outputs": [
    {
     "data": {
      "text/html": [
       "\n",
       "\n",
       "\n",
       "\n",
       "\n",
       "\n",
       "  <div class=\"bk-root\" id=\"6fcb45e3-db10-491b-a7a3-fa0898b65eab\" data-root-id=\"1003\"></div>\n"
      ]
     },
     "metadata": {},
     "output_type": "display_data"
    },
    {
     "data": {
      "application/javascript": [
       "(function(root) {\n",
       "  function embed_document(root) {\n",
       "    \n",
       "  var docs_json = {\"ecece2d0-2c4c-4268-8286-986db0435066\":{\"roots\":{\"references\":[{\"attributes\":{\"below\":[{\"id\":\"1014\",\"type\":\"CategoricalAxis\"}],\"center\":[{\"id\":\"1017\",\"type\":\"Grid\"},{\"id\":\"1022\",\"type\":\"Grid\"}],\"left\":[{\"id\":\"1018\",\"type\":\"LinearAxis\"}],\"plot_height\":350,\"renderers\":[{\"id\":\"1039\",\"type\":\"GlyphRenderer\"}],\"title\":{\"id\":\"1004\",\"type\":\"Title\"},\"toolbar\":{\"id\":\"1029\",\"type\":\"Toolbar\"},\"x_range\":{\"id\":\"1006\",\"type\":\"FactorRange\"},\"x_scale\":{\"id\":\"1010\",\"type\":\"CategoricalScale\"},\"y_range\":{\"id\":\"1008\",\"type\":\"DataRange1d\"},\"y_scale\":{\"id\":\"1012\",\"type\":\"LinearScale\"}},\"id\":\"1003\",\"subtype\":\"Figure\",\"type\":\"Plot\"},{\"attributes\":{},\"id\":\"1050\",\"type\":\"UnionRenderers\"},{\"attributes\":{},\"id\":\"1045\",\"type\":\"BasicTickFormatter\"},{\"attributes\":{},\"id\":\"1051\",\"type\":\"Selection\"},{\"attributes\":{\"callback\":null,\"factors\":[\"Thur\",\"Fri\",\"Sat\",\"Sun\"]},\"id\":\"1006\",\"type\":\"FactorRange\"},{\"attributes\":{\"axis_label\":\"day\",\"formatter\":{\"id\":\"1047\",\"type\":\"CategoricalTickFormatter\"},\"ticker\":{\"id\":\"1015\",\"type\":\"CategoricalTicker\"}},\"id\":\"1014\",\"type\":\"CategoricalAxis\"},{\"attributes\":{\"data_source\":{\"id\":\"1002\",\"type\":\"ColumnDataSource\"},\"glyph\":{\"id\":\"1037\",\"type\":\"VBar\"},\"hover_glyph\":null,\"muted_glyph\":null,\"nonselection_glyph\":{\"id\":\"1038\",\"type\":\"VBar\"},\"selection_glyph\":null,\"view\":{\"id\":\"1040\",\"type\":\"CDSView\"}},\"id\":\"1039\",\"type\":\"GlyphRenderer\"},{\"attributes\":{\"ticker\":{\"id\":\"1015\",\"type\":\"CategoricalTicker\"}},\"id\":\"1017\",\"type\":\"Grid\"},{\"attributes\":{\"fill_color\":{\"field\":\"fill_color\"},\"line_color\":{\"field\":\"line_color\"},\"top\":{\"field\":\"total_bill\"},\"width\":{\"value\":0.7},\"x\":{\"field\":\"day\"}},\"id\":\"1037\",\"type\":\"VBar\"},{\"attributes\":{\"active_drag\":\"auto\",\"active_inspect\":\"auto\",\"active_multi\":null,\"active_scroll\":\"auto\",\"active_tap\":\"auto\",\"tools\":[{\"id\":\"1023\",\"type\":\"PanTool\"},{\"id\":\"1024\",\"type\":\"BoxSelectTool\"},{\"id\":\"1025\",\"type\":\"WheelZoomTool\"},{\"id\":\"1026\",\"type\":\"BoxZoomTool\"},{\"id\":\"1027\",\"type\":\"ResetTool\"},{\"id\":\"1028\",\"type\":\"SaveTool\"},{\"id\":\"1041\",\"type\":\"HoverTool\"}]},\"id\":\"1029\",\"type\":\"Toolbar\"},{\"attributes\":{\"callback\":null,\"overlay\":{\"id\":\"1048\",\"type\":\"BoxAnnotation\"}},\"id\":\"1024\",\"type\":\"BoxSelectTool\"},{\"attributes\":{\"callback\":null},\"id\":\"1008\",\"type\":\"DataRange1d\"},{\"attributes\":{},\"id\":\"1010\",\"type\":\"CategoricalScale\"},{\"attributes\":{},\"id\":\"1025\",\"type\":\"WheelZoomTool\"},{\"attributes\":{\"overlay\":{\"id\":\"1049\",\"type\":\"BoxAnnotation\"}},\"id\":\"1026\",\"type\":\"BoxZoomTool\"},{\"attributes\":{},\"id\":\"1027\",\"type\":\"ResetTool\"},{\"attributes\":{\"text\":\"\"},\"id\":\"1004\",\"type\":\"Title\"},{\"attributes\":{},\"id\":\"1028\",\"type\":\"SaveTool\"},{\"attributes\":{\"axis_label\":\"total_bill\",\"formatter\":{\"id\":\"1045\",\"type\":\"BasicTickFormatter\"},\"ticker\":{\"id\":\"1019\",\"type\":\"BasicTicker\"}},\"id\":\"1018\",\"type\":\"LinearAxis\"},{\"attributes\":{},\"id\":\"1019\",\"type\":\"BasicTicker\"},{\"attributes\":{\"fill_alpha\":{\"value\":0.1},\"fill_color\":{\"value\":\"#1f77b4\"},\"line_alpha\":{\"value\":0.1},\"line_color\":{\"value\":\"#1f77b4\"},\"top\":{\"field\":\"total_bill\"},\"width\":{\"value\":0.7},\"x\":{\"field\":\"day\"}},\"id\":\"1038\",\"type\":\"VBar\"},{\"attributes\":{\"source\":{\"id\":\"1002\",\"type\":\"ColumnDataSource\"}},\"id\":\"1040\",\"type\":\"CDSView\"},{\"attributes\":{},\"id\":\"1023\",\"type\":\"PanTool\"},{\"attributes\":{},\"id\":\"1015\",\"type\":\"CategoricalTicker\"},{\"attributes\":{\"callback\":null,\"tooltips\":[[\"day\",\"@day\"],[\"total_bill\",\"@total_bill\"]]},\"id\":\"1041\",\"type\":\"HoverTool\"},{\"attributes\":{},\"id\":\"1012\",\"type\":\"LinearScale\"},{\"attributes\":{},\"id\":\"1047\",\"type\":\"CategoricalTickFormatter\"},{\"attributes\":{\"dimension\":1,\"ticker\":{\"id\":\"1019\",\"type\":\"BasicTicker\"}},\"id\":\"1022\",\"type\":\"Grid\"},{\"attributes\":{\"bottom_units\":\"screen\",\"fill_alpha\":{\"value\":0.5},\"fill_color\":{\"value\":\"lightgrey\"},\"left_units\":\"screen\",\"level\":\"overlay\",\"line_alpha\":{\"value\":1.0},\"line_color\":{\"value\":\"black\"},\"line_dash\":[4,4],\"line_width\":{\"value\":2},\"render_mode\":\"css\",\"right_units\":\"screen\",\"top_units\":\"screen\"},\"id\":\"1048\",\"type\":\"BoxAnnotation\"},{\"attributes\":{\"bottom_units\":\"screen\",\"fill_alpha\":{\"value\":0.5},\"fill_color\":{\"value\":\"lightgrey\"},\"left_units\":\"screen\",\"level\":\"overlay\",\"line_alpha\":{\"value\":1.0},\"line_color\":{\"value\":\"black\"},\"line_dash\":[4,4],\"line_width\":{\"value\":2},\"render_mode\":\"css\",\"right_units\":\"screen\",\"top_units\":\"screen\"},\"id\":\"1049\",\"type\":\"BoxAnnotation\"},{\"attributes\":{\"callback\":null,\"data\":{\"day\":[\"Thur\",\"Fri\",\"Sat\",\"Sun\"],\"fill_color\":[\"rgb(49, 115, 161)\",\"rgb(224, 128, 44)\",\"rgb(58, 145, 58)\",\"rgb(192, 60, 61)\"],\"index\":[0,1,2,3],\"line_color\":[\"rgb(49, 115, 161)\",\"rgb(224, 128, 44)\",\"rgb(58, 145, 58)\",\"rgb(192, 60, 61)\"],\"total_bill\":{\"__ndarray__\":\"zoLsLMiuMUCgtb3gzSYxQOMPBzz+cDRAKVyPwvVoNUA=\",\"dtype\":\"float64\",\"shape\":[4]}},\"selected\":{\"id\":\"1051\",\"type\":\"Selection\"},\"selection_policy\":{\"id\":\"1050\",\"type\":\"UnionRenderers\"}},\"id\":\"1002\",\"type\":\"ColumnDataSource\"}],\"root_ids\":[\"1003\"]},\"title\":\"Bokeh Application\",\"version\":\"1.4.0\"}};\n",
       "  var render_items = [{\"docid\":\"ecece2d0-2c4c-4268-8286-986db0435066\",\"roots\":{\"1003\":\"6fcb45e3-db10-491b-a7a3-fa0898b65eab\"}}];\n",
       "  root.Bokeh.embed.embed_items_notebook(docs_json, render_items);\n",
       "\n",
       "  }\n",
       "  if (root.Bokeh !== undefined) {\n",
       "    embed_document(root);\n",
       "  } else {\n",
       "    var attempts = 0;\n",
       "    var timer = setInterval(function(root) {\n",
       "      if (root.Bokeh !== undefined) {\n",
       "        clearInterval(timer);\n",
       "        embed_document(root);\n",
       "      } else {\n",
       "        attempts++;\n",
       "        if (attempts > 100) {\n",
       "          clearInterval(timer);\n",
       "          console.log(\"Bokeh: ERROR: Unable to run BokehJS code because BokehJS library is missing\");\n",
       "        }\n",
       "      }\n",
       "    }, 10, root)\n",
       "  }\n",
       "})(window);"
      ],
      "application/vnd.bokehjs_exec.v0+json": ""
     },
     "metadata": {
      "application/vnd.bokehjs_exec.v0+json": {
       "id": "1003"
      }
     },
     "output_type": "display_data"
    }
   ],
   "source": [
    "bb.barplot(x=\"day\", y=\"total_bill\", data=tips)"
   ]
  },
  {
   "cell_type": "markdown",
   "metadata": {},
   "source": [
    "### Choose from Interactive Tools\n",
    "Choose the required interactive tools for visualization by passing value to `tools` options. Default tools are `\"pan,box_select,wheel_zoom,box_zoom,reset,save\"` . Example:"
   ]
  },
  {
   "cell_type": "code",
   "execution_count": 5,
   "metadata": {},
   "outputs": [
    {
     "data": {
      "text/html": [
       "\n",
       "\n",
       "\n",
       "\n",
       "\n",
       "\n",
       "  <div class=\"bk-root\" id=\"92c1c8b0-1930-4a72-9305-f81f93a18f8e\" data-root-id=\"1107\"></div>\n"
      ]
     },
     "metadata": {},
     "output_type": "display_data"
    },
    {
     "data": {
      "application/javascript": [
       "(function(root) {\n",
       "  function embed_document(root) {\n",
       "    \n",
       "  var docs_json = {\"77e2ff9e-0332-415b-94b9-c01b1aee05cd\":{\"roots\":{\"references\":[{\"attributes\":{\"below\":[{\"id\":\"1118\",\"type\":\"CategoricalAxis\"}],\"center\":[{\"id\":\"1121\",\"type\":\"Grid\"},{\"id\":\"1126\",\"type\":\"Grid\"}],\"left\":[{\"id\":\"1122\",\"type\":\"LinearAxis\"}],\"plot_height\":350,\"renderers\":[{\"id\":\"1135\",\"type\":\"GlyphRenderer\"}],\"title\":{\"id\":\"1108\",\"type\":\"Title\"},\"toolbar\":{\"id\":\"1129\",\"type\":\"Toolbar\"},\"x_range\":{\"id\":\"1110\",\"type\":\"FactorRange\"},\"x_scale\":{\"id\":\"1114\",\"type\":\"CategoricalScale\"},\"y_range\":{\"id\":\"1112\",\"type\":\"DataRange1d\"},\"y_scale\":{\"id\":\"1116\",\"type\":\"LinearScale\"}},\"id\":\"1107\",\"subtype\":\"Figure\",\"type\":\"Plot\"},{\"attributes\":{},\"id\":\"1152\",\"type\":\"CategoricalTickFormatter\"},{\"attributes\":{},\"id\":\"1116\",\"type\":\"LinearScale\"},{\"attributes\":{},\"id\":\"1154\",\"type\":\"Selection\"},{\"attributes\":{\"axis_label\":\"day\",\"formatter\":{\"id\":\"1152\",\"type\":\"CategoricalTickFormatter\"},\"ticker\":{\"id\":\"1119\",\"type\":\"CategoricalTicker\"}},\"id\":\"1118\",\"type\":\"CategoricalAxis\"},{\"attributes\":{\"source\":{\"id\":\"1106\",\"type\":\"ColumnDataSource\"}},\"id\":\"1136\",\"type\":\"CDSView\"},{\"attributes\":{\"axis_label\":\"total_bill\",\"formatter\":{\"id\":\"1150\",\"type\":\"BasicTickFormatter\"},\"ticker\":{\"id\":\"1123\",\"type\":\"BasicTicker\"}},\"id\":\"1122\",\"type\":\"LinearAxis\"},{\"attributes\":{\"callback\":null,\"tooltips\":[[\"day\",\"@day\"],[\"total_bill\",\"@total_bill\"]]},\"id\":\"1137\",\"type\":\"HoverTool\"},{\"attributes\":{\"data_source\":{\"id\":\"1106\",\"type\":\"ColumnDataSource\"},\"glyph\":{\"id\":\"1133\",\"type\":\"VBar\"},\"hover_glyph\":null,\"muted_glyph\":null,\"nonselection_glyph\":{\"id\":\"1134\",\"type\":\"VBar\"},\"selection_glyph\":null,\"view\":{\"id\":\"1136\",\"type\":\"CDSView\"}},\"id\":\"1135\",\"type\":\"GlyphRenderer\"},{\"attributes\":{\"fill_alpha\":{\"value\":0.1},\"fill_color\":{\"value\":\"#1f77b4\"},\"line_alpha\":{\"value\":0.1},\"line_color\":{\"value\":\"#1f77b4\"},\"top\":{\"field\":\"total_bill\"},\"width\":{\"value\":0.7},\"x\":{\"field\":\"day\"}},\"id\":\"1134\",\"type\":\"VBar\"},{\"attributes\":{\"active_drag\":\"auto\",\"active_inspect\":\"auto\",\"active_multi\":null,\"active_scroll\":\"auto\",\"active_tap\":\"auto\",\"tools\":[{\"id\":\"1127\",\"type\":\"PanTool\"},{\"id\":\"1128\",\"type\":\"SaveTool\"},{\"id\":\"1137\",\"type\":\"HoverTool\"}]},\"id\":\"1129\",\"type\":\"Toolbar\"},{\"attributes\":{\"dimension\":1,\"ticker\":{\"id\":\"1123\",\"type\":\"BasicTicker\"}},\"id\":\"1126\",\"type\":\"Grid\"},{\"attributes\":{},\"id\":\"1150\",\"type\":\"BasicTickFormatter\"},{\"attributes\":{},\"id\":\"1128\",\"type\":\"SaveTool\"},{\"attributes\":{\"callback\":null},\"id\":\"1112\",\"type\":\"DataRange1d\"},{\"attributes\":{},\"id\":\"1123\",\"type\":\"BasicTicker\"},{\"attributes\":{\"fill_color\":{\"field\":\"fill_color\"},\"line_color\":{\"field\":\"line_color\"},\"top\":{\"field\":\"total_bill\"},\"width\":{\"value\":0.7},\"x\":{\"field\":\"day\"}},\"id\":\"1133\",\"type\":\"VBar\"},{\"attributes\":{},\"id\":\"1127\",\"type\":\"PanTool\"},{\"attributes\":{\"text\":\"\"},\"id\":\"1108\",\"type\":\"Title\"},{\"attributes\":{\"ticker\":{\"id\":\"1119\",\"type\":\"CategoricalTicker\"}},\"id\":\"1121\",\"type\":\"Grid\"},{\"attributes\":{\"callback\":null,\"data\":{\"day\":[\"Thur\",\"Fri\",\"Sat\",\"Sun\"],\"fill_color\":[\"rgb(49, 115, 161)\",\"rgb(224, 128, 44)\",\"rgb(58, 145, 58)\",\"rgb(192, 60, 61)\"],\"index\":[0,1,2,3],\"line_color\":[\"rgb(49, 115, 161)\",\"rgb(224, 128, 44)\",\"rgb(58, 145, 58)\",\"rgb(192, 60, 61)\"],\"total_bill\":{\"__ndarray__\":\"zoLsLMiuMUCgtb3gzSYxQOMPBzz+cDRAKVyPwvVoNUA=\",\"dtype\":\"float64\",\"shape\":[4]}},\"selected\":{\"id\":\"1154\",\"type\":\"Selection\"},\"selection_policy\":{\"id\":\"1153\",\"type\":\"UnionRenderers\"}},\"id\":\"1106\",\"type\":\"ColumnDataSource\"},{\"attributes\":{},\"id\":\"1119\",\"type\":\"CategoricalTicker\"},{\"attributes\":{\"callback\":null,\"factors\":[\"Thur\",\"Fri\",\"Sat\",\"Sun\"]},\"id\":\"1110\",\"type\":\"FactorRange\"},{\"attributes\":{},\"id\":\"1114\",\"type\":\"CategoricalScale\"},{\"attributes\":{},\"id\":\"1153\",\"type\":\"UnionRenderers\"}],\"root_ids\":[\"1107\"]},\"title\":\"Bokeh Application\",\"version\":\"1.4.0\"}};\n",
       "  var render_items = [{\"docid\":\"77e2ff9e-0332-415b-94b9-c01b1aee05cd\",\"roots\":{\"1107\":\"92c1c8b0-1930-4a72-9305-f81f93a18f8e\"}}];\n",
       "  root.Bokeh.embed.embed_items_notebook(docs_json, render_items);\n",
       "\n",
       "  }\n",
       "  if (root.Bokeh !== undefined) {\n",
       "    embed_document(root);\n",
       "  } else {\n",
       "    var attempts = 0;\n",
       "    var timer = setInterval(function(root) {\n",
       "      if (root.Bokeh !== undefined) {\n",
       "        clearInterval(timer);\n",
       "        embed_document(root);\n",
       "      } else {\n",
       "        attempts++;\n",
       "        if (attempts > 100) {\n",
       "          clearInterval(timer);\n",
       "          console.log(\"Bokeh: ERROR: Unable to run BokehJS code because BokehJS library is missing\");\n",
       "        }\n",
       "      }\n",
       "    }, 10, root)\n",
       "  }\n",
       "})(window);"
      ],
      "application/vnd.bokehjs_exec.v0+json": ""
     },
     "metadata": {
      "application/vnd.bokehjs_exec.v0+json": {
       "id": "1107"
      }
     },
     "output_type": "display_data"
    }
   ],
   "source": [
    "bb.barplot(x=\"day\", y=\"total_bill\", data=tips, tools=\"pan, save\")"
   ]
  },
  {
   "cell_type": "markdown",
   "metadata": {},
   "source": [
    "#### Draw Horizontal Bar\n",
    "Draw a set of horizontal bars automatically with change of axis"
   ]
  },
  {
   "cell_type": "code",
   "execution_count": 17,
   "metadata": {
    "scrolled": false
   },
   "outputs": [
    {
     "data": {
      "text/html": [
       "\n",
       "\n",
       "\n",
       "\n",
       "\n",
       "\n",
       "  <div class=\"bk-root\" id=\"d7aedd8a-5701-488d-a3c2-a60a27527c1b\" data-root-id=\"3191\"></div>\n"
      ]
     },
     "metadata": {},
     "output_type": "display_data"
    },
    {
     "data": {
      "application/javascript": [
       "(function(root) {\n",
       "  function embed_document(root) {\n",
       "    \n",
       "  var docs_json = {\"26534ce3-937b-4d8e-8a2f-4f053a414768\":{\"roots\":{\"references\":[{\"attributes\":{\"below\":[{\"id\":\"3202\",\"type\":\"LinearAxis\"}],\"center\":[{\"id\":\"3206\",\"type\":\"Grid\"},{\"id\":\"3210\",\"type\":\"Grid\"}],\"left\":[{\"id\":\"3207\",\"type\":\"CategoricalAxis\"}],\"plot_height\":350,\"renderers\":[{\"id\":\"3227\",\"type\":\"GlyphRenderer\"}],\"title\":{\"id\":\"3192\",\"type\":\"Title\"},\"toolbar\":{\"id\":\"3217\",\"type\":\"Toolbar\"},\"x_range\":{\"id\":\"3194\",\"type\":\"DataRange1d\"},\"x_scale\":{\"id\":\"3198\",\"type\":\"LinearScale\"},\"y_range\":{\"id\":\"3196\",\"type\":\"FactorRange\"},\"y_scale\":{\"id\":\"3200\",\"type\":\"CategoricalScale\"}},\"id\":\"3191\",\"subtype\":\"Figure\",\"type\":\"Plot\"},{\"attributes\":{\"axis_label\":\"tip\",\"formatter\":{\"id\":\"3358\",\"type\":\"BasicTickFormatter\"},\"ticker\":{\"id\":\"3203\",\"type\":\"BasicTicker\"}},\"id\":\"3202\",\"type\":\"LinearAxis\"},{\"attributes\":{},\"id\":\"3356\",\"type\":\"CategoricalTickFormatter\"},{\"attributes\":{\"callback\":null,\"data\":{\"day\":{\"__ndarray__\":\"Ku2+0u4rBkA+EaC1veAFQAMefzjg8QdA3AvebIIKCkA=\",\"dtype\":\"float64\",\"shape\":[4]},\"fill_color\":[\"rgb(49, 115, 161)\",\"rgb(224, 128, 44)\",\"rgb(58, 145, 58)\",\"rgb(192, 60, 61)\"],\"index\":[0,1,2,3],\"line_color\":[\"rgb(49, 115, 161)\",\"rgb(224, 128, 44)\",\"rgb(58, 145, 58)\",\"rgb(192, 60, 61)\"],\"tip\":[\"Thur\",\"Fri\",\"Sat\",\"Sun\"]},\"selected\":{\"id\":\"3362\",\"type\":\"Selection\"},\"selection_policy\":{\"id\":\"3361\",\"type\":\"UnionRenderers\"}},\"id\":\"3190\",\"type\":\"ColumnDataSource\"},{\"attributes\":{},\"id\":\"3200\",\"type\":\"CategoricalScale\"},{\"attributes\":{\"callback\":null,\"factors\":[\"Thur\",\"Fri\",\"Sat\",\"Sun\"]},\"id\":\"3196\",\"type\":\"FactorRange\"},{\"attributes\":{\"callback\":null},\"id\":\"3194\",\"type\":\"DataRange1d\"},{\"attributes\":{\"text\":\"\"},\"id\":\"3192\",\"type\":\"Title\"},{\"attributes\":{\"bottom_units\":\"screen\",\"fill_alpha\":{\"value\":0.5},\"fill_color\":{\"value\":\"lightgrey\"},\"left_units\":\"screen\",\"level\":\"overlay\",\"line_alpha\":{\"value\":1.0},\"line_color\":{\"value\":\"black\"},\"line_dash\":[4,4],\"line_width\":{\"value\":2},\"render_mode\":\"css\",\"right_units\":\"screen\",\"top_units\":\"screen\"},\"id\":\"3359\",\"type\":\"BoxAnnotation\"},{\"attributes\":{},\"id\":\"3361\",\"type\":\"UnionRenderers\"},{\"attributes\":{},\"id\":\"3358\",\"type\":\"BasicTickFormatter\"},{\"attributes\":{\"source\":{\"id\":\"3190\",\"type\":\"ColumnDataSource\"}},\"id\":\"3228\",\"type\":\"CDSView\"},{\"attributes\":{},\"id\":\"3215\",\"type\":\"ResetTool\"},{\"attributes\":{},\"id\":\"3213\",\"type\":\"WheelZoomTool\"},{\"attributes\":{\"ticker\":{\"id\":\"3203\",\"type\":\"BasicTicker\"}},\"id\":\"3206\",\"type\":\"Grid\"},{\"attributes\":{\"overlay\":{\"id\":\"3360\",\"type\":\"BoxAnnotation\"}},\"id\":\"3214\",\"type\":\"BoxZoomTool\"},{\"attributes\":{\"active_drag\":\"auto\",\"active_inspect\":\"auto\",\"active_multi\":null,\"active_scroll\":\"auto\",\"active_tap\":\"auto\",\"tools\":[{\"id\":\"3211\",\"type\":\"PanTool\"},{\"id\":\"3212\",\"type\":\"BoxSelectTool\"},{\"id\":\"3213\",\"type\":\"WheelZoomTool\"},{\"id\":\"3214\",\"type\":\"BoxZoomTool\"},{\"id\":\"3215\",\"type\":\"ResetTool\"},{\"id\":\"3216\",\"type\":\"SaveTool\"},{\"id\":\"3229\",\"type\":\"HoverTool\"}]},\"id\":\"3217\",\"type\":\"Toolbar\"},{\"attributes\":{\"callback\":null,\"overlay\":{\"id\":\"3359\",\"type\":\"BoxAnnotation\"}},\"id\":\"3212\",\"type\":\"BoxSelectTool\"},{\"attributes\":{},\"id\":\"3216\",\"type\":\"SaveTool\"},{\"attributes\":{},\"id\":\"3203\",\"type\":\"BasicTicker\"},{\"attributes\":{\"callback\":null,\"tooltips\":[[\"tip\",\"@day\"],[\"day\",\"@tip\"]]},\"id\":\"3229\",\"type\":\"HoverTool\"},{\"attributes\":{\"axis_label\":\"day\",\"formatter\":{\"id\":\"3356\",\"type\":\"CategoricalTickFormatter\"},\"ticker\":{\"id\":\"3208\",\"type\":\"CategoricalTicker\"}},\"id\":\"3207\",\"type\":\"CategoricalAxis\"},{\"attributes\":{},\"id\":\"3208\",\"type\":\"CategoricalTicker\"},{\"attributes\":{},\"id\":\"3362\",\"type\":\"Selection\"},{\"attributes\":{},\"id\":\"3198\",\"type\":\"LinearScale\"},{\"attributes\":{\"data_source\":{\"id\":\"3190\",\"type\":\"ColumnDataSource\"},\"glyph\":{\"id\":\"3225\",\"type\":\"HBar\"},\"hover_glyph\":null,\"muted_glyph\":null,\"nonselection_glyph\":{\"id\":\"3226\",\"type\":\"HBar\"},\"selection_glyph\":null,\"view\":{\"id\":\"3228\",\"type\":\"CDSView\"}},\"id\":\"3227\",\"type\":\"GlyphRenderer\"},{\"attributes\":{},\"id\":\"3211\",\"type\":\"PanTool\"},{\"attributes\":{\"fill_alpha\":{\"value\":0.1},\"fill_color\":{\"value\":\"#1f77b4\"},\"height\":{\"value\":0.7},\"line_alpha\":{\"value\":0.1},\"line_color\":{\"value\":\"#1f77b4\"},\"right\":{\"field\":\"day\"},\"y\":{\"field\":\"tip\"}},\"id\":\"3226\",\"type\":\"HBar\"},{\"attributes\":{\"fill_color\":{\"field\":\"fill_color\"},\"height\":{\"value\":0.7},\"line_color\":{\"field\":\"line_color\"},\"right\":{\"field\":\"day\"},\"y\":{\"field\":\"tip\"}},\"id\":\"3225\",\"type\":\"HBar\"},{\"attributes\":{\"bottom_units\":\"screen\",\"fill_alpha\":{\"value\":0.5},\"fill_color\":{\"value\":\"lightgrey\"},\"left_units\":\"screen\",\"level\":\"overlay\",\"line_alpha\":{\"value\":1.0},\"line_color\":{\"value\":\"black\"},\"line_dash\":[4,4],\"line_width\":{\"value\":2},\"render_mode\":\"css\",\"right_units\":\"screen\",\"top_units\":\"screen\"},\"id\":\"3360\",\"type\":\"BoxAnnotation\"},{\"attributes\":{\"dimension\":1,\"ticker\":{\"id\":\"3208\",\"type\":\"CategoricalTicker\"}},\"id\":\"3210\",\"type\":\"Grid\"}],\"root_ids\":[\"3191\"]},\"title\":\"Bokeh Application\",\"version\":\"1.4.0\"}};\n",
       "  var render_items = [{\"docid\":\"26534ce3-937b-4d8e-8a2f-4f053a414768\",\"roots\":{\"3191\":\"d7aedd8a-5701-488d-a3c2-a60a27527c1b\"}}];\n",
       "  root.Bokeh.embed.embed_items_notebook(docs_json, render_items);\n",
       "\n",
       "  }\n",
       "  if (root.Bokeh !== undefined) {\n",
       "    embed_document(root);\n",
       "  } else {\n",
       "    var attempts = 0;\n",
       "    var timer = setInterval(function(root) {\n",
       "      if (root.Bokeh !== undefined) {\n",
       "        clearInterval(timer);\n",
       "        embed_document(root);\n",
       "      } else {\n",
       "        attempts++;\n",
       "        if (attempts > 100) {\n",
       "          clearInterval(timer);\n",
       "          console.log(\"Bokeh: ERROR: Unable to run BokehJS code because BokehJS library is missing\");\n",
       "        }\n",
       "      }\n",
       "    }, 10, root)\n",
       "  }\n",
       "})(window);"
      ],
      "application/vnd.bokehjs_exec.v0+json": ""
     },
     "metadata": {
      "application/vnd.bokehjs_exec.v0+json": {
       "id": "3191"
      }
     },
     "output_type": "display_data"
    }
   ],
   "source": [
    "bb.barplot(x=\"tip\", y=\"day\", data=tips)"
   ]
  },
  {
   "cell_type": "markdown",
   "metadata": {},
   "source": [
    "#### Control Orders\n",
    "Control bar order by passing an explicit order:"
   ]
  },
  {
   "cell_type": "code",
   "execution_count": 7,
   "metadata": {},
   "outputs": [
    {
     "data": {
      "text/html": [
       "\n",
       "\n",
       "\n",
       "\n",
       "\n",
       "\n",
       "  <div class=\"bk-root\" id=\"a10bd84d-3374-4809-86be-298732721936\" data-root-id=\"1353\"></div>\n"
      ]
     },
     "metadata": {},
     "output_type": "display_data"
    },
    {
     "data": {
      "application/javascript": [
       "(function(root) {\n",
       "  function embed_document(root) {\n",
       "    \n",
       "  var docs_json = {\"f564cb3f-3114-4bca-b940-dddc17a858ac\":{\"roots\":{\"references\":[{\"attributes\":{\"below\":[{\"id\":\"1364\",\"type\":\"CategoricalAxis\"}],\"center\":[{\"id\":\"1367\",\"type\":\"Grid\"},{\"id\":\"1372\",\"type\":\"Grid\"}],\"left\":[{\"id\":\"1368\",\"type\":\"LinearAxis\"}],\"plot_height\":350,\"renderers\":[{\"id\":\"1389\",\"type\":\"GlyphRenderer\"}],\"title\":{\"id\":\"1354\",\"type\":\"Title\"},\"toolbar\":{\"id\":\"1379\",\"type\":\"Toolbar\"},\"x_range\":{\"id\":\"1356\",\"type\":\"FactorRange\"},\"x_scale\":{\"id\":\"1360\",\"type\":\"CategoricalScale\"},\"y_range\":{\"id\":\"1358\",\"type\":\"DataRange1d\"},\"y_scale\":{\"id\":\"1362\",\"type\":\"LinearScale\"}},\"id\":\"1353\",\"subtype\":\"Figure\",\"type\":\"Plot\"},{\"attributes\":{},\"id\":\"1362\",\"type\":\"LinearScale\"},{\"attributes\":{},\"id\":\"1428\",\"type\":\"Selection\"},{\"attributes\":{\"callback\":null,\"data\":{\"fill_color\":[\"rgb(49, 115, 161)\",\"rgb(224, 128, 44)\"],\"index\":[0,1],\"line_color\":[\"rgb(49, 115, 161)\",\"rgb(224, 128, 44)\"],\"time\":[\"Lunch\",\"Dinner\"],\"tip\":{\"__ndarray__\":\"VIa57B/TBUAxTiTjRNIIQA==\",\"dtype\":\"float64\",\"shape\":[2]}},\"selected\":{\"id\":\"1428\",\"type\":\"Selection\"},\"selection_policy\":{\"id\":\"1427\",\"type\":\"UnionRenderers\"}},\"id\":\"1352\",\"type\":\"ColumnDataSource\"},{\"attributes\":{\"dimension\":1,\"ticker\":{\"id\":\"1369\",\"type\":\"BasicTicker\"}},\"id\":\"1372\",\"type\":\"Grid\"},{\"attributes\":{\"active_drag\":\"auto\",\"active_inspect\":\"auto\",\"active_multi\":null,\"active_scroll\":\"auto\",\"active_tap\":\"auto\",\"tools\":[{\"id\":\"1373\",\"type\":\"PanTool\"},{\"id\":\"1374\",\"type\":\"BoxSelectTool\"},{\"id\":\"1375\",\"type\":\"WheelZoomTool\"},{\"id\":\"1376\",\"type\":\"BoxZoomTool\"},{\"id\":\"1377\",\"type\":\"ResetTool\"},{\"id\":\"1378\",\"type\":\"SaveTool\"},{\"id\":\"1391\",\"type\":\"HoverTool\"}]},\"id\":\"1379\",\"type\":\"Toolbar\"},{\"attributes\":{},\"id\":\"1373\",\"type\":\"PanTool\"},{\"attributes\":{\"ticker\":{\"id\":\"1365\",\"type\":\"CategoricalTicker\"}},\"id\":\"1367\",\"type\":\"Grid\"},{\"attributes\":{\"callback\":null,\"overlay\":{\"id\":\"1425\",\"type\":\"BoxAnnotation\"}},\"id\":\"1374\",\"type\":\"BoxSelectTool\"},{\"attributes\":{\"axis_label\":\"time\",\"formatter\":{\"id\":\"1424\",\"type\":\"CategoricalTickFormatter\"},\"ticker\":{\"id\":\"1365\",\"type\":\"CategoricalTicker\"}},\"id\":\"1364\",\"type\":\"CategoricalAxis\"},{\"attributes\":{},\"id\":\"1375\",\"type\":\"WheelZoomTool\"},{\"attributes\":{},\"id\":\"1365\",\"type\":\"CategoricalTicker\"},{\"attributes\":{\"overlay\":{\"id\":\"1426\",\"type\":\"BoxAnnotation\"}},\"id\":\"1376\",\"type\":\"BoxZoomTool\"},{\"attributes\":{},\"id\":\"1378\",\"type\":\"SaveTool\"},{\"attributes\":{},\"id\":\"1360\",\"type\":\"CategoricalScale\"},{\"attributes\":{\"fill_alpha\":{\"value\":0.1},\"fill_color\":{\"value\":\"#1f77b4\"},\"line_alpha\":{\"value\":0.1},\"line_color\":{\"value\":\"#1f77b4\"},\"top\":{\"field\":\"tip\"},\"width\":{\"value\":0.7},\"x\":{\"field\":\"time\"}},\"id\":\"1388\",\"type\":\"VBar\"},{\"attributes\":{\"data_source\":{\"id\":\"1352\",\"type\":\"ColumnDataSource\"},\"glyph\":{\"id\":\"1387\",\"type\":\"VBar\"},\"hover_glyph\":null,\"muted_glyph\":null,\"nonselection_glyph\":{\"id\":\"1388\",\"type\":\"VBar\"},\"selection_glyph\":null,\"view\":{\"id\":\"1390\",\"type\":\"CDSView\"}},\"id\":\"1389\",\"type\":\"GlyphRenderer\"},{\"attributes\":{},\"id\":\"1422\",\"type\":\"BasicTickFormatter\"},{\"attributes\":{\"source\":{\"id\":\"1352\",\"type\":\"ColumnDataSource\"}},\"id\":\"1390\",\"type\":\"CDSView\"},{\"attributes\":{\"callback\":null,\"factors\":[\"Lunch\",\"Dinner\"]},\"id\":\"1356\",\"type\":\"FactorRange\"},{\"attributes\":{},\"id\":\"1377\",\"type\":\"ResetTool\"},{\"attributes\":{\"callback\":null,\"tooltips\":[[\"time\",\"@time\"],[\"tip\",\"@tip\"]]},\"id\":\"1391\",\"type\":\"HoverTool\"},{\"attributes\":{\"callback\":null},\"id\":\"1358\",\"type\":\"DataRange1d\"},{\"attributes\":{\"text\":\"\"},\"id\":\"1354\",\"type\":\"Title\"},{\"attributes\":{},\"id\":\"1424\",\"type\":\"CategoricalTickFormatter\"},{\"attributes\":{\"fill_color\":{\"field\":\"fill_color\"},\"line_color\":{\"field\":\"line_color\"},\"top\":{\"field\":\"tip\"},\"width\":{\"value\":0.7},\"x\":{\"field\":\"time\"}},\"id\":\"1387\",\"type\":\"VBar\"},{\"attributes\":{\"bottom_units\":\"screen\",\"fill_alpha\":{\"value\":0.5},\"fill_color\":{\"value\":\"lightgrey\"},\"left_units\":\"screen\",\"level\":\"overlay\",\"line_alpha\":{\"value\":1.0},\"line_color\":{\"value\":\"black\"},\"line_dash\":[4,4],\"line_width\":{\"value\":2},\"render_mode\":\"css\",\"right_units\":\"screen\",\"top_units\":\"screen\"},\"id\":\"1425\",\"type\":\"BoxAnnotation\"},{\"attributes\":{\"bottom_units\":\"screen\",\"fill_alpha\":{\"value\":0.5},\"fill_color\":{\"value\":\"lightgrey\"},\"left_units\":\"screen\",\"level\":\"overlay\",\"line_alpha\":{\"value\":1.0},\"line_color\":{\"value\":\"black\"},\"line_dash\":[4,4],\"line_width\":{\"value\":2},\"render_mode\":\"css\",\"right_units\":\"screen\",\"top_units\":\"screen\"},\"id\":\"1426\",\"type\":\"BoxAnnotation\"},{\"attributes\":{\"axis_label\":\"tip\",\"formatter\":{\"id\":\"1422\",\"type\":\"BasicTickFormatter\"},\"ticker\":{\"id\":\"1369\",\"type\":\"BasicTicker\"}},\"id\":\"1368\",\"type\":\"LinearAxis\"},{\"attributes\":{},\"id\":\"1427\",\"type\":\"UnionRenderers\"},{\"attributes\":{},\"id\":\"1369\",\"type\":\"BasicTicker\"}],\"root_ids\":[\"1353\"]},\"title\":\"Bokeh Application\",\"version\":\"1.4.0\"}};\n",
       "  var render_items = [{\"docid\":\"f564cb3f-3114-4bca-b940-dddc17a858ac\",\"roots\":{\"1353\":\"a10bd84d-3374-4809-86be-298732721936\"}}];\n",
       "  root.Bokeh.embed.embed_items_notebook(docs_json, render_items);\n",
       "\n",
       "  }\n",
       "  if (root.Bokeh !== undefined) {\n",
       "    embed_document(root);\n",
       "  } else {\n",
       "    var attempts = 0;\n",
       "    var timer = setInterval(function(root) {\n",
       "      if (root.Bokeh !== undefined) {\n",
       "        clearInterval(timer);\n",
       "        embed_document(root);\n",
       "      } else {\n",
       "        attempts++;\n",
       "        if (attempts > 100) {\n",
       "          clearInterval(timer);\n",
       "          console.log(\"Bokeh: ERROR: Unable to run BokehJS code because BokehJS library is missing\");\n",
       "        }\n",
       "      }\n",
       "    }, 10, root)\n",
       "  }\n",
       "})(window);"
      ],
      "application/vnd.bokehjs_exec.v0+json": ""
     },
     "metadata": {
      "application/vnd.bokehjs_exec.v0+json": {
       "id": "1353"
      }
     },
     "output_type": "display_data"
    }
   ],
   "source": [
    "bb.barplot(x=\"time\", y=\"tip\", data=tips,order=[\"Lunch\", \"Dinner\"])"
   ]
  },
  {
   "cell_type": "markdown",
   "metadata": {},
   "source": [
    "#### Set Desired Estimator\n",
    "For example, use median as the estimate of central tendency:"
   ]
  },
  {
   "cell_type": "code",
   "execution_count": 8,
   "metadata": {},
   "outputs": [
    {
     "data": {
      "text/html": [
       "\n",
       "\n",
       "\n",
       "\n",
       "\n",
       "\n",
       "  <div class=\"bk-root\" id=\"6058a407-e24e-4c6a-99f0-ef1251566ff7\" data-root-id=\"1484\"></div>\n"
      ]
     },
     "metadata": {},
     "output_type": "display_data"
    },
    {
     "data": {
      "application/javascript": [
       "(function(root) {\n",
       "  function embed_document(root) {\n",
       "    \n",
       "  var docs_json = {\"132bd75c-2a30-4e0c-936b-9bc7a3911717\":{\"roots\":{\"references\":[{\"attributes\":{\"below\":[{\"id\":\"1495\",\"type\":\"CategoricalAxis\"}],\"center\":[{\"id\":\"1498\",\"type\":\"Grid\"},{\"id\":\"1503\",\"type\":\"Grid\"}],\"left\":[{\"id\":\"1499\",\"type\":\"LinearAxis\"}],\"plot_height\":350,\"renderers\":[{\"id\":\"1520\",\"type\":\"GlyphRenderer\"}],\"title\":{\"id\":\"1485\",\"type\":\"Title\"},\"toolbar\":{\"id\":\"1510\",\"type\":\"Toolbar\"},\"x_range\":{\"id\":\"1487\",\"type\":\"FactorRange\"},\"x_scale\":{\"id\":\"1491\",\"type\":\"CategoricalScale\"},\"y_range\":{\"id\":\"1489\",\"type\":\"DataRange1d\"},\"y_scale\":{\"id\":\"1493\",\"type\":\"LinearScale\"}},\"id\":\"1484\",\"subtype\":\"Figure\",\"type\":\"Plot\"},{\"attributes\":{\"ticker\":{\"id\":\"1496\",\"type\":\"CategoricalTicker\"}},\"id\":\"1498\",\"type\":\"Grid\"},{\"attributes\":{\"bottom_units\":\"screen\",\"fill_alpha\":{\"value\":0.5},\"fill_color\":{\"value\":\"lightgrey\"},\"left_units\":\"screen\",\"level\":\"overlay\",\"line_alpha\":{\"value\":1.0},\"line_color\":{\"value\":\"black\"},\"line_dash\":[4,4],\"line_width\":{\"value\":2},\"render_mode\":\"css\",\"right_units\":\"screen\",\"top_units\":\"screen\"},\"id\":\"1566\",\"type\":\"BoxAnnotation\"},{\"attributes\":{},\"id\":\"1496\",\"type\":\"CategoricalTicker\"},{\"attributes\":{\"axis_label\":\"day\",\"formatter\":{\"id\":\"1564\",\"type\":\"CategoricalTickFormatter\"},\"ticker\":{\"id\":\"1496\",\"type\":\"CategoricalTicker\"}},\"id\":\"1495\",\"type\":\"CategoricalAxis\"},{\"attributes\":{\"callback\":null},\"id\":\"1489\",\"type\":\"DataRange1d\"},{\"attributes\":{\"callback\":null,\"factors\":[\"Thur\",\"Fri\",\"Sat\",\"Sun\"]},\"id\":\"1487\",\"type\":\"FactorRange\"},{\"attributes\":{},\"id\":\"1564\",\"type\":\"CategoricalTickFormatter\"},{\"attributes\":{\"active_drag\":\"auto\",\"active_inspect\":\"auto\",\"active_multi\":null,\"active_scroll\":\"auto\",\"active_tap\":\"auto\",\"tools\":[{\"id\":\"1504\",\"type\":\"PanTool\"},{\"id\":\"1505\",\"type\":\"BoxSelectTool\"},{\"id\":\"1506\",\"type\":\"WheelZoomTool\"},{\"id\":\"1507\",\"type\":\"BoxZoomTool\"},{\"id\":\"1508\",\"type\":\"ResetTool\"},{\"id\":\"1509\",\"type\":\"SaveTool\"},{\"id\":\"1522\",\"type\":\"HoverTool\"}]},\"id\":\"1510\",\"type\":\"Toolbar\"},{\"attributes\":{},\"id\":\"1567\",\"type\":\"UnionRenderers\"},{\"attributes\":{\"callback\":null,\"overlay\":{\"id\":\"1565\",\"type\":\"BoxAnnotation\"}},\"id\":\"1505\",\"type\":\"BoxSelectTool\"},{\"attributes\":{\"dimension\":1,\"ticker\":{\"id\":\"1500\",\"type\":\"BasicTicker\"}},\"id\":\"1503\",\"type\":\"Grid\"},{\"attributes\":{\"axis_label\":\"tip\",\"formatter\":{\"id\":\"1562\",\"type\":\"BasicTickFormatter\"},\"ticker\":{\"id\":\"1500\",\"type\":\"BasicTicker\"}},\"id\":\"1499\",\"type\":\"LinearAxis\"},{\"attributes\":{},\"id\":\"1504\",\"type\":\"PanTool\"},{\"attributes\":{\"callback\":null,\"data\":{\"day\":[\"Thur\",\"Fri\",\"Sat\",\"Sun\"],\"fill_color\":[\"rgb(49, 115, 161)\",\"rgb(224, 128, 44)\",\"rgb(58, 145, 58)\",\"rgb(192, 60, 61)\"],\"index\":[0,1,2,3],\"line_color\":[\"rgb(49, 115, 161)\",\"rgb(224, 128, 44)\",\"rgb(58, 145, 58)\",\"rgb(192, 60, 61)\"],\"tip\":{\"__ndarray__\":\"cD0K16NwAkAAAAAAAAAIQAAAAAAAAAZANDMzMzMzCUA=\",\"dtype\":\"float64\",\"shape\":[4]}},\"selected\":{\"id\":\"1568\",\"type\":\"Selection\"},\"selection_policy\":{\"id\":\"1567\",\"type\":\"UnionRenderers\"}},\"id\":\"1483\",\"type\":\"ColumnDataSource\"},{\"attributes\":{\"source\":{\"id\":\"1483\",\"type\":\"ColumnDataSource\"}},\"id\":\"1521\",\"type\":\"CDSView\"},{\"attributes\":{},\"id\":\"1500\",\"type\":\"BasicTicker\"},{\"attributes\":{},\"id\":\"1491\",\"type\":\"CategoricalScale\"},{\"attributes\":{\"data_source\":{\"id\":\"1483\",\"type\":\"ColumnDataSource\"},\"glyph\":{\"id\":\"1518\",\"type\":\"VBar\"},\"hover_glyph\":null,\"muted_glyph\":null,\"nonselection_glyph\":{\"id\":\"1519\",\"type\":\"VBar\"},\"selection_glyph\":null,\"view\":{\"id\":\"1521\",\"type\":\"CDSView\"}},\"id\":\"1520\",\"type\":\"GlyphRenderer\"},{\"attributes\":{\"fill_alpha\":{\"value\":0.1},\"fill_color\":{\"value\":\"#1f77b4\"},\"line_alpha\":{\"value\":0.1},\"line_color\":{\"value\":\"#1f77b4\"},\"top\":{\"field\":\"tip\"},\"width\":{\"value\":0.7},\"x\":{\"field\":\"day\"}},\"id\":\"1519\",\"type\":\"VBar\"},{\"attributes\":{\"callback\":null,\"tooltips\":[[\"day\",\"@day\"],[\"tip\",\"@tip\"]]},\"id\":\"1522\",\"type\":\"HoverTool\"},{\"attributes\":{\"overlay\":{\"id\":\"1566\",\"type\":\"BoxAnnotation\"}},\"id\":\"1507\",\"type\":\"BoxZoomTool\"},{\"attributes\":{},\"id\":\"1562\",\"type\":\"BasicTickFormatter\"},{\"attributes\":{\"fill_color\":{\"field\":\"fill_color\"},\"line_color\":{\"field\":\"line_color\"},\"top\":{\"field\":\"tip\"},\"width\":{\"value\":0.7},\"x\":{\"field\":\"day\"}},\"id\":\"1518\",\"type\":\"VBar\"},{\"attributes\":{\"text\":\"\"},\"id\":\"1485\",\"type\":\"Title\"},{\"attributes\":{},\"id\":\"1508\",\"type\":\"ResetTool\"},{\"attributes\":{},\"id\":\"1493\",\"type\":\"LinearScale\"},{\"attributes\":{},\"id\":\"1509\",\"type\":\"SaveTool\"},{\"attributes\":{\"bottom_units\":\"screen\",\"fill_alpha\":{\"value\":0.5},\"fill_color\":{\"value\":\"lightgrey\"},\"left_units\":\"screen\",\"level\":\"overlay\",\"line_alpha\":{\"value\":1.0},\"line_color\":{\"value\":\"black\"},\"line_dash\":[4,4],\"line_width\":{\"value\":2},\"render_mode\":\"css\",\"right_units\":\"screen\",\"top_units\":\"screen\"},\"id\":\"1565\",\"type\":\"BoxAnnotation\"},{\"attributes\":{},\"id\":\"1506\",\"type\":\"WheelZoomTool\"},{\"attributes\":{},\"id\":\"1568\",\"type\":\"Selection\"}],\"root_ids\":[\"1484\"]},\"title\":\"Bokeh Application\",\"version\":\"1.4.0\"}};\n",
       "  var render_items = [{\"docid\":\"132bd75c-2a30-4e0c-936b-9bc7a3911717\",\"roots\":{\"1484\":\"6058a407-e24e-4c6a-99f0-ef1251566ff7\"}}];\n",
       "  root.Bokeh.embed.embed_items_notebook(docs_json, render_items);\n",
       "\n",
       "  }\n",
       "  if (root.Bokeh !== undefined) {\n",
       "    embed_document(root);\n",
       "  } else {\n",
       "    var attempts = 0;\n",
       "    var timer = setInterval(function(root) {\n",
       "      if (root.Bokeh !== undefined) {\n",
       "        clearInterval(timer);\n",
       "        embed_document(root);\n",
       "      } else {\n",
       "        attempts++;\n",
       "        if (attempts > 100) {\n",
       "          clearInterval(timer);\n",
       "          console.log(\"Bokeh: ERROR: Unable to run BokehJS code because BokehJS library is missing\");\n",
       "        }\n",
       "      }\n",
       "    }, 10, root)\n",
       "  }\n",
       "})(window);"
      ],
      "application/vnd.bokehjs_exec.v0+json": ""
     },
     "metadata": {
      "application/vnd.bokehjs_exec.v0+json": {
       "id": "1484"
      }
     },
     "output_type": "display_data"
    }
   ],
   "source": [
    "from numpy import median\n",
    "bb.barplot(x=\"day\", y=\"tip\", data=tips, estimator=median)"
   ]
  },
  {
   "cell_type": "markdown",
   "metadata": {},
   "source": [
    "#### Choose Palettes\n",
    "Use a different color palette for the bars:"
   ]
  },
  {
   "cell_type": "code",
   "execution_count": 9,
   "metadata": {},
   "outputs": [
    {
     "data": {
      "text/html": [
       "\n",
       "\n",
       "\n",
       "\n",
       "\n",
       "\n",
       "  <div class=\"bk-root\" id=\"2db60928-a70d-496d-8e55-62cae89bd9a4\" data-root-id=\"1624\"></div>\n"
      ]
     },
     "metadata": {},
     "output_type": "display_data"
    },
    {
     "data": {
      "application/javascript": [
       "(function(root) {\n",
       "  function embed_document(root) {\n",
       "    \n",
       "  var docs_json = {\"d83fbb13-950d-45c1-8f8c-b0533dcc5189\":{\"roots\":{\"references\":[{\"attributes\":{\"below\":[{\"id\":\"1635\",\"type\":\"CategoricalAxis\"}],\"center\":[{\"id\":\"1638\",\"type\":\"Grid\"},{\"id\":\"1643\",\"type\":\"Grid\"}],\"left\":[{\"id\":\"1639\",\"type\":\"LinearAxis\"}],\"plot_height\":350,\"renderers\":[{\"id\":\"1660\",\"type\":\"GlyphRenderer\"}],\"title\":{\"id\":\"1625\",\"type\":\"Title\"},\"toolbar\":{\"id\":\"1650\",\"type\":\"Toolbar\"},\"x_range\":{\"id\":\"1627\",\"type\":\"FactorRange\"},\"x_scale\":{\"id\":\"1631\",\"type\":\"CategoricalScale\"},\"y_range\":{\"id\":\"1629\",\"type\":\"DataRange1d\"},\"y_scale\":{\"id\":\"1633\",\"type\":\"LinearScale\"}},\"id\":\"1624\",\"subtype\":\"Figure\",\"type\":\"Plot\"},{\"attributes\":{\"active_drag\":\"auto\",\"active_inspect\":\"auto\",\"active_multi\":null,\"active_scroll\":\"auto\",\"active_tap\":\"auto\",\"tools\":[{\"id\":\"1644\",\"type\":\"PanTool\"},{\"id\":\"1645\",\"type\":\"BoxSelectTool\"},{\"id\":\"1646\",\"type\":\"WheelZoomTool\"},{\"id\":\"1647\",\"type\":\"BoxZoomTool\"},{\"id\":\"1648\",\"type\":\"ResetTool\"},{\"id\":\"1649\",\"type\":\"SaveTool\"},{\"id\":\"1662\",\"type\":\"HoverTool\"}]},\"id\":\"1650\",\"type\":\"Toolbar\"},{\"attributes\":{},\"id\":\"1644\",\"type\":\"PanTool\"},{\"attributes\":{\"callback\":null,\"overlay\":{\"id\":\"1714\",\"type\":\"BoxAnnotation\"}},\"id\":\"1645\",\"type\":\"BoxSelectTool\"},{\"attributes\":{\"callback\":null,\"data\":{\"day\":[\"Thur\",\"Fri\",\"Sat\",\"Sun\"],\"fill_color\":[\"rgb(59, 83, 100)\",\"rgb(67, 115, 150)\",\"rgb(93, 146, 184)\",\"rgb(136, 176, 203)\"],\"index\":[0,1,2,3],\"line_color\":[\"rgb(59, 83, 100)\",\"rgb(67, 115, 150)\",\"rgb(93, 146, 184)\",\"rgb(136, 176, 203)\"],\"total_bill\":{\"__ndarray__\":\"zoLsLMiuMUCgtb3gzSYxQOMPBzz+cDRAKVyPwvVoNUA=\",\"dtype\":\"float64\",\"shape\":[4]}},\"selected\":{\"id\":\"1717\",\"type\":\"Selection\"},\"selection_policy\":{\"id\":\"1716\",\"type\":\"UnionRenderers\"}},\"id\":\"1623\",\"type\":\"ColumnDataSource\"},{\"attributes\":{},\"id\":\"1646\",\"type\":\"WheelZoomTool\"},{\"attributes\":{},\"id\":\"1711\",\"type\":\"BasicTickFormatter\"},{\"attributes\":{\"overlay\":{\"id\":\"1715\",\"type\":\"BoxAnnotation\"}},\"id\":\"1647\",\"type\":\"BoxZoomTool\"},{\"attributes\":{},\"id\":\"1648\",\"type\":\"ResetTool\"},{\"attributes\":{\"callback\":null,\"factors\":[\"Thur\",\"Fri\",\"Sat\",\"Sun\"]},\"id\":\"1627\",\"type\":\"FactorRange\"},{\"attributes\":{},\"id\":\"1649\",\"type\":\"SaveTool\"},{\"attributes\":{\"callback\":null},\"id\":\"1629\",\"type\":\"DataRange1d\"},{\"attributes\":{\"fill_alpha\":{\"value\":0.1},\"fill_color\":{\"value\":\"#1f77b4\"},\"line_alpha\":{\"value\":0.1},\"line_color\":{\"value\":\"#1f77b4\"},\"top\":{\"field\":\"total_bill\"},\"width\":{\"value\":0.7},\"x\":{\"field\":\"day\"}},\"id\":\"1659\",\"type\":\"VBar\"},{\"attributes\":{\"text\":\"\"},\"id\":\"1625\",\"type\":\"Title\"},{\"attributes\":{\"data_source\":{\"id\":\"1623\",\"type\":\"ColumnDataSource\"},\"glyph\":{\"id\":\"1658\",\"type\":\"VBar\"},\"hover_glyph\":null,\"muted_glyph\":null,\"nonselection_glyph\":{\"id\":\"1659\",\"type\":\"VBar\"},\"selection_glyph\":null,\"view\":{\"id\":\"1661\",\"type\":\"CDSView\"}},\"id\":\"1660\",\"type\":\"GlyphRenderer\"},{\"attributes\":{},\"id\":\"1631\",\"type\":\"CategoricalScale\"},{\"attributes\":{\"source\":{\"id\":\"1623\",\"type\":\"ColumnDataSource\"}},\"id\":\"1661\",\"type\":\"CDSView\"},{\"attributes\":{},\"id\":\"1633\",\"type\":\"LinearScale\"},{\"attributes\":{\"callback\":null,\"tooltips\":[[\"day\",\"@day\"],[\"total_bill\",\"@total_bill\"]]},\"id\":\"1662\",\"type\":\"HoverTool\"},{\"attributes\":{\"axis_label\":\"day\",\"formatter\":{\"id\":\"1713\",\"type\":\"CategoricalTickFormatter\"},\"ticker\":{\"id\":\"1636\",\"type\":\"CategoricalTicker\"}},\"id\":\"1635\",\"type\":\"CategoricalAxis\"},{\"attributes\":{},\"id\":\"1713\",\"type\":\"CategoricalTickFormatter\"},{\"attributes\":{},\"id\":\"1636\",\"type\":\"CategoricalTicker\"},{\"attributes\":{\"bottom_units\":\"screen\",\"fill_alpha\":{\"value\":0.5},\"fill_color\":{\"value\":\"lightgrey\"},\"left_units\":\"screen\",\"level\":\"overlay\",\"line_alpha\":{\"value\":1.0},\"line_color\":{\"value\":\"black\"},\"line_dash\":[4,4],\"line_width\":{\"value\":2},\"render_mode\":\"css\",\"right_units\":\"screen\",\"top_units\":\"screen\"},\"id\":\"1714\",\"type\":\"BoxAnnotation\"},{\"attributes\":{\"ticker\":{\"id\":\"1636\",\"type\":\"CategoricalTicker\"}},\"id\":\"1638\",\"type\":\"Grid\"},{\"attributes\":{\"bottom_units\":\"screen\",\"fill_alpha\":{\"value\":0.5},\"fill_color\":{\"value\":\"lightgrey\"},\"left_units\":\"screen\",\"level\":\"overlay\",\"line_alpha\":{\"value\":1.0},\"line_color\":{\"value\":\"black\"},\"line_dash\":[4,4],\"line_width\":{\"value\":2},\"render_mode\":\"css\",\"right_units\":\"screen\",\"top_units\":\"screen\"},\"id\":\"1715\",\"type\":\"BoxAnnotation\"},{\"attributes\":{\"axis_label\":\"total_bill\",\"formatter\":{\"id\":\"1711\",\"type\":\"BasicTickFormatter\"},\"ticker\":{\"id\":\"1640\",\"type\":\"BasicTicker\"}},\"id\":\"1639\",\"type\":\"LinearAxis\"},{\"attributes\":{},\"id\":\"1640\",\"type\":\"BasicTicker\"},{\"attributes\":{},\"id\":\"1716\",\"type\":\"UnionRenderers\"},{\"attributes\":{\"dimension\":1,\"ticker\":{\"id\":\"1640\",\"type\":\"BasicTicker\"}},\"id\":\"1643\",\"type\":\"Grid\"},{\"attributes\":{\"fill_color\":{\"field\":\"fill_color\"},\"line_color\":{\"field\":\"line_color\"},\"top\":{\"field\":\"total_bill\"},\"width\":{\"value\":0.7},\"x\":{\"field\":\"day\"}},\"id\":\"1658\",\"type\":\"VBar\"},{\"attributes\":{},\"id\":\"1717\",\"type\":\"Selection\"}],\"root_ids\":[\"1624\"]},\"title\":\"Bokeh Application\",\"version\":\"1.4.0\"}};\n",
       "  var render_items = [{\"docid\":\"d83fbb13-950d-45c1-8f8c-b0533dcc5189\",\"roots\":{\"1624\":\"2db60928-a70d-496d-8e55-62cae89bd9a4\"}}];\n",
       "  root.Bokeh.embed.embed_items_notebook(docs_json, render_items);\n",
       "\n",
       "  }\n",
       "  if (root.Bokeh !== undefined) {\n",
       "    embed_document(root);\n",
       "  } else {\n",
       "    var attempts = 0;\n",
       "    var timer = setInterval(function(root) {\n",
       "      if (root.Bokeh !== undefined) {\n",
       "        clearInterval(timer);\n",
       "        embed_document(root);\n",
       "      } else {\n",
       "        attempts++;\n",
       "        if (attempts > 100) {\n",
       "          clearInterval(timer);\n",
       "          console.log(\"Bokeh: ERROR: Unable to run BokehJS code because BokehJS library is missing\");\n",
       "        }\n",
       "      }\n",
       "    }, 10, root)\n",
       "  }\n",
       "})(window);"
      ],
      "application/vnd.bokehjs_exec.v0+json": ""
     },
     "metadata": {
      "application/vnd.bokehjs_exec.v0+json": {
       "id": "1624"
      }
     },
     "output_type": "display_data"
    }
   ],
   "source": [
    "bb.barplot(x= \"day\", y=\"total_bill\", data=tips, palette=\"Blues_d\")"
   ]
  },
  {
   "cell_type": "markdown",
   "metadata": {},
   "source": [
    "#### Set Specific Color\n",
    "Plot all bars in a single color:"
   ]
  },
  {
   "cell_type": "code",
   "execution_count": 10,
   "metadata": {},
   "outputs": [
    {
     "data": {
      "text/html": [
       "\n",
       "\n",
       "\n",
       "\n",
       "\n",
       "\n",
       "  <div class=\"bk-root\" id=\"c8ba86e3-3fc9-406d-92cb-a55558fc5ca4\" data-root-id=\"1773\"></div>\n"
      ]
     },
     "metadata": {},
     "output_type": "display_data"
    },
    {
     "data": {
      "application/javascript": [
       "(function(root) {\n",
       "  function embed_document(root) {\n",
       "    \n",
       "  var docs_json = {\"4212c6fc-8cac-4630-b2ea-f5a49f39919b\":{\"roots\":{\"references\":[{\"attributes\":{\"below\":[{\"id\":\"1784\",\"type\":\"CategoricalAxis\"}],\"center\":[{\"id\":\"1787\",\"type\":\"Grid\"},{\"id\":\"1792\",\"type\":\"Grid\"}],\"left\":[{\"id\":\"1788\",\"type\":\"LinearAxis\"}],\"plot_height\":350,\"renderers\":[{\"id\":\"1809\",\"type\":\"GlyphRenderer\"}],\"title\":{\"id\":\"1774\",\"type\":\"Title\"},\"toolbar\":{\"id\":\"1799\",\"type\":\"Toolbar\"},\"x_range\":{\"id\":\"1776\",\"type\":\"FactorRange\"},\"x_scale\":{\"id\":\"1780\",\"type\":\"CategoricalScale\"},\"y_range\":{\"id\":\"1778\",\"type\":\"DataRange1d\"},\"y_scale\":{\"id\":\"1782\",\"type\":\"LinearScale\"}},\"id\":\"1773\",\"subtype\":\"Figure\",\"type\":\"Plot\"},{\"attributes\":{\"callback\":null,\"factors\":[\"Thur\",\"Fri\",\"Sat\",\"Sun\"]},\"id\":\"1776\",\"type\":\"FactorRange\"},{\"attributes\":{\"callback\":null},\"id\":\"1778\",\"type\":\"DataRange1d\"},{\"attributes\":{\"ticker\":{\"id\":\"1785\",\"type\":\"CategoricalTicker\"}},\"id\":\"1787\",\"type\":\"Grid\"},{\"attributes\":{},\"id\":\"1793\",\"type\":\"PanTool\"},{\"attributes\":{\"fill_color\":{\"field\":\"fill_color\"},\"line_color\":{\"field\":\"line_color\"},\"top\":{\"field\":\"total_bill\"},\"width\":{\"value\":0.7},\"x\":{\"field\":\"day\"}},\"id\":\"1807\",\"type\":\"VBar\"},{\"attributes\":{},\"id\":\"1782\",\"type\":\"LinearScale\"},{\"attributes\":{\"callback\":null,\"overlay\":{\"id\":\"1872\",\"type\":\"BoxAnnotation\"}},\"id\":\"1794\",\"type\":\"BoxSelectTool\"},{\"attributes\":{\"text\":\"\"},\"id\":\"1774\",\"type\":\"Title\"},{\"attributes\":{},\"id\":\"1795\",\"type\":\"WheelZoomTool\"},{\"attributes\":{\"overlay\":{\"id\":\"1873\",\"type\":\"BoxAnnotation\"}},\"id\":\"1796\",\"type\":\"BoxZoomTool\"},{\"attributes\":{},\"id\":\"1797\",\"type\":\"ResetTool\"},{\"attributes\":{},\"id\":\"1798\",\"type\":\"SaveTool\"},{\"attributes\":{},\"id\":\"1780\",\"type\":\"CategoricalScale\"},{\"attributes\":{},\"id\":\"1789\",\"type\":\"BasicTicker\"},{\"attributes\":{\"fill_alpha\":{\"value\":0.1},\"fill_color\":{\"value\":\"#1f77b4\"},\"line_alpha\":{\"value\":0.1},\"line_color\":{\"value\":\"#1f77b4\"},\"top\":{\"field\":\"total_bill\"},\"width\":{\"value\":0.7},\"x\":{\"field\":\"day\"}},\"id\":\"1808\",\"type\":\"VBar\"},{\"attributes\":{\"data_source\":{\"id\":\"1772\",\"type\":\"ColumnDataSource\"},\"glyph\":{\"id\":\"1807\",\"type\":\"VBar\"},\"hover_glyph\":null,\"muted_glyph\":null,\"nonselection_glyph\":{\"id\":\"1808\",\"type\":\"VBar\"},\"selection_glyph\":null,\"view\":{\"id\":\"1810\",\"type\":\"CDSView\"}},\"id\":\"1809\",\"type\":\"GlyphRenderer\"},{\"attributes\":{\"dimension\":1,\"ticker\":{\"id\":\"1789\",\"type\":\"BasicTicker\"}},\"id\":\"1792\",\"type\":\"Grid\"},{\"attributes\":{\"callback\":null,\"data\":{\"day\":[\"Thur\",\"Fri\",\"Sat\",\"Sun\"],\"fill_color\":[\"rgb(232, 141, 131)\",\"rgb(232, 141, 131)\",\"rgb(232, 141, 131)\",\"rgb(232, 141, 131)\"],\"index\":[0,1,2,3],\"line_color\":[\"rgb(232, 141, 131)\",\"rgb(232, 141, 131)\",\"rgb(232, 141, 131)\",\"rgb(232, 141, 131)\"],\"total_bill\":{\"__ndarray__\":\"zoLsLMiuMUCgtb3gzSYxQOMPBzz+cDRAKVyPwvVoNUA=\",\"dtype\":\"float64\",\"shape\":[4]}},\"selected\":{\"id\":\"1875\",\"type\":\"Selection\"},\"selection_policy\":{\"id\":\"1874\",\"type\":\"UnionRenderers\"}},\"id\":\"1772\",\"type\":\"ColumnDataSource\"},{\"attributes\":{\"source\":{\"id\":\"1772\",\"type\":\"ColumnDataSource\"}},\"id\":\"1810\",\"type\":\"CDSView\"},{\"attributes\":{\"axis_label\":\"total_bill\",\"formatter\":{\"id\":\"1869\",\"type\":\"BasicTickFormatter\"},\"ticker\":{\"id\":\"1789\",\"type\":\"BasicTicker\"}},\"id\":\"1788\",\"type\":\"LinearAxis\"},{\"attributes\":{\"active_drag\":\"auto\",\"active_inspect\":\"auto\",\"active_multi\":null,\"active_scroll\":\"auto\",\"active_tap\":\"auto\",\"tools\":[{\"id\":\"1793\",\"type\":\"PanTool\"},{\"id\":\"1794\",\"type\":\"BoxSelectTool\"},{\"id\":\"1795\",\"type\":\"WheelZoomTool\"},{\"id\":\"1796\",\"type\":\"BoxZoomTool\"},{\"id\":\"1797\",\"type\":\"ResetTool\"},{\"id\":\"1798\",\"type\":\"SaveTool\"},{\"id\":\"1811\",\"type\":\"HoverTool\"}]},\"id\":\"1799\",\"type\":\"Toolbar\"},{\"attributes\":{\"callback\":null,\"tooltips\":[[\"day\",\"@day\"],[\"total_bill\",\"@total_bill\"]]},\"id\":\"1811\",\"type\":\"HoverTool\"},{\"attributes\":{\"axis_label\":\"day\",\"formatter\":{\"id\":\"1871\",\"type\":\"CategoricalTickFormatter\"},\"ticker\":{\"id\":\"1785\",\"type\":\"CategoricalTicker\"}},\"id\":\"1784\",\"type\":\"CategoricalAxis\"},{\"attributes\":{},\"id\":\"1871\",\"type\":\"CategoricalTickFormatter\"},{\"attributes\":{},\"id\":\"1785\",\"type\":\"CategoricalTicker\"},{\"attributes\":{\"bottom_units\":\"screen\",\"fill_alpha\":{\"value\":0.5},\"fill_color\":{\"value\":\"lightgrey\"},\"left_units\":\"screen\",\"level\":\"overlay\",\"line_alpha\":{\"value\":1.0},\"line_color\":{\"value\":\"black\"},\"line_dash\":[4,4],\"line_width\":{\"value\":2},\"render_mode\":\"css\",\"right_units\":\"screen\",\"top_units\":\"screen\"},\"id\":\"1872\",\"type\":\"BoxAnnotation\"},{\"attributes\":{\"bottom_units\":\"screen\",\"fill_alpha\":{\"value\":0.5},\"fill_color\":{\"value\":\"lightgrey\"},\"left_units\":\"screen\",\"level\":\"overlay\",\"line_alpha\":{\"value\":1.0},\"line_color\":{\"value\":\"black\"},\"line_dash\":[4,4],\"line_width\":{\"value\":2},\"render_mode\":\"css\",\"right_units\":\"screen\",\"top_units\":\"screen\"},\"id\":\"1873\",\"type\":\"BoxAnnotation\"},{\"attributes\":{},\"id\":\"1869\",\"type\":\"BasicTickFormatter\"},{\"attributes\":{},\"id\":\"1874\",\"type\":\"UnionRenderers\"},{\"attributes\":{},\"id\":\"1875\",\"type\":\"Selection\"}],\"root_ids\":[\"1773\"]},\"title\":\"Bokeh Application\",\"version\":\"1.4.0\"}};\n",
       "  var render_items = [{\"docid\":\"4212c6fc-8cac-4630-b2ea-f5a49f39919b\",\"roots\":{\"1773\":\"c8ba86e3-3fc9-406d-92cb-a55558fc5ca4\"}}];\n",
       "  root.Bokeh.embed.embed_items_notebook(docs_json, render_items);\n",
       "\n",
       "  }\n",
       "  if (root.Bokeh !== undefined) {\n",
       "    embed_document(root);\n",
       "  } else {\n",
       "    var attempts = 0;\n",
       "    var timer = setInterval(function(root) {\n",
       "      if (root.Bokeh !== undefined) {\n",
       "        clearInterval(timer);\n",
       "        embed_document(root);\n",
       "      } else {\n",
       "        attempts++;\n",
       "        if (attempts > 100) {\n",
       "          clearInterval(timer);\n",
       "          console.log(\"Bokeh: ERROR: Unable to run BokehJS code because BokehJS library is missing\");\n",
       "        }\n",
       "      }\n",
       "    }, 10, root)\n",
       "  }\n",
       "})(window);"
      ],
      "application/vnd.bokehjs_exec.v0+json": ""
     },
     "metadata": {
      "application/vnd.bokehjs_exec.v0+json": {
       "id": "1773"
      }
     },
     "output_type": "display_data"
    }
   ],
   "source": [
    "bb.barplot(x= \"day\", y=\"total_bill\", data=tips, color=\"salmon\")"
   ]
  },
  {
   "cell_type": "markdown",
   "metadata": {},
   "source": [
    "#### Use Hue for Visualization\n",
    "Draw a set of vertical bars with nested grouping by a two variables:\n",
    "\n",
    "__Note__: Click the legend text to view only a selected category."
   ]
  },
  {
   "cell_type": "code",
   "execution_count": 11,
   "metadata": {},
   "outputs": [
    {
     "data": {
      "text/html": [
       "\n",
       "\n",
       "\n",
       "\n",
       "\n",
       "\n",
       "  <div class=\"bk-root\" id=\"509ca1d3-6d46-4b44-a255-902b667caa80\" data-root-id=\"1930\"></div>\n"
      ]
     },
     "metadata": {},
     "output_type": "display_data"
    },
    {
     "data": {
      "application/javascript": [
       "(function(root) {\n",
       "  function embed_document(root) {\n",
       "    \n",
       "  var docs_json = {\"f4b8d28b-af39-4435-8d17-143f12208010\":{\"roots\":{\"references\":[{\"attributes\":{\"below\":[{\"id\":\"1941\",\"type\":\"CategoricalAxis\"}],\"center\":[{\"id\":\"1944\",\"type\":\"Grid\"},{\"id\":\"1949\",\"type\":\"Grid\"},{\"id\":\"1975\",\"type\":\"Legend\"}],\"left\":[{\"id\":\"1945\",\"type\":\"LinearAxis\"}],\"plot_height\":350,\"renderers\":[{\"id\":\"1966\",\"type\":\"GlyphRenderer\"},{\"id\":\"1980\",\"type\":\"GlyphRenderer\"}],\"title\":{\"id\":\"1931\",\"type\":\"Title\"},\"toolbar\":{\"id\":\"1956\",\"type\":\"Toolbar\"},\"x_range\":{\"id\":\"1933\",\"type\":\"FactorRange\"},\"x_scale\":{\"id\":\"1937\",\"type\":\"CategoricalScale\"},\"y_range\":{\"id\":\"1935\",\"type\":\"DataRange1d\"},\"y_scale\":{\"id\":\"1939\",\"type\":\"LinearScale\"}},\"id\":\"1930\",\"subtype\":\"Figure\",\"type\":\"Plot\"},{\"attributes\":{},\"id\":\"1942\",\"type\":\"CategoricalTicker\"},{\"attributes\":{\"data_source\":{\"id\":\"1977\",\"type\":\"ColumnDataSource\"},\"glyph\":{\"id\":\"1978\",\"type\":\"VBar\"},\"hover_glyph\":null,\"muted_glyph\":null,\"nonselection_glyph\":{\"id\":\"1979\",\"type\":\"VBar\"},\"selection_glyph\":null,\"view\":{\"id\":\"1981\",\"type\":\"CDSView\"}},\"id\":\"1980\",\"type\":\"GlyphRenderer\"},{\"attributes\":{\"axis_label\":\"day\",\"formatter\":{\"id\":\"1972\",\"type\":\"CategoricalTickFormatter\"},\"ticker\":{\"id\":\"1942\",\"type\":\"CategoricalTicker\"}},\"id\":\"1941\",\"type\":\"CategoricalAxis\"},{\"attributes\":{\"label\":{\"value\":\"Male\"},\"renderers\":[{\"id\":\"1966\",\"type\":\"GlyphRenderer\"}]},\"id\":\"1976\",\"type\":\"LegendItem\"},{\"attributes\":{\"source\":{\"id\":\"1977\",\"type\":\"ColumnDataSource\"}},\"id\":\"1981\",\"type\":\"CDSView\"},{\"attributes\":{\"callback\":null,\"data\":{\"top\":{\"__ndarray__\":\"698IZfS2MkAIrBxaZNszQP4tvWpzzTRAvstDQCLjNUA=\",\"dtype\":\"float64\",\"shape\":[4]},\"x\":{\"__ndarray__\":\"MzMzMzMz0z/NzMzMzMz0P2ZmZmZmZgJAZmZmZmZmCkA=\",\"dtype\":\"float64\",\"shape\":[4]}},\"selected\":{\"id\":\"1990\",\"type\":\"Selection\"},\"selection_policy\":{\"id\":\"1989\",\"type\":\"UnionRenderers\"}},\"id\":\"1963\",\"type\":\"ColumnDataSource\"},{\"attributes\":{},\"id\":\"1989\",\"type\":\"UnionRenderers\"},{\"attributes\":{},\"id\":\"1990\",\"type\":\"Selection\"},{\"attributes\":{},\"id\":\"1950\",\"type\":\"PanTool\"},{\"attributes\":{\"active_drag\":\"auto\",\"active_inspect\":\"auto\",\"active_multi\":null,\"active_scroll\":\"auto\",\"active_tap\":\"auto\",\"tools\":[{\"id\":\"1950\",\"type\":\"PanTool\"},{\"id\":\"1951\",\"type\":\"BoxSelectTool\"},{\"id\":\"1952\",\"type\":\"WheelZoomTool\"},{\"id\":\"1953\",\"type\":\"BoxZoomTool\"},{\"id\":\"1954\",\"type\":\"ResetTool\"},{\"id\":\"1955\",\"type\":\"SaveTool\"}]},\"id\":\"1956\",\"type\":\"Toolbar\"},{\"attributes\":{\"overlay\":{\"id\":\"1974\",\"type\":\"BoxAnnotation\"}},\"id\":\"1953\",\"type\":\"BoxZoomTool\"},{\"attributes\":{\"axis_label\":\"total_bill\",\"formatter\":{\"id\":\"1970\",\"type\":\"BasicTickFormatter\"},\"ticker\":{\"id\":\"1946\",\"type\":\"BasicTicker\"}},\"id\":\"1945\",\"type\":\"LinearAxis\"},{\"attributes\":{\"label\":{\"value\":\"Female\"},\"renderers\":[{\"id\":\"1980\",\"type\":\"GlyphRenderer\"}]},\"id\":\"1991\",\"type\":\"LegendItem\"},{\"attributes\":{\"text\":\"\"},\"id\":\"1931\",\"type\":\"Title\"},{\"attributes\":{},\"id\":\"2065\",\"type\":\"Selection\"},{\"attributes\":{},\"id\":\"1937\",\"type\":\"CategoricalScale\"},{\"attributes\":{},\"id\":\"1946\",\"type\":\"BasicTicker\"},{\"attributes\":{\"dimension\":1,\"ticker\":{\"id\":\"1946\",\"type\":\"BasicTicker\"}},\"id\":\"1949\",\"type\":\"Grid\"},{\"attributes\":{},\"id\":\"1952\",\"type\":\"WheelZoomTool\"},{\"attributes\":{\"fill_color\":\"rgb(49, 115, 161)\",\"line_color\":\"rgb(49, 115, 161)\",\"top\":{\"field\":\"top\"},\"width\":{\"value\":0.4},\"x\":{\"field\":\"x\"}},\"id\":\"1964\",\"type\":\"VBar\"},{\"attributes\":{},\"id\":\"1954\",\"type\":\"ResetTool\"},{\"attributes\":{},\"id\":\"1939\",\"type\":\"LinearScale\"},{\"attributes\":{\"data_source\":{\"id\":\"1963\",\"type\":\"ColumnDataSource\"},\"glyph\":{\"id\":\"1964\",\"type\":\"VBar\"},\"hover_glyph\":null,\"muted_glyph\":null,\"nonselection_glyph\":{\"id\":\"1965\",\"type\":\"VBar\"},\"selection_glyph\":null,\"view\":{\"id\":\"1967\",\"type\":\"CDSView\"}},\"id\":\"1966\",\"type\":\"GlyphRenderer\"},{\"attributes\":{\"ticker\":{\"id\":\"1942\",\"type\":\"CategoricalTicker\"}},\"id\":\"1944\",\"type\":\"Grid\"},{\"attributes\":{\"fill_alpha\":{\"value\":0.1},\"fill_color\":{\"value\":\"#1f77b4\"},\"line_alpha\":{\"value\":0.1},\"line_color\":{\"value\":\"#1f77b4\"},\"top\":{\"field\":\"top\"},\"width\":{\"value\":0.4},\"x\":{\"field\":\"x\"}},\"id\":\"1979\",\"type\":\"VBar\"},{\"attributes\":{\"source\":{\"id\":\"1963\",\"type\":\"ColumnDataSource\"}},\"id\":\"1967\",\"type\":\"CDSView\"},{\"attributes\":{\"callback\":null},\"id\":\"1935\",\"type\":\"DataRange1d\"},{\"attributes\":{},\"id\":\"1970\",\"type\":\"BasicTickFormatter\"},{\"attributes\":{\"fill_alpha\":{\"value\":0.1},\"fill_color\":{\"value\":\"#1f77b4\"},\"line_alpha\":{\"value\":0.1},\"line_color\":{\"value\":\"#1f77b4\"},\"top\":{\"field\":\"top\"},\"width\":{\"value\":0.4},\"x\":{\"field\":\"x\"}},\"id\":\"1965\",\"type\":\"VBar\"},{\"attributes\":{},\"id\":\"1955\",\"type\":\"SaveTool\"},{\"attributes\":{},\"id\":\"1972\",\"type\":\"CategoricalTickFormatter\"},{\"attributes\":{\"fill_color\":\"rgb(224, 128, 44)\",\"line_color\":\"rgb(224, 128, 44)\",\"top\":{\"field\":\"top\"},\"width\":{\"value\":0.4},\"x\":{\"field\":\"x\"}},\"id\":\"1978\",\"type\":\"VBar\"},{\"attributes\":{},\"id\":\"2064\",\"type\":\"UnionRenderers\"},{\"attributes\":{\"click_policy\":\"hide\",\"items\":[{\"id\":\"1976\",\"type\":\"LegendItem\"},{\"id\":\"1991\",\"type\":\"LegendItem\"}]},\"id\":\"1975\",\"type\":\"Legend\"},{\"attributes\":{\"callback\":null,\"data\":{\"top\":{\"__ndarray__\":\"hetRuB63MEB1uf1BhkosQOIrvuIrrjNA9Emf9EnfM0A=\",\"dtype\":\"float64\",\"shape\":[4]},\"x\":{\"__ndarray__\":\"ZmZmZmZm5j8zMzMzMzP7P5qZmZmZmQVAmpmZmZmZDUA=\",\"dtype\":\"float64\",\"shape\":[4]}},\"selected\":{\"id\":\"2065\",\"type\":\"Selection\"},\"selection_policy\":{\"id\":\"2064\",\"type\":\"UnionRenderers\"}},\"id\":\"1977\",\"type\":\"ColumnDataSource\"},{\"attributes\":{\"bottom_units\":\"screen\",\"fill_alpha\":{\"value\":0.5},\"fill_color\":{\"value\":\"lightgrey\"},\"left_units\":\"screen\",\"level\":\"overlay\",\"line_alpha\":{\"value\":1.0},\"line_color\":{\"value\":\"black\"},\"line_dash\":[4,4],\"line_width\":{\"value\":2},\"render_mode\":\"css\",\"right_units\":\"screen\",\"top_units\":\"screen\"},\"id\":\"1973\",\"type\":\"BoxAnnotation\"},{\"attributes\":{\"callback\":null,\"factors\":[\"Thur\",\"Fri\",\"Sat\",\"Sun\"]},\"id\":\"1933\",\"type\":\"FactorRange\"},{\"attributes\":{\"bottom_units\":\"screen\",\"fill_alpha\":{\"value\":0.5},\"fill_color\":{\"value\":\"lightgrey\"},\"left_units\":\"screen\",\"level\":\"overlay\",\"line_alpha\":{\"value\":1.0},\"line_color\":{\"value\":\"black\"},\"line_dash\":[4,4],\"line_width\":{\"value\":2},\"render_mode\":\"css\",\"right_units\":\"screen\",\"top_units\":\"screen\"},\"id\":\"1974\",\"type\":\"BoxAnnotation\"},{\"attributes\":{\"callback\":null,\"overlay\":{\"id\":\"1973\",\"type\":\"BoxAnnotation\"}},\"id\":\"1951\",\"type\":\"BoxSelectTool\"}],\"root_ids\":[\"1930\"]},\"title\":\"Bokeh Application\",\"version\":\"1.4.0\"}};\n",
       "  var render_items = [{\"docid\":\"f4b8d28b-af39-4435-8d17-143f12208010\",\"roots\":{\"1930\":\"509ca1d3-6d46-4b44-a255-902b667caa80\"}}];\n",
       "  root.Bokeh.embed.embed_items_notebook(docs_json, render_items);\n",
       "\n",
       "  }\n",
       "  if (root.Bokeh !== undefined) {\n",
       "    embed_document(root);\n",
       "  } else {\n",
       "    var attempts = 0;\n",
       "    var timer = setInterval(function(root) {\n",
       "      if (root.Bokeh !== undefined) {\n",
       "        clearInterval(timer);\n",
       "        embed_document(root);\n",
       "      } else {\n",
       "        attempts++;\n",
       "        if (attempts > 100) {\n",
       "          clearInterval(timer);\n",
       "          console.log(\"Bokeh: ERROR: Unable to run BokehJS code because BokehJS library is missing\");\n",
       "        }\n",
       "      }\n",
       "    }, 10, root)\n",
       "  }\n",
       "})(window);"
      ],
      "application/vnd.bokehjs_exec.v0+json": ""
     },
     "metadata": {
      "application/vnd.bokehjs_exec.v0+json": {
       "id": "1930"
      }
     },
     "output_type": "display_data"
    }
   ],
   "source": [
    "bb.barplot(x=\"day\", y=\"total_bill\", hue=\"sex\", data=tips)"
   ]
  },
  {
   "cell_type": "code",
   "execution_count": 12,
   "metadata": {},
   "outputs": [
    {
     "data": {
      "text/html": [
       "\n",
       "\n",
       "\n",
       "\n",
       "\n",
       "\n",
       "  <div class=\"bk-root\" id=\"6376b771-eaa6-4bc4-b5e7-01593169e33a\" data-root-id=\"2132\"></div>\n"
      ]
     },
     "metadata": {},
     "output_type": "display_data"
    },
    {
     "data": {
      "application/javascript": [
       "(function(root) {\n",
       "  function embed_document(root) {\n",
       "    \n",
       "  var docs_json = {\"4b7f456e-e59f-454a-9067-44fbbfead489\":{\"roots\":{\"references\":[{\"attributes\":{\"below\":[{\"id\":\"2143\",\"type\":\"CategoricalAxis\"}],\"center\":[{\"id\":\"2146\",\"type\":\"Grid\"},{\"id\":\"2151\",\"type\":\"Grid\"},{\"id\":\"2177\",\"type\":\"Legend\"}],\"left\":[{\"id\":\"2147\",\"type\":\"LinearAxis\"}],\"plot_height\":350,\"renderers\":[{\"id\":\"2168\",\"type\":\"GlyphRenderer\"},{\"id\":\"2182\",\"type\":\"GlyphRenderer\"}],\"title\":{\"id\":\"2133\",\"type\":\"Title\"},\"toolbar\":{\"id\":\"2158\",\"type\":\"Toolbar\"},\"x_range\":{\"id\":\"2135\",\"type\":\"FactorRange\"},\"x_scale\":{\"id\":\"2139\",\"type\":\"CategoricalScale\"},\"y_range\":{\"id\":\"2137\",\"type\":\"DataRange1d\"},\"y_scale\":{\"id\":\"2141\",\"type\":\"LinearScale\"}},\"id\":\"2132\",\"subtype\":\"Figure\",\"type\":\"Plot\"},{\"attributes\":{},\"id\":\"2172\",\"type\":\"BasicTickFormatter\"},{\"attributes\":{\"callback\":null,\"data\":{\"top\":{\"__ndarray__\":\"MZf9Y8owM0DQaQOdNtAwQAY6baDTRjVAHoXrUbgeOEA=\",\"dtype\":\"float64\",\"shape\":[4]},\"x\":{\"__ndarray__\":\"MzMzMzMz0z/NzMzMzMz0P2ZmZmZmZgJAZmZmZmZmCkA=\",\"dtype\":\"float64\",\"shape\":[4]}},\"selected\":{\"id\":\"2192\",\"type\":\"Selection\"},\"selection_policy\":{\"id\":\"2191\",\"type\":\"UnionRenderers\"}},\"id\":\"2165\",\"type\":\"ColumnDataSource\"},{\"attributes\":{},\"id\":\"2174\",\"type\":\"CategoricalTickFormatter\"},{\"attributes\":{\"overlay\":{\"id\":\"2176\",\"type\":\"BoxAnnotation\"}},\"id\":\"2155\",\"type\":\"BoxZoomTool\"},{\"attributes\":{\"bottom_units\":\"screen\",\"fill_alpha\":{\"value\":0.5},\"fill_color\":{\"value\":\"lightgrey\"},\"left_units\":\"screen\",\"level\":\"overlay\",\"line_alpha\":{\"value\":1.0},\"line_color\":{\"value\":\"black\"},\"line_dash\":[4,4],\"line_width\":{\"value\":2},\"render_mode\":\"css\",\"right_units\":\"screen\",\"top_units\":\"screen\"},\"id\":\"2175\",\"type\":\"BoxAnnotation\"},{\"attributes\":{},\"id\":\"2144\",\"type\":\"CategoricalTicker\"},{\"attributes\":{\"bottom_units\":\"screen\",\"fill_alpha\":{\"value\":0.5},\"fill_color\":{\"value\":\"lightgrey\"},\"left_units\":\"screen\",\"level\":\"overlay\",\"line_alpha\":{\"value\":1.0},\"line_color\":{\"value\":\"black\"},\"line_dash\":[4,4],\"line_width\":{\"value\":2},\"render_mode\":\"css\",\"right_units\":\"screen\",\"top_units\":\"screen\"},\"id\":\"2176\",\"type\":\"BoxAnnotation\"},{\"attributes\":{},\"id\":\"2139\",\"type\":\"CategoricalScale\"},{\"attributes\":{\"click_policy\":\"hide\",\"items\":[{\"id\":\"2178\",\"type\":\"LegendItem\"},{\"id\":\"2193\",\"type\":\"LegendItem\"}]},\"id\":\"2177\",\"type\":\"Legend\"},{\"attributes\":{\"label\":{\"value\":\"Yes\"},\"renderers\":[{\"id\":\"2168\",\"type\":\"GlyphRenderer\"}]},\"id\":\"2178\",\"type\":\"LegendItem\"},{\"attributes\":{},\"id\":\"2156\",\"type\":\"ResetTool\"},{\"attributes\":{\"callback\":null,\"data\":{\"top\":{\"__ndarray__\":\"VAmL2fQcMUDrUbgehWsyQG7GuERqqTNAgk4b6LSBNEA=\",\"dtype\":\"float64\",\"shape\":[4]},\"x\":{\"__ndarray__\":\"ZmZmZmZm5j8zMzMzMzP7P5qZmZmZmQVAmpmZmZmZDUA=\",\"dtype\":\"float64\",\"shape\":[4]}},\"selected\":{\"id\":\"2278\",\"type\":\"Selection\"},\"selection_policy\":{\"id\":\"2277\",\"type\":\"UnionRenderers\"}},\"id\":\"2179\",\"type\":\"ColumnDataSource\"},{\"attributes\":{},\"id\":\"2191\",\"type\":\"UnionRenderers\"},{\"attributes\":{\"axis_label\":\"total_bill\",\"formatter\":{\"id\":\"2172\",\"type\":\"BasicTickFormatter\"},\"ticker\":{\"id\":\"2148\",\"type\":\"BasicTicker\"}},\"id\":\"2147\",\"type\":\"LinearAxis\"},{\"attributes\":{\"source\":{\"id\":\"2165\",\"type\":\"ColumnDataSource\"}},\"id\":\"2169\",\"type\":\"CDSView\"},{\"attributes\":{\"fill_color\":\"rgb(224, 128, 44)\",\"line_color\":\"rgb(224, 128, 44)\",\"top\":{\"field\":\"top\"},\"width\":{\"value\":0.4},\"x\":{\"field\":\"x\"}},\"id\":\"2180\",\"type\":\"VBar\"},{\"attributes\":{\"fill_alpha\":{\"value\":0.1},\"fill_color\":{\"value\":\"#1f77b4\"},\"line_alpha\":{\"value\":0.1},\"line_color\":{\"value\":\"#1f77b4\"},\"top\":{\"field\":\"top\"},\"width\":{\"value\":0.4},\"x\":{\"field\":\"x\"}},\"id\":\"2181\",\"type\":\"VBar\"},{\"attributes\":{\"data_source\":{\"id\":\"2165\",\"type\":\"ColumnDataSource\"},\"glyph\":{\"id\":\"2166\",\"type\":\"VBar\"},\"hover_glyph\":null,\"muted_glyph\":null,\"nonselection_glyph\":{\"id\":\"2167\",\"type\":\"VBar\"},\"selection_glyph\":null,\"view\":{\"id\":\"2169\",\"type\":\"CDSView\"}},\"id\":\"2168\",\"type\":\"GlyphRenderer\"},{\"attributes\":{\"data_source\":{\"id\":\"2179\",\"type\":\"ColumnDataSource\"},\"glyph\":{\"id\":\"2180\",\"type\":\"VBar\"},\"hover_glyph\":null,\"muted_glyph\":null,\"nonselection_glyph\":{\"id\":\"2181\",\"type\":\"VBar\"},\"selection_glyph\":null,\"view\":{\"id\":\"2183\",\"type\":\"CDSView\"}},\"id\":\"2182\",\"type\":\"GlyphRenderer\"},{\"attributes\":{},\"id\":\"2148\",\"type\":\"BasicTicker\"},{\"attributes\":{\"source\":{\"id\":\"2179\",\"type\":\"ColumnDataSource\"}},\"id\":\"2183\",\"type\":\"CDSView\"},{\"attributes\":{},\"id\":\"2157\",\"type\":\"SaveTool\"},{\"attributes\":{\"ticker\":{\"id\":\"2144\",\"type\":\"CategoricalTicker\"}},\"id\":\"2146\",\"type\":\"Grid\"},{\"attributes\":{\"fill_color\":\"rgb(49, 115, 161)\",\"line_color\":\"rgb(49, 115, 161)\",\"top\":{\"field\":\"top\"},\"width\":{\"value\":0.4},\"x\":{\"field\":\"x\"}},\"id\":\"2166\",\"type\":\"VBar\"},{\"attributes\":{},\"id\":\"2192\",\"type\":\"Selection\"},{\"attributes\":{\"dimension\":1,\"ticker\":{\"id\":\"2148\",\"type\":\"BasicTicker\"}},\"id\":\"2151\",\"type\":\"Grid\"},{\"attributes\":{\"axis_label\":\"day\",\"formatter\":{\"id\":\"2174\",\"type\":\"CategoricalTickFormatter\"},\"ticker\":{\"id\":\"2144\",\"type\":\"CategoricalTicker\"}},\"id\":\"2143\",\"type\":\"CategoricalAxis\"},{\"attributes\":{},\"id\":\"2154\",\"type\":\"WheelZoomTool\"},{\"attributes\":{\"label\":{\"value\":\"No\"},\"renderers\":[{\"id\":\"2182\",\"type\":\"GlyphRenderer\"}]},\"id\":\"2193\",\"type\":\"LegendItem\"},{\"attributes\":{\"active_drag\":\"auto\",\"active_inspect\":\"auto\",\"active_multi\":null,\"active_scroll\":\"auto\",\"active_tap\":\"auto\",\"tools\":[{\"id\":\"2152\",\"type\":\"PanTool\"},{\"id\":\"2153\",\"type\":\"BoxSelectTool\"},{\"id\":\"2154\",\"type\":\"WheelZoomTool\"},{\"id\":\"2155\",\"type\":\"BoxZoomTool\"},{\"id\":\"2156\",\"type\":\"ResetTool\"},{\"id\":\"2157\",\"type\":\"SaveTool\"}]},\"id\":\"2158\",\"type\":\"Toolbar\"},{\"attributes\":{},\"id\":\"2277\",\"type\":\"UnionRenderers\"},{\"attributes\":{},\"id\":\"2152\",\"type\":\"PanTool\"},{\"attributes\":{},\"id\":\"2141\",\"type\":\"LinearScale\"},{\"attributes\":{\"callback\":null},\"id\":\"2137\",\"type\":\"DataRange1d\"},{\"attributes\":{},\"id\":\"2278\",\"type\":\"Selection\"},{\"attributes\":{\"text\":\"\"},\"id\":\"2133\",\"type\":\"Title\"},{\"attributes\":{\"callback\":null,\"factors\":[\"Thur\",\"Fri\",\"Sat\",\"Sun\"]},\"id\":\"2135\",\"type\":\"FactorRange\"},{\"attributes\":{\"callback\":null,\"overlay\":{\"id\":\"2175\",\"type\":\"BoxAnnotation\"}},\"id\":\"2153\",\"type\":\"BoxSelectTool\"},{\"attributes\":{\"fill_alpha\":{\"value\":0.1},\"fill_color\":{\"value\":\"#1f77b4\"},\"line_alpha\":{\"value\":0.1},\"line_color\":{\"value\":\"#1f77b4\"},\"top\":{\"field\":\"top\"},\"width\":{\"value\":0.4},\"x\":{\"field\":\"x\"}},\"id\":\"2167\",\"type\":\"VBar\"}],\"root_ids\":[\"2132\"]},\"title\":\"Bokeh Application\",\"version\":\"1.4.0\"}};\n",
       "  var render_items = [{\"docid\":\"4b7f456e-e59f-454a-9067-44fbbfead489\",\"roots\":{\"2132\":\"6376b771-eaa6-4bc4-b5e7-01593169e33a\"}}];\n",
       "  root.Bokeh.embed.embed_items_notebook(docs_json, render_items);\n",
       "\n",
       "  }\n",
       "  if (root.Bokeh !== undefined) {\n",
       "    embed_document(root);\n",
       "  } else {\n",
       "    var attempts = 0;\n",
       "    var timer = setInterval(function(root) {\n",
       "      if (root.Bokeh !== undefined) {\n",
       "        clearInterval(timer);\n",
       "        embed_document(root);\n",
       "      } else {\n",
       "        attempts++;\n",
       "        if (attempts > 100) {\n",
       "          clearInterval(timer);\n",
       "          console.log(\"Bokeh: ERROR: Unable to run BokehJS code because BokehJS library is missing\");\n",
       "        }\n",
       "      }\n",
       "    }, 10, root)\n",
       "  }\n",
       "})(window);"
      ],
      "application/vnd.bokehjs_exec.v0+json": ""
     },
     "metadata": {
      "application/vnd.bokehjs_exec.v0+json": {
       "id": "2132"
      }
     },
     "output_type": "display_data"
    }
   ],
   "source": [
    "bb.barplot(x=\"day\", y=\"total_bill\", hue=\"smoker\", data=tips)"
   ]
  },
  {
   "cell_type": "code",
   "execution_count": 18,
   "metadata": {},
   "outputs": [
    {
     "data": {
      "text/html": [
       "\n",
       "\n",
       "\n",
       "\n",
       "\n",
       "\n",
       "  <div class=\"bk-root\" id=\"f7d2b461-cdb2-4449-b347-c83cde0db6b7\" data-root-id=\"3417\"></div>\n"
      ]
     },
     "metadata": {},
     "output_type": "display_data"
    },
    {
     "data": {
      "application/javascript": [
       "(function(root) {\n",
       "  function embed_document(root) {\n",
       "    \n",
       "  var docs_json = {\"c835f0f3-51c0-4346-ba5c-82a4d166426a\":{\"roots\":{\"references\":[{\"attributes\":{\"below\":[{\"id\":\"3428\",\"type\":\"CategoricalAxis\"}],\"center\":[{\"id\":\"3431\",\"type\":\"Grid\"},{\"id\":\"3436\",\"type\":\"Grid\"},{\"id\":\"3462\",\"type\":\"Legend\"}],\"left\":[{\"id\":\"3432\",\"type\":\"LinearAxis\"}],\"plot_height\":350,\"renderers\":[{\"id\":\"3453\",\"type\":\"GlyphRenderer\"},{\"id\":\"3467\",\"type\":\"GlyphRenderer\"}],\"title\":{\"id\":\"3418\",\"type\":\"Title\"},\"toolbar\":{\"id\":\"3443\",\"type\":\"Toolbar\"},\"x_range\":{\"id\":\"3420\",\"type\":\"FactorRange\"},\"x_scale\":{\"id\":\"3424\",\"type\":\"CategoricalScale\"},\"y_range\":{\"id\":\"3422\",\"type\":\"DataRange1d\"},\"y_scale\":{\"id\":\"3426\",\"type\":\"LinearScale\"}},\"id\":\"3417\",\"subtype\":\"Figure\",\"type\":\"Plot\"},{\"attributes\":{\"source\":{\"id\":\"3450\",\"type\":\"ColumnDataSource\"}},\"id\":\"3454\",\"type\":\"CDSView\"},{\"attributes\":{\"axis_label\":\"tip\",\"formatter\":{\"id\":\"3459\",\"type\":\"CategoricalTickFormatter\"},\"ticker\":{\"id\":\"3429\",\"type\":\"CategoricalTicker\"}},\"id\":\"3428\",\"type\":\"CategoricalAxis\"},{\"attributes\":{},\"id\":\"3457\",\"type\":\"BasicTickFormatter\"},{\"attributes\":{},\"id\":\"3429\",\"type\":\"CategoricalTicker\"},{\"attributes\":{},\"id\":\"3459\",\"type\":\"CategoricalTickFormatter\"},{\"attributes\":{\"ticker\":{\"id\":\"3429\",\"type\":\"CategoricalTicker\"}},\"id\":\"3431\",\"type\":\"Grid\"},{\"attributes\":{\"bottom_units\":\"screen\",\"fill_alpha\":{\"value\":0.5},\"fill_color\":{\"value\":\"lightgrey\"},\"left_units\":\"screen\",\"level\":\"overlay\",\"line_alpha\":{\"value\":1.0},\"line_color\":{\"value\":\"black\"},\"line_dash\":[4,4],\"line_width\":{\"value\":2},\"render_mode\":\"css\",\"right_units\":\"screen\",\"top_units\":\"screen\"},\"id\":\"3460\",\"type\":\"BoxAnnotation\"},{\"attributes\":{\"axis_label\":\"day\",\"formatter\":{\"id\":\"3457\",\"type\":\"BasicTickFormatter\"},\"ticker\":{\"id\":\"3433\",\"type\":\"BasicTicker\"}},\"id\":\"3432\",\"type\":\"LinearAxis\"},{\"attributes\":{\"bottom_units\":\"screen\",\"fill_alpha\":{\"value\":0.5},\"fill_color\":{\"value\":\"lightgrey\"},\"left_units\":\"screen\",\"level\":\"overlay\",\"line_alpha\":{\"value\":1.0},\"line_color\":{\"value\":\"black\"},\"line_dash\":[4,4],\"line_width\":{\"value\":2},\"render_mode\":\"css\",\"right_units\":\"screen\",\"top_units\":\"screen\"},\"id\":\"3461\",\"type\":\"BoxAnnotation\"},{\"attributes\":{},\"id\":\"3433\",\"type\":\"BasicTicker\"},{\"attributes\":{\"click_policy\":\"hide\",\"items\":[{\"id\":\"3463\",\"type\":\"LegendItem\"},{\"id\":\"3478\",\"type\":\"LegendItem\"}]},\"id\":\"3462\",\"type\":\"Legend\"},{\"attributes\":{\"dimension\":1,\"ticker\":{\"id\":\"3433\",\"type\":\"BasicTicker\"}},\"id\":\"3436\",\"type\":\"Grid\"},{\"attributes\":{\"label\":{\"value\":\"Male\"},\"renderers\":[{\"id\":\"3453\",\"type\":\"GlyphRenderer\"}]},\"id\":\"3463\",\"type\":\"LegendItem\"},{\"attributes\":{\"callback\":null,\"data\":{\"right\":{\"__ndarray__\":\"ehSuR+GaBECVHaYutz8GQKEO6qAOagZAm3hWNBLwCkA=\",\"dtype\":\"float64\",\"shape\":[4]},\"y\":{\"__ndarray__\":\"ZmZmZmZm5j8zMzMzMzP7P5qZmZmZmQVAmpmZmZmZDUA=\",\"dtype\":\"float64\",\"shape\":[4]}},\"selected\":{\"id\":\"3621\",\"type\":\"Selection\"},\"selection_policy\":{\"id\":\"3620\",\"type\":\"UnionRenderers\"}},\"id\":\"3464\",\"type\":\"ColumnDataSource\"},{\"attributes\":{\"active_drag\":\"auto\",\"active_inspect\":\"auto\",\"active_multi\":null,\"active_scroll\":\"auto\",\"active_tap\":\"auto\",\"tools\":[{\"id\":\"3437\",\"type\":\"PanTool\"},{\"id\":\"3438\",\"type\":\"BoxSelectTool\"},{\"id\":\"3439\",\"type\":\"WheelZoomTool\"},{\"id\":\"3440\",\"type\":\"BoxZoomTool\"},{\"id\":\"3441\",\"type\":\"ResetTool\"},{\"id\":\"3442\",\"type\":\"SaveTool\"}]},\"id\":\"3443\",\"type\":\"Toolbar\"},{\"attributes\":{},\"id\":\"3437\",\"type\":\"PanTool\"},{\"attributes\":{},\"id\":\"3426\",\"type\":\"LinearScale\"},{\"attributes\":{\"fill_color\":\"rgb(224, 128, 44)\",\"height\":{\"value\":0.4},\"line_color\":\"rgb(224, 128, 44)\",\"right\":{\"field\":\"right\"},\"y\":{\"field\":\"y\"}},\"id\":\"3465\",\"type\":\"HBar\"},{\"attributes\":{\"callback\":null,\"overlay\":{\"id\":\"3460\",\"type\":\"BoxAnnotation\"}},\"id\":\"3438\",\"type\":\"BoxSelectTool\"},{\"attributes\":{\"fill_alpha\":{\"value\":0.1},\"fill_color\":{\"value\":\"#1f77b4\"},\"height\":{\"value\":0.4},\"line_alpha\":{\"value\":0.1},\"line_color\":{\"value\":\"#1f77b4\"},\"right\":{\"field\":\"right\"},\"y\":{\"field\":\"y\"}},\"id\":\"3466\",\"type\":\"HBar\"},{\"attributes\":{},\"id\":\"3439\",\"type\":\"WheelZoomTool\"},{\"attributes\":{\"data_source\":{\"id\":\"3464\",\"type\":\"ColumnDataSource\"},\"glyph\":{\"id\":\"3465\",\"type\":\"HBar\"},\"hover_glyph\":null,\"muted_glyph\":null,\"nonselection_glyph\":{\"id\":\"3466\",\"type\":\"HBar\"},\"selection_glyph\":null,\"view\":{\"id\":\"3468\",\"type\":\"CDSView\"}},\"id\":\"3467\",\"type\":\"GlyphRenderer\"},{\"attributes\":{\"overlay\":{\"id\":\"3461\",\"type\":\"BoxAnnotation\"}},\"id\":\"3440\",\"type\":\"BoxZoomTool\"},{\"attributes\":{\"text\":\"\"},\"id\":\"3418\",\"type\":\"Title\"},{\"attributes\":{\"callback\":null,\"factors\":[\"Thur\",\"Fri\",\"Sat\",\"Sun\"]},\"id\":\"3420\",\"type\":\"FactorRange\"},{\"attributes\":{\"source\":{\"id\":\"3464\",\"type\":\"ColumnDataSource\"}},\"id\":\"3468\",\"type\":\"CDSView\"},{\"attributes\":{},\"id\":\"3441\",\"type\":\"ResetTool\"},{\"attributes\":{},\"id\":\"3476\",\"type\":\"UnionRenderers\"},{\"attributes\":{},\"id\":\"3442\",\"type\":\"SaveTool\"},{\"attributes\":{},\"id\":\"3424\",\"type\":\"CategoricalScale\"},{\"attributes\":{},\"id\":\"3477\",\"type\":\"Selection\"},{\"attributes\":{\"callback\":null},\"id\":\"3422\",\"type\":\"DataRange1d\"},{\"attributes\":{\"callback\":null,\"data\":{\"right\":{\"__ndarray__\":\"PsOuALnXB0AlBoGVQ4sFQAI75N/SqwhAqJoiJkTDCUA=\",\"dtype\":\"float64\",\"shape\":[4]},\"y\":{\"__ndarray__\":\"MzMzMzMz0z/NzMzMzMz0P2ZmZmZmZgJAZmZmZmZmCkA=\",\"dtype\":\"float64\",\"shape\":[4]}},\"selected\":{\"id\":\"3477\",\"type\":\"Selection\"},\"selection_policy\":{\"id\":\"3476\",\"type\":\"UnionRenderers\"}},\"id\":\"3450\",\"type\":\"ColumnDataSource\"},{\"attributes\":{\"label\":{\"value\":\"Female\"},\"renderers\":[{\"id\":\"3467\",\"type\":\"GlyphRenderer\"}]},\"id\":\"3478\",\"type\":\"LegendItem\"},{\"attributes\":{\"fill_color\":\"rgb(49, 115, 161)\",\"height\":{\"value\":0.4},\"line_color\":\"rgb(49, 115, 161)\",\"right\":{\"field\":\"right\"},\"y\":{\"field\":\"y\"}},\"id\":\"3451\",\"type\":\"HBar\"},{\"attributes\":{},\"id\":\"3620\",\"type\":\"UnionRenderers\"},{\"attributes\":{\"fill_alpha\":{\"value\":0.1},\"fill_color\":{\"value\":\"#1f77b4\"},\"height\":{\"value\":0.4},\"line_alpha\":{\"value\":0.1},\"line_color\":{\"value\":\"#1f77b4\"},\"right\":{\"field\":\"right\"},\"y\":{\"field\":\"y\"}},\"id\":\"3452\",\"type\":\"HBar\"},{\"attributes\":{},\"id\":\"3621\",\"type\":\"Selection\"},{\"attributes\":{\"data_source\":{\"id\":\"3450\",\"type\":\"ColumnDataSource\"},\"glyph\":{\"id\":\"3451\",\"type\":\"HBar\"},\"hover_glyph\":null,\"muted_glyph\":null,\"nonselection_glyph\":{\"id\":\"3452\",\"type\":\"HBar\"},\"selection_glyph\":null,\"view\":{\"id\":\"3454\",\"type\":\"CDSView\"}},\"id\":\"3453\",\"type\":\"GlyphRenderer\"}],\"root_ids\":[\"3417\"]},\"title\":\"Bokeh Application\",\"version\":\"1.4.0\"}};\n",
       "  var render_items = [{\"docid\":\"c835f0f3-51c0-4346-ba5c-82a4d166426a\",\"roots\":{\"3417\":\"f7d2b461-cdb2-4449-b347-c83cde0db6b7\"}}];\n",
       "  root.Bokeh.embed.embed_items_notebook(docs_json, render_items);\n",
       "\n",
       "  }\n",
       "  if (root.Bokeh !== undefined) {\n",
       "    embed_document(root);\n",
       "  } else {\n",
       "    var attempts = 0;\n",
       "    var timer = setInterval(function(root) {\n",
       "      if (root.Bokeh !== undefined) {\n",
       "        clearInterval(timer);\n",
       "        embed_document(root);\n",
       "      } else {\n",
       "        attempts++;\n",
       "        if (attempts > 100) {\n",
       "          clearInterval(timer);\n",
       "          console.log(\"Bokeh: ERROR: Unable to run BokehJS code because BokehJS library is missing\");\n",
       "        }\n",
       "      }\n",
       "    }, 10, root)\n",
       "  }\n",
       "})(window);"
      ],
      "application/vnd.bokehjs_exec.v0+json": ""
     },
     "metadata": {
      "application/vnd.bokehjs_exec.v0+json": {
       "id": "3417"
      }
     },
     "output_type": "display_data"
    }
   ],
   "source": [
    "bb.barplot(x=\"tip\", y=\"day\", data=tips, hue=\"sex\")"
   ]
  },
  {
   "cell_type": "markdown",
   "metadata": {},
   "source": [
    "#### Change Plot Properties\n",
    "Change different plot properties such as plot_width:"
   ]
  },
  {
   "cell_type": "code",
   "execution_count": 13,
   "metadata": {},
   "outputs": [
    {
     "data": {
      "text/html": [
       "\n",
       "\n",
       "\n",
       "\n",
       "\n",
       "\n",
       "  <div class=\"bk-root\" id=\"64c5d839-c38e-45e8-ada5-23f5747788e6\" data-root-id=\"2346\"></div>\n"
      ]
     },
     "metadata": {},
     "output_type": "display_data"
    },
    {
     "data": {
      "application/javascript": [
       "(function(root) {\n",
       "  function embed_document(root) {\n",
       "    \n",
       "  var docs_json = {\"f9e51608-83c6-40ec-b874-6fe830c890c8\":{\"roots\":{\"references\":[{\"attributes\":{\"below\":[{\"id\":\"2357\",\"type\":\"CategoricalAxis\"}],\"center\":[{\"id\":\"2360\",\"type\":\"Grid\"},{\"id\":\"2365\",\"type\":\"Grid\"}],\"left\":[{\"id\":\"2361\",\"type\":\"LinearAxis\"}],\"plot_height\":350,\"plot_width\":800,\"renderers\":[{\"id\":\"2382\",\"type\":\"GlyphRenderer\"}],\"title\":{\"id\":\"2347\",\"type\":\"Title\"},\"toolbar\":{\"id\":\"2372\",\"type\":\"Toolbar\"},\"x_range\":{\"id\":\"2349\",\"type\":\"FactorRange\"},\"x_scale\":{\"id\":\"2353\",\"type\":\"CategoricalScale\"},\"y_range\":{\"id\":\"2351\",\"type\":\"DataRange1d\"},\"y_scale\":{\"id\":\"2355\",\"type\":\"LinearScale\"}},\"id\":\"2346\",\"subtype\":\"Figure\",\"type\":\"Plot\"},{\"attributes\":{},\"id\":\"2478\",\"type\":\"UnionRenderers\"},{\"attributes\":{},\"id\":\"2362\",\"type\":\"BasicTicker\"},{\"attributes\":{\"dimension\":1,\"ticker\":{\"id\":\"2362\",\"type\":\"BasicTicker\"}},\"id\":\"2365\",\"type\":\"Grid\"},{\"attributes\":{\"fill_color\":{\"field\":\"fill_color\"},\"line_color\":{\"field\":\"line_color\"},\"top\":{\"field\":\"total_bill\"},\"width\":{\"value\":0.7},\"x\":{\"field\":\"day\"}},\"id\":\"2380\",\"type\":\"VBar\"},{\"attributes\":{\"active_drag\":\"auto\",\"active_inspect\":\"auto\",\"active_multi\":null,\"active_scroll\":\"auto\",\"active_tap\":\"auto\",\"tools\":[{\"id\":\"2366\",\"type\":\"PanTool\"},{\"id\":\"2367\",\"type\":\"BoxSelectTool\"},{\"id\":\"2368\",\"type\":\"WheelZoomTool\"},{\"id\":\"2369\",\"type\":\"BoxZoomTool\"},{\"id\":\"2370\",\"type\":\"ResetTool\"},{\"id\":\"2371\",\"type\":\"SaveTool\"},{\"id\":\"2384\",\"type\":\"HoverTool\"}]},\"id\":\"2372\",\"type\":\"Toolbar\"},{\"attributes\":{\"callback\":null,\"factors\":[\"Thur\",\"Fri\",\"Sat\",\"Sun\"]},\"id\":\"2349\",\"type\":\"FactorRange\"},{\"attributes\":{\"axis_label\":\"total_bill\",\"formatter\":{\"id\":\"2473\",\"type\":\"BasicTickFormatter\"},\"ticker\":{\"id\":\"2362\",\"type\":\"BasicTicker\"}},\"id\":\"2361\",\"type\":\"LinearAxis\"},{\"attributes\":{},\"id\":\"2366\",\"type\":\"PanTool\"},{\"attributes\":{\"callback\":null,\"data\":{\"day\":[\"Thur\",\"Fri\",\"Sat\",\"Sun\"],\"fill_color\":[\"rgb(49, 115, 161)\",\"rgb(224, 128, 44)\",\"rgb(58, 145, 58)\",\"rgb(192, 60, 61)\"],\"index\":[0,1,2,3],\"line_color\":[\"rgb(49, 115, 161)\",\"rgb(224, 128, 44)\",\"rgb(58, 145, 58)\",\"rgb(192, 60, 61)\"],\"total_bill\":{\"__ndarray__\":\"zoLsLMiuMUCgtb3gzSYxQOMPBzz+cDRAKVyPwvVoNUA=\",\"dtype\":\"float64\",\"shape\":[4]}},\"selected\":{\"id\":\"2479\",\"type\":\"Selection\"},\"selection_policy\":{\"id\":\"2478\",\"type\":\"UnionRenderers\"}},\"id\":\"2345\",\"type\":\"ColumnDataSource\"},{\"attributes\":{\"callback\":null,\"overlay\":{\"id\":\"2476\",\"type\":\"BoxAnnotation\"}},\"id\":\"2367\",\"type\":\"BoxSelectTool\"},{\"attributes\":{},\"id\":\"2368\",\"type\":\"WheelZoomTool\"},{\"attributes\":{\"overlay\":{\"id\":\"2477\",\"type\":\"BoxAnnotation\"}},\"id\":\"2369\",\"type\":\"BoxZoomTool\"},{\"attributes\":{},\"id\":\"2370\",\"type\":\"ResetTool\"},{\"attributes\":{},\"id\":\"2353\",\"type\":\"CategoricalScale\"},{\"attributes\":{},\"id\":\"2371\",\"type\":\"SaveTool\"},{\"attributes\":{\"callback\":null},\"id\":\"2351\",\"type\":\"DataRange1d\"},{\"attributes\":{\"bottom_units\":\"screen\",\"fill_alpha\":{\"value\":0.5},\"fill_color\":{\"value\":\"lightgrey\"},\"left_units\":\"screen\",\"level\":\"overlay\",\"line_alpha\":{\"value\":1.0},\"line_color\":{\"value\":\"black\"},\"line_dash\":[4,4],\"line_width\":{\"value\":2},\"render_mode\":\"css\",\"right_units\":\"screen\",\"top_units\":\"screen\"},\"id\":\"2477\",\"type\":\"BoxAnnotation\"},{\"attributes\":{},\"id\":\"2479\",\"type\":\"Selection\"},{\"attributes\":{\"fill_alpha\":{\"value\":0.1},\"fill_color\":{\"value\":\"#1f77b4\"},\"line_alpha\":{\"value\":0.1},\"line_color\":{\"value\":\"#1f77b4\"},\"top\":{\"field\":\"total_bill\"},\"width\":{\"value\":0.7},\"x\":{\"field\":\"day\"}},\"id\":\"2381\",\"type\":\"VBar\"},{\"attributes\":{\"data_source\":{\"id\":\"2345\",\"type\":\"ColumnDataSource\"},\"glyph\":{\"id\":\"2380\",\"type\":\"VBar\"},\"hover_glyph\":null,\"muted_glyph\":null,\"nonselection_glyph\":{\"id\":\"2381\",\"type\":\"VBar\"},\"selection_glyph\":null,\"view\":{\"id\":\"2383\",\"type\":\"CDSView\"}},\"id\":\"2382\",\"type\":\"GlyphRenderer\"},{\"attributes\":{},\"id\":\"2473\",\"type\":\"BasicTickFormatter\"},{\"attributes\":{\"source\":{\"id\":\"2345\",\"type\":\"ColumnDataSource\"}},\"id\":\"2383\",\"type\":\"CDSView\"},{\"attributes\":{\"axis_label\":\"day\",\"formatter\":{\"id\":\"2475\",\"type\":\"CategoricalTickFormatter\"},\"ticker\":{\"id\":\"2358\",\"type\":\"CategoricalTicker\"}},\"id\":\"2357\",\"type\":\"CategoricalAxis\"},{\"attributes\":{\"callback\":null,\"tooltips\":[[\"day\",\"@day\"],[\"total_bill\",\"@total_bill\"]]},\"id\":\"2384\",\"type\":\"HoverTool\"},{\"attributes\":{},\"id\":\"2355\",\"type\":\"LinearScale\"},{\"attributes\":{},\"id\":\"2475\",\"type\":\"CategoricalTickFormatter\"},{\"attributes\":{\"ticker\":{\"id\":\"2358\",\"type\":\"CategoricalTicker\"}},\"id\":\"2360\",\"type\":\"Grid\"},{\"attributes\":{\"bottom_units\":\"screen\",\"fill_alpha\":{\"value\":0.5},\"fill_color\":{\"value\":\"lightgrey\"},\"left_units\":\"screen\",\"level\":\"overlay\",\"line_alpha\":{\"value\":1.0},\"line_color\":{\"value\":\"black\"},\"line_dash\":[4,4],\"line_width\":{\"value\":2},\"render_mode\":\"css\",\"right_units\":\"screen\",\"top_units\":\"screen\"},\"id\":\"2476\",\"type\":\"BoxAnnotation\"},{\"attributes\":{},\"id\":\"2358\",\"type\":\"CategoricalTicker\"},{\"attributes\":{\"text\":\"\"},\"id\":\"2347\",\"type\":\"Title\"}],\"root_ids\":[\"2346\"]},\"title\":\"Bokeh Application\",\"version\":\"1.4.0\"}};\n",
       "  var render_items = [{\"docid\":\"f9e51608-83c6-40ec-b874-6fe830c890c8\",\"roots\":{\"2346\":\"64c5d839-c38e-45e8-ada5-23f5747788e6\"}}];\n",
       "  root.Bokeh.embed.embed_items_notebook(docs_json, render_items);\n",
       "\n",
       "  }\n",
       "  if (root.Bokeh !== undefined) {\n",
       "    embed_document(root);\n",
       "  } else {\n",
       "    var attempts = 0;\n",
       "    var timer = setInterval(function(root) {\n",
       "      if (root.Bokeh !== undefined) {\n",
       "        clearInterval(timer);\n",
       "        embed_document(root);\n",
       "      } else {\n",
       "        attempts++;\n",
       "        if (attempts > 100) {\n",
       "          clearInterval(timer);\n",
       "          console.log(\"Bokeh: ERROR: Unable to run BokehJS code because BokehJS library is missing\");\n",
       "        }\n",
       "      }\n",
       "    }, 10, root)\n",
       "  }\n",
       "})(window);"
      ],
      "application/vnd.bokehjs_exec.v0+json": ""
     },
     "metadata": {
      "application/vnd.bokehjs_exec.v0+json": {
       "id": "2346"
      }
     },
     "output_type": "display_data"
    }
   ],
   "source": [
    "bb.barplot(x=\"day\", y=\"total_bill\", data=tips, plot_width=800)"
   ]
  },
  {
   "cell_type": "code",
   "execution_count": 14,
   "metadata": {},
   "outputs": [
    {
     "data": {
      "text/html": [
       "\n",
       "\n",
       "\n",
       "\n",
       "\n",
       "\n",
       "  <div class=\"bk-root\" id=\"ec880ec4-0ec8-4e88-81e6-d03e735280cf\" data-root-id=\"2535\"></div>\n"
      ]
     },
     "metadata": {},
     "output_type": "display_data"
    },
    {
     "data": {
      "application/javascript": [
       "(function(root) {\n",
       "  function embed_document(root) {\n",
       "    \n",
       "  var docs_json = {\"3a1f7080-6837-48ca-8b95-8ca81fe93c0f\":{\"roots\":{\"references\":[{\"attributes\":{\"below\":[{\"id\":\"2546\",\"type\":\"CategoricalAxis\"}],\"center\":[{\"id\":\"2549\",\"type\":\"Grid\"},{\"id\":\"2554\",\"type\":\"Grid\"}],\"left\":[{\"id\":\"2550\",\"type\":\"LinearAxis\"}],\"plot_height\":200,\"renderers\":[{\"id\":\"2571\",\"type\":\"GlyphRenderer\"}],\"title\":{\"id\":\"2536\",\"type\":\"Title\"},\"toolbar\":{\"id\":\"2561\",\"type\":\"Toolbar\"},\"x_range\":{\"id\":\"2538\",\"type\":\"FactorRange\"},\"x_scale\":{\"id\":\"2542\",\"type\":\"CategoricalScale\"},\"y_range\":{\"id\":\"2540\",\"type\":\"DataRange1d\"},\"y_scale\":{\"id\":\"2544\",\"type\":\"LinearScale\"}},\"id\":\"2535\",\"subtype\":\"Figure\",\"type\":\"Plot\"},{\"attributes\":{},\"id\":\"2542\",\"type\":\"CategoricalScale\"},{\"attributes\":{},\"id\":\"2673\",\"type\":\"CategoricalTickFormatter\"},{\"attributes\":{},\"id\":\"2547\",\"type\":\"CategoricalTicker\"},{\"attributes\":{\"text\":\"Awesome Plot Title\"},\"id\":\"2536\",\"type\":\"Title\"},{\"attributes\":{\"bottom_units\":\"screen\",\"fill_alpha\":{\"value\":0.5},\"fill_color\":{\"value\":\"lightgrey\"},\"left_units\":\"screen\",\"level\":\"overlay\",\"line_alpha\":{\"value\":1.0},\"line_color\":{\"value\":\"black\"},\"line_dash\":[4,4],\"line_width\":{\"value\":2},\"render_mode\":\"css\",\"right_units\":\"screen\",\"top_units\":\"screen\"},\"id\":\"2674\",\"type\":\"BoxAnnotation\"},{\"attributes\":{\"ticker\":{\"id\":\"2547\",\"type\":\"CategoricalTicker\"}},\"id\":\"2549\",\"type\":\"Grid\"},{\"attributes\":{\"bottom_units\":\"screen\",\"fill_alpha\":{\"value\":0.5},\"fill_color\":{\"value\":\"lightgrey\"},\"left_units\":\"screen\",\"level\":\"overlay\",\"line_alpha\":{\"value\":1.0},\"line_color\":{\"value\":\"black\"},\"line_dash\":[4,4],\"line_width\":{\"value\":2},\"render_mode\":\"css\",\"right_units\":\"screen\",\"top_units\":\"screen\"},\"id\":\"2675\",\"type\":\"BoxAnnotation\"},{\"attributes\":{\"axis_label\":\"total_bill\",\"formatter\":{\"id\":\"2671\",\"type\":\"BasicTickFormatter\"},\"ticker\":{\"id\":\"2551\",\"type\":\"BasicTicker\"}},\"id\":\"2550\",\"type\":\"LinearAxis\"},{\"attributes\":{},\"id\":\"2676\",\"type\":\"UnionRenderers\"},{\"attributes\":{},\"id\":\"2551\",\"type\":\"BasicTicker\"},{\"attributes\":{},\"id\":\"2677\",\"type\":\"Selection\"},{\"attributes\":{\"dimension\":1,\"ticker\":{\"id\":\"2551\",\"type\":\"BasicTicker\"}},\"id\":\"2554\",\"type\":\"Grid\"},{\"attributes\":{\"fill_color\":{\"field\":\"fill_color\"},\"line_color\":{\"field\":\"line_color\"},\"top\":{\"field\":\"total_bill\"},\"width\":{\"value\":0.7},\"x\":{\"field\":\"day\"}},\"id\":\"2569\",\"type\":\"VBar\"},{\"attributes\":{\"axis_label\":\"day\",\"formatter\":{\"id\":\"2673\",\"type\":\"CategoricalTickFormatter\"},\"ticker\":{\"id\":\"2547\",\"type\":\"CategoricalTicker\"}},\"id\":\"2546\",\"type\":\"CategoricalAxis\"},{\"attributes\":{\"active_drag\":\"auto\",\"active_inspect\":\"auto\",\"active_multi\":null,\"active_scroll\":\"auto\",\"active_tap\":\"auto\",\"tools\":[{\"id\":\"2555\",\"type\":\"PanTool\"},{\"id\":\"2556\",\"type\":\"BoxSelectTool\"},{\"id\":\"2557\",\"type\":\"WheelZoomTool\"},{\"id\":\"2558\",\"type\":\"BoxZoomTool\"},{\"id\":\"2559\",\"type\":\"ResetTool\"},{\"id\":\"2560\",\"type\":\"SaveTool\"},{\"id\":\"2573\",\"type\":\"HoverTool\"}]},\"id\":\"2561\",\"type\":\"Toolbar\"},{\"attributes\":{},\"id\":\"2555\",\"type\":\"PanTool\"},{\"attributes\":{\"callback\":null,\"overlay\":{\"id\":\"2674\",\"type\":\"BoxAnnotation\"}},\"id\":\"2556\",\"type\":\"BoxSelectTool\"},{\"attributes\":{},\"id\":\"2671\",\"type\":\"BasicTickFormatter\"},{\"attributes\":{},\"id\":\"2544\",\"type\":\"LinearScale\"},{\"attributes\":{\"callback\":null,\"factors\":[\"Thur\",\"Fri\",\"Sat\",\"Sun\"]},\"id\":\"2538\",\"type\":\"FactorRange\"},{\"attributes\":{},\"id\":\"2557\",\"type\":\"WheelZoomTool\"},{\"attributes\":{\"overlay\":{\"id\":\"2675\",\"type\":\"BoxAnnotation\"}},\"id\":\"2558\",\"type\":\"BoxZoomTool\"},{\"attributes\":{\"callback\":null},\"id\":\"2540\",\"type\":\"DataRange1d\"},{\"attributes\":{},\"id\":\"2559\",\"type\":\"ResetTool\"},{\"attributes\":{\"callback\":null,\"data\":{\"day\":[\"Thur\",\"Fri\",\"Sat\",\"Sun\"],\"fill_color\":[\"rgb(49, 115, 161)\",\"rgb(224, 128, 44)\",\"rgb(58, 145, 58)\",\"rgb(192, 60, 61)\"],\"index\":[0,1,2,3],\"line_color\":[\"rgb(49, 115, 161)\",\"rgb(224, 128, 44)\",\"rgb(58, 145, 58)\",\"rgb(192, 60, 61)\"],\"total_bill\":{\"__ndarray__\":\"zoLsLMiuMUCgtb3gzSYxQOMPBzz+cDRAKVyPwvVoNUA=\",\"dtype\":\"float64\",\"shape\":[4]}},\"selected\":{\"id\":\"2677\",\"type\":\"Selection\"},\"selection_policy\":{\"id\":\"2676\",\"type\":\"UnionRenderers\"}},\"id\":\"2534\",\"type\":\"ColumnDataSource\"},{\"attributes\":{},\"id\":\"2560\",\"type\":\"SaveTool\"},{\"attributes\":{\"fill_alpha\":{\"value\":0.1},\"fill_color\":{\"value\":\"#1f77b4\"},\"line_alpha\":{\"value\":0.1},\"line_color\":{\"value\":\"#1f77b4\"},\"top\":{\"field\":\"total_bill\"},\"width\":{\"value\":0.7},\"x\":{\"field\":\"day\"}},\"id\":\"2570\",\"type\":\"VBar\"},{\"attributes\":{\"data_source\":{\"id\":\"2534\",\"type\":\"ColumnDataSource\"},\"glyph\":{\"id\":\"2569\",\"type\":\"VBar\"},\"hover_glyph\":null,\"muted_glyph\":null,\"nonselection_glyph\":{\"id\":\"2570\",\"type\":\"VBar\"},\"selection_glyph\":null,\"view\":{\"id\":\"2572\",\"type\":\"CDSView\"}},\"id\":\"2571\",\"type\":\"GlyphRenderer\"},{\"attributes\":{\"source\":{\"id\":\"2534\",\"type\":\"ColumnDataSource\"}},\"id\":\"2572\",\"type\":\"CDSView\"},{\"attributes\":{\"callback\":null,\"tooltips\":[[\"day\",\"@day\"],[\"total_bill\",\"@total_bill\"]]},\"id\":\"2573\",\"type\":\"HoverTool\"}],\"root_ids\":[\"2535\"]},\"title\":\"Bokeh Application\",\"version\":\"1.4.0\"}};\n",
       "  var render_items = [{\"docid\":\"3a1f7080-6837-48ca-8b95-8ca81fe93c0f\",\"roots\":{\"2535\":\"ec880ec4-0ec8-4e88-81e6-d03e735280cf\"}}];\n",
       "  root.Bokeh.embed.embed_items_notebook(docs_json, render_items);\n",
       "\n",
       "  }\n",
       "  if (root.Bokeh !== undefined) {\n",
       "    embed_document(root);\n",
       "  } else {\n",
       "    var attempts = 0;\n",
       "    var timer = setInterval(function(root) {\n",
       "      if (root.Bokeh !== undefined) {\n",
       "        clearInterval(timer);\n",
       "        embed_document(root);\n",
       "      } else {\n",
       "        attempts++;\n",
       "        if (attempts > 100) {\n",
       "          clearInterval(timer);\n",
       "          console.log(\"Bokeh: ERROR: Unable to run BokehJS code because BokehJS library is missing\");\n",
       "        }\n",
       "      }\n",
       "    }, 10, root)\n",
       "  }\n",
       "})(window);"
      ],
      "application/vnd.bokehjs_exec.v0+json": ""
     },
     "metadata": {
      "application/vnd.bokehjs_exec.v0+json": {
       "id": "2535"
      }
     },
     "output_type": "display_data"
    }
   ],
   "source": [
    "bb.barplot(x=\"day\", y=\"total_bill\", data=tips, plot_width=600, plot_height=200, plot_title=\"Awesome Plot Title\")"
   ]
  },
  {
   "cell_type": "markdown",
   "metadata": {},
   "source": [
    "#### And More\n",
    "Change the other aesthetics of the plot as key word arguments as available in `bokeh.plotting.figure.vbar`, such as changing `alpha` of the plot. List of all the aesthetics properties :: https://docs.bokeh.org/en/latest/docs/reference/plotting.html#bokeh.plotting.figure.Figure.vbar"
   ]
  },
  {
   "cell_type": "code",
   "execution_count": 15,
   "metadata": {},
   "outputs": [
    {
     "data": {
      "text/html": [
       "\n",
       "\n",
       "\n",
       "\n",
       "\n",
       "\n",
       "  <div class=\"bk-root\" id=\"13da7fa1-92ad-46de-aa5d-2a5f7f3fc445\" data-root-id=\"2733\"></div>\n"
      ]
     },
     "metadata": {},
     "output_type": "display_data"
    },
    {
     "data": {
      "application/javascript": [
       "(function(root) {\n",
       "  function embed_document(root) {\n",
       "    \n",
       "  var docs_json = {\"9f0b663d-1b9d-44e8-95f6-9f89325608fd\":{\"roots\":{\"references\":[{\"attributes\":{\"below\":[{\"id\":\"2744\",\"type\":\"CategoricalAxis\"}],\"center\":[{\"id\":\"2747\",\"type\":\"Grid\"},{\"id\":\"2752\",\"type\":\"Grid\"}],\"left\":[{\"id\":\"2748\",\"type\":\"LinearAxis\"}],\"plot_height\":350,\"renderers\":[{\"id\":\"2769\",\"type\":\"GlyphRenderer\"}],\"title\":{\"id\":\"2734\",\"type\":\"Title\"},\"toolbar\":{\"id\":\"2759\",\"type\":\"Toolbar\"},\"x_range\":{\"id\":\"2736\",\"type\":\"FactorRange\"},\"x_scale\":{\"id\":\"2740\",\"type\":\"CategoricalScale\"},\"y_range\":{\"id\":\"2738\",\"type\":\"DataRange1d\"},\"y_scale\":{\"id\":\"2742\",\"type\":\"LinearScale\"}},\"id\":\"2733\",\"subtype\":\"Figure\",\"type\":\"Plot\"},{\"attributes\":{},\"id\":\"2740\",\"type\":\"CategoricalScale\"},{\"attributes\":{\"callback\":null,\"tooltips\":[[\"day\",\"@day\"],[\"total_bill\",\"@total_bill\"]]},\"id\":\"2771\",\"type\":\"HoverTool\"},{\"attributes\":{\"axis_label\":\"day\",\"formatter\":{\"id\":\"2880\",\"type\":\"CategoricalTickFormatter\"},\"ticker\":{\"id\":\"2745\",\"type\":\"CategoricalTicker\"}},\"id\":\"2744\",\"type\":\"CategoricalAxis\"},{\"attributes\":{},\"id\":\"2880\",\"type\":\"CategoricalTickFormatter\"},{\"attributes\":{},\"id\":\"2745\",\"type\":\"CategoricalTicker\"},{\"attributes\":{\"bottom_units\":\"screen\",\"fill_alpha\":{\"value\":0.5},\"fill_color\":{\"value\":\"lightgrey\"},\"left_units\":\"screen\",\"level\":\"overlay\",\"line_alpha\":{\"value\":1.0},\"line_color\":{\"value\":\"black\"},\"line_dash\":[4,4],\"line_width\":{\"value\":2},\"render_mode\":\"css\",\"right_units\":\"screen\",\"top_units\":\"screen\"},\"id\":\"2881\",\"type\":\"BoxAnnotation\"},{\"attributes\":{\"ticker\":{\"id\":\"2745\",\"type\":\"CategoricalTicker\"}},\"id\":\"2747\",\"type\":\"Grid\"},{\"attributes\":{\"bottom_units\":\"screen\",\"fill_alpha\":{\"value\":0.5},\"fill_color\":{\"value\":\"lightgrey\"},\"left_units\":\"screen\",\"level\":\"overlay\",\"line_alpha\":{\"value\":1.0},\"line_color\":{\"value\":\"black\"},\"line_dash\":[4,4],\"line_width\":{\"value\":2},\"render_mode\":\"css\",\"right_units\":\"screen\",\"top_units\":\"screen\"},\"id\":\"2882\",\"type\":\"BoxAnnotation\"},{\"attributes\":{\"axis_label\":\"total_bill\",\"formatter\":{\"id\":\"2878\",\"type\":\"BasicTickFormatter\"},\"ticker\":{\"id\":\"2749\",\"type\":\"BasicTicker\"}},\"id\":\"2748\",\"type\":\"LinearAxis\"},{\"attributes\":{},\"id\":\"2883\",\"type\":\"UnionRenderers\"},{\"attributes\":{},\"id\":\"2749\",\"type\":\"BasicTicker\"},{\"attributes\":{},\"id\":\"2884\",\"type\":\"Selection\"},{\"attributes\":{\"dimension\":1,\"ticker\":{\"id\":\"2749\",\"type\":\"BasicTicker\"}},\"id\":\"2752\",\"type\":\"Grid\"},{\"attributes\":{\"fill_alpha\":{\"value\":0.3},\"fill_color\":{\"field\":\"fill_color\"},\"line_alpha\":{\"value\":0.3},\"line_color\":{\"field\":\"line_color\"},\"top\":{\"field\":\"total_bill\"},\"width\":{\"value\":0.7},\"x\":{\"field\":\"day\"}},\"id\":\"2767\",\"type\":\"VBar\"},{\"attributes\":{\"active_drag\":\"auto\",\"active_inspect\":\"auto\",\"active_multi\":null,\"active_scroll\":\"auto\",\"active_tap\":\"auto\",\"tools\":[{\"id\":\"2753\",\"type\":\"PanTool\"},{\"id\":\"2754\",\"type\":\"BoxSelectTool\"},{\"id\":\"2755\",\"type\":\"WheelZoomTool\"},{\"id\":\"2756\",\"type\":\"BoxZoomTool\"},{\"id\":\"2757\",\"type\":\"ResetTool\"},{\"id\":\"2758\",\"type\":\"SaveTool\"},{\"id\":\"2771\",\"type\":\"HoverTool\"}]},\"id\":\"2759\",\"type\":\"Toolbar\"},{\"attributes\":{},\"id\":\"2753\",\"type\":\"PanTool\"},{\"attributes\":{\"callback\":null,\"factors\":[\"Thur\",\"Fri\",\"Sat\",\"Sun\"]},\"id\":\"2736\",\"type\":\"FactorRange\"},{\"attributes\":{\"callback\":null,\"overlay\":{\"id\":\"2881\",\"type\":\"BoxAnnotation\"}},\"id\":\"2754\",\"type\":\"BoxSelectTool\"},{\"attributes\":{},\"id\":\"2755\",\"type\":\"WheelZoomTool\"},{\"attributes\":{\"overlay\":{\"id\":\"2882\",\"type\":\"BoxAnnotation\"}},\"id\":\"2756\",\"type\":\"BoxZoomTool\"},{\"attributes\":{},\"id\":\"2757\",\"type\":\"ResetTool\"},{\"attributes\":{\"callback\":null},\"id\":\"2738\",\"type\":\"DataRange1d\"},{\"attributes\":{},\"id\":\"2758\",\"type\":\"SaveTool\"},{\"attributes\":{\"callback\":null,\"data\":{\"day\":[\"Thur\",\"Fri\",\"Sat\",\"Sun\"],\"fill_color\":[\"rgb(49, 115, 161)\",\"rgb(224, 128, 44)\",\"rgb(58, 145, 58)\",\"rgb(192, 60, 61)\"],\"index\":[0,1,2,3],\"line_color\":[\"rgb(49, 115, 161)\",\"rgb(224, 128, 44)\",\"rgb(58, 145, 58)\",\"rgb(192, 60, 61)\"],\"total_bill\":{\"__ndarray__\":\"zoLsLMiuMUCgtb3gzSYxQOMPBzz+cDRAKVyPwvVoNUA=\",\"dtype\":\"float64\",\"shape\":[4]}},\"selected\":{\"id\":\"2884\",\"type\":\"Selection\"},\"selection_policy\":{\"id\":\"2883\",\"type\":\"UnionRenderers\"}},\"id\":\"2732\",\"type\":\"ColumnDataSource\"},{\"attributes\":{},\"id\":\"2742\",\"type\":\"LinearScale\"},{\"attributes\":{\"fill_alpha\":{\"value\":0.1},\"fill_color\":{\"value\":\"#1f77b4\"},\"line_alpha\":{\"value\":0.1},\"line_color\":{\"value\":\"#1f77b4\"},\"top\":{\"field\":\"total_bill\"},\"width\":{\"value\":0.7},\"x\":{\"field\":\"day\"}},\"id\":\"2768\",\"type\":\"VBar\"},{\"attributes\":{\"data_source\":{\"id\":\"2732\",\"type\":\"ColumnDataSource\"},\"glyph\":{\"id\":\"2767\",\"type\":\"VBar\"},\"hover_glyph\":null,\"muted_glyph\":null,\"nonselection_glyph\":{\"id\":\"2768\",\"type\":\"VBar\"},\"selection_glyph\":null,\"view\":{\"id\":\"2770\",\"type\":\"CDSView\"}},\"id\":\"2769\",\"type\":\"GlyphRenderer\"},{\"attributes\":{},\"id\":\"2878\",\"type\":\"BasicTickFormatter\"},{\"attributes\":{\"text\":\"\"},\"id\":\"2734\",\"type\":\"Title\"},{\"attributes\":{\"source\":{\"id\":\"2732\",\"type\":\"ColumnDataSource\"}},\"id\":\"2770\",\"type\":\"CDSView\"}],\"root_ids\":[\"2733\"]},\"title\":\"Bokeh Application\",\"version\":\"1.4.0\"}};\n",
       "  var render_items = [{\"docid\":\"9f0b663d-1b9d-44e8-95f6-9f89325608fd\",\"roots\":{\"2733\":\"13da7fa1-92ad-46de-aa5d-2a5f7f3fc445\"}}];\n",
       "  root.Bokeh.embed.embed_items_notebook(docs_json, render_items);\n",
       "\n",
       "  }\n",
       "  if (root.Bokeh !== undefined) {\n",
       "    embed_document(root);\n",
       "  } else {\n",
       "    var attempts = 0;\n",
       "    var timer = setInterval(function(root) {\n",
       "      if (root.Bokeh !== undefined) {\n",
       "        clearInterval(timer);\n",
       "        embed_document(root);\n",
       "      } else {\n",
       "        attempts++;\n",
       "        if (attempts > 100) {\n",
       "          clearInterval(timer);\n",
       "          console.log(\"Bokeh: ERROR: Unable to run BokehJS code because BokehJS library is missing\");\n",
       "        }\n",
       "      }\n",
       "    }, 10, root)\n",
       "  }\n",
       "})(window);"
      ],
      "application/vnd.bokehjs_exec.v0+json": ""
     },
     "metadata": {
      "application/vnd.bokehjs_exec.v0+json": {
       "id": "2733"
      }
     },
     "output_type": "display_data"
    }
   ],
   "source": [
    "bb.barplot(x=\"day\", y=\"total_bill\", data=tips, alpha=0.3)"
   ]
  },
  {
   "cell_type": "code",
   "execution_count": 16,
   "metadata": {},
   "outputs": [
    {
     "data": {
      "text/html": [
       "\n",
       "\n",
       "\n",
       "\n",
       "\n",
       "\n",
       "  <div class=\"bk-root\" id=\"8c882125-7e79-463c-9cf6-0f097a0fb19a\" data-root-id=\"2939\"></div>\n"
      ]
     },
     "metadata": {},
     "output_type": "display_data"
    },
    {
     "data": {
      "application/javascript": [
       "(function(root) {\n",
       "  function embed_document(root) {\n",
       "    \n",
       "  var docs_json = {\"9e5be61d-e094-48a2-bc1e-62789a7b6a73\":{\"roots\":{\"references\":[{\"attributes\":{\"below\":[{\"id\":\"2950\",\"type\":\"CategoricalAxis\"}],\"center\":[{\"id\":\"2953\",\"type\":\"Grid\"},{\"id\":\"2958\",\"type\":\"Grid\"},{\"id\":\"2984\",\"type\":\"Legend\"}],\"left\":[{\"id\":\"2954\",\"type\":\"LinearAxis\"}],\"plot_height\":350,\"renderers\":[{\"id\":\"2975\",\"type\":\"GlyphRenderer\"},{\"id\":\"2989\",\"type\":\"GlyphRenderer\"}],\"title\":{\"id\":\"2940\",\"type\":\"Title\"},\"toolbar\":{\"id\":\"2965\",\"type\":\"Toolbar\"},\"x_range\":{\"id\":\"2942\",\"type\":\"FactorRange\"},\"x_scale\":{\"id\":\"2946\",\"type\":\"CategoricalScale\"},\"y_range\":{\"id\":\"2944\",\"type\":\"DataRange1d\"},\"y_scale\":{\"id\":\"2948\",\"type\":\"LinearScale\"}},\"id\":\"2939\",\"subtype\":\"Figure\",\"type\":\"Plot\"},{\"attributes\":{},\"id\":\"2961\",\"type\":\"WheelZoomTool\"},{\"attributes\":{\"label\":{\"value\":\"Female\"},\"renderers\":[{\"id\":\"2989\",\"type\":\"GlyphRenderer\"}]},\"id\":\"3000\",\"type\":\"LegendItem\"},{\"attributes\":{\"fill_alpha\":{\"value\":0.1},\"fill_color\":{\"value\":\"#1f77b4\"},\"line_alpha\":{\"value\":0.1},\"line_color\":{\"value\":\"#1f77b4\"},\"top\":{\"field\":\"top\"},\"width\":{\"value\":0.4},\"x\":{\"field\":\"x\"}},\"id\":\"2974\",\"type\":\"VBar\"},{\"attributes\":{},\"id\":\"3122\",\"type\":\"UnionRenderers\"},{\"attributes\":{\"data_source\":{\"id\":\"2972\",\"type\":\"ColumnDataSource\"},\"glyph\":{\"id\":\"2973\",\"type\":\"VBar\"},\"hover_glyph\":null,\"muted_glyph\":null,\"nonselection_glyph\":{\"id\":\"2974\",\"type\":\"VBar\"},\"selection_glyph\":null,\"view\":{\"id\":\"2976\",\"type\":\"CDSView\"}},\"id\":\"2975\",\"type\":\"GlyphRenderer\"},{\"attributes\":{},\"id\":\"3123\",\"type\":\"Selection\"},{\"attributes\":{},\"id\":\"2946\",\"type\":\"CategoricalScale\"},{\"attributes\":{},\"id\":\"2948\",\"type\":\"LinearScale\"},{\"attributes\":{\"source\":{\"id\":\"2972\",\"type\":\"ColumnDataSource\"}},\"id\":\"2976\",\"type\":\"CDSView\"},{\"attributes\":{\"text\":\"\"},\"id\":\"2940\",\"type\":\"Title\"},{\"attributes\":{},\"id\":\"2979\",\"type\":\"BasicTickFormatter\"},{\"attributes\":{},\"id\":\"2959\",\"type\":\"PanTool\"},{\"attributes\":{\"active_drag\":\"auto\",\"active_inspect\":\"auto\",\"active_multi\":null,\"active_scroll\":\"auto\",\"active_tap\":\"auto\",\"tools\":[{\"id\":\"2959\",\"type\":\"PanTool\"},{\"id\":\"2960\",\"type\":\"BoxSelectTool\"},{\"id\":\"2961\",\"type\":\"WheelZoomTool\"},{\"id\":\"2962\",\"type\":\"BoxZoomTool\"},{\"id\":\"2963\",\"type\":\"ResetTool\"},{\"id\":\"2964\",\"type\":\"SaveTool\"}]},\"id\":\"2965\",\"type\":\"Toolbar\"},{\"attributes\":{},\"id\":\"2981\",\"type\":\"CategoricalTickFormatter\"},{\"attributes\":{\"callback\":null},\"id\":\"2944\",\"type\":\"DataRange1d\"},{\"attributes\":{},\"id\":\"2951\",\"type\":\"CategoricalTicker\"},{\"attributes\":{\"bottom_units\":\"screen\",\"fill_alpha\":{\"value\":0.5},\"fill_color\":{\"value\":\"lightgrey\"},\"left_units\":\"screen\",\"level\":\"overlay\",\"line_alpha\":{\"value\":1.0},\"line_color\":{\"value\":\"black\"},\"line_dash\":[4,4],\"line_width\":{\"value\":2},\"render_mode\":\"css\",\"right_units\":\"screen\",\"top_units\":\"screen\"},\"id\":\"2982\",\"type\":\"BoxAnnotation\"},{\"attributes\":{\"axis_label\":\"total_bill\",\"formatter\":{\"id\":\"2979\",\"type\":\"BasicTickFormatter\"},\"ticker\":{\"id\":\"2955\",\"type\":\"BasicTicker\"}},\"id\":\"2954\",\"type\":\"LinearAxis\"},{\"attributes\":{\"bottom_units\":\"screen\",\"fill_alpha\":{\"value\":0.5},\"fill_color\":{\"value\":\"lightgrey\"},\"left_units\":\"screen\",\"level\":\"overlay\",\"line_alpha\":{\"value\":1.0},\"line_color\":{\"value\":\"black\"},\"line_dash\":[4,4],\"line_width\":{\"value\":2},\"render_mode\":\"css\",\"right_units\":\"screen\",\"top_units\":\"screen\"},\"id\":\"2983\",\"type\":\"BoxAnnotation\"},{\"attributes\":{},\"id\":\"2955\",\"type\":\"BasicTicker\"},{\"attributes\":{\"click_policy\":\"hide\",\"items\":[{\"id\":\"2985\",\"type\":\"LegendItem\"},{\"id\":\"3000\",\"type\":\"LegendItem\"}]},\"id\":\"2984\",\"type\":\"Legend\"},{\"attributes\":{\"dimension\":1,\"ticker\":{\"id\":\"2955\",\"type\":\"BasicTicker\"}},\"id\":\"2958\",\"type\":\"Grid\"},{\"attributes\":{\"label\":{\"value\":\"Male\"},\"renderers\":[{\"id\":\"2975\",\"type\":\"GlyphRenderer\"}]},\"id\":\"2985\",\"type\":\"LegendItem\"},{\"attributes\":{\"fill_color\":\"rgb(49, 115, 161)\",\"line_color\":\"rgb(49, 115, 161)\",\"top\":{\"field\":\"top\"},\"width\":{\"value\":0.4},\"x\":{\"field\":\"x\"}},\"id\":\"2973\",\"type\":\"VBar\"},{\"attributes\":{\"ticker\":{\"id\":\"2951\",\"type\":\"CategoricalTicker\"}},\"id\":\"2953\",\"type\":\"Grid\"},{\"attributes\":{\"callback\":null,\"data\":{\"top\":{\"__ndarray__\":\"OmSlQ1b6MUDiZJJq7RoyQA==\",\"dtype\":\"float64\",\"shape\":[2]},\"x\":{\"__ndarray__\":\"ZmZmZmZm5j8zMzMzMzP7Pw==\",\"dtype\":\"float64\",\"shape\":[2]}},\"selected\":{\"id\":\"3123\",\"type\":\"Selection\"},\"selection_policy\":{\"id\":\"3122\",\"type\":\"UnionRenderers\"}},\"id\":\"2986\",\"type\":\"ColumnDataSource\"},{\"attributes\":{\"callback\":null,\"data\":{\"top\":{\"__ndarray__\":\"Rbbz/dRINkB8cfWDjsozQA==\",\"dtype\":\"float64\",\"shape\":[2]},\"x\":{\"__ndarray__\":\"MzMzMzMz0z/NzMzMzMz0Pw==\",\"dtype\":\"float64\",\"shape\":[2]}},\"selected\":{\"id\":\"2999\",\"type\":\"Selection\"},\"selection_policy\":{\"id\":\"2998\",\"type\":\"UnionRenderers\"}},\"id\":\"2972\",\"type\":\"ColumnDataSource\"},{\"attributes\":{\"callback\":null,\"overlay\":{\"id\":\"2982\",\"type\":\"BoxAnnotation\"}},\"id\":\"2960\",\"type\":\"BoxSelectTool\"},{\"attributes\":{\"fill_color\":\"rgb(224, 128, 44)\",\"line_color\":\"rgb(224, 128, 44)\",\"top\":{\"field\":\"top\"},\"width\":{\"value\":0.4},\"x\":{\"field\":\"x\"}},\"id\":\"2987\",\"type\":\"VBar\"},{\"attributes\":{\"fill_alpha\":{\"value\":0.1},\"fill_color\":{\"value\":\"#1f77b4\"},\"line_alpha\":{\"value\":0.1},\"line_color\":{\"value\":\"#1f77b4\"},\"top\":{\"field\":\"top\"},\"width\":{\"value\":0.4},\"x\":{\"field\":\"x\"}},\"id\":\"2988\",\"type\":\"VBar\"},{\"attributes\":{\"data_source\":{\"id\":\"2986\",\"type\":\"ColumnDataSource\"},\"glyph\":{\"id\":\"2987\",\"type\":\"VBar\"},\"hover_glyph\":null,\"muted_glyph\":null,\"nonselection_glyph\":{\"id\":\"2988\",\"type\":\"VBar\"},\"selection_glyph\":null,\"view\":{\"id\":\"2990\",\"type\":\"CDSView\"}},\"id\":\"2989\",\"type\":\"GlyphRenderer\"},{\"attributes\":{\"axis_label\":\"smoker\",\"formatter\":{\"id\":\"2981\",\"type\":\"CategoricalTickFormatter\"},\"ticker\":{\"id\":\"2951\",\"type\":\"CategoricalTicker\"}},\"id\":\"2950\",\"type\":\"CategoricalAxis\"},{\"attributes\":{\"source\":{\"id\":\"2986\",\"type\":\"ColumnDataSource\"}},\"id\":\"2990\",\"type\":\"CDSView\"},{\"attributes\":{},\"id\":\"2963\",\"type\":\"ResetTool\"},{\"attributes\":{\"callback\":null,\"factors\":[\"Yes\",\"No\"]},\"id\":\"2942\",\"type\":\"FactorRange\"},{\"attributes\":{},\"id\":\"2998\",\"type\":\"UnionRenderers\"},{\"attributes\":{},\"id\":\"2964\",\"type\":\"SaveTool\"},{\"attributes\":{},\"id\":\"2999\",\"type\":\"Selection\"},{\"attributes\":{\"overlay\":{\"id\":\"2983\",\"type\":\"BoxAnnotation\"}},\"id\":\"2962\",\"type\":\"BoxZoomTool\"}],\"root_ids\":[\"2939\"]},\"title\":\"Bokeh Application\",\"version\":\"1.4.0\"}};\n",
       "  var render_items = [{\"docid\":\"9e5be61d-e094-48a2-bc1e-62789a7b6a73\",\"roots\":{\"2939\":\"8c882125-7e79-463c-9cf6-0f097a0fb19a\"}}];\n",
       "  root.Bokeh.embed.embed_items_notebook(docs_json, render_items);\n",
       "\n",
       "  }\n",
       "  if (root.Bokeh !== undefined) {\n",
       "    embed_document(root);\n",
       "  } else {\n",
       "    var attempts = 0;\n",
       "    var timer = setInterval(function(root) {\n",
       "      if (root.Bokeh !== undefined) {\n",
       "        clearInterval(timer);\n",
       "        embed_document(root);\n",
       "      } else {\n",
       "        attempts++;\n",
       "        if (attempts > 100) {\n",
       "          clearInterval(timer);\n",
       "          console.log(\"Bokeh: ERROR: Unable to run BokehJS code because BokehJS library is missing\");\n",
       "        }\n",
       "      }\n",
       "    }, 10, root)\n",
       "  }\n",
       "})(window);"
      ],
      "application/vnd.bokehjs_exec.v0+json": ""
     },
     "metadata": {
      "application/vnd.bokehjs_exec.v0+json": {
       "id": "2939"
      }
     },
     "output_type": "display_data"
    }
   ],
   "source": [
    "bb.barplot(x=\"smoker\", y=\"total_bill\", hue=\"sex\", data=tips)"
   ]
  },
  {
   "cell_type": "code",
   "execution_count": null,
   "metadata": {},
   "outputs": [],
   "source": []
  }
 ],
 "metadata": {
  "kernelspec": {
   "display_name": "Python 3",
   "language": "python",
   "name": "python3"
  },
  "language_info": {
   "codemirror_mode": {
    "name": "ipython",
    "version": 3
   },
   "file_extension": ".py",
   "mimetype": "text/x-python",
   "name": "python",
   "nbconvert_exporter": "python",
   "pygments_lexer": "ipython3",
   "version": "3.6.9"
  }
 },
 "nbformat": 4,
 "nbformat_minor": 2
}
